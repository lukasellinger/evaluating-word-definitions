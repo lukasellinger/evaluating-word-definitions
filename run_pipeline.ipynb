{
 "cells": [
  {
   "cell_type": "code",
   "execution_count": null,
   "id": "initial_id",
   "metadata": {
    "collapsed": true
   },
   "outputs": [],
   "source": [
    "from google.colab import drive\n",
    "\n",
    "drive.mount('/content/drive', force_remount=True)\n",
    "repository = 'evaluating_factuality_word_definitions'\n",
    "\n",
    "%cd /content/drive/My Drive/{repository}"
   ]
  },
  {
   "metadata": {},
   "cell_type": "code",
   "outputs": [],
   "execution_count": null,
   "source": [
    "!pip install datasets\n",
    "!pip install peft\n",
    "!pip install rank_bm25"
   ],
   "id": "2ff5f159060ac265"
  },
  {
   "metadata": {
    "ExecuteTime": {
     "end_time": "2024-05-09T15:45:42.755974Z",
     "start_time": "2024-05-09T15:45:29.805617Z"
    }
   },
   "cell_type": "code",
   "source": [
    "from datasets import Dataset\n",
    "from dataset.def_dataset import Fact\n",
    "from config import DB_URL\n",
    "from transformers import AutoTokenizer\n",
    "from models.evidence_selection_model import EvidenceSelectionModel\n",
    "from peft import AutoPeftModelForFeatureExtraction\n",
    "import torch\n",
    "from pipeline.pipeline import TestPipeline\n",
    "from pipeline.pipeline import WikiPipeline\n",
    "from utils import convert_document_id_to_word\n",
    "from sklearn.metrics import classification_report\n",
    "from tqdm import tqdm"
   ],
   "id": "e403ceab1727dd57",
   "outputs": [],
   "execution_count": 1
  },
  {
   "metadata": {
    "ExecuteTime": {
     "end_time": "2024-05-09T15:45:42.887647Z",
     "start_time": "2024-05-09T15:45:42.759849Z"
    }
   },
   "cell_type": "code",
   "source": [
    "dataset_query = \"\"\"\n",
    "select dd.id, docs.document_id, dd.claim, dd.label\n",
    "from def_dataset dd\n",
    "    join documents docs on docs.document_id = dd.evidence_wiki_url\n",
    "    join atomic_facts af on af.claim_id = dd.id\n",
    "where set_type='{set_type}' -- and length(claim) < 50 and length(docs.text) < 400\n",
    "group by dd.id, evidence_annotation_id, evidence_wiki_url\n",
    "limit 20\n",
    "\"\"\"\n",
    "\n",
    "dataset = Dataset.from_sql(dataset_query.format(set_type='dev'), con=DB_URL)"
   ],
   "id": "8b30c3030dc3b7a4",
   "outputs": [],
   "execution_count": 2
  },
  {
   "metadata": {
    "ExecuteTime": {
     "end_time": "2024-05-09T15:45:46.613365Z",
     "start_time": "2024-05-09T15:45:42.890165Z"
    }
   },
   "cell_type": "code",
   "source": [
    "device = \"cuda\" if torch.cuda.is_available() else \"cpu\"\n",
    "\n",
    "model_name = 'google/bigbird-roberta-large'\n",
    "model = AutoPeftModelForFeatureExtraction.from_pretrained('selection_model_intermediate_04-30_09-40')\n",
    "\n",
    "selection_model = EvidenceSelectionModel(model).to(device)\n",
    "selection_model_tokenizer = AutoTokenizer.from_pretrained(model_name)\n",
    "\n",
    "# still using base\n",
    "verification_model=None\n",
    "verification_model_tokenizer=None"
   ],
   "id": "75e11a7abea5c82",
   "outputs": [],
   "execution_count": 3
  },
  {
   "metadata": {
    "ExecuteTime": {
     "end_time": "2024-05-09T15:46:54.430619Z",
     "start_time": "2024-05-09T15:45:46.617Z"
    }
   },
   "cell_type": "code",
   "source": [
    "test_pipeline = TestPipeline(selection_model=selection_model, selection_model_tokenizer=selection_model_tokenizer)\n",
    "\n",
    "pr_labels = []\n",
    "gt_labels = []\n",
    "for entry in tqdm(dataset):\n",
    "    factuality = test_pipeline.verify(entry['document_id'], entry['claim'])\n",
    "    pr_labels.extend([fact.to_factuality() for fact in factuality])\n",
    "    gt_labels += [Fact[entry['label']].to_factuality()] * len(factuality)\n",
    "\n",
    "print(classification_report(gt_labels, pr_labels, zero_division=0))"
   ],
   "id": "d507832f116241d3",
   "outputs": [
    {
     "name": "stderr",
     "output_type": "stream",
     "text": [
      "  0%|          | 0/20 [00:00<?, ?it/s]Attention type 'block_sparse' is not possible if sequence_length: 10 <= num global tokens: 2 * config.block_size + min. num sliding tokens: 3 * config.block_size + config.num_random_blocks * config.block_size + additional buffer: config.num_random_blocks * config.block_size = 704 with config.block_size = 64, config.num_random_blocks = 3. Changing attention type to 'original_full'...\n",
      "100%|██████████| 20/20 [01:05<00:00,  3.30s/it]"
     ]
    },
    {
     "name": "stdout",
     "output_type": "stream",
     "text": [
      "              precision    recall  f1-score   support\n",
      "\n",
      "          -1       0.00      0.00      0.00         0\n",
      "           0       1.00      0.20      0.33        15\n",
      "           1       0.68      0.83      0.75        18\n",
      "\n",
      "    accuracy                           0.55        33\n",
      "   macro avg       0.56      0.34      0.36        33\n",
      "weighted avg       0.83      0.55      0.56        33\n",
      "\n"
     ]
    },
    {
     "name": "stderr",
     "output_type": "stream",
     "text": [
      "\n"
     ]
    }
   ],
   "execution_count": 4
  },
  {
   "metadata": {
    "ExecuteTime": {
     "end_time": "2024-05-09T15:49:54.106258Z",
     "start_time": "2024-05-09T15:49:54.098048Z"
    }
   },
   "cell_type": "code",
   "source": [
    "print([int(label) for label in pr_labels])\n",
    "print(gt_labels)"
   ],
   "id": "c3ca0dd319c76ad5",
   "outputs": [
    {
     "name": "stdout",
     "output_type": "stream",
     "text": [
      "[1, 1, 1, 1, 1, 1, 1, 1, 1, 1, 0, 1, 1, 1, 1, 1, 1, 1, 1, -1, -1, -1, 1, 1, 0, 1, -1, 1, 0, -1, -1, -1, -1]\n",
      "[1, 1, 1, 0, 0, 1, 1, 0, 0, 0, 0, 0, 1, 1, 1, 1, 1, 1, 1, 1, 1, 0, 1, 1, 0, 1, 1, 0, 0, 0, 0, 0, 0]\n"
     ]
    }
   ],
   "execution_count": 5
  },
  {
   "metadata": {
    "ExecuteTime": {
     "end_time": "2024-05-03T14:58:21.185763Z",
     "start_time": "2024-05-03T14:56:26.970738Z"
    }
   },
   "cell_type": "code",
   "source": [
    "pipeline = WikiPipeline(selection_model=selection_model, selection_model_tokenizer=selection_model_tokenizer)\n",
    "\n",
    "pr_labels = []\n",
    "gt_labels = []\n",
    "for entry in tqdm(dataset):\n",
    "    word = convert_document_id_to_word(entry['document_id'])\n",
    "    \n",
    "    factuality = pipeline.verify(word, entry['claim'])\n",
    "    pr_labels.extend([fact.to_factuality() for fact in factuality])\n",
    "    gt_labels += [Fact[entry['label']].to_factuality()] * len(factuality)\n",
    "\n",
    "print(classification_report(gt_labels, pr_labels, zero_division=0))"
   ],
   "id": "3e2428de6e135e4c",
   "outputs": [
    {
     "name": "stderr",
     "output_type": "stream",
     "text": [
      "100%|██████████| 20/20 [01:52<00:00,  5.63s/it]"
     ]
    },
    {
     "name": "stdout",
     "output_type": "stream",
     "text": [
      "              precision    recall  f1-score   support\n",
      "\n",
      "        -1.0       0.00      0.00      0.00         0\n",
      "         0.0       0.75      0.86      0.80         7\n",
      "         1.0       1.00      0.62      0.76        13\n",
      "\n",
      "    accuracy                           0.70        20\n",
      "   macro avg       0.58      0.49      0.52        20\n",
      "weighted avg       0.91      0.70      0.78        20\n",
      "\n"
     ]
    },
    {
     "name": "stderr",
     "output_type": "stream",
     "text": [
      "\n",
      "/Users/lukasellinger/anaconda3/envs/thesis/lib/python3.10/site-packages/sklearn/metrics/_classification.py:1509: UndefinedMetricWarning: Recall is ill-defined and being set to 0.0 in labels with no true samples. Use `zero_division` parameter to control this behavior.\n",
      "  _warn_prf(average, modifier, f\"{metric.capitalize()} is\", len(result))\n",
      "/Users/lukasellinger/anaconda3/envs/thesis/lib/python3.10/site-packages/sklearn/metrics/_classification.py:1509: UndefinedMetricWarning: Recall is ill-defined and being set to 0.0 in labels with no true samples. Use `zero_division` parameter to control this behavior.\n",
      "  _warn_prf(average, modifier, f\"{metric.capitalize()} is\", len(result))\n",
      "/Users/lukasellinger/anaconda3/envs/thesis/lib/python3.10/site-packages/sklearn/metrics/_classification.py:1509: UndefinedMetricWarning: Recall is ill-defined and being set to 0.0 in labels with no true samples. Use `zero_division` parameter to control this behavior.\n",
      "  _warn_prf(average, modifier, f\"{metric.capitalize()} is\", len(result))\n"
     ]
    }
   ],
   "execution_count": 14
  },
  {
   "metadata": {},
   "cell_type": "code",
   "outputs": [],
   "execution_count": null,
   "source": [
    "print([int(label) for label in pr_labels])\n",
    "print(gt_labels)"
   ],
   "id": "7f6546c454fe6b7b"
  }
 ],
 "metadata": {
  "kernelspec": {
   "display_name": "Python 3",
   "language": "python",
   "name": "python3"
  },
  "language_info": {
   "codemirror_mode": {
    "name": "ipython",
    "version": 2
   },
   "file_extension": ".py",
   "mimetype": "text/x-python",
   "name": "python",
   "nbconvert_exporter": "python",
   "pygments_lexer": "ipython2",
   "version": "2.7.6"
  }
 },
 "nbformat": 4,
 "nbformat_minor": 5
}
