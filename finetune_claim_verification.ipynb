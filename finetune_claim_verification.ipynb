{
 "cells": [
  {
   "cell_type": "code",
   "execution_count": null,
   "id": "initial_id",
   "metadata": {
    "collapsed": true
   },
   "outputs": [],
   "source": [
    "from google.colab import drive\n",
    "\n",
    "drive.mount('/content/drive', force_remount=True)\n",
    "repository = 'evaluating_factuality_word_definitions'\n",
    "\n",
    "%cd /content/drive/My Drive/{repository}"
   ]
  },
  {
   "metadata": {},
   "cell_type": "code",
   "outputs": [],
   "execution_count": null,
   "source": [
    "!pip install datasets\n",
    "!pip install einops\n",
    "!pip install rank_bm25"
   ],
   "id": "bce19b5b9a8b0737"
  },
  {
   "metadata": {
    "ExecuteTime": {
     "end_time": "2024-05-17T14:03:03.569879Z",
     "start_time": "2024-05-17T14:02:58.131168Z"
    }
   },
   "cell_type": "code",
   "source": [
    "import gc\n",
    "import torch\n",
    "from models.claim_verification_model import ClaimVerificationModel\n",
    "from transformers import AutoModelForSequenceClassification, AutoTokenizer\n",
    "from torch.utils.data import DataLoader\n",
    "from config import DB_URL\n",
    "from datasets import Dataset\n",
    "from dataset.def_dataset import DefinitionDataset\n",
    "from matplotlib import pyplot as plt\n",
    "from tqdm import tqdm\n",
    "import numpy as np\n",
    "from torch.cuda.amp import GradScaler, autocast\n",
    "from datetime import datetime\n",
    "from torch import optim\n",
    "from torch.nn import BCELoss\n",
    "from sklearn.metrics import classification_report"
   ],
   "id": "d91fa86757e3b76a",
   "outputs": [],
   "execution_count": 3
  },
  {
   "metadata": {},
   "cell_type": "markdown",
   "source": "# Evaluation",
   "id": "58b42e563923820d"
  },
  {
   "metadata": {
    "ExecuteTime": {
     "end_time": "2024-05-17T14:18:10.308907Z",
     "start_time": "2024-05-17T14:18:10.301348Z"
    }
   },
   "cell_type": "code",
   "source": [
    "def evaluate(ev_model, dataloader, loss_function):\n",
    "    gt_labels = []\n",
    "    pr_labels = []\n",
    "    all_loss = []\n",
    "\n",
    "    for batch in tqdm(dataloader):\n",
    "        ev_model.eval()\n",
    "        model_input = batch['model_input']\n",
    "        with torch.no_grad():\n",
    "            logits = ev_model(input_ids=model_input['input_ids'], \n",
    "                              attention_mask=model_input['attention_mask'])['logits']\n",
    "            predicted = torch.softmax(logits, dim=-1)\n",
    "            predicted[:, 1] += predicted[:, 2]\n",
    "            predicted = predicted[:, :2]\n",
    "            labels_one_hot = torch.zeros_like(predicted)\n",
    "            labels_one_hot.scatter_(1, batch['labels'].unsqueeze(1), 1)\n",
    "            loss = loss_function(predicted, labels_one_hot)\n",
    "            predicted = torch.argmax(logits, dim=-1)\n",
    "        gt_labels.extend(batch['labels'].tolist())\n",
    "        pr_labels.extend(predicted.tolist())\n",
    "        all_loss.append(loss)\n",
    "\n",
    "    loss = sum(all_loss) / len(all_loss)\n",
    "    return loss.item(), classification_report(gt_labels, pr_labels)"
   ],
   "id": "fa747ee21c6ce421",
   "outputs": [],
   "execution_count": 40
  },
  {
   "metadata": {},
   "cell_type": "markdown",
   "source": "# Training",
   "id": "74e5aab422c5376b"
  },
  {
   "metadata": {
    "ExecuteTime": {
     "end_time": "2024-05-17T14:02:53.705534Z",
     "start_time": "2024-05-17T14:02:53.171199Z"
    }
   },
   "cell_type": "code",
   "source": [
    "torch.cuda.empty_cache()\n",
    "gc.collect()"
   ],
   "id": "df6cefb38921ddcb",
   "outputs": [
    {
     "ename": "NameError",
     "evalue": "name 'torch' is not defined",
     "output_type": "error",
     "traceback": [
      "\u001B[0;31m---------------------------------------------------------------------------\u001B[0m",
      "\u001B[0;31mNameError\u001B[0m                                 Traceback (most recent call last)",
      "Cell \u001B[0;32mIn[2], line 1\u001B[0m\n\u001B[0;32m----> 1\u001B[0m \u001B[43mtorch\u001B[49m\u001B[38;5;241m.\u001B[39mcuda\u001B[38;5;241m.\u001B[39mempty_cache()\n\u001B[1;32m      2\u001B[0m gc\u001B[38;5;241m.\u001B[39mcollect()\n",
      "\u001B[0;31mNameError\u001B[0m: name 'torch' is not defined"
     ]
    }
   ],
   "execution_count": 2
  },
  {
   "metadata": {
    "ExecuteTime": {
     "end_time": "2024-05-17T14:03:07.674149Z",
     "start_time": "2024-05-17T14:03:03.572450Z"
    }
   },
   "cell_type": "code",
   "source": [
    "device = \"cuda\" if torch.cuda.is_available() else \"cpu\"\n",
    "\n",
    "model_name = \"MoritzLaurer/mDeBERTa-v3-base-xnli-multilingual-nli-2mil7\"\n",
    "tokenizer = AutoTokenizer.from_pretrained(model_name)\n",
    "model = AutoModelForSequenceClassification.from_pretrained(model_name)\n",
    "\n",
    "verification_model = ClaimVerificationModel(model).to(device)"
   ],
   "id": "a41eea9b0aade39a",
   "outputs": [],
   "execution_count": 4
  },
  {
   "metadata": {
    "ExecuteTime": {
     "end_time": "2024-05-17T14:03:10.647598Z",
     "start_time": "2024-05-17T14:03:07.676840Z"
    }
   },
   "cell_type": "code",
   "source": [
    "dataset_query = \"\"\"\n",
    "select distinct dd.id, dd.claim, dd.label, docs.document_id, docs.text,\n",
    "       docs.lines, se.evidence_lines as evidence_lines\n",
    "from def_dataset dd\n",
    "    join selected_evidence se on dd.id = se.claim_id\n",
    "    join documents docs on docs.document_id = dd.evidence_wiki_url\n",
    "where set_type='{set_type}'\n",
    "\"\"\"\n",
    "\n",
    "train_dataset_raw = Dataset.from_sql(dataset_query.format(set_type='train'), con=DB_URL)\n",
    "dev_dataset_raw = Dataset.from_sql(dataset_query.format(set_type='dev'), con=DB_URL)\n",
    "\n",
    "train_dataset = DefinitionDataset(train_dataset_raw, tokenizer, mode='train', model='claim_verification')\n",
    "train_dataloader = DataLoader(train_dataset, shuffle=True,\n",
    "                              collate_fn=train_dataset.collate_fn,\n",
    "                              batch_size=16)\n",
    "dev_dataset = DefinitionDataset(dev_dataset_raw, tokenizer, mode='train', model='claim_verification')\n",
    "dev_dataloader = DataLoader(dev_dataset, shuffle=True,\n",
    "                            collate_fn=dev_dataset.collate_fn,\n",
    "                            batch_size=16)"
   ],
   "id": "11f2f81eef1f7d8b",
   "outputs": [
    {
     "data": {
      "text/plain": [
       "Generating train split: 0 examples [00:00, ? examples/s]"
      ],
      "application/vnd.jupyter.widget-view+json": {
       "version_major": 2,
       "version_minor": 0,
       "model_id": "c8b453df6da54300ab988a15862711bb"
      }
     },
     "metadata": {},
     "output_type": "display_data"
    },
    {
     "data": {
      "text/plain": [
       "Generating train split: 0 examples [00:00, ? examples/s]"
      ],
      "application/vnd.jupyter.widget-view+json": {
       "version_major": 2,
       "version_minor": 0,
       "model_id": "a2bacef205b04436a453410064973a86"
      }
     },
     "metadata": {},
     "output_type": "display_data"
    },
    {
     "data": {
      "text/plain": [
       "Filter:   0%|          | 0/119 [00:00<?, ? examples/s]"
      ],
      "application/vnd.jupyter.widget-view+json": {
       "version_major": 2,
       "version_minor": 0,
       "model_id": "dce12ddf18a547728b27bbfb7ba6d13b"
      }
     },
     "metadata": {},
     "output_type": "display_data"
    },
    {
     "data": {
      "text/plain": [
       "Filter:   0%|          | 0/12 [00:00<?, ? examples/s]"
      ],
      "application/vnd.jupyter.widget-view+json": {
       "version_major": 2,
       "version_minor": 0,
       "model_id": "34281f2f38c64af5ae94cd91df58dd73"
      }
     },
     "metadata": {},
     "output_type": "display_data"
    }
   ],
   "execution_count": 5
  },
  {
   "metadata": {},
   "cell_type": "markdown",
   "source": "## Gradient Accumulation",
   "id": "c51cb8a77b558076"
  },
  {
   "metadata": {},
   "cell_type": "markdown",
   "source": "### BCE-Loss",
   "id": "34f5bbcd9652f997"
  },
  {
   "metadata": {},
   "cell_type": "markdown",
   "source": "As we are combining REFUTES and NOT ENOUGH INFO into one Label 'NOT VERIFIABLE WRT KNOWLEDGE BASE' we can use Binary Cross Entropy Loss",
   "id": "7714f5d3236ef6a8"
  },
  {
   "metadata": {
    "ExecuteTime": {
     "end_time": "2024-05-17T14:12:22.253154Z",
     "start_time": "2024-05-17T14:10:51.929195Z"
    }
   },
   "cell_type": "code",
   "source": [
    "optimizer = optim.AdamW(verification_model.parameters(), lr=1e-7)\n",
    "criterion = BCELoss()\n",
    "\n",
    "timestamp = datetime.now().strftime(\"%m-%d_%H-%M\")\n",
    "\n",
    "num_epochs = 10 \n",
    "patience = 3   \n",
    "gradient_accumulation = 64\n",
    "trace_train = []\n",
    "trace_val = []\n",
    "\n",
    "verification_model.zero_grad()\n",
    "use_amp = True\n",
    "scaler = GradScaler(enabled=use_amp, init_scale=1)\n",
    "\n",
    "#checkpoint = torch.load(f'training_05-15_15-55')\n",
    "#optimizer.load_state_dict(checkpoint['optimizer'])\n",
    "#scaler.load_state_dict(checkpoint['scaler'])\n",
    "\n",
    "best_loss = np.inf\n",
    "for epoch in range(num_epochs):\n",
    "    bar_desc = \"Epoch %d of %d | Iteration\" % (epoch + 1, num_epochs)\n",
    "    train_iterator = tqdm(train_dataloader, desc=bar_desc)\n",
    "\n",
    "    train_loss = 0\n",
    "    print('Train ...')\n",
    "    for step, batch in enumerate(train_iterator):\n",
    "        verification_model.train()\n",
    "        model_input = batch[\"model_input\"]\n",
    "\n",
    "        with autocast():\n",
    "            logits = verification_model(input_ids=model_input['input_ids'], \n",
    "                                attention_mask=model_input['attention_mask'])['logits']\n",
    "            predicted = torch.softmax(logits, dim=-1)\n",
    "            predicted[:, 1] += predicted[:, 2]\n",
    "            predicted = predicted[:, :2]\n",
    "            labels_one_hot = torch.zeros_like(predicted)\n",
    "            labels_one_hot.scatter_(1, batch['labels'].unsqueeze(1), 1)\n",
    "            loss = criterion(predicted, labels_one_hot)\n",
    "            train_loss += loss.detach().item()\n",
    "            loss = (loss / gradient_accumulation)\n",
    "        scaler.scale(loss).backward()\n",
    "\n",
    "        if (step + 1) % gradient_accumulation == 0:\n",
    "            scaler.unscale_(optimizer)\n",
    "            torch.nn.utils.clip_grad_norm_(model.parameters(), 1e-1) #1e-2\n",
    "\n",
    "            scaler.step(optimizer)\n",
    "            scaler.update()\n",
    "            optimizer.step()\n",
    "            optimizer.zero_grad()\n",
    "\n",
    "    trace_train.append(train_loss / len(train_dataloader))\n",
    "    # validation\n",
    "    with torch.no_grad():\n",
    "        val_loss, report = evaluate(verification_model, dev_dataloader, criterion)\n",
    "        trace_val.append(val_loss)\n",
    "        print(\n",
    "            f'Epoch {epoch + 1}/{num_epochs}, Training Loss: {(train_loss / len(train_dataloader)):.4f}, Validation Loss: {val_loss:.4f}')\n",
    "        print(report)\n",
    "\n",
    "        if val_loss < best_loss:\n",
    "            best_loss = val_loss\n",
    "            best_epoch = epoch\n",
    "            best_state = {key: value.cpu() for key, value in\n",
    "                          verification_model.state_dict().items()}\n",
    "            verification_model.save(f'verification_model_intermediate_{timestamp}')\n",
    "            torch.save({\n",
    "                'optimizer': optimizer.state_dict(),\n",
    "                'scaler': scaler.state_dict()}, f'training_{timestamp}')\n",
    "        else:\n",
    "            if epoch >= best_epoch + patience:\n",
    "                break\n",
    "\n",
    "        if val_loss < best_loss:\n",
    "            best_loss = val_loss\n",
    "            best_epoch = epoch\n",
    "            best_state.clear() \n",
    "            for key, value in verification_model.state_dict().items():\n",
    "                best_state[key].copy_(value.cpu())\n",
    "            verification_model.save(f'selection_model_intermediate_{timestamp}')\n",
    "        else:\n",
    "            if epoch >= best_epoch + patience:\n",
    "                break\n",
    "\n",
    "verification_model.load_state_dict(best_state)\n",
    "verification_model.save(f'selection_model_{timestamp}')\n",
    "torch.save({'optimizer': optimizer.state_dict(),\n",
    "            'scaler': scaler.state_dict()}, f'training_{timestamp}')\n",
    "\n",
    "plt.plot(trace_train, label='train')\n",
    "plt.plot(trace_val, label='validation')\n",
    "plt.xlabel('Epochs')\n",
    "plt.ylabel('Loss')\n",
    "plt.legend()\n",
    "plt.grid(True)"
   ],
   "id": "59b12a7086fa9ea2",
   "outputs": [
    {
     "name": "stderr",
     "output_type": "stream",
     "text": [
      "Epoch 1 of 10 | Iteration:   0%|          | 0/1 [00:00<?, ?it/s]"
     ]
    },
    {
     "name": "stdout",
     "output_type": "stream",
     "text": [
      "Train ...\n"
     ]
    },
    {
     "name": "stderr",
     "output_type": "stream",
     "text": [
      "Epoch 1 of 10 | Iteration:   0%|          | 0/1 [01:30<?, ?it/s]\n"
     ]
    },
    {
     "ename": "KeyboardInterrupt",
     "evalue": "",
     "output_type": "error",
     "traceback": [
      "\u001B[0;31m---------------------------------------------------------------------------\u001B[0m",
      "\u001B[0;31mKeyboardInterrupt\u001B[0m                         Traceback (most recent call last)",
      "Cell \u001B[0;32mIn[17], line 38\u001B[0m\n\u001B[1;32m     35\u001B[0m logits \u001B[38;5;241m=\u001B[39m logits[:, :\u001B[38;5;241m2\u001B[39m]\n\u001B[1;32m     37\u001B[0m labels_one_hot \u001B[38;5;241m=\u001B[39m torch\u001B[38;5;241m.\u001B[39mzeros_like(logits)\n\u001B[0;32m---> 38\u001B[0m \u001B[43mlabels_one_hot\u001B[49m\u001B[38;5;241m.\u001B[39mscatter_(\u001B[38;5;241m1\u001B[39m, batch[\u001B[38;5;124m'\u001B[39m\u001B[38;5;124mlabels\u001B[39m\u001B[38;5;124m'\u001B[39m], \u001B[38;5;241m1\u001B[39m)\n\u001B[1;32m     39\u001B[0m loss \u001B[38;5;241m=\u001B[39m criterion(logits, batch[\u001B[38;5;124m'\u001B[39m\u001B[38;5;124mlabels\u001B[39m\u001B[38;5;124m'\u001B[39m]\u001B[38;5;241m.\u001B[39mfloat())\n\u001B[1;32m     40\u001B[0m train_loss \u001B[38;5;241m+\u001B[39m\u001B[38;5;241m=\u001B[39m loss\u001B[38;5;241m.\u001B[39mdetach()\u001B[38;5;241m.\u001B[39mitem()\n",
      "Cell \u001B[0;32mIn[17], line 38\u001B[0m\n\u001B[1;32m     35\u001B[0m logits \u001B[38;5;241m=\u001B[39m logits[:, :\u001B[38;5;241m2\u001B[39m]\n\u001B[1;32m     37\u001B[0m labels_one_hot \u001B[38;5;241m=\u001B[39m torch\u001B[38;5;241m.\u001B[39mzeros_like(logits)\n\u001B[0;32m---> 38\u001B[0m \u001B[43mlabels_one_hot\u001B[49m\u001B[38;5;241m.\u001B[39mscatter_(\u001B[38;5;241m1\u001B[39m, batch[\u001B[38;5;124m'\u001B[39m\u001B[38;5;124mlabels\u001B[39m\u001B[38;5;124m'\u001B[39m], \u001B[38;5;241m1\u001B[39m)\n\u001B[1;32m     39\u001B[0m loss \u001B[38;5;241m=\u001B[39m criterion(logits, batch[\u001B[38;5;124m'\u001B[39m\u001B[38;5;124mlabels\u001B[39m\u001B[38;5;124m'\u001B[39m]\u001B[38;5;241m.\u001B[39mfloat())\n\u001B[1;32m     40\u001B[0m train_loss \u001B[38;5;241m+\u001B[39m\u001B[38;5;241m=\u001B[39m loss\u001B[38;5;241m.\u001B[39mdetach()\u001B[38;5;241m.\u001B[39mitem()\n",
      "File \u001B[0;32m_pydevd_bundle/pydevd_cython_darwin_310_64.pyx:1187\u001B[0m, in \u001B[0;36m_pydevd_bundle.pydevd_cython_darwin_310_64.SafeCallWrapper.__call__\u001B[0;34m()\u001B[0m\n",
      "File \u001B[0;32m_pydevd_bundle/pydevd_cython_darwin_310_64.pyx:627\u001B[0m, in \u001B[0;36m_pydevd_bundle.pydevd_cython_darwin_310_64.PyDBFrame.trace_dispatch\u001B[0;34m()\u001B[0m\n",
      "File \u001B[0;32m_pydevd_bundle/pydevd_cython_darwin_310_64.pyx:1103\u001B[0m, in \u001B[0;36m_pydevd_bundle.pydevd_cython_darwin_310_64.PyDBFrame.trace_dispatch\u001B[0;34m()\u001B[0m\n",
      "File \u001B[0;32m_pydevd_bundle/pydevd_cython_darwin_310_64.pyx:1061\u001B[0m, in \u001B[0;36m_pydevd_bundle.pydevd_cython_darwin_310_64.PyDBFrame.trace_dispatch\u001B[0;34m()\u001B[0m\n",
      "File \u001B[0;32m~/Applications/PyCharm Professional.app/Contents/plugins/python/helpers-pro/jupyter_debug/pydev_jupyter_plugin.py:169\u001B[0m, in \u001B[0;36mstop\u001B[0;34m(plugin, pydb, frame, event, args, stop_info, arg, step_cmd)\u001B[0m\n\u001B[1;32m    167\u001B[0m     frame \u001B[38;5;241m=\u001B[39m suspend_jupyter(main_debugger, thread, frame, step_cmd)\n\u001B[1;32m    168\u001B[0m     \u001B[38;5;28;01mif\u001B[39;00m frame:\n\u001B[0;32m--> 169\u001B[0m         \u001B[43mmain_debugger\u001B[49m\u001B[38;5;241;43m.\u001B[39;49m\u001B[43mdo_wait_suspend\u001B[49m\u001B[43m(\u001B[49m\u001B[43mthread\u001B[49m\u001B[43m,\u001B[49m\u001B[43m \u001B[49m\u001B[43mframe\u001B[49m\u001B[43m,\u001B[49m\u001B[43m \u001B[49m\u001B[43mevent\u001B[49m\u001B[43m,\u001B[49m\u001B[43m \u001B[49m\u001B[43marg\u001B[49m\u001B[43m)\u001B[49m\n\u001B[1;32m    170\u001B[0m         \u001B[38;5;28;01mreturn\u001B[39;00m \u001B[38;5;28;01mTrue\u001B[39;00m\n\u001B[1;32m    171\u001B[0m \u001B[38;5;28;01mreturn\u001B[39;00m \u001B[38;5;28;01mFalse\u001B[39;00m\n",
      "File \u001B[0;32m~/Applications/PyCharm Professional.app/Contents/plugins/python/helpers/pydev/pydevd.py:1185\u001B[0m, in \u001B[0;36mPyDB.do_wait_suspend\u001B[0;34m(self, thread, frame, event, arg, send_suspend_message, is_unhandled_exception)\u001B[0m\n\u001B[1;32m   1182\u001B[0m         from_this_thread\u001B[38;5;241m.\u001B[39mappend(frame_id)\n\u001B[1;32m   1184\u001B[0m \u001B[38;5;28;01mwith\u001B[39;00m \u001B[38;5;28mself\u001B[39m\u001B[38;5;241m.\u001B[39m_threads_suspended_single_notification\u001B[38;5;241m.\u001B[39mnotify_thread_suspended(thread_id, stop_reason):\n\u001B[0;32m-> 1185\u001B[0m     \u001B[38;5;28;43mself\u001B[39;49m\u001B[38;5;241;43m.\u001B[39;49m\u001B[43m_do_wait_suspend\u001B[49m\u001B[43m(\u001B[49m\u001B[43mthread\u001B[49m\u001B[43m,\u001B[49m\u001B[43m \u001B[49m\u001B[43mframe\u001B[49m\u001B[43m,\u001B[49m\u001B[43m \u001B[49m\u001B[43mevent\u001B[49m\u001B[43m,\u001B[49m\u001B[43m \u001B[49m\u001B[43marg\u001B[49m\u001B[43m,\u001B[49m\u001B[43m \u001B[49m\u001B[43msuspend_type\u001B[49m\u001B[43m,\u001B[49m\u001B[43m \u001B[49m\u001B[43mfrom_this_thread\u001B[49m\u001B[43m)\u001B[49m\n",
      "File \u001B[0;32m~/Applications/PyCharm Professional.app/Contents/plugins/python/helpers/pydev/pydevd.py:1200\u001B[0m, in \u001B[0;36mPyDB._do_wait_suspend\u001B[0;34m(self, thread, frame, event, arg, suspend_type, from_this_thread)\u001B[0m\n\u001B[1;32m   1197\u001B[0m             \u001B[38;5;28mself\u001B[39m\u001B[38;5;241m.\u001B[39m_call_mpl_hook()\n\u001B[1;32m   1199\u001B[0m         \u001B[38;5;28mself\u001B[39m\u001B[38;5;241m.\u001B[39mprocess_internal_commands()\n\u001B[0;32m-> 1200\u001B[0m         \u001B[43mtime\u001B[49m\u001B[38;5;241;43m.\u001B[39;49m\u001B[43msleep\u001B[49m\u001B[43m(\u001B[49m\u001B[38;5;241;43m0.01\u001B[39;49m\u001B[43m)\u001B[49m\n\u001B[1;32m   1202\u001B[0m \u001B[38;5;28mself\u001B[39m\u001B[38;5;241m.\u001B[39mcancel_async_evaluation(get_current_thread_id(thread), \u001B[38;5;28mstr\u001B[39m(\u001B[38;5;28mid\u001B[39m(frame)))\n\u001B[1;32m   1204\u001B[0m \u001B[38;5;66;03m# process any stepping instructions\u001B[39;00m\n",
      "\u001B[0;31mKeyboardInterrupt\u001B[0m: "
     ]
    }
   ],
   "execution_count": 24
  },
  {
   "metadata": {
    "ExecuteTime": {
     "end_time": "2024-05-17T14:18:17.851402Z",
     "start_time": "2024-05-17T14:18:17.043544Z"
    }
   },
   "cell_type": "code",
   "source": [
    "val_loss, report = evaluate(verification_model, dev_dataloader, criterion)\n",
    "print(val_loss)\n",
    "print(report)"
   ],
   "id": "f6d1a12394bdf75e",
   "outputs": [
    {
     "name": "stderr",
     "output_type": "stream",
     "text": [
      "100%|██████████| 1/1 [00:00<00:00,  1.28it/s]"
     ]
    },
    {
     "name": "stdout",
     "output_type": "stream",
     "text": [
      "0.08677899837493896\n",
      "              precision    recall  f1-score   support\n",
      "\n",
      "           0       1.00      1.00      1.00         1\n",
      "           1       1.00      1.00      1.00         2\n",
      "\n",
      "    accuracy                           1.00         3\n",
      "   macro avg       1.00      1.00      1.00         3\n",
      "weighted avg       1.00      1.00      1.00         3\n",
      "\n"
     ]
    },
    {
     "name": "stderr",
     "output_type": "stream",
     "text": [
      "\n"
     ]
    }
   ],
   "execution_count": 41
  },
  {
   "metadata": {},
   "cell_type": "code",
   "outputs": [],
   "execution_count": null,
   "source": [
    "test_dataset_raw = Dataset.from_sql(dataset_query.format(set_type='test'), con=DB_URL)\n",
    "test_dataset = DefinitionDataset(test_dataset_raw, tokenizer, mode='train', model='evidence_selection')\n",
    "test_dataloader = DataLoader(test_dataset, shuffle=True, collate_fn=test_dataset.collate_fn, batch_size=10)\n",
    "\n",
    "test_loss, report = evaluate(model, test_dataloader)\n",
    "print(test_loss)\n",
    "print(report)"
   ],
   "id": "8c36f6a01da49e7e"
  }
 ],
 "metadata": {
  "kernelspec": {
   "display_name": "Python 3",
   "language": "python",
   "name": "python3"
  },
  "language_info": {
   "codemirror_mode": {
    "name": "ipython",
    "version": 2
   },
   "file_extension": ".py",
   "mimetype": "text/x-python",
   "name": "python",
   "nbconvert_exporter": "python",
   "pygments_lexer": "ipython2",
   "version": "2.7.6"
  }
 },
 "nbformat": 4,
 "nbformat_minor": 5
}
