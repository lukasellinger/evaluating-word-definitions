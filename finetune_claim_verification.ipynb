{
 "cells": [
  {
   "cell_type": "code",
   "execution_count": null,
   "id": "initial_id",
   "metadata": {
    "collapsed": true
   },
   "outputs": [],
   "source": [
    "from google.colab import drive\n",
    "\n",
    "drive.mount('/content/drive', force_remount=True)\n",
    "repository = 'evaluating_factuality_word_definitions'\n",
    "\n",
    "%cd /content/drive/My Drive/{repository}"
   ]
  },
  {
   "metadata": {},
   "cell_type": "code",
   "outputs": [],
   "execution_count": null,
   "source": [
    "!pip install datasets\n",
    "!pip install einops\n",
    "!pip install rank_bm25"
   ],
   "id": "bce19b5b9a8b0737"
  },
  {
   "metadata": {
    "ExecuteTime": {
     "end_time": "2024-05-21T17:40:57.270884Z",
     "start_time": "2024-05-21T17:40:51.964495Z"
    }
   },
   "cell_type": "code",
   "source": [
    "import gc\n",
    "import torch\n",
    "from models.claim_verification_model import ClaimVerificationModel\n",
    "from transformers import AutoModelForSequenceClassification, AutoTokenizer\n",
    "from torch.utils.data import DataLoader\n",
    "from config import DB_URL\n",
    "from datasets import Dataset\n",
    "from dataset.def_dataset import DefinitionDataset\n",
    "from matplotlib import pyplot as plt\n",
    "from tqdm import tqdm\n",
    "import numpy as np\n",
    "from torch.cuda.amp import GradScaler, autocast\n",
    "from datetime import datetime\n",
    "from torch import optim\n",
    "from torch.nn import BCELoss\n",
    "from sklearn.metrics import classification_report"
   ],
   "id": "d91fa86757e3b76a",
   "outputs": [],
   "execution_count": 3
  },
  {
   "metadata": {},
   "cell_type": "markdown",
   "source": "# Evaluation",
   "id": "58b42e563923820d"
  },
  {
   "metadata": {
    "ExecuteTime": {
     "end_time": "2024-05-21T17:40:57.281882Z",
     "start_time": "2024-05-21T17:40:57.274317Z"
    }
   },
   "cell_type": "code",
   "source": [
    "def evaluate(ev_model, dataloader, loss_function):\n",
    "    gt_labels = []\n",
    "    pr_labels = []\n",
    "    all_loss = []\n",
    "\n",
    "    for batch in tqdm(dataloader):\n",
    "        ev_model.eval()\n",
    "        model_input = batch['model_input']\n",
    "        claim_mask = model_input.get('claim_mask')\n",
    "        with torch.no_grad():\n",
    "            logits = ev_model(input_ids=model_input['input_ids'], \n",
    "                              attention_mask=model_input['attention_mask'])['logits']\n",
    "            predicted = torch.softmax(logits, dim=-1)\n",
    "            predicted = predicted[:, :1]\n",
    "            labels = batch['labels']\n",
    "            loss = loss_function(labels, predicted, claim_mask)\n",
    "            \n",
    "            a = (predicted.unsqueeze(0) * claim_mask.unsqueeze(2)).squeeze(2)\n",
    "            b = a.masked_fill(torch.eq(a, 0), 1)\n",
    "            \n",
    "            predicted = torch.all(b > 0.5, dim=1)\n",
    "            \n",
    "        gt_labels.extend(batch['labels'].tolist())\n",
    "        pr_labels.extend(predicted.tolist())\n",
    "        all_loss.append(loss)\n",
    "\n",
    "    loss = sum(all_loss) / len(all_loss)\n",
    "    return loss.item(), classification_report(gt_labels, pr_labels)"
   ],
   "id": "fa747ee21c6ce421",
   "outputs": [],
   "execution_count": 4
  },
  {
   "metadata": {},
   "cell_type": "markdown",
   "source": "# Training",
   "id": "74e5aab422c5376b"
  },
  {
   "metadata": {
    "ExecuteTime": {
     "end_time": "2024-05-21T17:40:57.390561Z",
     "start_time": "2024-05-21T17:40:57.284174Z"
    }
   },
   "cell_type": "code",
   "source": [
    "torch.cuda.empty_cache()\n",
    "gc.collect()"
   ],
   "id": "df6cefb38921ddcb",
   "outputs": [
    {
     "data": {
      "text/plain": [
       "0"
      ]
     },
     "execution_count": 5,
     "metadata": {},
     "output_type": "execute_result"
    }
   ],
   "execution_count": 5
  },
  {
   "metadata": {
    "ExecuteTime": {
     "end_time": "2024-05-21T17:41:02.579498Z",
     "start_time": "2024-05-21T17:40:57.394735Z"
    }
   },
   "cell_type": "code",
   "source": [
    "device = \"cuda\" if torch.cuda.is_available() else \"cpu\"\n",
    "\n",
    "model_name = \"MoritzLaurer/mDeBERTa-v3-base-xnli-multilingual-nli-2mil7\"\n",
    "tokenizer = AutoTokenizer.from_pretrained(model_name)\n",
    "model = AutoModelForSequenceClassification.from_pretrained(model_name)\n",
    "\n",
    "verification_model = ClaimVerificationModel(model).to(device)"
   ],
   "id": "a41eea9b0aade39a",
   "outputs": [],
   "execution_count": 6
  },
  {
   "metadata": {
    "ExecuteTime": {
     "end_time": "2024-05-21T18:58:12.198733Z",
     "start_time": "2024-05-21T18:58:10.431076Z"
    }
   },
   "cell_type": "code",
   "source": [
    "dataset_query = \"\"\"\n",
    "with unique_claims as (\n",
    "select distinct dd.id, dd.claim, dd.label, dd.evidence_wiki_url, dd.set_type\n",
    "from def_dataset dd)\n",
    "select uq.id, uq.claim, uq.label, docs.document_id, docs.text,\n",
    "       docs.lines, se.evidence_lines as evidence_lines, GROUP_CONCAT(af.fact, '--;--') as atomic_facts\n",
    "from unique_claims as uq\n",
    "    join selected_evidence se on uq.id = se.claim_id\n",
    "    join documents docs on docs.document_id = uq.evidence_wiki_url\n",
    "    left join atomic_facts af on af.claim_id = uq.id\n",
    "where uq.set_type = '{set_type}'\n",
    "group by uq.id, docs.document_id\n",
    "\"\"\"\n",
    "\n",
    "train_dataset_raw = Dataset.from_sql(dataset_query.format(set_type='train'), con=DB_URL)\n",
    "dev_dataset_raw = Dataset.from_sql(dataset_query.format(set_type='dev'), con=DB_URL)\n",
    "\n",
    "train_dataset = DefinitionDataset(train_dataset_raw, tokenizer, mode='train', model='claim_verification')\n",
    "train_dataloader = DataLoader(train_dataset, shuffle=True,\n",
    "                              collate_fn=train_dataset.collate_fn,\n",
    "                              batch_size=16)\n",
    "dev_dataset = DefinitionDataset(dev_dataset_raw, tokenizer, mode='train', model='claim_verification')\n",
    "dev_dataloader = DataLoader(dev_dataset, shuffle=True,\n",
    "                            collate_fn=dev_dataset.collate_fn,\n",
    "                            batch_size=16)"
   ],
   "id": "11f2f81eef1f7d8b",
   "outputs": [
    {
     "data": {
      "text/plain": [
       "Generating train split: 0 examples [00:00, ? examples/s]"
      ],
      "application/vnd.jupyter.widget-view+json": {
       "version_major": 2,
       "version_minor": 0,
       "model_id": "f6daf271c21948bfb553084b67129583"
      }
     },
     "metadata": {},
     "output_type": "display_data"
    },
    {
     "data": {
      "text/plain": [
       "Generating train split: 0 examples [00:00, ? examples/s]"
      ],
      "application/vnd.jupyter.widget-view+json": {
       "version_major": 2,
       "version_minor": 0,
       "model_id": "babb37f29daa4848b47bbef4f0a09fc0"
      }
     },
     "metadata": {},
     "output_type": "display_data"
    },
    {
     "data": {
      "text/plain": [
       "Filter:   0%|          | 0/575 [00:00<?, ? examples/s]"
      ],
      "application/vnd.jupyter.widget-view+json": {
       "version_major": 2,
       "version_minor": 0,
       "model_id": "edc9651ff22744519a091fbddcf13434"
      }
     },
     "metadata": {},
     "output_type": "display_data"
    },
    {
     "data": {
      "text/plain": [
       "Filter:   0%|          | 0/575 [00:00<?, ? examples/s]"
      ],
      "application/vnd.jupyter.widget-view+json": {
       "version_major": 2,
       "version_minor": 0,
       "model_id": "3c614a1c18104a8fbd40f04e8d909fed"
      }
     },
     "metadata": {},
     "output_type": "display_data"
    }
   ],
   "execution_count": 16
  },
  {
   "metadata": {
    "ExecuteTime": {
     "end_time": "2024-05-21T18:52:59.229912Z",
     "start_time": "2024-05-21T18:52:59.224093Z"
    }
   },
   "cell_type": "code",
   "source": "len(train_dataloader)",
   "id": "86b058fd84c23839",
   "outputs": [
    {
     "data": {
      "text/plain": [
       "36"
      ]
     },
     "execution_count": 14,
     "metadata": {},
     "output_type": "execute_result"
    }
   ],
   "execution_count": 14
  },
  {
   "metadata": {},
   "cell_type": "markdown",
   "source": "## Gradient Accumulation",
   "id": "c51cb8a77b558076"
  },
  {
   "metadata": {},
   "cell_type": "markdown",
   "source": "### BCE-Loss",
   "id": "34f5bbcd9652f997"
  },
  {
   "metadata": {},
   "cell_type": "markdown",
   "source": "As we are combining REFUTES and NOT ENOUGH INFO into one Label 'NOT VERIFIABLE WRT KNOWLEDGE BASE' we can use Binary Cross Entropy Loss",
   "id": "7714f5d3236ef6a8"
  },
  {
   "metadata": {
    "ExecuteTime": {
     "end_time": "2024-05-21T17:19:57.635853Z",
     "start_time": "2024-05-21T17:17:53.303938Z"
    }
   },
   "cell_type": "code",
   "source": [
    "from losses.atomic_fact_loss import AtomicFactsLoss\n",
    "\n",
    "\n",
    "optimizer = optim.AdamW(verification_model.parameters(), lr=1e-7)\n",
    "criterion = AtomicFactsLoss() #BCELoss()\n",
    "\n",
    "timestamp = datetime.now().strftime(\"%m-%d_%H-%M\")\n",
    "\n",
    "num_epochs = 10 \n",
    "patience = 3   \n",
    "gradient_accumulation = 64\n",
    "trace_train = []\n",
    "trace_val = []\n",
    "\n",
    "verification_model.zero_grad()\n",
    "use_amp = True\n",
    "scaler = GradScaler(enabled=use_amp, init_scale=1)\n",
    "\n",
    "#checkpoint = torch.load(f'training_05-15_15-55')\n",
    "#optimizer.load_state_dict(checkpoint['optimizer'])\n",
    "#scaler.load_state_dict(checkpoint['scaler'])\n",
    "\n",
    "best_loss = np.inf\n",
    "for epoch in range(num_epochs):\n",
    "    bar_desc = \"Epoch %d of %d | Iteration\" % (epoch + 1, num_epochs)\n",
    "    train_iterator = tqdm(train_dataloader, desc=bar_desc)\n",
    "\n",
    "    train_loss = 0\n",
    "    print('Train ...')\n",
    "    for step, batch in enumerate(train_iterator):\n",
    "        verification_model.train()\n",
    "        model_input = batch[\"model_input\"]\n",
    "        claim_mask = model_input.get('claim_mask')\n",
    "\n",
    "        with autocast():\n",
    "            logits = verification_model(input_ids=model_input['input_ids'], \n",
    "                                        attention_mask=model_input['attention_mask'])['logits']\n",
    "            predicted = torch.softmax(logits, dim=-1)\n",
    "            #predicted[:, 1] += predicted[:, 2]\n",
    "            predicted = predicted[:, :1]\n",
    "            labels = batch['labels']\n",
    "            #labels_one_hot = torch.zeros_like(predicted)\n",
    "            #labels_one_hot.scatter_(1, batch['labels'].unsqueeze(1), 1)\n",
    "            loss = criterion(labels, predicted, claim_mask)\n",
    "            train_loss += loss.detach().item()\n",
    "            loss = (loss / gradient_accumulation)\n",
    "        scaler.scale(loss).backward()\n",
    "\n",
    "        if (step + 1) % gradient_accumulation == 0:\n",
    "            scaler.unscale_(optimizer)\n",
    "            torch.nn.utils.clip_grad_norm_(model.parameters(), 1e-1) #1e-2\n",
    "\n",
    "            scaler.step(optimizer)\n",
    "            scaler.update()\n",
    "            optimizer.step()\n",
    "            optimizer.zero_grad()\n",
    "\n",
    "    trace_train.append(train_loss / len(train_dataloader))\n",
    "    # validation\n",
    "    with torch.no_grad():\n",
    "        val_loss, report = evaluate(verification_model, dev_dataloader, criterion)\n",
    "        trace_val.append(val_loss)\n",
    "        print(\n",
    "            f'Epoch {epoch + 1}/{num_epochs}, Training Loss: {(train_loss / len(train_dataloader)):.4f}, Validation Loss: {val_loss:.4f}')\n",
    "        print(report)\n",
    "\n",
    "        if val_loss < best_loss:\n",
    "            best_loss = val_loss\n",
    "            best_epoch = epoch\n",
    "            best_state = {key: value.cpu() for key, value in\n",
    "                          verification_model.state_dict().items()}\n",
    "            verification_model.save(f'verification_model_intermediate_{timestamp}')\n",
    "            torch.save({\n",
    "                'optimizer': optimizer.state_dict(),\n",
    "                'scaler': scaler.state_dict()}, f'training_{timestamp}')\n",
    "        else:\n",
    "            if epoch >= best_epoch + patience:\n",
    "                break\n",
    "\n",
    "        if val_loss < best_loss:\n",
    "            best_loss = val_loss\n",
    "            best_epoch = epoch\n",
    "            best_state.clear() \n",
    "            for key, value in verification_model.state_dict().items():\n",
    "                best_state[key].copy_(value.cpu())\n",
    "            verification_model.save(f'selection_model_intermediate_{timestamp}')\n",
    "        else:\n",
    "            if epoch >= best_epoch + patience:\n",
    "                break\n",
    "\n",
    "verification_model.load_state_dict(best_state)\n",
    "verification_model.save(f'selection_model_{timestamp}')\n",
    "torch.save({'optimizer': optimizer.state_dict(),\n",
    "            'scaler': scaler.state_dict()}, f'training_{timestamp}')\n",
    "\n",
    "plt.plot(trace_train, label='train')\n",
    "plt.plot(trace_val, label='validation')\n",
    "plt.xlabel('Epochs')\n",
    "plt.ylabel('Loss')\n",
    "plt.legend()\n",
    "plt.grid(True)"
   ],
   "id": "59b12a7086fa9ea2",
   "outputs": [
    {
     "name": "stderr",
     "output_type": "stream",
     "text": [
      "/Users/lukasellinger/anaconda3/envs/thesis/lib/python3.10/site-packages/torch/cuda/amp/grad_scaler.py:126: UserWarning: torch.cuda.amp.GradScaler is enabled, but CUDA is not available.  Disabling.\n",
      "  warnings.warn(\n",
      "Epoch 1 of 10 | Iteration:   0%|          | 0/3 [00:00<?, ?it/s]/Users/lukasellinger/anaconda3/envs/thesis/lib/python3.10/site-packages/torch/amp/autocast_mode.py:250: UserWarning: User provided device_type of 'cuda', but CUDA is not available. Disabling\n",
      "  warnings.warn(\n"
     ]
    },
    {
     "name": "stdout",
     "output_type": "stream",
     "text": [
      "Train ...\n"
     ]
    },
    {
     "name": "stderr",
     "output_type": "stream",
     "text": [
      "Epoch 1 of 10 | Iteration: 100%|██████████| 3/3 [00:28<00:00,  9.47s/it]\n",
      "100%|██████████| 1/1 [00:02<00:00,  2.89s/it]\n"
     ]
    },
    {
     "name": "stdout",
     "output_type": "stream",
     "text": [
      "Epoch 1/10, Training Loss: 0.0950, Validation Loss: 0.0020\n",
      "              precision    recall  f1-score   support\n",
      "\n",
      "           0       1.00      1.00      1.00        10\n",
      "           1       1.00      1.00      1.00         5\n",
      "\n",
      "    accuracy                           1.00        15\n",
      "   macro avg       1.00      1.00      1.00        15\n",
      "weighted avg       1.00      1.00      1.00        15\n",
      "\n"
     ]
    },
    {
     "name": "stderr",
     "output_type": "stream",
     "text": [
      "Epoch 2 of 10 | Iteration:   0%|          | 0/3 [00:00<?, ?it/s]/Users/lukasellinger/anaconda3/envs/thesis/lib/python3.10/site-packages/torch/amp/autocast_mode.py:250: UserWarning: User provided device_type of 'cuda', but CUDA is not available. Disabling\n",
      "  warnings.warn(\n"
     ]
    },
    {
     "name": "stdout",
     "output_type": "stream",
     "text": [
      "Train ...\n"
     ]
    },
    {
     "name": "stderr",
     "output_type": "stream",
     "text": [
      "Epoch 2 of 10 | Iteration: 100%|██████████| 3/3 [00:28<00:00,  9.52s/it]\n",
      "100%|██████████| 1/1 [00:02<00:00,  2.92s/it]\n"
     ]
    },
    {
     "name": "stdout",
     "output_type": "stream",
     "text": [
      "Epoch 2/10, Training Loss: 0.0717, Validation Loss: 0.0020\n",
      "              precision    recall  f1-score   support\n",
      "\n",
      "           0       1.00      1.00      1.00        10\n",
      "           1       1.00      1.00      1.00         5\n",
      "\n",
      "    accuracy                           1.00        15\n",
      "   macro avg       1.00      1.00      1.00        15\n",
      "weighted avg       1.00      1.00      1.00        15\n",
      "\n"
     ]
    },
    {
     "name": "stderr",
     "output_type": "stream",
     "text": [
      "Epoch 3 of 10 | Iteration:   0%|          | 0/3 [00:00<?, ?it/s]/Users/lukasellinger/anaconda3/envs/thesis/lib/python3.10/site-packages/torch/amp/autocast_mode.py:250: UserWarning: User provided device_type of 'cuda', but CUDA is not available. Disabling\n",
      "  warnings.warn(\n"
     ]
    },
    {
     "name": "stdout",
     "output_type": "stream",
     "text": [
      "Train ...\n"
     ]
    },
    {
     "name": "stderr",
     "output_type": "stream",
     "text": [
      "Epoch 3 of 10 | Iteration: 100%|██████████| 3/3 [00:27<00:00,  9.02s/it]\n",
      "100%|██████████| 1/1 [00:03<00:00,  3.10s/it]\n"
     ]
    },
    {
     "name": "stdout",
     "output_type": "stream",
     "text": [
      "Epoch 3/10, Training Loss: 0.0887, Validation Loss: 0.0020\n",
      "              precision    recall  f1-score   support\n",
      "\n",
      "           0       1.00      1.00      1.00        10\n",
      "           1       1.00      1.00      1.00         5\n",
      "\n",
      "    accuracy                           1.00        15\n",
      "   macro avg       1.00      1.00      1.00        15\n",
      "weighted avg       1.00      1.00      1.00        15\n",
      "\n"
     ]
    },
    {
     "name": "stderr",
     "output_type": "stream",
     "text": [
      "Epoch 4 of 10 | Iteration:   0%|          | 0/3 [00:00<?, ?it/s]/Users/lukasellinger/anaconda3/envs/thesis/lib/python3.10/site-packages/torch/amp/autocast_mode.py:250: UserWarning: User provided device_type of 'cuda', but CUDA is not available. Disabling\n",
      "  warnings.warn(\n"
     ]
    },
    {
     "name": "stdout",
     "output_type": "stream",
     "text": [
      "Train ...\n"
     ]
    },
    {
     "name": "stderr",
     "output_type": "stream",
     "text": [
      "Epoch 4 of 10 | Iteration: 100%|██████████| 3/3 [00:25<00:00,  8.60s/it]\n",
      "100%|██████████| 1/1 [00:02<00:00,  2.64s/it]\n"
     ]
    },
    {
     "name": "stdout",
     "output_type": "stream",
     "text": [
      "Epoch 4/10, Training Loss: 0.0662, Validation Loss: 0.0020\n",
      "              precision    recall  f1-score   support\n",
      "\n",
      "           0       1.00      1.00      1.00        10\n",
      "           1       1.00      1.00      1.00         5\n",
      "\n",
      "    accuracy                           1.00        15\n",
      "   macro avg       1.00      1.00      1.00        15\n",
      "weighted avg       1.00      1.00      1.00        15\n",
      "\n"
     ]
    },
    {
     "data": {
      "text/plain": [
       "<Figure size 640x480 with 1 Axes>"
      ],
      "image/png": "[encoded data removed]"
     },
     "metadata": {},
     "output_type": "display_data"
    }
   ],
   "execution_count": 6
  },
  {
   "metadata": {
    "ExecuteTime": {
     "end_time": "2024-05-21T19:00:41.289918Z",
     "start_time": "2024-05-21T18:58:24.738460Z"
    }
   },
   "cell_type": "code",
   "source": [
    "from losses.atomic_fact_loss import AtomicFactsLoss\n",
    "\n",
    "criterion = AtomicFactsLoss() #BCELoss()\n",
    "val_loss, report = evaluate(verification_model, train_dataloader, criterion)\n",
    "print(val_loss)\n",
    "print(report)"
   ],
   "id": "f6d1a12394bdf75e",
   "outputs": [
    {
     "name": "stderr",
     "output_type": "stream",
     "text": [
      "100%|██████████| 36/36 [02:16<00:00,  3.79s/it]"
     ]
    },
    {
     "name": "stdout",
     "output_type": "stream",
     "text": [
      "0.0768919289112091\n",
      "              precision    recall  f1-score   support\n",
      "\n",
      "           0       0.93      0.92      0.93       180\n",
      "           1       0.96      0.97      0.97       395\n",
      "\n",
      "    accuracy                           0.95       575\n",
      "   macro avg       0.95      0.95      0.95       575\n",
      "weighted avg       0.95      0.95      0.95       575\n",
      "\n"
     ]
    },
    {
     "name": "stderr",
     "output_type": "stream",
     "text": [
      "\n"
     ]
    }
   ],
   "execution_count": 17
  },
  {
   "metadata": {},
   "cell_type": "code",
   "outputs": [],
   "execution_count": null,
   "source": [
    "test_dataset_raw = Dataset.from_sql(dataset_query.format(set_type='test'), con=DB_URL)\n",
    "test_dataset = DefinitionDataset(test_dataset_raw, tokenizer, mode='train', model='evidence_selection')\n",
    "test_dataloader = DataLoader(test_dataset, shuffle=True, collate_fn=test_dataset.collate_fn, batch_size=10)\n",
    "\n",
    "test_loss, report = evaluate(model, test_dataloader)\n",
    "print(test_loss)\n",
    "print(report)"
   ],
   "id": "8c36f6a01da49e7e"
  }
 ],
 "metadata": {
  "kernelspec": {
   "display_name": "Python 3",
   "language": "python",
   "name": "python3"
  },
  "language_info": {
   "codemirror_mode": {
    "name": "ipython",
    "version": 2
   },
   "file_extension": ".py",
   "mimetype": "text/x-python",
   "name": "python",
   "nbconvert_exporter": "python",
   "pygments_lexer": "ipython2",
   "version": "2.7.6"
  }
 },
 "nbformat": 4,
 "nbformat_minor": 5
}
