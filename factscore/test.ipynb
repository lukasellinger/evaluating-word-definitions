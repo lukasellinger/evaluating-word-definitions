{
 "cells": [
  {
   "cell_type": "code",
   "execution_count": null,
   "id": "initial_id",
   "metadata": {
    "collapsed": true
   },
   "outputs": [],
   "source": [
    "from factscore.factscorer import FactScorer\n",
    "\n",
    "model_name = 'retrieval+llama+npm'\n",
    "fs = FactScorer(model_name=args.model_name,\n",
    "                data_dir=args.data_dir,\n",
    "                model_dir=args.model_dir,\n",
    "                cache_dir=args.cache_dir,\n",
    "                openai_key=args.openai_key,\n",
    "                cost_estimate=args.cost_estimate,\n",
    "                abstain_detection_type=args.abstain_detection_type)"
   ]
  }
 ],
 "metadata": {
  "kernelspec": {
   "display_name": "Python 3",
   "language": "python",
   "name": "python3"
  },
  "language_info": {
   "codemirror_mode": {
    "name": "ipython",
    "version": 2
   },
   "file_extension": ".py",
   "mimetype": "text/x-python",
   "name": "python",
   "nbconvert_exporter": "python",
   "pygments_lexer": "ipython2",
   "version": "2.7.6"
  }
 },
 "nbformat": 4,
 "nbformat_minor": 5
}
