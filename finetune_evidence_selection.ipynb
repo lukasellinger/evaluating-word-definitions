{
 "cells": [
  {
   "cell_type": "code",
   "execution_count": null,
   "id": "initial_id",
   "metadata": {
    "collapsed": true
   },
   "outputs": [],
   "source": [
    "from google.colab import drive\n",
    "\n",
    "drive.mount('/content/drive', force_remount=True)\n",
    "\n",
    "%cd /content/drive/My Drive/\n",
    "\n",
    "repository = 'evaluating_factuality_word_definitions'"
   ]
  },
  {
   "cell_type": "code",
   "outputs": [],
   "source": [
    "import torch\n",
    "import gc\n",
    "from datasets import Dataset\n",
    "from sklearn.metrics import classification_report\n",
    "from torch.utils.data import DataLoader\n",
    "from torch import optim\n",
    "from tqdm import tqdm\n",
    "from transformers import AutoTokenizer, BigBirdModel\n",
    "from matplotlib import pyplot as plt\n",
    "from torch.cuda.amp import GradScaler, autocast\n",
    "\n",
    "from config import DB_URL\n",
    "from dataset.def_dataset import DefinitionDataset\n",
    "from models.evidence_selection_model import EvidenceSelectionModel\n",
    "from losses.supcon import SupConLoss\n",
    "import torch.nn.functional as F"
   ],
   "metadata": {
    "collapsed": false
   },
   "id": "700518b6858e221f"
  },
  {
   "cell_type": "markdown",
   "source": [
    "# Evaluation"
   ],
   "metadata": {
    "collapsed": false
   },
   "id": "71834b08f48d19ea"
  },
  {
   "cell_type": "code",
   "outputs": [],
   "source": [
    "def convert_to_labels(similarities, labels, k=2):\n",
    "    top_indices = torch.topk(similarities, k=min(k, similarities.size(1)))[1]\n",
    "    predicted = torch.zeros_like(similarities)\n",
    "    predicted.scatter_(1, top_indices, 1)\n",
    "\n",
    "    top_k_hits = labels[torch.arange(labels.size(0)).unsqueeze(1), top_indices]\n",
    "    top_k_hits = torch.any(top_k_hits == 1, dim=1).float()\n",
    "\n",
    "    mask = (labels != -1).flatten()\n",
    "    return predicted.flatten()[mask], labels.flatten()[mask], top_k_hits"
   ],
   "metadata": {
    "collapsed": false
   },
   "id": "e9c6e2fa24117fc6"
  },
  {
   "cell_type": "code",
   "outputs": [],
   "source": [
    "def evaluate(ev_model, dataloader, loss_function):\n",
    "    gt_labels = []\n",
    "    pr_labels = []\n",
    "    all_top_k_hits = []\n",
    "    all_loss = []\n",
    "    for batch in tqdm(dataloader):\n",
    "        ev_model.eval()\n",
    "        with torch.no_grad():\n",
    "            model_input = batch[\"model_input\"]\n",
    "            claim_embedding = ev_model(input_ids=model_input['claim_input_ids'],\n",
    "                                       attention_mask=model_input['claim_attention_mask'])\n",
    "            sentence_embeddings = ev_model(input_ids=model_input['input_ids'],\n",
    "                                           attention_mask=model_input['attention_mask'],\n",
    "                                           sentence_mask=model_input['sentence_mask'])\n",
    "\n",
    "            loss = loss_function(claim_embedding, sentence_embeddings, labels=batch['labels'])\n",
    "            claim_similarities = F.cosine_similarity(claim_embedding, sentence_embeddings, dim=2)\n",
    "            claim_similarities = claim_similarities.nan_to_num(nan=float('-inf'))\n",
    "        predicted, true_labels, top_k_hits = convert_to_labels(claim_similarities, batch['labels'], k=3)\n",
    "        gt_labels.extend(true_labels.tolist())\n",
    "        pr_labels.extend(predicted.tolist())\n",
    "        all_top_k_hits.extend(top_k_hits.tolist())\n",
    "        all_loss.append(loss)\n",
    "    loss = sum(all_loss) / len(all_loss)\n",
    "    top_k_acc = sum(all_top_k_hits) / len(all_top_k_hits)\n",
    "    \n",
    "    return loss, top_k_acc, classification_report(gt_labels, pr_labels)"
   ],
   "metadata": {
    "collapsed": false
   },
   "id": "357c18f63cfd020e"
  },
  {
   "cell_type": "markdown",
   "source": [
    "# Training"
   ],
   "metadata": {
    "collapsed": false
   },
   "id": "759415c01932ff18"
  },
  {
   "cell_type": "code",
   "outputs": [],
   "source": [
    "torch.cuda.empty_cache()\n",
    "gc.collect()"
   ],
   "metadata": {
    "collapsed": false
   },
   "id": "33fa6b8bf96a77b5"
  },
  {
   "cell_type": "code",
   "outputs": [],
   "source": [
    "device = \"cuda\" if torch.cuda.is_available() else \"cpu\"\n",
    "\n",
    "model_name = 'google/bigbird-roberta-large'\n",
    "model = BigBirdModel.from_pretrained(model_name)\n",
    "selection_model = EvidenceSelectionModel(model, feed_forward=True).to(device)\n",
    "\n",
    "tokenizer = AutoTokenizer.from_pretrained(model_name)"
   ],
   "metadata": {
    "collapsed": false
   },
   "id": "dcde1171d65174ef"
  },
  {
   "cell_type": "code",
   "outputs": [],
   "source": [
    "dataset_query = \"\"\"\n",
    "select dd.id, dd.claim, dd.label, docs.document_id, docs.text, \n",
    "       docs.lines, group_concat(dd.evidence_sentence_id) as evidence_lines\n",
    "from def_dataset dd\n",
    "    join documents docs on docs.document_id = dd.evidence_wiki_url\n",
    "where set_type={set_type}\n",
    "group by dd.id, evidence_annotation_id, evidence_wiki_url\"\"\"\n",
    "\n",
    "train_dataset_raw = Dataset.from_sql(dataset_query.format(set_type='train'), con=DB_URL)\n",
    "dev_dataset_raw = Dataset.from_sql(dataset_query.format(set_type='dev'), con=DB_URL)\n",
    "\n",
    "train_dataset = DefinitionDataset(train_dataset_raw, tokenizer, mode='train', model='evidence_selection')\n",
    "train_dataloader = DataLoader(train_dataset, shuffle=True,\n",
    "                              collate_fn=train_dataset.collate_fn,\n",
    "                              batch_size=10)\n",
    "dev_dataset = DefinitionDataset(dev_dataset_raw, tokenizer, mode='train', model='evidence_selection')\n",
    "dev_dataloader = DataLoader(train_dataset, shuffle=True,\n",
    "                              collate_fn=dev_dataset.collate_fn,\n",
    "                              batch_size=10)"
   ],
   "metadata": {
    "collapsed": false
   },
   "id": "1825a0c666b3748a"
  },
  {
   "cell_type": "code",
   "outputs": [],
   "source": [
    "#warmup_steps = 0\n",
    "#t_total = int(len(train_dataloader) * args.num_epochs / args.gradient_accumulation_steps)\n",
    "\n",
    "optimizer = optim.AdamW(selection_model.parameters(), lr=1e-3)\n",
    "#scheduler = get_linear_schedule_with_warmup(optimizer, num_warmup_steps=warmup_steps, num_training_steps=t_total)\n",
    "criterion = SupConLoss(temperature=0.5)"
   ],
   "metadata": {
    "collapsed": false
   },
   "id": "910769decac366ff"
  },
  {
   "cell_type": "markdown",
   "source": [
    "## Gradient Accumulation"
   ],
   "metadata": {
    "collapsed": false
   },
   "id": "3cd6e832d0a38f7"
  },
  {
   "cell_type": "markdown",
   "source": [
    "Accumulates the gradient, which allows finetuning in a batch manner of large models. Works well for Bert"
   ],
   "metadata": {
    "collapsed": false
   },
   "id": "10775387be93238e"
  },
  {
   "cell_type": "code",
   "outputs": [],
   "source": [
    "import numpy as np\n",
    "\n",
    "num_epochs = 5\n",
    "patience = 4\n",
    "gradient_accumulation = 2048\n",
    "trace_train = []\n",
    "trace_val = []\n",
    "\n",
    "selection_model.zero_grad()\n",
    "use_amp = True\n",
    "scaler = GradScaler(enabled=use_amp)\n",
    "\n",
    "best_loss = np.inf\n",
    "for epoch in range(num_epochs):\n",
    "    bar_desc = \"Epoch %d of %d | Iteration\" % (epoch + 1, num_epochs)\n",
    "    train_iterator = tqdm(train_dataloader, desc=bar_desc)\n",
    "    \n",
    "    train_loss = 0\n",
    "    print('Train ...')\n",
    "    for step, batch in enumerate(train_iterator):\n",
    "        selection_model.train()\n",
    "        model_input = batch[\"model_input\"]\n",
    "\n",
    "        with autocast():\n",
    "            claim_embedding = selection_model(input_ids=model_input['claim_input_ids'],\n",
    "                                              attention_mask=model_input['claim_attention_mask'])\n",
    "            sentence_embeddings = selection_model(input_ids=model_input['input_ids'],\n",
    "                                                  attention_mask=model_input['attention_mask'],\n",
    "                                                  sentence_mask=model_input['sentence_mask'])\n",
    "\n",
    "            loss = criterion(claim_embedding, sentence_embeddings, labels=batch['labels'])\n",
    "            train_loss += loss.detach().item()\n",
    "            loss = (loss / gradient_accumulation)\n",
    "        \n",
    "        scaler.scale(loss).backward()\n",
    "\n",
    "        if (step + 1) % gradient_accumulation == 0:\n",
    "            scaler.unscale_(optimizer)\n",
    "            count = 0\n",
    "            scaler.step(optimizer)\n",
    "            scaler.update()\n",
    "            optimizer.step()\n",
    "            #scheduler.step()\n",
    "            optimizer.zero_grad()\n",
    "\n",
    "\n",
    "        trace_train.append(train_loss / len(train_dataloader))\n",
    "        # validation\n",
    "        with torch.no_grad():\n",
    "            val_loss, val_top_k_acc, report = evaluate(model, dev_dataloader)\n",
    "            trace_val.append(val_loss)\n",
    "            print(f'Epoch {epoch + 1}/{num_epochs}, Training Loss: {(train_loss / len(train_dataloader)):.4f}, Validation Loss: {val_loss:.4f}')\n",
    "            print(f'Validation top k acc: {val_top_k_acc:.4f}')\n",
    "            print(report)\n",
    "\n",
    "            if val_loss < best_loss:\n",
    "                best_loss = val_loss\n",
    "                best_epoch = epoch\n",
    "                best_state = {key: value.cpu() for key, value in model.state_dict().items()} \n",
    "                selection_model.save('selection_model_intermediate')  \n",
    "            else:\n",
    "                if epoch >= best_epoch + patience:\n",
    "                    break\n",
    "\n",
    "selection_model.load_state_dict(best_state)\n",
    "selection_model.save('selection_model')\n",
    "\n",
    "plt.plot(trace_train, label='train')\n",
    "plt.plot(trace_val, label='validation')\n",
    "plt.xlabel('Epochs')\n",
    "plt.ylabel('Loss')\n",
    "plt.legend()\n",
    "plt.grid(True)"
   ],
   "metadata": {
    "collapsed": false
   },
   "id": "58d66e5781f77753"
  },
  {
   "cell_type": "code",
   "outputs": [],
   "source": [
    "test_dataset_raw = Dataset.from_sql(dataset_query.format(set_type='test'), con=DB_URL)\n",
    "test_dataset = DefinitionDataset(test_dataset_raw, tokenizer, mode='train', model='evidence_selection')\n",
    "test_dataloader = DataLoader(test_dataset, shuffle=True, collate_fn=test_dataset.collate_fn, batch_size=10)\n",
    "\n",
    "test_loss = evaluate(model, test_dataloader)\n",
    "print(test_loss)"
   ],
   "metadata": {
    "collapsed": false
   },
   "id": "647713650395130e"
  }
 ],
 "metadata": {
  "kernelspec": {
   "display_name": "Python 3",
   "language": "python",
   "name": "python3"
  },
  "language_info": {
   "codemirror_mode": {
    "name": "ipython",
    "version": 2
   },
   "file_extension": ".py",
   "mimetype": "text/x-python",
   "name": "python",
   "nbconvert_exporter": "python",
   "pygments_lexer": "ipython2",
   "version": "2.7.6"
  }
 },
 "nbformat": 4,
 "nbformat_minor": 5
}
