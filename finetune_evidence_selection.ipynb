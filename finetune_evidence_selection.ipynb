{
 "cells": [
  {
   "cell_type": "code",
   "outputs": [],
   "source": [
    "from google.colab import drive\n",
    "\n",
    "drive.mount('/content/drive', force_remount=True)\n",
    "repository = 'evaluating_factuality_word_definitions'\n",
    "\n",
    "%cd /content/drive/My Drive/{repository}"
   ],
   "metadata": {
    "collapsed": false
   },
   "id": "initial_id",
   "execution_count": 0
  },
  {
   "cell_type": "code",
   "outputs": [],
   "source": [
    "!pip install datasets"
   ],
   "metadata": {
    "collapsed": false
   },
   "id": "4f48f6bdca5efdfc"
  },
  {
   "cell_type": "code",
   "outputs": [],
   "source": [
    "import torch\n",
    "import gc\n",
    "import numpy as np\n",
    "from datasets import Dataset\n",
    "from sklearn.metrics import classification_report\n",
    "from torch.utils.data import DataLoader\n",
    "from torch import optim\n",
    "from tqdm import tqdm\n",
    "from transformers import AutoTokenizer, BigBirdModel\n",
    "from matplotlib import pyplot as plt\n",
    "from torch.cuda.amp import GradScaler, autocast\n",
    "\n",
    "from config import DB_URL\n",
    "from dataset.def_dataset import DefinitionDataset\n",
    "from models.evidence_selection_model import EvidenceSelectionModel\n",
    "from losses.supcon import SupConLoss\n",
    "import torch.nn.functional as F"
   ],
   "metadata": {
    "collapsed": false,
    "ExecuteTime": {
     "end_time": "2024-04-29T07:47:51.309228Z",
     "start_time": "2024-04-29T07:47:44.847788Z"
    }
   },
   "id": "700518b6858e221f",
   "execution_count": 1
  },
  {
   "cell_type": "markdown",
   "source": [
    "# Evaluation"
   ],
   "metadata": {
    "collapsed": false
   },
   "id": "71834b08f48d19ea"
  },
  {
   "cell_type": "code",
   "outputs": [],
   "source": [
    "def convert_to_labels(similarities, labels, k=2):\n",
    "    top_indices = torch.topk(similarities, k=min(k, similarities.size(1)))[1]\n",
    "    predicted = torch.zeros_like(similarities)\n",
    "    predicted.scatter_(1, top_indices, 1)\n",
    "\n",
    "    top_k_hits = labels[torch.arange(labels.size(0)).unsqueeze(1), top_indices]\n",
    "    top_k_hits = torch.any(top_k_hits == 1, dim=1).float()\n",
    "\n",
    "    mask = (labels != -1).flatten()\n",
    "    return predicted.flatten()[mask], labels.flatten()[mask], top_k_hits"
   ],
   "metadata": {
    "collapsed": false,
    "ExecuteTime": {
     "end_time": "2024-04-29T07:47:58.773560Z",
     "start_time": "2024-04-29T07:47:58.765050Z"
    }
   },
   "id": "e9c6e2fa24117fc6",
   "execution_count": 2
  },
  {
   "cell_type": "code",
   "outputs": [],
   "source": [
    "def evaluate(ev_model, dataloader, loss_function):\n",
    "    gt_labels = []\n",
    "    pr_labels = []\n",
    "    all_top_k_hits = []\n",
    "    all_loss = []\n",
    "    for batch in tqdm(dataloader):\n",
    "        ev_model.eval()\n",
    "        with torch.no_grad():\n",
    "            model_input = batch[\"model_input\"]\n",
    "            claim_embedding = ev_model(input_ids=model_input['claim_input_ids'],\n",
    "                                       attention_mask=model_input['claim_attention_mask'])\n",
    "            sentence_embeddings = ev_model(input_ids=model_input['input_ids'],\n",
    "                                           attention_mask=model_input['attention_mask'],\n",
    "                                           sentence_mask=model_input['sentence_mask'])\n",
    "\n",
    "            loss = loss_function(claim_embedding, sentence_embeddings, labels=batch['labels'])\n",
    "            claim_similarities = F.cosine_similarity(claim_embedding, sentence_embeddings, dim=2)\n",
    "            claim_similarities = claim_similarities.nan_to_num(nan=float('-inf'))\n",
    "        predicted, true_labels, top_k_hits = convert_to_labels(claim_similarities, batch['labels'], k=3)\n",
    "        gt_labels.extend(true_labels.tolist())\n",
    "        pr_labels.extend(predicted.tolist())\n",
    "        all_top_k_hits.extend(top_k_hits.tolist())\n",
    "        all_loss.append(loss)\n",
    "    loss = sum(all_loss) / len(all_loss)\n",
    "    top_k_acc = sum(all_top_k_hits) / len(all_top_k_hits)\n",
    "    \n",
    "    return loss, top_k_acc, classification_report(gt_labels, pr_labels)"
   ],
   "metadata": {
    "collapsed": false,
    "ExecuteTime": {
     "end_time": "2024-04-29T07:48:00.171480Z",
     "start_time": "2024-04-29T07:48:00.157590Z"
    }
   },
   "id": "357c18f63cfd020e",
   "execution_count": 3
  },
  {
   "cell_type": "markdown",
   "source": [
    "# Training"
   ],
   "metadata": {
    "collapsed": false
   },
   "id": "759415c01932ff18"
  },
  {
   "cell_type": "code",
   "outputs": [],
   "source": [
    "torch.cuda.empty_cache()\n",
    "gc.collect()"
   ],
   "metadata": {
    "collapsed": false
   },
   "id": "33fa6b8bf96a77b5"
  },
  {
   "cell_type": "code",
   "outputs": [],
   "source": [
    "device = \"cuda\" if torch.cuda.is_available() else \"cpu\"\n",
    "\n",
    "model_name = 'google/bigbird-roberta-large'\n",
    "model = BigBirdModel.from_pretrained(model_name)\n",
    "selection_model = EvidenceSelectionModel(model, feed_forward=True).to(device)\n",
    "\n",
    "tokenizer = AutoTokenizer.from_pretrained(model_name)"
   ],
   "metadata": {
    "collapsed": false,
    "ExecuteTime": {
     "end_time": "2024-04-29T07:48:12.088344Z",
     "start_time": "2024-04-29T07:48:03.619671Z"
    }
   },
   "id": "dcde1171d65174ef",
   "execution_count": 4
  },
  {
   "cell_type": "code",
   "outputs": [
    {
     "data": {
      "text/plain": "Generating train split: 0 examples [00:00, ? examples/s]",
      "application/vnd.jupyter.widget-view+json": {
       "version_major": 2,
       "version_minor": 0,
       "model_id": "979572ac46d34c93ab0d8157b785d9e0"
      }
     },
     "metadata": {},
     "output_type": "display_data"
    },
    {
     "data": {
      "text/plain": "Generating train split: 0 examples [00:00, ? examples/s]",
      "application/vnd.jupyter.widget-view+json": {
       "version_major": 2,
       "version_minor": 0,
       "model_id": "3bda70edcdea49b7baf031ef485b012b"
      }
     },
     "metadata": {},
     "output_type": "display_data"
    },
    {
     "data": {
      "text/plain": "Filter:   0%|          | 0/50 [00:00<?, ? examples/s]",
      "application/vnd.jupyter.widget-view+json": {
       "version_major": 2,
       "version_minor": 0,
       "model_id": "7ab301bd8d934b5bbd59c0bd214194d4"
      }
     },
     "metadata": {},
     "output_type": "display_data"
    },
    {
     "data": {
      "text/plain": "Filter:   0%|          | 0/50 [00:00<?, ? examples/s]",
      "application/vnd.jupyter.widget-view+json": {
       "version_major": 2,
       "version_minor": 0,
       "model_id": "94e90306673b4ebba84dac2558c2dbd9"
      }
     },
     "metadata": {},
     "output_type": "display_data"
    }
   ],
   "source": [
    "dataset_query = \"\"\"\n",
    "select dd.id, dd.claim, dd.label, docs.document_id, docs.text, \n",
    "       docs.lines, group_concat(dd.evidence_sentence_id) as evidence_lines\n",
    "from def_dataset dd\n",
    "    join documents docs on docs.document_id = dd.evidence_wiki_url\n",
    "where set_type='{set_type}'\n",
    "group by dd.id, evidence_annotation_id, evidence_wiki_url\n",
    "limit 50\"\"\"\n",
    "\n",
    "train_dataset_raw = Dataset.from_sql(dataset_query.format(set_type='train'), con=DB_URL)\n",
    "dev_dataset_raw = Dataset.from_sql(dataset_query.format(set_type='dev'), con=DB_URL)\n",
    "\n",
    "train_dataset = DefinitionDataset(train_dataset_raw, tokenizer, mode='train', model='evidence_selection')\n",
    "train_dataloader = DataLoader(train_dataset, shuffle=True,\n",
    "                              collate_fn=train_dataset.collate_fn,\n",
    "                              batch_size=10)\n",
    "dev_dataset = DefinitionDataset(dev_dataset_raw, tokenizer, mode='train', model='evidence_selection')\n",
    "dev_dataloader = DataLoader(train_dataset, shuffle=True,\n",
    "                              collate_fn=dev_dataset.collate_fn,\n",
    "                              batch_size=10)"
   ],
   "metadata": {
    "collapsed": false,
    "ExecuteTime": {
     "end_time": "2024-04-29T07:48:25.573737Z",
     "start_time": "2024-04-29T07:48:21.317978Z"
    }
   },
   "id": "1825a0c666b3748a",
   "execution_count": 5
  },
  {
   "cell_type": "code",
   "outputs": [],
   "source": [
    "#warmup_steps = 0\n",
    "#t_total = int(len(train_dataloader) * args.num_epochs / args.gradient_accumulation_steps)\n",
    "\n",
    "optimizer = optim.AdamW(selection_model.parameters(), lr=1e-3)\n",
    "#scheduler = get_linear_schedule_with_warmup(optimizer, num_warmup_steps=warmup_steps, num_training_steps=t_total)\n",
    "criterion = SupConLoss(temperature=0.5)"
   ],
   "metadata": {
    "collapsed": false,
    "ExecuteTime": {
     "end_time": "2024-04-29T07:48:31.313066Z",
     "start_time": "2024-04-29T07:48:29.285974Z"
    }
   },
   "id": "910769decac366ff",
   "execution_count": 6
  },
  {
   "cell_type": "markdown",
   "source": [
    "## Gradient Accumulation"
   ],
   "metadata": {
    "collapsed": false
   },
   "id": "3cd6e832d0a38f7"
  },
  {
   "cell_type": "markdown",
   "source": [
    "Accumulates the gradient, which allows finetuning in a batch manner of large models. Works well for Bert"
   ],
   "metadata": {
    "collapsed": false
   },
   "id": "10775387be93238e"
  },
  {
   "cell_type": "code",
   "outputs": [
    {
     "name": "stderr",
     "output_type": "stream",
     "text": [
      "/Users/lukasellinger/anaconda3/envs/thesis/lib/python3.10/site-packages/torch/cuda/amp/grad_scaler.py:126: UserWarning: torch.cuda.amp.GradScaler is enabled, but CUDA is not available.  Disabling.\n",
      "  warnings.warn(\n",
      "Epoch 1 of 5 | Iteration:   0%|          | 0/3 [00:00<?, ?it/s]/Users/lukasellinger/anaconda3/envs/thesis/lib/python3.10/site-packages/torch/amp/autocast_mode.py:250: UserWarning: User provided device_type of 'cuda', but CUDA is not available. Disabling\n",
      "  warnings.warn(\n",
      "Attention type 'block_sparse' is not possible if sequence_length: 14 <= num global tokens: 2 * config.block_size + min. num sliding tokens: 3 * config.block_size + config.num_random_blocks * config.block_size + additional buffer: config.num_random_blocks * config.block_size = 704 with config.block_size = 64, config.num_random_blocks = 3. Changing attention type to 'original_full'...\n"
     ]
    },
    {
     "name": "stdout",
     "output_type": "stream",
     "text": [
      "Train ...\n"
     ]
    },
    {
     "name": "stderr",
     "output_type": "stream",
     "text": [
      "\n",
      "  0%|          | 0/3 [00:00<?, ?it/s]\u001B[A\n",
      " 33%|███▎      | 1/3 [01:02<02:05, 62.57s/it]\u001B[A\n",
      " 67%|██████▋   | 2/3 [01:42<00:49, 49.42s/it]\u001B[A\n",
      "100%|██████████| 3/3 [02:37<00:00, 52.54s/it]\u001B[A\n"
     ]
    },
    {
     "name": "stdout",
     "output_type": "stream",
     "text": [
      "Epoch 1/5, Training Loss: 0.9031, Validation Loss: 2.2384\n",
      "Validation top k acc: 0.8000\n",
      "              precision    recall  f1-score   support\n",
      "\n",
      "           0       0.94      0.76      0.84       245\n",
      "           1       0.33      0.71      0.45        42\n",
      "\n",
      "    accuracy                           0.75       287\n",
      "   macro avg       0.64      0.73      0.65       287\n",
      "weighted avg       0.85      0.75      0.78       287\n"
     ]
    },
    {
     "name": "stderr",
     "output_type": "stream",
     "text": [
      "Epoch 1 of 5 | Iteration:  33%|███▎      | 1/3 [04:04<08:08, 244.33s/it]/Users/lukasellinger/anaconda3/envs/thesis/lib/python3.10/site-packages/torch/amp/autocast_mode.py:250: UserWarning: User provided device_type of 'cuda', but CUDA is not available. Disabling\n",
      "  warnings.warn(\n",
      "\n",
      "  0%|          | 0/3 [00:00<?, ?it/s]\u001B[A\n",
      " 33%|███▎      | 1/3 [07:13<14:27, 433.90s/it]\u001B[A\n",
      " 67%|██████▋   | 2/3 [08:33<03:45, 225.33s/it]\u001B[A\n",
      "100%|██████████| 3/3 [09:47<00:00, 195.86s/it]\u001B[A\n",
      "Epoch 1 of 5 | Iteration:  67%|██████▋   | 2/3 [15:09<08:11, 491.87s/it]/Users/lukasellinger/anaconda3/envs/thesis/lib/python3.10/site-packages/torch/amp/autocast_mode.py:250: UserWarning: User provided device_type of 'cuda', but CUDA is not available. Disabling\n",
      "  warnings.warn(\n"
     ]
    },
    {
     "name": "stdout",
     "output_type": "stream",
     "text": [
      "Epoch 1/5, Training Loss: 1.5531, Validation Loss: nan\n",
      "Validation top k acc: 0.8000\n",
      "              precision    recall  f1-score   support\n",
      "\n",
      "           0       0.93      0.75      0.83       245\n",
      "           1       0.31      0.67      0.42        42\n",
      "\n",
      "    accuracy                           0.74       287\n",
      "   macro avg       0.62      0.71      0.63       287\n",
      "weighted avg       0.84      0.74      0.77       287\n"
     ]
    },
    {
     "name": "stderr",
     "output_type": "stream",
     "text": [
      "Epoch 1 of 5 | Iteration:  67%|██████▋   | 2/3 [21:16<10:38, 638.45s/it]\n",
      "\n",
      "KeyboardInterrupt\n",
      "\n"
     ]
    }
   ],
   "source": [
    "num_epochs = 5\n",
    "patience = 4\n",
    "gradient_accumulation = 2 #2048\n",
    "trace_train = []\n",
    "trace_val = []\n",
    "\n",
    "selection_model.zero_grad()\n",
    "use_amp = True\n",
    "scaler = GradScaler(enabled=use_amp)\n",
    "\n",
    "best_loss = np.inf\n",
    "for epoch in range(num_epochs):\n",
    "    bar_desc = \"Epoch %d of %d | Iteration\" % (epoch + 1, num_epochs)\n",
    "    train_iterator = tqdm(train_dataloader, desc=bar_desc)\n",
    "    \n",
    "    train_loss = 0\n",
    "    print('Train ...')\n",
    "    for step, batch in enumerate(train_iterator):\n",
    "        selection_model.train()\n",
    "        model_input = batch[\"model_input\"]\n",
    "\n",
    "        with autocast():\n",
    "            claim_embedding = selection_model(input_ids=model_input['claim_input_ids'],\n",
    "                                              attention_mask=model_input['claim_attention_mask'])\n",
    "            sentence_embeddings = selection_model(input_ids=model_input['input_ids'],\n",
    "                                                  attention_mask=model_input['attention_mask'],\n",
    "                                                  sentence_mask=model_input['sentence_mask'])\n",
    "\n",
    "            loss = criterion(claim_embedding, sentence_embeddings, labels=batch['labels'])\n",
    "            train_loss += loss.detach().item()\n",
    "            loss = (loss / gradient_accumulation)\n",
    "        \n",
    "        scaler.scale(loss).backward()\n",
    "\n",
    "        if (step + 1) % gradient_accumulation == 0:\n",
    "            scaler.unscale_(optimizer)\n",
    "            count = 0\n",
    "            scaler.step(optimizer)\n",
    "            scaler.update()\n",
    "            optimizer.step()\n",
    "            #scheduler.step()\n",
    "            optimizer.zero_grad()\n",
    "\n",
    "\n",
    "        trace_train.append(train_loss / len(train_dataloader))\n",
    "        # validation\n",
    "        with torch.no_grad():\n",
    "            val_loss, val_top_k_acc, report = evaluate(selection_model, dev_dataloader, criterion)\n",
    "            trace_val.append(val_loss)\n",
    "            print(f'Epoch {epoch + 1}/{num_epochs}, Training Loss: {(train_loss / len(train_dataloader)):.4f}, Validation Loss: {val_loss:.4f}')\n",
    "            print(f'Validation top k acc: {val_top_k_acc:.4f}')\n",
    "            print(report)\n",
    "\n",
    "            if val_loss < best_loss:\n",
    "                best_loss = val_loss\n",
    "                best_epoch = epoch\n",
    "                best_state = {key: value.cpu() for key, value in selection_model.state_dict().items()} \n",
    "                selection_model.save('selection_model_intermediate')  \n",
    "            else:\n",
    "                if epoch >= best_epoch + patience:\n",
    "                    break\n",
    "\n",
    "selection_model.load_state_dict(best_state)\n",
    "selection_model.save('selection_model')\n",
    "\n",
    "plt.plot(trace_train, label='train')\n",
    "plt.plot(trace_val, label='validation')\n",
    "plt.xlabel('Epochs')\n",
    "plt.ylabel('Loss')\n",
    "plt.legend()\n",
    "plt.grid(True)"
   ],
   "metadata": {
    "collapsed": false,
    "ExecuteTime": {
     "end_time": "2024-04-29T08:10:05.091492Z",
     "start_time": "2024-04-29T07:48:46.453941Z"
    }
   },
   "id": "58d66e5781f77753",
   "execution_count": 27
  },
  {
   "cell_type": "code",
   "outputs": [],
   "source": [
    "test_dataset_raw = Dataset.from_sql(dataset_query.format(set_type='test'), con=DB_URL)\n",
    "test_dataset = DefinitionDataset(test_dataset_raw, tokenizer, mode='train', model='evidence_selection')\n",
    "test_dataloader = DataLoader(test_dataset, shuffle=True, collate_fn=test_dataset.collate_fn, batch_size=10)\n",
    "\n",
    "test_loss = evaluate(model, test_dataloader)\n",
    "print(test_loss)"
   ],
   "metadata": {
    "collapsed": false
   },
   "id": "647713650395130e"
  }
 ],
 "metadata": {
  "kernelspec": {
   "display_name": "Python 3",
   "language": "python",
   "name": "python3"
  },
  "language_info": {
   "codemirror_mode": {
    "name": "ipython",
    "version": 2
   },
   "file_extension": ".py",
   "mimetype": "text/x-python",
   "name": "python",
   "nbconvert_exporter": "python",
   "pygments_lexer": "ipython2",
   "version": "2.7.6"
  }
 },
 "nbformat": 4,
 "nbformat_minor": 5
}
