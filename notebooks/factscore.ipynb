{
 "cells": [
  {
   "metadata": {
    "ExecuteTime": {
     "end_time": "2024-08-19T08:46:34.346469Z",
     "start_time": "2024-08-19T08:46:16.875711Z"
    }
   },
   "cell_type": "code",
   "source": [
    "import string\n",
    "from datasets import load_dataset\n",
    "from general_utils.reader import JSONLineReader\n",
    "import json\n",
    "from config import PROJECT_DIR\n",
    "from fetchers.wikipedia import Wikipedia\n",
    "import numpy as np\n",
    "from rank_bm25 import BM25Okapi\n",
    "from general_utils.utils import parse_model_answer\n",
    "from collections import defaultdict\n",
    "import torch\n",
    "from transformers import AutoTokenizer, AutoModelForMaskedLM\n",
    "from fetchers.openai import OpenAiFetcher\n",
    "from general_utils.atomic_facts import FactScoreFactGenerator\n",
    "from tqdm import tqdm\n",
    "from config import FACT_EVULATION_OPENAI_TOKEN\n",
    "from sentence_transformers import SentenceTransformer"
   ],
   "id": "b46cfbbe2416a996",
   "outputs": [],
   "execution_count": 1
  },
  {
   "metadata": {
    "ExecuteTime": {
     "end_time": "2024-08-19T08:46:34.424671Z",
     "start_time": "2024-08-19T08:46:34.349814Z"
    }
   },
   "cell_type": "code",
   "source": [
    "openai_fetcher = OpenAiFetcher(api_key=FACT_EVULATION_OPENAI_TOKEN)\n",
    "fh = JSONLineReader()"
   ],
   "id": "9e9005853b8f9a57",
   "outputs": [],
   "execution_count": 2
  },
  {
   "metadata": {
    "ExecuteTime": {
     "end_time": "2024-08-19T08:47:54.677017Z",
     "start_time": "2024-08-19T08:47:43.380699Z"
    }
   },
   "cell_type": "code",
   "source": [
    "dataset_name = \"lukasellinger/german_wiktionary-claim_verification-mini\"\n",
    "dataset = load_dataset(dataset_name, split='test')\n",
    "offline_wiki = 'lukasellinger/wiki_dump_2024-08-14'\n",
    "wiki = Wikipedia(use_dataset=offline_wiki)"
   ],
   "id": "aa363d5470e437cb",
   "outputs": [
    {
     "name": "stderr",
     "output_type": "stream",
     "text": [
      "/Users/lukasellinger/anaconda3/envs/thesis/lib/python3.10/site-packages/transformers/tokenization_utils_base.py:1601: FutureWarning: `clean_up_tokenization_spaces` was not set. It will be set to `True` by default. This behavior will be depracted in transformers v4.45, and will be then set to `False` by default. For more details check this issue: https://github.com/huggingface/transformers/issues/31884\n",
      "  warnings.warn(\n"
     ]
    }
   ],
   "execution_count": 7
  },
  {
   "metadata": {},
   "cell_type": "markdown",
   "source": "# Calc Atomic Facts",
   "id": "bb8843526a4a5be4"
  },
  {
   "metadata": {
    "ExecuteTime": {
     "end_time": "2024-07-16T16:09:52.949620Z",
     "start_time": "2024-07-16T16:09:51.960971Z"
    }
   },
   "cell_type": "code",
   "source": [
    "af_prompt_generator = FactScoreFactGenerator(PROJECT_DIR.joinpath('factscore/demos'), is_bio=False)\n",
    "model = \"gpt-3.5-turbo-instruct\"\n",
    "temperature = 0.7\n",
    "max_tokens = 512\n",
    "tasks = []\n",
    "\n",
    "for idx, entry in enumerate(dataset):\n",
    "    topic = entry['document_search_word']  # translation via wikipedia langlinks\n",
    "    # claim = f\"{topic}: {entry.get('english_claim', entry['claim'])}\"\n",
    "    prompt = af_prompt_generator.get_prompt_for_sentence(entry['connected_claim'])\n",
    "    task = {\n",
    "        \"custom_id\": f\"task-{idx}\",\n",
    "        \"method\": \"POST\",\n",
    "        \"url\": \"/v1/completions\",\n",
    "        \"body\": {\n",
    "            \"model\": model,\n",
    "            \"temperature\": temperature,\n",
    "            \"max_tokens\": max_tokens,\n",
    "            \"prompt\": prompt\n",
    "        }\n",
    "    }\n",
    "    tasks.append(task)"
   ],
   "id": "cd7450851dc40c1c",
   "outputs": [],
   "execution_count": 30
  },
  {
   "metadata": {
    "ExecuteTime": {
     "end_time": "2024-07-16T16:09:54.953547Z",
     "start_time": "2024-07-16T16:09:54.942784Z"
    }
   },
   "cell_type": "code",
   "source": [
    "identification = 'german_dpr_factscore_facts-gpt3_5-turbo'\n",
    "file_name = PROJECT_DIR.joinpath(f'dataset/openai/batch_{identification}.jsonl')\n",
    "\n",
    "with open(file_name, 'w') as file:\n",
    "    for obj in tasks:\n",
    "        file.write(json.dumps(obj) + '\\n')"
   ],
   "id": "b467fdc082f0577c",
   "outputs": [],
   "execution_count": 31
  },
  {
   "metadata": {
    "ExecuteTime": {
     "end_time": "2024-07-16T16:10:01.895038Z",
     "start_time": "2024-07-16T16:09:56.668008Z"
    }
   },
   "cell_type": "code",
   "source": "batch_job = openai_fetcher.create_batch_job(file_name, endpoint=\"/v1/completions\")",
   "id": "c6dffde69c6ff31d",
   "outputs": [],
   "execution_count": 32
  },
  {
   "metadata": {
    "ExecuteTime": {
     "end_time": "2024-07-16T16:10:08.374138Z",
     "start_time": "2024-07-16T16:10:08.158336Z"
    }
   },
   "cell_type": "code",
   "source": [
    "batch_job = openai_fetcher.get_batch_update(batch_job)\n",
    "print(batch_job)"
   ],
   "id": "31200f93c1d2bda2",
   "outputs": [
    {
     "name": "stdout",
     "output_type": "stream",
     "text": [
      "Batch(id='batch_Z7ddZ8ocZzTbGFj5b52vu51f', completion_window='24h', created_at=1721146201, endpoint='/v1/completions', input_file_id='file-1yX3GMHuHT6sDMXoTLI0Xetd', object='batch', status='failed', cancelled_at=None, cancelling_at=None, completed_at=None, error_file_id=None, errors=Errors(data=[BatchError(code='model_not_found', line=1, message=\"The provided model 'gpt-3.5-turbo-instruct' is not supported by the Batch API.\", param='body.model'), BatchError(code='model_not_found', line=2, message=\"The provided model 'gpt-3.5-turbo-instruct' is not supported by the Batch API.\", param='body.model'), BatchError(code='model_not_found', line=3, message=\"The provided model 'gpt-3.5-turbo-instruct' is not supported by the Batch API.\", param='body.model'), BatchError(code='model_not_found', line=4, message=\"The provided model 'gpt-3.5-turbo-instruct' is not supported by the Batch API.\", param='body.model'), BatchError(code='model_not_found', line=5, message=\"The provided model 'gpt-3.5-turbo-instruct' is not supported by the Batch API.\", param='body.model'), BatchError(code='model_not_found', line=6, message=\"The provided model 'gpt-3.5-turbo-instruct' is not supported by the Batch API.\", param='body.model'), BatchError(code='model_not_found', line=7, message=\"The provided model 'gpt-3.5-turbo-instruct' is not supported by the Batch API.\", param='body.model'), BatchError(code='model_not_found', line=8, message=\"The provided model 'gpt-3.5-turbo-instruct' is not supported by the Batch API.\", param='body.model'), BatchError(code='model_not_found', line=9, message=\"The provided model 'gpt-3.5-turbo-instruct' is not supported by the Batch API.\", param='body.model'), BatchError(code='model_not_found', line=10, message=\"The provided model 'gpt-3.5-turbo-instruct' is not supported by the Batch API.\", param='body.model'), BatchError(code='model_not_found', line=11, message=\"The provided model 'gpt-3.5-turbo-instruct' is not supported by the Batch API.\", param='body.model'), BatchError(code='model_not_found', line=12, message=\"The provided model 'gpt-3.5-turbo-instruct' is not supported by the Batch API.\", param='body.model'), BatchError(code='model_not_found', line=13, message=\"The provided model 'gpt-3.5-turbo-instruct' is not supported by the Batch API.\", param='body.model'), BatchError(code='model_not_found', line=14, message=\"The provided model 'gpt-3.5-turbo-instruct' is not supported by the Batch API.\", param='body.model'), BatchError(code='model_not_found', line=15, message=\"The provided model 'gpt-3.5-turbo-instruct' is not supported by the Batch API.\", param='body.model'), BatchError(code='model_not_found', line=16, message=\"The provided model 'gpt-3.5-turbo-instruct' is not supported by the Batch API.\", param='body.model'), BatchError(code='model_not_found', line=17, message=\"The provided model 'gpt-3.5-turbo-instruct' is not supported by the Batch API.\", param='body.model'), BatchError(code='model_not_found', line=18, message=\"The provided model 'gpt-3.5-turbo-instruct' is not supported by the Batch API.\", param='body.model'), BatchError(code='model_not_found', line=19, message=\"The provided model 'gpt-3.5-turbo-instruct' is not supported by the Batch API.\", param='body.model'), BatchError(code='model_not_found', line=20, message=\"The provided model 'gpt-3.5-turbo-instruct' is not supported by the Batch API.\", param='body.model')], object='list'), expired_at=None, expires_at=1721232601, failed_at=1721146203, finalizing_at=None, in_progress_at=None, metadata=None, output_file_id=None, request_counts=BatchRequestCounts(completed=0, failed=0, total=0))\n"
     ]
    }
   ],
   "execution_count": 34
  },
  {
   "metadata": {
    "ExecuteTime": {
     "end_time": "2024-07-16T16:08:23.411826Z",
     "start_time": "2024-07-16T16:08:23.408084Z"
    }
   },
   "cell_type": "code",
   "source": "result_file_name = openai_fetcher.get_batch_result(identification, batch_job)",
   "id": "bf3bd23b51dab01f",
   "outputs": [],
   "execution_count": 28
  },
  {
   "metadata": {
    "ExecuteTime": {
     "end_time": "2024-07-16T16:08:24.280150Z",
     "start_time": "2024-07-16T16:08:24.238167Z"
    }
   },
   "cell_type": "code",
   "source": "results = fh.read(result_file_name)",
   "id": "3a990c5546a8e40d",
   "outputs": [
    {
     "ename": "TypeError",
     "evalue": "expected str, bytes or os.PathLike object, not NoneType",
     "output_type": "error",
     "traceback": [
      "\u001B[0;31m---------------------------------------------------------------------------\u001B[0m",
      "\u001B[0;31mTypeError\u001B[0m                                 Traceback (most recent call last)",
      "Cell \u001B[0;32mIn[29], line 1\u001B[0m\n\u001B[0;32m----> 1\u001B[0m results \u001B[38;5;241m=\u001B[39m \u001B[43mfh\u001B[49m\u001B[38;5;241;43m.\u001B[39;49m\u001B[43mread\u001B[49m\u001B[43m(\u001B[49m\u001B[43mresult_file_name\u001B[49m\u001B[43m)\u001B[49m\n",
      "File \u001B[0;32m~/PycharmProjects/evaluating_factuality_word_definitions/general_utils/reader.py:13\u001B[0m, in \u001B[0;36mReader.read\u001B[0;34m(self, file)\u001B[0m\n\u001B[1;32m     11\u001B[0m \u001B[38;5;28;01mdef\u001B[39;00m \u001B[38;5;21mread\u001B[39m(\u001B[38;5;28mself\u001B[39m, file):\n\u001B[1;32m     12\u001B[0m \u001B[38;5;250m    \u001B[39m\u001B[38;5;124;03m\"\"\"Read a file.\"\"\"\u001B[39;00m\n\u001B[0;32m---> 13\u001B[0m     \u001B[38;5;28;01mwith\u001B[39;00m \u001B[38;5;28;43mopen\u001B[39;49m\u001B[43m(\u001B[49m\u001B[43mfile\u001B[49m\u001B[43m,\u001B[49m\u001B[43m \u001B[49m\u001B[38;5;124;43m\"\u001B[39;49m\u001B[38;5;124;43mr\u001B[39;49m\u001B[38;5;124;43m\"\u001B[39;49m\u001B[43m,\u001B[49m\u001B[43m \u001B[49m\u001B[43mencoding\u001B[49m\u001B[38;5;241;43m=\u001B[39;49m\u001B[38;5;28;43mself\u001B[39;49m\u001B[38;5;241;43m.\u001B[39;49m\u001B[43menc\u001B[49m\u001B[43m)\u001B[49m \u001B[38;5;28;01mas\u001B[39;00m f:\n\u001B[1;32m     14\u001B[0m         \u001B[38;5;28;01mreturn\u001B[39;00m \u001B[38;5;28mself\u001B[39m\u001B[38;5;241m.\u001B[39mprocess(f)\n",
      "\u001B[0;31mTypeError\u001B[0m: expected str, bytes or os.PathLike object, not NoneType"
     ]
    }
   ],
   "execution_count": 29
  },
  {
   "metadata": {
    "ExecuteTime": {
     "end_time": "2024-08-19T08:53:32.065559Z",
     "start_time": "2024-08-19T08:50:39.594047Z"
    }
   },
   "cell_type": "code",
   "source": [
    "af_prompt_generator = FactScoreFactGenerator(PROJECT_DIR.joinpath('factscore/demos'), is_bio=False)\n",
    "model = \"gpt-3.5-turbo-instruct\"\n",
    "temperature = 0.7\n",
    "max_tokens = 512\n",
    "\n",
    "fact_column = []\n",
    "for entry in tqdm(dataset):\n",
    "    claim = entry['connected_claim']\n",
    "    prompt = af_prompt_generator.get_prompt_for_sentence(claim)\n",
    "    response = openai_fetcher.client.completions.create(\n",
    "        model=model,\n",
    "        temperature=temperature,\n",
    "        max_tokens=max_tokens,\n",
    "        prompt=prompt,\n",
    "        seed=42\n",
    "    )\n",
    "    generated_answer = response.choices[0].text\n",
    "    facts = af_prompt_generator.get_facts_from_response(claim, generated_answer)\n",
    "    fact_column.append( '--;--'.join(facts))"
   ],
   "id": "453cbe82edbdeb97",
   "outputs": [
    {
     "name": "stderr",
     "output_type": "stream",
     "text": [
      "100%|██████████| 200/200 [02:51<00:00,  1.17it/s]\n"
     ]
    }
   ],
   "execution_count": 9
  },
  {
   "metadata": {
    "ExecuteTime": {
     "end_time": "2024-08-19T08:54:33.700596Z",
     "start_time": "2024-08-19T08:54:29.985228Z"
    }
   },
   "cell_type": "code",
   "source": [
    "from datasets import DatasetDict\n",
    "from config import HF_WRITE_TOKEN\n",
    "\n",
    "dataset = dataset.add_column('Factscore_facts', fact_column)\n",
    "data_dict = DatasetDict()\n",
    "data_dict['test'] = dataset\n",
    "dataset.push_to_hub(dataset_name, token=HF_WRITE_TOKEN)"
   ],
   "id": "7bbf9c4a1fa2d6a",
   "outputs": [
    {
     "data": {
      "text/plain": [
       "Uploading the dataset shards:   0%|          | 0/1 [00:00<?, ?it/s]"
      ],
      "application/vnd.jupyter.widget-view+json": {
       "version_major": 2,
       "version_minor": 0,
       "model_id": "b979338fb3334ca8bc0edddfeb1a0609"
      }
     },
     "metadata": {},
     "output_type": "display_data"
    },
    {
     "data": {
      "text/plain": [
       "Creating parquet from Arrow format:   0%|          | 0/1 [00:00<?, ?ba/s]"
      ],
      "application/vnd.jupyter.widget-view+json": {
       "version_major": 2,
       "version_minor": 0,
       "model_id": "14a38b3568d64d0687b0f8034f3b189f"
      }
     },
     "metadata": {},
     "output_type": "display_data"
    },
    {
     "data": {
      "text/plain": [
       "README.md:   0%|          | 0.00/752 [00:00<?, ?B/s]"
      ],
      "application/vnd.jupyter.widget-view+json": {
       "version_major": 2,
       "version_minor": 0,
       "model_id": "115bfd3f65a947d39c28d4b24dc1447e"
      }
     },
     "metadata": {},
     "output_type": "display_data"
    },
    {
     "data": {
      "text/plain": [
       "CommitInfo(commit_url='https://huggingface.co/datasets/lukasellinger/german_wiktionary-claim_verification-mini/commit/81dde5817f7fbbbbe56620c3bd1e768a7809207a', commit_message='Upload dataset', commit_description='', oid='81dde5817f7fbbbbe56620c3bd1e768a7809207a', pr_url=None, pr_revision=None, pr_num=None)"
      ]
     },
     "execution_count": 12,
     "metadata": {},
     "output_type": "execute_result"
    }
   ],
   "execution_count": 12
  },
  {
   "metadata": {
    "ExecuteTime": {
     "end_time": "2024-08-19T08:54:39.779423Z",
     "start_time": "2024-08-19T08:54:39.767913Z"
    }
   },
   "cell_type": "code",
   "source": "fact_column",
   "id": "bbeaea6b3badf58b",
   "outputs": [
    {
     "data": {
      "text/plain": [
       "['Reanalysis is a term.--;--Reanalysis means empirical research.--;--Empirical research involves re-evaluating a study.--;--Reanalysis uses original data for its research.',\n",
       " 'A gold prospector is a person.--;--A gold prospector digs.--;--A gold prospector digs for gold.',\n",
       " 'A war painting represents a painting.--;--It can be on the face or the whole body.--;--It is carried by indigenous peoples.--;--It is used before or during wartime conflicts.',\n",
       " 'Endophytic medicine is a type of medicine.--;--It is related to biology.--;--It involves growing inward.',\n",
       " \"Walking is a means of transportation.--;--Walking involves using one's feet.--;--Walking is a form of exercise.\",\n",
       " 'Hearing disruption is a medical term.--;--Hearing disruption can occur suddenly.--;--Hearing disruption can have no identifiable cause (idiopathic).--;--Hearing disruption often affects only one ear.--;--Hearing disruption can cause a sensation of sound disorder.',\n",
       " 'Polynesia is a series of archipelagos in the Pacific.--;--Polynesia extends in an approximate triangle from New Zealand in the southwest.--;--Polynesia extends northeast towards Hawaii.--;--Polynesia also extends towards Easter Island in the east.',\n",
       " \"The Devil's wife is a colloquial term.--;--The Devil's wife represents a girl or woman.--;--The Devil's wife has qualities that were originally considered devilish.--;--The Devil's wife is seductive.--;--The Devil's wife is unconventional.--;--The Devil's wife is cheeky.--;--The Devil's wife is sexually active.--;--The Devil's wife is unpredictable.--;--The Devil's wife is treacherous.--;--The Devil's wife is ruthless.--;--The Devil's wife's temper is admired.--;--The Devil's wife's courage is admired.\",\n",
       " 'Maleness is a term.--;--Maleness refers to the collective name for the male sex organs.',\n",
       " 'Streamlines signifies modifying.--;--The modification results in little friction loss.--;--The modification results in a more cost-effective and faster outcome.--;--The modification can be applied to procedures in processes.--;--The modification can be applied to transitions from one process to the next.',\n",
       " 'Exponential is a term used in mathematics.--;--Exponential signifies an increase.--;--The increase is based on multiplying.--;--The increase is based on a value per unit of time.--;--The increase is not based on addition.--;--The increase involves multiplying numbers in a sequence (2, 4, 8, 16...).',\n",
       " 'An antenna cable is a technology.--;--An antenna cable establishes a connection between an antenna and a transmitter.--;--An antenna cable establishes a connection between an antenna and a receiver.',\n",
       " 'The verb stem signifies something.--;--The verb stem signifies the trunk.--;--The trunk is a part of a verb.',\n",
       " 'Duzen is a form of address.--;--It is used to address a person.--;--The person is addressed with an address pronoun.',\n",
       " 'Plastic apparatus construction refers to technology.--;--Plastic apparatus construction involves design.--;--Plastic apparatus construction involves production.--;--Plastic apparatus construction deals with technical structures.--;--Plastic apparatus construction involves structures made of plastics.--;--Plastic apparatus construction involves structures with higher complexity.',\n",
       " 'Wrapping denotes extraction.--;--Fumes are produced during cooking.',\n",
       " 'Fruit juice is juice.--;--Fruit juice is squeezed.--;--Fruit juice comes from fruit.',\n",
       " 'Virogenic is a term used in medicine.--;--It refers to something being caused by viruses.',\n",
       " 'Fallible means being subject to error.--;--Fallible signifies something.--;--Something can be subject to error.',\n",
       " 'Astronomy is a subject.--;--Two stars have a position.--;--The position is above the same longitude of the earth.',\n",
       " 'A Boot Drive is a computer science storage device.--;--A computer starts from the operating system on the Boot Drive.',\n",
       " 'Responsibility signifies something.--;--Responsibility signifies being liable.--;--Someone can be responsible for something.--;--Someone can be responsible for someone.',\n",
       " 'Taboo means not eligible.',\n",
       " 'Remembrance of payment is a gesture made by a creditor.--;--This gesture is a clear invitation to a debtor.--;--The invitation is for the debtor to provide a service that is due.',\n",
       " 'An Imam represents someone who recites a prayer.--;--An Imam represents someone who speaks parts of the prayer alternately with the church.--;--An Imam represents someone who guides the prayer in the mosque.--;--The prayer being recited is of the church.--;--The prayer being recited is also spoken in parts alternately with the church.--;--The prayer being guided is in the mosque.',\n",
       " 'A checklist is a list.--;--A checklist is used for checking.--;--A checklist lists everything.--;--Everything must be checked on a checklist.',\n",
       " 'Gassi is a colloquial term.--;--Gassi means going outdoors.--;--Gassi is for emptying the intestine.--;--Gassi is for emptying the bladder.',\n",
       " 'Achievable means pursuing a wish or goal.--;--A wish or goal can be achieved.--;--This sentence is an example of achievable.',\n",
       " 'Bruck an der Leitha is a city.--;--Bruck an der Leitha is in Austria.--;--Bruck an der Leitha is in Lower Austria.',\n",
       " 'Declination is a term used in astronomy.--;--Declination signifies angular distance.--;--Declination measures the distance of an object from the celestial equator.',\n",
       " '\"Kafkaesk\" is a word.--;--\"Kafkaesk\" is used to describe situations.--;--\"Kafkaesk\" describes situations that are absurd, puzzling, and threatening.--;--The person experiencing a feeling of insecurity.--;--The person is feeling \"delivered.\"--;--\"Kafkaesk\" is usually used in connection with an administration.--;--The administration has opaque rules.--;--The rules seem to make no sense.',\n",
       " 'A newspaper is a printed news medium.--;--A newspaper is published at short and regular intervals.--;--A newspaper mainly publishes current news.',\n",
       " 'A District heating network is a technology.--;--All lines are necessary for the supply of district heating.--;--Installations are necessary for the supply of district heating.--;--The supply of district heating requires lines and installations.',\n",
       " 'A Girl Swarm is a term.--;--It refers to a boy.--;--The boy is welcome.--;--The boy is welcome with all girls.',\n",
       " 'Intermediate gastronomy refers to food.--;--Intermediate gastronomy is served or included between two courses or main courses.',\n",
       " 'Cat fur is being extracted.--;--Cat fur is being extracted from a cat.',\n",
       " 'It is correct.--;--It conforms to the dominant rules.--;--It is humanly fair.--;--It is appropriate to the situation.',\n",
       " 'Cheese is a solid.--;--Cheese is a milk product.--;--Cheese represents a solid milk product.',\n",
       " 'A spray is a form of application.--;--A spray consists of fine particles mixed with air or gas.--;--A spray is applied onto a surface.--;--A spray can be applied using a device, such as a spray bottle or spray.--;--A spray can also be used in agriculture to apply poison as plant protection.',\n",
       " 'The Chancellor of the Reich signifies politics.--;--It is a title.--;--It is a head of government.--;--It is used in different systems of state.--;--It differs at different times.',\n",
       " 'Paedo is a word formation element.--;--Paedo is a preemptive word formation element.--;--Paedo is from foreign words from the Greek.--;--Paedo has the meaning \"child\".',\n",
       " 'Rolled beams are used in Austria.--;--Rolled beams are used as massive retractable blinds.--;--Rolled beams are used on the outside of windows or doors of a shop.',\n",
       " 'A Python snake is a member of a subordination of footless animals.--;--A Python snake is from the family of the Pythons.--;--A Python snake lives in Africa, South Asia, and Northern Australia.',\n",
       " 'Ungerman is a word.--;--Ungerman means outdated.--;--Ungerman is a language.--;--Ungerman does not follow the rules of the German language.',\n",
       " 'Atlanta is a city.--;--Atlanta is the capital of the State of Georgia.--;--Georgia is a state.',\n",
       " 'A penalty represents a right.--;--The right is a property of an act or omission.--;--An act or omission can be punishable.--;--Punishment is given by the law.',\n",
       " 'Three jumps is a symbol for a sports discipline.--;--The sports discipline involves overcoming a distance as far as possible.--;--The distance is overcome with three jumps.',\n",
       " 'Haitians are people.--;--Haitians live in Haiti.--;--Haitians were born in Haiti.--;--Haitians have citizenship of Haiti.',\n",
       " 'Gaunern is a word.--;--Gaunern signifies something.--;--Gaunern means committing criminal offences.--;--Gaunern means committing frauds.--;--Gaunern means committing property offences.--;--Gaunern is sometimes spelled as \"gauneries.\".',\n",
       " 'Stop by means to come by.--;--Stop by means to visit someone or something.--;--In Austria, stop by is a casual term.',\n",
       " 'A fuel oil tank is a tank.--;--A fuel oil tank is used for storage.--;--A fuel oil tank stores fuel oil.',\n",
       " 'Interest rate manipulation is illegal.--;--Interest rate manipulation involves influencing interest rates.--;--The goal of interest rate manipulation is to achieve financial benefits.--;--The Libor scandal involved banks providing false information.--;--The false information was given to the Reporting Office.--;--The false information was given in order to influence interest rate formation.',\n",
       " 'Capacitive biology is a field.--;--Capacitive biology is related to medicine.--;--Capacitive biology is rare.--;--Capacitive biology involves performing capacitation.--;--Capacitation is a process.--;--Capacitation is performed by male sperm.--;--Capacitation occurs just before fertilization.--;--Capacitation occurs in the female body.',\n",
       " 'Adventure holidays represent a journey.--;--Adventure holidays lead to adrenaline.--;--Adventure holidays involve sporting activities.--;--Adventure holidays are different from everyday way of life.',\n",
       " 'The control tower represents something.--;--The control tower represents the air traffic control building.--;--The air traffic control building is located at an airport.',\n",
       " 'Rekeln is colloquial.--;--Rekeln is reflexive.--;--Rekeln involves relaxing the body and limbs.--;--Rekeln involves stretching to and fro.',\n",
       " 'A cannabis plantation is an area.--;--A cannabis plantation is for the cannabis plant.--;--A cannabis plant is a type of plant.',\n",
       " 'Dachtel is a term used in eastern middle German.--;--Dachtel is a term used in southern German.--;--Dachtel is a term used in Austrian.--;--Dachtel can colloquially mean a slight blow to the head.',\n",
       " \"The NBA represents North America's professional basketball league.--;--The NBA is the strongest basketball league in the world.--;--The NBA is the most popular basketball league in the world.\",\n",
       " 'Prevent means to stop an action.--;--Prevent means to prevent an action.',\n",
       " 'A Latte is a colloquial term.--;--A Latte denotes an erect penis.--;--A Latte can refer to a large erect penis.',\n",
       " 'Matte is a term.--;--Matte is used to describe something with low color intensity.--;--Matte is not a bright or shiny color.',\n",
       " 'Soldering is a representation.--;--Soldering is doing something on something else.',\n",
       " 'Critics represent someone who criticizes.--;--Critics represent someone who blames.--;--Critics represent someone who criticizes.',\n",
       " 'A Bag is used for packaging.--;--Bags can be made of plastic or paper.--;--Bags are used as containers.--;--This fact is specific to Germany.',\n",
       " 'Subject-specific represents a characteristic.--;--The characteristic is of a particular subject area.--;--The characteristic is characteristic of a particular subject area.--;--The competence is of a specialised subject area.--;--The competence is the competence of a specialised subject area.',\n",
       " 'The arm muscle is part of anatomy.--;--The arm muscle is a muscle.--;--The arm muscle belongs to the arm.',\n",
       " 'January is a month.--;--January is the first month in the calendar year.--;--January has 31 days.',\n",
       " 'Rich is a place name.--;--Rich can refer to an area.--;--Rich can refer to an empire.',\n",
       " 'A request is an urgent request.--;--A request is a request to do something.--;--A request signifies something.',\n",
       " 'Federal people are mostly singular.--;--Federal people are people of a federal state.--;--Federal people are in particular in Austria legally.--;--The totality of citizens are entitled to vote.',\n",
       " 'A Wehrflüchtling is a refugee.--;--A Wehrflüchtling left his home country.--;--A Wehrflüchtling left his home country because he had to serve there.',\n",
       " 'Selm is a city.--;--Selm is located in North Rhine-Westphalia, Germany.',\n",
       " 'A fake battle symbolizes a figurative.--;--A fake battle symbolizes a fake discussion.--;--A fake battle symbolizes a faked argument.--;--The purpose of a fake battle is to attract attention.--;--The purpose of a fake battle is to distract from a topic.',\n",
       " 'A buttondown collar is a type of collar.--;--The tips of a buttondown collar are buttoned.--;--A buttondown collar is found on a shirt.',\n",
       " 'There is a risk of icing.',\n",
       " 'Return on circulation signifies the economy.--;--It is an indicator.--;--It indicates the average return on all domestic bonds.--;--The bonds have already been issued.--;--They are of first credit quality.--;--They are mainly government bonds.',\n",
       " 'Lyon is a city.--;--Lyon is represented by Lyoner.--;--Lyoner comes from Lyon.--;--Lyoner is in the manner of this place.--;--Lyoner is concerning Lyon.--;--Lyoner belongs to Lyon.',\n",
       " 'Derbe is a word.--;--Derbe is a youth language.--;--Derbe means \"very good\".--;--Derbe means \"not bad\".',\n",
       " 'Uhudler is a type of wine.--;--Uhudler is a direct bearer wine.--;--Uhudler is from the South Burgenland region.--;--Uhudler was developed by the reblues.--;--European vines were destroyed around 1900.--;--American vines were used to refine Uhudler.--;--The American vines were reblue resistant.',\n",
       " 'A corner table is a type of table.--;--A corner table is located in the corner of a room.--;--A corner table can be found in places such as restaurants or apartments.',\n",
       " 'King Transfer signifies a particularly good player.--;--The player was sold from one club to another.',\n",
       " 'The Ivory Tower is a symbol.--;--The Ivory Tower is a figurative place.--;--The Ivory Tower represents seclusion.--;--The Ivory Tower represents untouchedness from the world.--;--The term \"Ivory Tower\" can be derogatory.--;--The term \"Ivory Tower\" is often used in reference to academics.--;--Academics can be criticized for losing touch with practical matters.',\n",
       " 'Substance signifies.--;--Substance signifies the material basis.--;--The material basis is one person.--;--The material basis is one farm.',\n",
       " 'An Industrial dispute is an organized dispute.--;--An Industrial dispute is between workers and employers.--;--An Industrial dispute involves both sides representing different positions.--;--An Industrial dispute involves both sides expressing their demands.--;--Examples of expressing demands in an Industrial dispute include strikes, demonstrations, and lockouts.',\n",
       " 'Form represents the philosophy.--;--The final state is adopted by the changed.',\n",
       " 'It is a natural cloudy beverage.--;--It contains natural suspended substances.--;--It is opaque.',\n",
       " 'A classified ad is a written offer or request.--;--The offer or request is short.--;--The offer or request is regarding trade.--;--The offer or request is regarding service.--;--The offer or request is regarding a job.--;--The offer or request is regarding a contact search.--;--The offer or request can be found in print or online media.',\n",
       " 'Drunkness is a condition.--;--It is the result of excessive consumption of alcoholic beverages.',\n",
       " 'Concrete buildings are made of concrete.--;--Concrete buildings are a representation of construction.',\n",
       " 'Firefighters are trained.--;--Firefighters take anti-hazard measures.--;--Firefighters respond to fires.--;--Firefighters work at the workplace.',\n",
       " 'A performance can be brilliant.--;--Brilliant performances stand out.',\n",
       " 'Correction is a colloquial evaluation.--;--Correction is used for written exams.--;--Correction is used by teachers.',\n",
       " 'Northwest Geography is a term.--;--It is used in toponyms.--;--It denotes compositions.--;--It denotes compounds.',\n",
       " 'The ECG is an abbreviation.--;--The ECG stands for Evangelical Church Songbook.',\n",
       " 'St Lucia is an island.--;--St Lucia is a state.--;--St Lucia is located in the Caribbean.',\n",
       " 'Preform involves defining a precise choice of words.--;--Preform involves defining the words in advance.--;--Preform involves putting a draft into words.',\n",
       " 'One hundredth is an order number.--;--One hundredth comes after the ninety-ninth.--;--In one order, one hundred is in place.',\n",
       " 'Accuracy means being precise.--;--Precision is a property.--;--Something can perform its task with great accuracy.--;--There are no deviations in accuracy.',\n",
       " 'Freudians are followers of Sigmund Freud.--;--Sigmund Freud is a doctrine.',\n",
       " 'Paedo denotes empirical research.--;--The research is a re-evaluation.--;--The study is based on original data.',\n",
       " 'A paedo is a person.--;--A paedo digs.--;--The purpose of digging is to find gold.',\n",
       " 'Duzen is a term.--;--Duzen signifies painting.--;--Duzen can be on the face or on the whole body.--;--Duzen is carried out by indigenous peoples.--;--Duzen is carried out before or during warfare.',\n",
       " 'An invitation signifies medicine.--;--An invitation signifies biology.--;--An invitation signifies growing inward.',\n",
       " 'ButtondownCrag signifies something.--;--ButtondownCrag signifies moving.--;--Moving is done on foot.',\n",
       " 'Endophytic medicine is a type of medicine.--;--Endophytic medicine is used for a certain disorder.--;--The disorder is characterized by a one-sided sound sensation.--;--The cause of the disorder is unknown (idiopathic).',\n",
       " 'The Pacific archipelagos form a triangle.--;--The triangle extends from New Zealand in the southwest to Hawaii and Easter Island in the northeast.--;--The archipelagos are in the Pacific Ocean.--;--The archipelagos are known as the \"Working battle.\".',\n",
       " \"Polynesia is a colloquial term.--;--Polynesia represents a girl or woman.--;--The girl or woman is considered devilish.--;--The girl or woman is seductive.--;--The girl or woman is unconventional.--;--The girl or woman is cheeky.--;--The girl or woman is sexually active.--;--The girl or woman is unpredictable.--;--The girl or woman is treacherous.--;--The girl or woman is ruthless.--;--The girl or woman's temper is admired.--;--The girl or woman's courage is admired.\",\n",
       " 'Femininity is a term.--;--It refers to the collective term for the sex organs of the man.--;--The sex organs of a man are included in the term.',\n",
       " 'Return on circulation modifies.--;--Return on circulation reduces friction loss.--;--The result becomes more cost-effective.--;--The result becomes faster.--;--The example given is with regard to procedures in processes.--;--The example given is with regard to transitions from one process to the next.',\n",
       " 'Haitians represent mathematics.--;--The value of Haitians increases per unit of time.--;--The value of Haitians increases by multiplying, not adding.--;--The sequence of numbers for Haitians increases by doubling (2, 4, 8, 16...), not by adding (2, 4, 6, 8...).',\n",
       " 'The Penalty denotes technology.--;--The Penalty is a cable.--;--The cable establishes a connection.--;--The connection is between an antenna and a transmitter or receiver.--;--An antenna is involved.--;--A transmitter or receiver is involved.',\n",
       " 'Brilliance signifies something.--;--Brilliance signifies a trunk.--;--Brilliance signifies the trunk of a verb.',\n",
       " 'A corner table denotes linguistics.--;--A corner table is used for a certain form of address.--;--In this form of address, the person is addressed with the address pronoun.',\n",
       " 'Selm represents technology.--;--Selm is involved in designing technical structures.--;--Selm manufactures technical structures.--;--The structures are made of plastics.--;--The structures have higher complexity.',\n",
       " 'Switching off signifies detachment.--;--Fumes are produced during cooking.',\n",
       " 'Taboo is a term.--;--Taboo refers to juice.--;--The juice is squeezed from fruit.',\n",
       " 'Ivory Tower signifies medicine.--;--Ivory Tower is caused by viruses.',\n",
       " 'Infallible signifies exalted.--;--Fallible is subject to error.',\n",
       " 'Streamlines Astronomy signifies the position of two stars.--;--The position is above the same longitude.--;--The position is above the longitude of the Earth.',\n",
       " 'Dachtel is a computer science storage device.--;--Dachtel is used to start the operating system.',\n",
       " 'Accuracy signifies responsibility.--;--Accuracy signifies being liable.--;--Someone can be responsible for something.--;--Someone can be responsible for someone else.',\n",
       " 'Hearing loss is impossible.',\n",
       " 'A Foot march is a type of invitation.--;--A creditor invites a debtor.--;--The invitation is for the debtor to provide a service.--;--The service is due.',\n",
       " 'A Checklist denotes someone.--;--Someone recites a prayer.--;--The prayer is recited in the church.--;--Someone speaks parts of the prayer alternately with the church.--;--Someone conducts the ritual prayer in the mosque.',\n",
       " 'A cannabis plantation is a list.--;--A cannabis plantation signifies checking.--;--A cannabis plantation signifies a checklist.--;--A cannabis plantation signifies listing things.--;--A cannabis plantation signifies checking everything.',\n",
       " 'Soldering signifies emptying the intestine and bladder.--;--Soldering is colloquial.--;--Soldering is done outdoors.',\n",
       " 'Dense can be achieved.--;--Pursuing a wish or goal can lead to achievement.--;--Pursuing a wish or goal is like achieving something.',\n",
       " 'Reachable is an Austrian city.--;--Reachable is located in Lower Austria.',\n",
       " 'Improvement signifies the angular distance of an object.--;--Improvement signifies the angular distance of an object from the celestial equator.--;--Improvement is used in astronomy.',\n",
       " 'Gaunern is a behavior.--;--Gaunern is used in absurd, puzzling, and threatening situations.--;--The person experiencing Gaunern feels insecure.--;--The person experiencing Gaunern feels delivered.--;--Gaunern is usually associated with an administration with opaque rules.--;--The opaque rules seem to make no sense.',\n",
       " 'ButtondownKragen represents a printed news medium.--;--ButtondownKragen is published at short and regular intervals.--;--ButtondownKragen mainly publishes current news.',\n",
       " 'Reichskanzler denotes technology.--;--All lines necessary for the supply of district heating are included in Reichskanzler.--;--All installations necessary for the supply of district heating are included in Reichskanzler.',\n",
       " 'Classifieds is a boy.--;--Classifieds is welcome with all girls.--;--All girls welcome Classifieds.',\n",
       " 'Hörfall signifies gastronomy.--;--Gastronomy involves food.--;--Food is served between two courses.--;--Food is included between two courses.--;--Food is served between main courses.--;--Food is included between main courses.',\n",
       " 'Gold represents the fur of a cat.--;--Gold is extracted.--;--The fur of a cat is extracted.',\n",
       " 'Something can be wrong.--;--Something can be changed to conform to valid rules.--;--Something can be humanly fair.--;--Something can be appropriate to the situation.',\n",
       " \"A Devil's wife is a symbol.--;--A Devil's wife symbolizes a solid milk product.\",\n",
       " 'Prevent signifies a process.--;--The process involves applying particles mixed with air or gas.--;--The particles are applied on a surface.--;--A device, such as a spray bottle or spray, is used for the application.--;--This process is also used in agriculture.--;--In agriculture, the particles may include poison.--;--The purpose of this process is to protect plants.',\n",
       " 'Freudian politics is a title.--;--It signifies the title of the head of government.--;--It has been used at different times.--;--It has been used in different systems of state.',\n",
       " 'Concrete building is a preemptive word formation element.--;--It is in foreign words from the Greek.--;--It means child.',\n",
       " 'A newspaper represents Austria.--;--Blinds are retractable.--;--Blinds can be on the outside of windows or doors.--;--Blinds can be on a shop.',\n",
       " 'A Boot Drive represents Zoology.--;--A Boot Drive is a representation of members of a subordination of footless animals.--;--The footless animals are serpentes.--;--The serpentes are from the Pythons family.--;--The Pythons family lives in Africa, South Asia, and Northern Australia.',\n",
       " 'ECG is an outdated term.--;--ECG does not follow German language rules.',\n",
       " 'Wrasenfang is a capital.--;--Wrasenfang is located in the State of Georgia.',\n",
       " 'A reward signifies the right.--;--The right is the property of an act or omission.--;--An act or omission can be punishable.--;--Punishment by the law is possible.',\n",
       " 'Uhudler represents a sports discipline.--;--The sports discipline is jumping.--;--In jumping, a distance must be overcome with three jumps.--;--The distance must be as far as possible.',\n",
       " 'An industrial dispute signifies something.--;--An industrial dispute signifies a person.--;--This person lives in Haiti.--;--This person was born in Haiti.--;--This person has citizenship of Haiti.',\n",
       " 'Concrete buildings signify criminal offences.--;--Concrete buildings signify low criminal offences.--;--Concrete buildings signify frauds.--;--Concrete buildings signify property offences.--;--Concrete buildings signify gauneries.',\n",
       " 'Streamlines come by.--;--Streamlines visit someone or something.--;--This phrase is used in Austria.',\n",
       " 'Fallible denotes something.--;--Fallible denotes a tank.--;--Fallible denotes a tank for storage.--;--Fallible denotes a tank for storage of fuel oil.',\n",
       " 'Illegal influence was exerted on interest rates.--;--The purpose was to achieve financial benefits.--;--The influence was connected to the Libor scandal.--;--Banks gave false information to the Reporting Office.--;--The false information was used to influence interest rate formation.',\n",
       " 'Incapacity denotes biology and medicine.--;--Incapacity is rare.--;--Incapacity is the process of performing capacitation.--;--Capacitation is the process of maturing as a male sperm.--;--Capacitation occurs just before fertilization.--;--Fertilization occurs in the female body.',\n",
       " 'St Lucia is a place.--;--St Lucia is a journey.--;--The journey leads to adrenaline.--;--There are sporting activities in St Lucia.--;--St Lucia is different from everyday life.',\n",
       " 'A conjunction is a type of signifier.--;--A conjunction is used for air traffic monitoring.--;--A conjunction is located at an airport.',\n",
       " 'Federal people are colloquially known as reflexive.--;--Federal people relax their body and limbs.--;--Federal people stretch to and fro.',\n",
       " 'Gaunern is a word.--;--Gaunern signifies something.--;--Gaunern signifies an area.--;--Gaunern signifies an area for the cannabis plant.--;--The cannabis plant is a type of plant.',\n",
       " 'Gassi is a term used in East Central German.--;--Gassi is a term used in South German.--;--Gassi is a term used in Austrian.--;--Gassi is used colloquially.--;--Gassi can mean a slight blow to the head.',\n",
       " 'Bruck an der Leitha represents the North American basketball professional league.--;--The North American basketball professional league is the strongest basketball league in the world.--;--The North American basketball professional league is the most popular basketball league in the world.',\n",
       " 'Recognize means to stop.--;--Recognize means to prevent an action.',\n",
       " 'Penalty is a colloquial term.--;--Penalty is used to refer to a large erect penis.',\n",
       " 'Plastic equipment is being constructed.--;--The construction of plastic equipment denotes low colour intensity.',\n",
       " 'Polynesia is a place or region.--;--Polynesia is known for some soldering on something.',\n",
       " 'Fallible signifies a person who criticizes.--;--Fallible signifies a person who blames.--;--Fallible signifies a person who criticizes.',\n",
       " 'Packaging is used in Germany.--;--Packaging can be made of plastic.--;--Packaging can be made of paper.--;--Packaging is used for transport.--;--Packaging can be containers.',\n",
       " 'Form is a characteristic.--;--Form is a characteristic of a particular subject area.--;--Form is a characteristic of something.--;--Form is a characteristic of a specialist discipline.--;--Form is related to competence.--;--Form is related to a specialist discipline.--;--Competence is related to a specialist discipline.--;--Competence is related to a particular subject area.--;--Competence is related to something.',\n",
       " 'Stop by signifies anatomy.--;--A muscle belongs to the arm.',\n",
       " 'Fruit juice signifies something.--;--Fruit juice signifies the first month.--;--Fruit juice signifies a 31-day month.--;--Fruit juice signifies the calendar year.',\n",
       " 'Hörsturz is a place name.--;--Hörsturz represents an area.--;--Hörsturz represents an empire.',\n",
       " 'Virogen is a word.--;--Virogen means an urgent request.--;--Virogen is used to signify something.',\n",
       " 'Fruit juice is mostly singular.--;--People of a federal state 1a are in Austria.--;--People of a federal state 1a are legally entitled to vote.--;--People of a federal state 1a make up the totality of citizens entitled to vote.--;--Austria is a federal state 1a.',\n",
       " 'A checklist signifies.--;--A refugee left his home country.--;--The refugee left because he had to perform military service there.',\n",
       " 'The Arm muscle denotes a city.--;--The city is located in Nordrhein-Westfalen, Germany.',\n",
       " 'A real discussion symbolizes a genuine exchange of ideas.--;--A fake argument represents a faked discussion.--;--A fake argument can be used to attract attention.--;--A fake argument can be used to distract from a topic.',\n",
       " 'A Latte represents a collar.--;--The collar is part of a shirt.--;--The laces of the collar are buttoned.',\n",
       " 'Dachtel is a term.--;--Dachtel denotes something.--;--Dachtel denotes the danger of icing.',\n",
       " 'Dachtel is an indicator.--;--Dachtel denotes the economy.--;--The indicator indicates the average return on all domestic bonds.--;--The domestic bonds have already been issued.--;--The domestic bonds have a first credit quality.--;--The first credit quality is mainly government bonds.',\n",
       " '\"Correct\" signifies something.--;--\"Correct\" refers to the city of Lyon.--;--Lyon is a place.--;--Lyon is a city.--;--Lyon is a place that \"correct\" can come from.--;--Lyon is a place that \"correct\" can refer to.--;--Lyon is a place that \"correct\" can belong to.',\n",
       " 'A corner table symbolizes something.--;--A corner table symbolizes youth language.--;--Youth language is very good.--;--Youth language is not bad.',\n",
       " 'Imam wine-growing signifies direct-carrying wine from the South Burgenland.--;--Imam wine-growing was developed by the reblues.--;--European vines were destroyed around 1900.--;--American reblue-resistant vines were used for refinement.',\n",
       " 'A ButtondownKragen is a type of table.--;--It is located in the corner of a room.--;--It can be found in places such as restaurants or apartments.',\n",
       " 'Virogen is a term.--;--Virogen signifies a good player.--;--The good player was sold from one club to another.',\n",
       " 'St Lucia is a figurative representation.--;--St Lucia represents a place of seclusion.--;--St Lucia represents a place of untouchedness from the world.--;--The term is often used derogatorily towards academics.--;--The term is used to describe academics who have lost all reference to practice.',\n",
       " 'Hearing loss can signify a material basis.--;--It can signify a material basis for one person.--;--It can signify a material basis for one farm.',\n",
       " 'Capacify signifies an organized dispute.--;--The dispute is between workers and employers.--;--Both sides represent different positions.--;--Both sides express their demands.--;--The demands can be expressed through strikes, demonstrations, or lockouts.',\n",
       " 'Reanalysis signifies a philosophy.--;--The philosophy is Final State Accepted by Change.',\n",
       " 'Adventure holidays represent beverages.--;--The beverages contain natural suspended substances.--;--The beverages are opaque.',\n",
       " 'A roll bar is used for offers or requests in print or online media.--;--A roll bar is short.--;--A roll bar can be for trade, service, job, or contact searches.',\n",
       " 'Sobriety is a state.--;--It comes after excessive consumption of alcoholic beverages.--;--Sobriety signifies the state after excessive consumption of alcoholic beverages.',\n",
       " 'The Chancellor of the Reich is a symbol.--;--The Chancellor of the Reich represents the building of concrete.',\n",
       " 'An endophytic trained person signifies someone taking countermeasures.--;--The countermeasures are specifically for a fire at the workplace.',\n",
       " 'A conjunction is a word.--;--A conjunction signifies.--;--A conjunction stands out.--;--A conjunction has a performance.',\n",
       " 'Gaunern is a colloquial term.--;--Gaunern is used to evaluate a written examination.--;--Gaunern is typically used by a teacher.',\n",
       " 'Fruit juice represents geography.--;--Fruit juice is a determining word in toponyms.--;--Toponyms are compositions.--;--Toponyms are compounds.',\n",
       " 'The Preform represents something.--;--The Preform represents the Evangelical Church Songbook.',\n",
       " 'Gaunern is a word.--;--Gaunern signifies the island state.--;--The island state is located in the Caribbean.',\n",
       " 'Specific refers to a precise choice of words.--;--Specific words are chosen in advance.--;--A draft is put into words.',\n",
       " 'Capacitance denotes the order number.--;--The order number comes after the ninety-ninth.--;--Capacitance is one order in place one hundred.',\n",
       " 'Inaccuracy signifies being precise as precision.--;--Being precise is a property.--;--Something performs its task.--;--Something performs its task with great accuracy.--;--There are no deviations.',\n",
       " \"King's transfer represents a group of people.--;--The group follows the teachings of Sigmund Freud.\"]"
      ]
     },
     "execution_count": 13,
     "metadata": {},
     "output_type": "execute_result"
    }
   ],
   "execution_count": 13
  },
  {
   "metadata": {},
   "cell_type": "markdown",
   "source": "# Calc OpenAi Prediction",
   "id": "e17a045ecf3d4384"
  },
  {
   "metadata": {
    "ExecuteTime": {
     "end_time": "2024-07-17T15:22:58.872935Z",
     "start_time": "2024-07-17T15:22:58.850937Z"
    }
   },
   "cell_type": "code",
   "source": [
    "def get_bm25_passages_indices(query, passages, k):\n",
    "    assert len(passages) > 0, f'passages are empty for {query}'\n",
    "    bm25 = BM25Okapi([psg.replace(\"<s>\", \"\").replace(\"</s>\", \"\").split() for psg in passages])\n",
    "    scores = bm25.get_scores(query.split())\n",
    "    return np.argsort(-scores)[:k]\n",
    "\n",
    "\n",
    "def get_gtr_passages_indices(retrieval_query, passages, k, encoder, batch_size=8):\n",
    "    inputs = [psg[\"title\"] + \" \" + psg[\"text\"].replace(\"<s>\", \"\").replace(\"</s>\", \"\") for\n",
    "                  psg in passages]\n",
    "    passage_vectors = encoder.encode(inputs, batch_size=batch_size,\n",
    "                                    device=encoder.device)\n",
    "    query_vectors = encoder.encode([retrieval_query],\n",
    "                                    batch_size=batch_size,\n",
    "                                    device=encoder.device)[0]\n",
    "    scores = np.inner(query_vectors, passage_vectors)\n",
    "    return np.argsort(-scores)[:k]\n",
    "\n",
    "\n",
    "def get_passages(topic, fallback_topic, question, search_word, k=5, only_intro=True, word_lang='de', retrieval='bm25', encoder=None):\n",
    "    assert retrieval in ('bm25', 'gtr'), 'retrieval method not supported'\n",
    "    texts, wiki_word = wiki.get_pages(topic, fallback_topic, word_lang, only_intro=only_intro, split_level='passage', search_word=search_word)\n",
    "    if texts:\n",
    "        passages = {'word': wiki_word, 'passages': [{'title': str(text[0]).split('(wik')[0], 'text': text[1]} for text in texts]}\n",
    "        if retrieval == 'bm25':\n",
    "            ranked_indices = get_bm25_passages_indices(question, [passage.get('text') for passage in passages.get('passages')], k)     \n",
    "        else:\n",
    "            ranked_indices = get_gtr_passages_indices(question, passages.get('passages'), k, encoder)\n",
    "        return {'word': wiki_word, 'passages': [passages.get('passages')[i] for i in ranked_indices]}\n",
    "    else:\n",
    "        return {}\n",
    "\n",
    "\n",
    "def build_prompts(topic, fallback_topic, search_word, atomic_facts, retrieval='gtr', encoder=None):\n",
    "    prompts = []\n",
    "    not_in_context = 0\n",
    "    for atom in atomic_facts:\n",
    "        atom = atom.strip()\n",
    "        retrieved = get_passages(topic, fallback_topic, atom, search_word, k=5, retrieval=retrieval, encoder=encoder)\n",
    "        word = retrieved.get('word')\n",
    "        passages = retrieved.get('passages')\n",
    "        \n",
    "        if not (word and passages):\n",
    "            not_in_context += 1\n",
    "            continue\n",
    " \n",
    "        definition = \"Answer the question about {} based on the given context.\\n\\n\".format(word)\n",
    "        context = \"\"\n",
    "        for psg_idx, psg in enumerate(reversed(passages)):\n",
    "            context += \"Title: {}\\nText: {}\\n\\n\".format(psg[\"title\"],psg[\"text\"].replace(\"<s>\", \"\").replace(\"</s>\", \"\"))\n",
    "        definition += context.strip()\n",
    "        if not definition[-1] in string.punctuation:\n",
    "            definition += \".\"\n",
    "        prompt = \"{}\\n\\nInput: {} True or False?\\nOutput:\".format(definition.strip(),atom.strip())\n",
    "        prompts.append(prompt)\n",
    "    return prompts, not_in_context"
   ],
   "id": "453f8e433f9f5afc",
   "outputs": [],
   "execution_count": 34
  },
  {
   "metadata": {
    "ExecuteTime": {
     "end_time": "2024-07-17T22:17:09.721074Z",
     "start_time": "2024-07-17T21:15:43.737765Z"
    }
   },
   "cell_type": "code",
   "source": [
    "encoder = SentenceTransformer(\"sentence-transformers/gtr-t5-large\")\n",
    "encoder = encoder.to(\"cuda\" if torch.cuda.is_available() else \"cpu\")\n",
    "encoder = encoder.eval()\n",
    "\n",
    "model = \"gpt-3.5-turbo\"\n",
    "temperature = 0.7\n",
    "max_tokens = 2048\n",
    "tasks = []\n",
    "total_not_in_context = 0\n",
    "\n",
    "for idx, entry in tqdm(enumerate(dataset)):\n",
    "    topic = entry['word']\n",
    "    atomic_facts = entry['factscore_facts'].split('--;--')\n",
    "    prompts, not_in_context = build_prompts(topic, entry.get('english_word', topic), entry.get('document_search_word'), atomic_facts, encoder=encoder)\n",
    "    total_not_in_context += 1 if not_in_context > 0 else 0\n",
    "    for pidx, prompt in enumerate(prompts):\n",
    "        task = {\n",
    "            \"custom_id\": f\"task-{idx}-{pidx}\",\n",
    "            \"method\": \"POST\",\n",
    "            \"url\": \"/v1/chat/completions\",\n",
    "            \"body\": {\n",
    "                \"model\": model,\n",
    "                \"temperature\": temperature,\n",
    "                \"max_tokens\": max_tokens,\n",
    "                \"messages\": [\n",
    "                    {\n",
    "                        \"role\": \"user\",\n",
    "                        \"content\": prompt\n",
    "                    }\n",
    "                ],\n",
    "            }\n",
    "        }\n",
    "        tasks.append(task)\n",
    "print(f'Not found {total_not_in_context}')"
   ],
   "id": "initial_id",
   "outputs": [
    {
     "name": "stderr",
     "output_type": "stream",
     "text": [
      "168it [1:01:18, 21.90s/it]"
     ]
    },
    {
     "name": "stdout",
     "output_type": "stream",
     "text": [
      "Not found 29\n"
     ]
    },
    {
     "name": "stderr",
     "output_type": "stream",
     "text": [
      "\n"
     ]
    }
   ],
   "execution_count": 57
  },
  {
   "metadata": {
    "ExecuteTime": {
     "end_time": "2024-07-17T22:17:09.763381Z",
     "start_time": "2024-07-17T22:17:09.733445Z"
    }
   },
   "cell_type": "code",
   "source": [
    "identification = 'german_dpr_factscore-gpt3_5-turbo-gtr'\n",
    "file_name = PROJECT_DIR.joinpath(f'dataset/openai/input/german_dpr/batch_{identification}.jsonl')\n",
    "with open(file_name, 'w') as file:\n",
    "    for obj in tasks:\n",
    "        file.write(json.dumps(obj) + '\\n')"
   ],
   "id": "5afd25fb5a67ccc5",
   "outputs": [],
   "execution_count": 58
  },
  {
   "metadata": {
    "ExecuteTime": {
     "end_time": "2024-07-17T22:19:20.803153Z",
     "start_time": "2024-07-17T22:19:11.471400Z"
    }
   },
   "cell_type": "code",
   "source": "batch_job = openai_fetcher.create_batch_job(file_name)",
   "id": "93196f917a6da001",
   "outputs": [],
   "execution_count": 59
  },
  {
   "metadata": {
    "ExecuteTime": {
     "end_time": "2024-07-17T22:21:25.689509Z",
     "start_time": "2024-07-17T22:21:25.190735Z"
    }
   },
   "cell_type": "code",
   "source": [
    "batch_job = openai_fetcher.get_batch_update(batch_job)\n",
    "print(batch_job)"
   ],
   "id": "ee2885916194ca7f",
   "outputs": [
    {
     "name": "stdout",
     "output_type": "stream",
     "text": [
      "Batch(id='batch_dC6P1N9kcyiI2AAsTzmjK8Bi', completion_window='24h', created_at=1721254761, endpoint='/v1/chat/completions', input_file_id='file-8XnNUPaWHyPLrfcQVFA0XStR', object='batch', status='completed', cancelled_at=None, cancelling_at=None, completed_at=1721254840, error_file_id=None, errors=None, expired_at=None, expires_at=1721341161, failed_at=None, finalizing_at=1721254823, in_progress_at=1721254762, metadata=None, output_file_id='file-rzuK81AAKAZaB1FTrVvIlc0h', request_counts=BatchRequestCounts(completed=495, failed=0, total=495))\n"
     ]
    }
   ],
   "execution_count": 64
  },
  {
   "metadata": {
    "ExecuteTime": {
     "end_time": "2024-07-17T22:22:00.727241Z",
     "start_time": "2024-07-17T22:21:59.278592Z"
    }
   },
   "cell_type": "code",
   "source": "result_file_name = openai_fetcher.get_batch_result(f'{identification}', batch_job)",
   "id": "27bc5c045403afc8",
   "outputs": [],
   "execution_count": 65
  },
  {
   "metadata": {
    "ExecuteTime": {
     "end_time": "2024-07-17T20:25:49.236645Z",
     "start_time": "2024-07-17T20:25:49.229917Z"
    }
   },
   "cell_type": "code",
   "source": "#result_file_name = PROJECT_DIR.joinpath('dataset/openai/output/german_dpr/output_german_dpr_factscore-gpt3_5-turbo-bm25-raw.jsonl')",
   "id": "222cbec542ee1c22",
   "outputs": [],
   "execution_count": 48
  },
  {
   "metadata": {},
   "cell_type": "markdown",
   "source": "# Calc Factscore",
   "id": "cb2431e3936019fa"
  },
  {
   "metadata": {
    "ExecuteTime": {
     "end_time": "2024-07-17T22:22:09.494176Z",
     "start_time": "2024-07-17T22:22:09.467550Z"
    }
   },
   "cell_type": "code",
   "source": [
    "# Loading data from saved file\n",
    "results = fh.read(result_file_name)"
   ],
   "id": "a2e70364389197ea",
   "outputs": [],
   "execution_count": 66
  },
  {
   "metadata": {
    "ExecuteTime": {
     "end_time": "2024-07-17T22:22:11.196687Z",
     "start_time": "2024-07-17T22:22:11.150962Z"
    }
   },
   "cell_type": "code",
   "source": [
    "def softmax(x):\n",
    "    return(np.exp(x - np.max(x)) / np.exp(x - np.max(x)).sum())\n",
    "\n",
    "class NPM:\n",
    "    def __init__(self, model_name):\n",
    "        assert model_name.startswith(\"npm\")\n",
    "        self.model_name = model_name\n",
    "        self.model = None\n",
    "\n",
    "        self.tokenizer = AutoTokenizer.from_pretrained(\"facebook/\" + self.model_name)\n",
    "        self.mask_id = self.tokenizer.mask_token_id\n",
    "        self.device = \"cuda\" if torch.cuda.is_available() else \"cpu\"\n",
    "\n",
    "        with open(PROJECT_DIR.joinpath(\"factscore/roberta_stopwords.txt\"), \"r\") as f:\n",
    "            self.stopwords = set()\n",
    "            for line in f:\n",
    "                self.stopwords.add(int(line.strip()))\n",
    "\n",
    "    def load_model(self):\n",
    "        self.model = AutoModelForMaskedLM.from_pretrained(\"facebook/\" + self.model_name)\n",
    "        self.model.to(self.device)\n",
    "        self.model.eval()\n",
    "\n",
    "    def tokenize(self, texts, skip_special_tokens=False, padding=True):\n",
    "        assert type(texts)==list\n",
    "        all_input_ids = self.tokenizer(texts)[\"input_ids\"]\n",
    "        if skip_special_tokens:\n",
    "            for i, input_ids in enumerate(all_input_ids):\n",
    "                assert input_ids[0]==0 and input_ids[-1]==2\n",
    "                all_input_ids[i] = input_ids[1:-1]\n",
    "        if not padding:\n",
    "            return all_input_ids\n",
    "        max_length = np.max([len(_ids) for _ids in all_input_ids])    \n",
    "        _all_input_ids = []\n",
    "        _all_attention_mask = []   \n",
    "        for i, input_ids in enumerate(all_input_ids):\n",
    "            n_valid = len(input_ids)\n",
    "            n_masks = max_length - n_valid\n",
    "            _all_input_ids.append(input_ids + [0 for _ in range(n_masks)])\n",
    "            _all_attention_mask.append([1 for _ in range(n_valid)] + [0 for _ in range(n_masks)])\n",
    "        return torch.LongTensor(_all_input_ids), torch.LongTensor(_all_attention_mask)\n",
    "\n",
    "    def decode(self, input_ids):\n",
    "        return self.tokenizer.decode(input_ids)\n",
    "\n",
    "    def encode(self, texts, skip_special_tokens=False, gt_input_ids=None):\n",
    "        assert type(texts)==list\n",
    "        if self.model is None:\n",
    "            self.load_model()\n",
    "        if gt_input_ids is not None:\n",
    "            assert len(texts)==len(gt_input_ids)\n",
    "        all_input_ids, all_attention_mask = self.tokenize(texts, skip_special_tokens=skip_special_tokens)\n",
    "        \n",
    "        with torch.no_grad():\n",
    "            outputs = self.model(all_input_ids.to(self.device),\n",
    "                                 all_attention_mask.to(self.device),\n",
    "                                 output_hidden_states=True,\n",
    "                                 return_dict=True)\n",
    "            all_logits = outputs[\"logits\"].detach().cpu().numpy()\n",
    "            all_hidden_states = outputs[\"hidden_states\"][-1].detach().cpu().numpy()\n",
    "\n",
    "        results = []\n",
    "        for i, (text, input_ids, logits, hidden_states) in enumerate(zip(texts, all_input_ids, all_logits, all_hidden_states)):\n",
    "            input_ids = input_ids.numpy().tolist()\n",
    "            if self.mask_id in input_ids:\n",
    "                idx = input_ids.index(self.mask_id)\n",
    "                assert gt_input_ids is not None\n",
    "                prob = softmax(logits[idx])[gt_input_ids[i]]\n",
    "                results.append((prob, hidden_states[idx]))\n",
    "            else:\n",
    "                _input_ids = [_id for _id in input_ids if _id not in [0, 2]]\n",
    "                _hidden_states = [h for _id, h in zip(input_ids, hidden_states) if _id not in [0, 2]]\n",
    "                results.append((_input_ids, _hidden_states))\n",
    "\n",
    "        return results\n",
    "\n",
    "    def get_probabilty(self, topic, fallback_topic, question, search_word):\n",
    "        retrieved = get_passages(topic, fallback_topic, question, search_word, k=3, only_intro=True, word_lang='de')        \n",
    "        passages = [p[\"text\"].strip() for p in retrieved.get('passages')]\n",
    "        \n",
    "        encoded = self.encode(passages, skip_special_tokens=True)\n",
    "        stacked_passage_tokens, stacked_passage_vectors = [], []\n",
    "        for input_ids, vectors in encoded:\n",
    "            stacked_passage_tokens += input_ids\n",
    "            if len(vectors)>0:\n",
    "                stacked_passage_vectors.append(vectors)\n",
    "        stacked_passage_vectors = np.concatenate(stacked_passage_vectors, 0)\n",
    "            \n",
    "        question_input_ids = self.tokenize([\"Fact: \" + question], skip_special_tokens=False, padding=False)[0]\n",
    "        if 2 in question_input_ids:\n",
    "            question_input_ids = question_input_ids[:question_input_ids.index(2)]\n",
    "        question_input_ids = question_input_ids[1:]\n",
    "\n",
    "        triples = []\n",
    "        batch = []\n",
    "        gt_input_ids = []\n",
    "        prefix = True\n",
    "        for i, input_id in enumerate(question_input_ids):\n",
    "            if prefix:\n",
    "                if input_id==35: # the end of prefix\n",
    "                    prefix = False\n",
    "                continue\n",
    "            if input_id in [0, 2] or input_id in self.stopwords:\n",
    "                continue\n",
    "            batch.append(self.decode(question_input_ids[:i] + [self.mask_id] + question_input_ids[i+1:]))\n",
    "            gt_input_ids.append(input_id)\n",
    "        for (prob, vector), gt_input_id in zip(self.encode(batch, gt_input_ids=gt_input_ids), gt_input_ids):\n",
    "            triples.append((prob, vector, gt_input_id))\n",
    "\n",
    "        stacked_question_vectors = np.stack([v for _, v, _ in triples], 0)\n",
    "        all_scores = np.exp(np.inner(stacked_question_vectors, stacked_passage_vectors) / np.sqrt(stacked_passage_vectors.shape[-1]))\n",
    "\n",
    "        probs = []\n",
    "        for (softmax_prob, vector, input_id), scores in zip(triples, all_scores):\n",
    "            assert len(stacked_passage_tokens)==len(scores)\n",
    "            if input_id not in stacked_passage_tokens:\n",
    "                probs.append(0)\n",
    "            else:\n",
    "                aggregated_scores = defaultdict(list)\n",
    "                for token, score in zip(stacked_passage_tokens, scores):\n",
    "                    aggregated_scores[token].append(score)\n",
    "                tot = np.sum([np.sum(v) for v in aggregated_scores.values()])\n",
    "                prob = np.sum(aggregated_scores[input_id]) / tot\n",
    "                probs.append(prob)\n",
    "        return np.mean(probs)"
   ],
   "id": "66c82f86946fe0be",
   "outputs": [],
   "execution_count": 67
  },
  {
   "metadata": {
    "ExecuteTime": {
     "end_time": "2024-07-17T22:22:13.697711Z",
     "start_time": "2024-07-17T22:22:12.625172Z"
    }
   },
   "cell_type": "code",
   "source": [
    "npm = NPM('npm-single')\n",
    "\n",
    "def calc_factscore(topic, fallback_topic, search_word, generated_answer, atom, use_npm=True):\n",
    "    is_supported = parse_model_answer(generated_answer)\n",
    "    if is_supported == 'SUPPORTED' and use_npm:\n",
    "        npprob = npm.get_probabilty(topic, fallback_topic, atom, search_word)\n",
    "        is_supported = is_supported if npprob > 0.3 else 'NOT_SUPPORTED'\n",
    "    return is_supported"
   ],
   "id": "9b8787449a7c1407",
   "outputs": [],
   "execution_count": 68
  },
  {
   "metadata": {
    "ExecuteTime": {
     "end_time": "2024-07-17T22:33:52.851889Z",
     "start_time": "2024-07-17T22:22:25.166910Z"
    }
   },
   "cell_type": "code",
   "source": [
    "from dataset.def_dataset import Fact\n",
    "\n",
    "data_dict = {}\n",
    "for entry in dataset:\n",
    "    if entry['in_wiki'] == 'No':\n",
    "        continue\n",
    "\n",
    "    data_dict[entry['id']] = {\n",
    "        'id': entry['id'],\n",
    "        'word': entry['word'],\n",
    "        'claim': entry['claim'],\n",
    "        'label': entry['label'],\n",
    "        'predicted': -1,\n",
    "        'atoms': [],\n",
    "        'selected_evidences': []\n",
    "    }\n",
    "        \n",
    "for res in tqdm(results):\n",
    "    # Getting index from task id\n",
    "    task_id = res['custom_id']\n",
    "    index = int(task_id.split('-')[1])\n",
    "    atom_index = int(task_id.split('-')[2])\n",
    "    \n",
    "    entry = dataset[index]\n",
    "    generated_answer = res['response']['body']['choices'][0]['message']['content'].lower()\n",
    "    atom = entry['factscore_facts'].split('--;--')[atom_index]\n",
    "    predicted = calc_factscore(entry['word'], entry['english_word'], entry['document_search_word'], generated_answer, atom, use_npm=True)\n",
    "    data_dict[entry['id']]['atoms'].append({\"atom\": atom, \"predicted\": predicted})\n",
    "\n",
    "for entry_id, entry in data_dict.items():\n",
    "    all_predictions = []\n",
    "    for decision in entry['atoms']:\n",
    "        all_predictions.append(decision['predicted'] == 'SUPPORTED')\n",
    "    average_is_supported = np.mean(all_predictions)\n",
    "    data_dict[entry_id]['predicted'] = Fact.SUPPORTED.name if average_is_supported == 1 else Fact.NOT_SUPPORTED.name\n",
    "\n",
    "fh.write(PROJECT_DIR.joinpath(f'dataset/openai/output_{identification}.jsonl'), data_dict.values())"
   ],
   "id": "8b321cfd43b6a9cd",
   "outputs": [
    {
     "name": "stderr",
     "output_type": "stream",
     "text": [
      "100%|██████████| 495/495 [11:27<00:00,  1.39s/it]\n"
     ]
    }
   ],
   "execution_count": 69
  },
  {
   "metadata": {
    "ExecuteTime": {
     "end_time": "2024-07-17T14:53:14.959891Z",
     "start_time": "2024-07-17T14:53:14.951699Z"
    }
   },
   "cell_type": "code",
   "source": "data_dict.values()",
   "id": "cca445aafd0c830c",
   "outputs": [
    {
     "data": {
      "text/plain": [
       "dict_values([{'id': 1, 'word': 'Elektromotor', 'claim': 'elektrische Leistung in mechanische Leistung umwandelt', 'label': 'SUPPORTED', 'predicted': 'SUPPORTED', 'atoms': [{'atom': 'An electric motor represents electrical power.', 'predicted': 'SUPPORTED'}, {'atom': 'Electrical power is converted into mechanical power.', 'predicted': 'SUPPORTED'}, {'atom': 'Electrical power is converted into mechanical power.', 'predicted': 'SUPPORTED'}], 'selected_evidences': []}, {'id': 2, 'word': 'Zensur', 'claim': 'im engeren Wortsinn das Eingreifen staatlicher oder sonstiger machtgestützter Institutionen, durch die im Sinne dieser Institutionen unerwünschte Inhalte von der Medienöffentlichkeit ferngehalten werden sollen', 'label': 'SUPPORTED', 'predicted': 'NOT_SUPPORTED', 'atoms': [{'atom': 'Censorship refers to intervention by state or power-based institutions.', 'predicted': 'NOT_SUPPORTED'}, {'atom': 'Censorship aims to keep unwanted content away from the media public.', 'predicted': 'NOT_SUPPORTED'}, {'atom': 'Unwanted content is kept away from the media public by state or power-based institutions.', 'predicted': 'NOT_SUPPORTED'}], 'selected_evidences': []}, {'id': 3, 'word': 'ERTU', 'claim': 'die staatliche Rundfunkgesellschaft Ägyptens', 'label': 'SUPPORTED', 'predicted': 'NOT_SUPPORTED', 'atoms': [{'atom': 'Ertu is a company.', 'predicted': 'NOT_SUPPORTED'}, {'atom': 'Ertu is the State Broadcasting Company.', 'predicted': 'NOT_SUPPORTED'}, {'atom': 'Ertu is located in Egypt.', 'predicted': 'NOT_SUPPORTED'}], 'selected_evidences': []}, {'id': 4, 'word': 'Leiterplatte', 'claim': 'ein Träger für elektronische Bauteile', 'label': 'SUPPORTED', 'predicted': 'NOT_SUPPORTED', 'atoms': [{'atom': 'A printed circuit board is a support.', 'predicted': 'NOT_SUPPORTED'}, {'atom': 'A printed circuit board supports electronic components.', 'predicted': 'SUPPORTED'}, {'atom': 'Electronic components are supported by printed circuit boards.', 'predicted': 'SUPPORTED'}], 'selected_evidences': []}, {'id': 5, 'word': 'Kindergewerkschaft', 'claim': 'eine organisierte Gruppe oder Gewerkschaft, in der arbeitende Kinder und Jugendliche sich aktiv und kollektiv für die eigenen Rechte einsetzen', 'label': 'SUPPORTED', 'predicted': 'NOT_SUPPORTED', 'atoms': [], 'selected_evidences': []}, {'id': 6, 'word': 'Freundschaftsspiel', 'claim': 'eine sportliche Spielpaarung, die in keine offizielle Wertung einfließt', 'label': 'SUPPORTED', 'predicted': 'NOT_SUPPORTED', 'atoms': [{'atom': 'An exhibition game is a sporting match.', 'predicted': 'SUPPORTED'}, {'atom': 'An exhibition game does not flow into an official rating.', 'predicted': 'NOT_SUPPORTED'}, {'atom': 'An exhibition game signifies a pairing.', 'predicted': 'NOT_SUPPORTED'}], 'selected_evidences': []}, {'id': 7, 'word': 'Glühbirne', 'claim': 'eine künstliche Lichtquelle', 'label': 'SUPPORTED', 'predicted': 'NOT_SUPPORTED', 'atoms': [{'atom': 'A light bulb is a representation.', 'predicted': 'NOT_SUPPORTED'}, {'atom': 'A light bulb represents an artificial light source.', 'predicted': 'SUPPORTED'}], 'selected_evidences': []}, {'id': 8, 'word': 'Russistik', 'claim': 'Die Wissenschaft, die sich mit der russischen Sprache und der umfangreichen russischen Literatur beschäftigt', 'label': 'SUPPORTED', 'predicted': 'NOT_SUPPORTED', 'atoms': [{'atom': 'Russian studies is a science.', 'predicted': 'SUPPORTED'}, {'atom': 'Russian studies deals with the Russian language.', 'predicted': 'NOT_SUPPORTED'}, {'atom': 'Russian studies deals with extensive Russian literature.', 'predicted': 'NOT_SUPPORTED'}], 'selected_evidences': []}, {'id': 9, 'word': 'Orphismus', 'claim': 'eine aus dem Kubismus entstandene Kunstrichtung, bei der vor allem Kreisgebilde in bunten Farben auf der Grundlage der Farbtheorie des Chemikers Michel Eugène Chevreul geschaffen wurden', 'label': 'SUPPORTED', 'predicted': 'NOT_SUPPORTED', 'atoms': [{'atom': 'Orphism is an art direction.', 'predicted': 'SUPPORTED'}, {'atom': 'Orphism was created by Cubism.', 'predicted': 'NOT_SUPPORTED'}, {'atom': 'Orphism uses mainly circular forms.', 'predicted': 'NOT_SUPPORTED'}, {'atom': 'Orphism uses colorful colours.', 'predicted': 'SUPPORTED'}, {'atom': 'Orphism was created based on the color theory of chemist Michel Eugène Chevreul.', 'predicted': 'NOT_SUPPORTED'}], 'selected_evidences': []}, {'id': 10, 'word': 'Kyffhäuserdenkmal', 'claim': ' ein 81 Meter hohes, weithin sichtbares Denkmal auf dem gleichnamigen Gebirge bei Bad Frankenhausen', 'label': 'SUPPORTED', 'predicted': 'NOT_SUPPORTED', 'atoms': [{'atom': 'The kyffhäuser monument is 81 metres high.', 'predicted': 'NOT_SUPPORTED'}, {'atom': 'The kyffhäuser monument is widely visible.', 'predicted': 'NOT_SUPPORTED'}, {'atom': 'The kyffhäuser monument is on the eponymous mountains.', 'predicted': 'NOT_SUPPORTED'}, {'atom': 'The eponymous mountains are near Bad Frankenhausen.', 'predicted': 'SUPPORTED'}], 'selected_evidences': []}, {'id': 11, 'word': 'Zinkstaub', 'claim': 'feinpulvriges Zink', 'label': 'SUPPORTED', 'predicted': 'NOT_SUPPORTED', 'atoms': [], 'selected_evidences': []}, {'id': 12, 'word': 'Seidenstraße', 'claim': 'ie zentrale Verbindung zwischen Ost und West, sowohl zum Austausch von Waren als auch von kultureller Identität', 'label': 'SUPPORTED', 'predicted': 'SUPPORTED', 'atoms': [{'atom': 'The Silk Road signifies the central link between East and West.', 'predicted': 'SUPPORTED'}, {'atom': 'The Silk Road was used for the exchange of goods.', 'predicted': 'SUPPORTED'}, {'atom': 'The Silk Road was used for the exchange of cultural identity.', 'predicted': 'SUPPORTED'}], 'selected_evidences': []}, {'id': 13, 'word': 'Vakuum', 'claim': 'in der technischen Praxis ein Raum mit weitgehender Abwesenheit von Materie – im Vakuum gibt es keine festen Objekte oder Flüssigkeit, extrem wenig Gas und damit auch einen extrem niedrigen Gasdruck', 'label': 'SUPPORTED', 'predicted': 'NOT_SUPPORTED', 'atoms': [{'atom': 'A vacuum is a room.', 'predicted': 'NOT_SUPPORTED'}, {'atom': 'The room has an extensive absence of matter.', 'predicted': 'NOT_SUPPORTED'}, {'atom': 'In a vacuum, there are no solid objects or liquid.', 'predicted': 'SUPPORTED'}, {'atom': 'In a vacuum, there is extremely little gas.', 'predicted': 'NOT_SUPPORTED'}, {'atom': 'In a vacuum, the gas pressure is extremely low.', 'predicted': 'SUPPORTED'}], 'selected_evidences': []}, {'id': 14, 'word': 'TU', 'claim': 'eine promotionsberechtigte Hochschule mit einem breiten Angebot an Ingenieurfächern und naturwissenschaftlichen Fächern, zumeist ergänzt um weitere Fächer', 'label': 'SUPPORTED', 'predicted': 'NOT_SUPPORTED', 'atoms': [{'atom': 'Tu is a doctoral university.', 'predicted': 'NOT_SUPPORTED'}, {'atom': 'Tu offers a wide range of engineering and scientific subjects.', 'predicted': 'NOT_SUPPORTED'}, {'atom': 'Tu also offers other subjects.', 'predicted': 'NOT_SUPPORTED'}, {'atom': 'The engineering and scientific subjects are mostly supplemented by other subjects.', 'predicted': 'NOT_SUPPORTED'}], 'selected_evidences': []}, {'id': 15, 'word': 'Starbright Foundation', 'claim': 'schwer kranken Kindern hilft', 'label': 'SUPPORTED', 'predicted': 'NOT_SUPPORTED', 'atoms': [{'atom': 'The Starbright Foundation exists.', 'predicted': 'NOT_SUPPORTED'}, {'atom': 'The Starbright Foundation provides support and care.', 'predicted': 'NOT_SUPPORTED'}, {'atom': 'The support and care is for severely ill children.', 'predicted': 'NOT_SUPPORTED'}], 'selected_evidences': []}, {'id': 16, 'word': 'Computer', 'claim': 'ein Gerät, das mittels programmierbarer Rechenvorschriften Daten verarbeitet', 'label': 'SUPPORTED', 'predicted': 'NOT_SUPPORTED', 'atoms': [{'atom': 'A computer is a device.', 'predicted': 'SUPPORTED'}, {'atom': 'A computer processes data.', 'predicted': 'SUPPORTED'}, {'atom': 'A computer processes data by means of programmable calculation rules.', 'predicted': 'NOT_SUPPORTED'}], 'selected_evidences': []}, {'id': 17, 'word': 'Kulturanthropologie', 'claim': 'eine empirisch gestützte Wissenschaft von der Kultur (im Sinne von „menschliche Kultur“)', 'label': 'SUPPORTED', 'predicted': 'NOT_SUPPORTED', 'atoms': [{'atom': 'Cultural anthropology is a field of study.', 'predicted': 'SUPPORTED'}, {'atom': 'Cultural anthropology involves the study of culture.', 'predicted': 'SUPPORTED'}, {'atom': 'Culture refers to human culture.', 'predicted': 'NOT_SUPPORTED'}, {'atom': 'Cultural anthropology is supported by empirical evidence.', 'predicted': 'SUPPORTED'}], 'selected_evidences': []}, {'id': 18, 'word': 'Papiermacher', 'claim': 'ein Handwerker, der Papier herstellt', 'label': 'SUPPORTED', 'predicted': 'NOT_SUPPORTED', 'atoms': [{'atom': 'A papermaker is a craftsman.', 'predicted': 'NOT_SUPPORTED'}, {'atom': 'A papermaker makes paper.', 'predicted': 'SUPPORTED'}], 'selected_evidences': []}, {'id': 19, 'word': 'CD', 'claim': 'ein optischer Speicher, der Anfang der 1980er-Jahre zur digitalen Speicherung von Musik von Philips/PolyGram und Sony eingeführt wurde und die Schallplatte ablösen sollte', 'label': 'SUPPORTED', 'predicted': 'NOT_SUPPORTED', 'atoms': [{'atom': 'CD is an optical memory.', 'predicted': 'SUPPORTED'}, {'atom': 'CD was introduced in the early 1980s.', 'predicted': 'SUPPORTED'}, {'atom': 'CD was introduced for the digital storage of music.', 'predicted': 'SUPPORTED'}, {'atom': 'CD was introduced by Philips/PolyGram and Sony.', 'predicted': 'SUPPORTED'}, {'atom': 'CD was introduced to replace the record.', 'predicted': 'NOT_SUPPORTED'}], 'selected_evidences': []}, {'id': 20, 'word': 'Gott', 'claim': 'übernatürliche Geistwesen', 'label': 'SUPPORTED', 'predicted': 'NOT_SUPPORTED', 'atoms': [{'atom': 'God signifies.', 'predicted': 'SUPPORTED'}, {'atom': 'God is a supernatural spirit.', 'predicted': 'NOT_SUPPORTED'}, {'atom': 'God is a being.', 'predicted': 'SUPPORTED'}], 'selected_evidences': []}, {'id': 21, 'word': 'Datenbankanwendungen', 'claim': 'Computerprogramme, die ihre jeweils individuell erforderlichen Daten unter Nutzung eines Datenbanksystems verwalten und speichern', 'label': 'SUPPORTED', 'predicted': 'NOT_SUPPORTED', 'atoms': [{'atom': 'Database applications are computer programs.', 'predicted': 'SUPPORTED'}, {'atom': 'Database applications manage data.', 'predicted': 'SUPPORTED'}, {'atom': 'Database applications store data.', 'predicted': 'SUPPORTED'}, {'atom': 'Database applications use a database system.', 'predicted': 'SUPPORTED'}, {'atom': 'Data is individually required.', 'predicted': 'NOT_SUPPORTED'}], 'selected_evidences': []}, {'id': 22, 'word': 'Anthropologie', 'claim': 'die Wissenschaft vom Menschen', 'label': 'SUPPORTED', 'predicted': 'NOT_SUPPORTED', 'atoms': [{'atom': 'Anthropology is a science.', 'predicted': 'NOT_SUPPORTED'}, {'atom': 'Anthropology is the study of man.', 'predicted': 'SUPPORTED'}], 'selected_evidences': []}, {'id': 23, 'word': 'USB', 'claim': 'ein serielles Bussystem zur Verbindung eines Computers mit externen Geräten', 'label': 'SUPPORTED', 'predicted': 'NOT_SUPPORTED', 'atoms': [{'atom': 'A usb is a serial bus system.', 'predicted': 'NOT_SUPPORTED'}, {'atom': 'A usb is for connecting a computer to external devices.', 'predicted': 'NOT_SUPPORTED'}, {'atom': 'A computer can be connected to external devices using a usb.', 'predicted': 'NOT_SUPPORTED'}], 'selected_evidences': []}, {'id': 24, 'word': 'Intonationsgehör', 'claim': 'die Fähigkeit, Unsauberkeiten in der Intonation – also geringe Abweichungen der Tonhöhe von einem musikalisch geplanten Wert – zu erkennen', 'label': 'SUPPORTED', 'predicted': 'NOT_SUPPORTED', 'atoms': [], 'selected_evidences': []}, {'id': 25, 'word': 'Prakrit', 'claim': 'einer Gruppe mittelindischer gesprochener Dialekte', 'label': 'SUPPORTED', 'predicted': 'SUPPORTED', 'atoms': [{'atom': 'Prakrit is a group.', 'predicted': 'SUPPORTED'}, {'atom': 'Prakrit represents mittelindic spoken dialects.', 'predicted': 'SUPPORTED'}, {'atom': 'Prakrit is spoken.', 'predicted': 'SUPPORTED'}], 'selected_evidences': []}, {'id': 26, 'word': 'Biodiversitäts-Hotspot', 'claim': 'Für ein geografisches Gebiet, in dem die Biodiversität besonders groß ist – und das gleichzeitig besonders bedroht ist', 'label': 'SUPPORTED', 'predicted': 'SUPPORTED', 'atoms': [{'atom': 'A biodiversity hotspot is a geographical area.', 'predicted': 'SUPPORTED'}, {'atom': 'Biodiversity is particularly large in a biodiversity hotspot.', 'predicted': 'SUPPORTED'}, {'atom': 'A biodiversity hotspot is particularly threatened.', 'predicted': 'SUPPORTED'}, {'atom': 'Biodiversity in a biodiversity hotspot is at risk.', 'predicted': 'SUPPORTED'}], 'selected_evidences': []}, {'id': 27, 'word': 'Immungenetik', 'claim': 'Die Immungenetik untersucht die genetische Variabilität von Immunreaktionen, bzw. die Mechanismen der Erzeugung von Antikörpern, T-Zell-Rezeptoren und antigenpräsentierenden Komplexen', 'label': 'SUPPORTED', 'predicted': 'NOT_SUPPORTED', 'atoms': [{'atom': 'Immunogenetics is the investigation of the genetic variability of immune reactions.', 'predicted': 'SUPPORTED'}, {'atom': 'Immunogenetics is the investigation of the mechanisms of the production of antibodies, T-cell receptors, and antigen-presenting complexes.', 'predicted': 'NOT_SUPPORTED'}], 'selected_evidences': []}, {'id': 28, 'word': 'Datenkompression', 'claim': \"ein Vorgang, bei dem die Menge digitaler Daten verdichtet oder ''reduziert'' wird\", 'label': 'SUPPORTED', 'predicted': 'NOT_SUPPORTED', 'atoms': [{'atom': 'Data compression is a process.', 'predicted': 'SUPPORTED'}, {'atom': 'Digital data is compressed.', 'predicted': 'NOT_SUPPORTED'}, {'atom': 'Digital data is reduced.', 'predicted': 'NOT_SUPPORTED'}], 'selected_evidences': []}, {'id': 29, 'word': 'Ramsar-Konvention', 'claim': 'internationale Abkommen zum Schutz der biologischen Vielfalt', 'label': 'SUPPORTED', 'predicted': 'SUPPORTED', 'atoms': [{'atom': 'The Ramsar Convention represents the International Convention.', 'predicted': 'SUPPORTED'}, {'atom': 'The Ramsar Convention represents the Protection of Biological Diversity.', 'predicted': 'SUPPORTED'}], 'selected_evidences': []}, {'id': 30, 'word': 'Gen', 'claim': 'ein Abschnitt auf der DNA bezeichnet, der Grundinformationen für die Entwicklung von Eigenschaften eines Individuums und zur Herstellung einer biologisch aktiven RNA enthält', 'label': 'SUPPORTED', 'predicted': 'NOT_SUPPORTED', 'atoms': [{'atom': 'A gene is a section on DNA.', 'predicted': 'SUPPORTED'}, {'atom': 'A gene contains basic information.', 'predicted': 'NOT_SUPPORTED'}, {'atom': 'A gene is responsible for the development of properties of an individual.', 'predicted': 'NOT_SUPPORTED'}, {'atom': 'A gene is responsible for the production of a biologically active RNA.', 'predicted': 'NOT_SUPPORTED'}], 'selected_evidences': []}, {'id': 31, 'word': 'Filmempfindlichkeit', 'claim': 'die Lichtempfindlichkeit von fotografischen Platten und Filmen', 'label': 'SUPPORTED', 'predicted': 'NOT_SUPPORTED', 'atoms': [{'atom': 'Film speed signifies.', 'predicted': 'SUPPORTED'}, {'atom': 'Film speed signifies the light sensitivity.', 'predicted': 'NOT_SUPPORTED'}, {'atom': 'Film speed signifies the light sensitivity of photographic plates.', 'predicted': 'NOT_SUPPORTED'}, {'atom': 'Film speed signifies the light sensitivity of films.', 'predicted': 'NOT_SUPPORTED'}, {'atom': 'Photographic plates are used in photography.', 'predicted': 'SUPPORTED'}, {'atom': 'Films are used in photography.', 'predicted': 'SUPPORTED'}], 'selected_evidences': []}, {'id': 32, 'word': 'Gletscher', 'claim': 'eine aus Schnee hervorgegangene Eismasse mit einem klar definierten Einzugsgebiet, die sich aufgrund von Hangneigung, Struktur des Eises, Temperatur und der aus der Masse des Eises und den anderen Faktoren hervorgehenden Schubspannung eigenständig bewegt', 'label': 'SUPPORTED', 'predicted': 'NOT_SUPPORTED', 'atoms': [{'atom': 'A glacier is an ice mass.', 'predicted': 'SUPPORTED'}, {'atom': 'A glacier is formed from snow.', 'predicted': 'SUPPORTED'}, {'atom': 'A glacier has a clearly defined catchment area.', 'predicted': 'NOT_SUPPORTED'}, {'atom': 'A glacier moves independently.', 'predicted': 'NOT_SUPPORTED'}, {'atom': 'A glacier moves due to slope.', 'predicted': 'NOT_SUPPORTED'}, {'atom': 'A glacier moves due to structure of the ice.', 'predicted': 'NOT_SUPPORTED'}, {'atom': 'A glacier moves due to temperature.', 'predicted': 'NOT_SUPPORTED'}, {'atom': 'A glacier moves due to shear stress.', 'predicted': 'NOT_SUPPORTED'}, {'atom': 'A glacier is affected by the mass of the ice.', 'predicted': 'NOT_SUPPORTED'}, {'atom': 'A glacier is affected by other factors.', 'predicted': 'SUPPORTED'}], 'selected_evidences': []}, {'id': 33, 'word': 'LED', 'claim': 'ein Halbleiter-Bauelement, das Licht ausstrahlt, wenn elektrischer Strom in Durchlassrichtung fließt', 'label': 'SUPPORTED', 'predicted': 'NOT_SUPPORTED', 'atoms': [{'atom': 'A led is a semiconductor component.', 'predicted': 'SUPPORTED'}, {'atom': 'A led emits light.', 'predicted': 'NOT_SUPPORTED'}, {'atom': 'The emission of light is caused by electrical current.', 'predicted': 'NOT_SUPPORTED'}, {'atom': 'The electrical current flows in the direction of passage.', 'predicted': 'NOT_SUPPORTED'}], 'selected_evidences': []}, {'id': 34, 'word': 'Genom', 'claim': 'die Gesamtheit der materiellen Träger der vererbbaren Informationen einer Zelle oder eines Viruspartikels: Chromosomen, Desoxyribonukleinsäure (DNS = DNA) oder Ribonukleinsäure (RNS = RNA) bei RNA-Viren, bei denen RNA anstelle von DNA als Informationsträger dient', 'label': 'SUPPORTED', 'predicted': 'NOT_SUPPORTED', 'atoms': [{'atom': 'The genome represents the totality of the material carriers.', 'predicted': 'NOT_SUPPORTED'}, {'atom': 'The genome carries inherited information.', 'predicted': 'SUPPORTED'}, {'atom': 'The genome is found in cells or virus particles.', 'predicted': 'NOT_SUPPORTED'}, {'atom': 'The genome is made up of chromosomes.', 'predicted': 'SUPPORTED'}, {'atom': 'The genome is made up of DNA or RNA.', 'predicted': 'SUPPORTED'}, {'atom': 'DNA stands for deoxyribonucleic acid.', 'predicted': 'NOT_SUPPORTED'}, {'atom': 'RNA stands for ribonucleic acid.', 'predicted': 'NOT_SUPPORTED'}, {'atom': 'RNA is used as an information carrier in RNA viruses.', 'predicted': 'NOT_SUPPORTED'}, {'atom': 'RNA is used instead of DNA for information.', 'predicted': 'NOT_SUPPORTED'}], 'selected_evidences': []}, {'id': 35, 'word': 'Herzinfarkt', 'claim': \"eine anhaltende Durchblutungsstörung (''Ischämie'') von Teilen des Herzmuskels\", 'label': 'SUPPORTED', 'predicted': 'NOT_SUPPORTED', 'atoms': [{'atom': 'Myocardial infarction is a medical condition.', 'predicted': 'SUPPORTED'}, {'atom': 'Myocardial infarction is also known as a heart attack.', 'predicted': 'SUPPORTED'}, {'atom': \"Myocardial infarction is caused by a persistent circulation disorder called 'Ischemia'.\", 'predicted': 'SUPPORTED'}, {'atom': 'Ischemia affects parts of the heart muscle.', 'predicted': 'NOT_SUPPORTED'}], 'selected_evidences': []}, {'id': 36, 'word': 'Energieverbrauch', 'claim': 'umgangssprachlich die Nutzung von verschiedenen Energien in für Menschen gut verwendbaren Formen', 'label': 'SUPPORTED', 'predicted': 'NOT_SUPPORTED', 'atoms': [{'atom': 'Energy consumption represents the use of different energies.', 'predicted': 'NOT_SUPPORTED'}, {'atom': 'Energy consumption is suitable for humans.', 'predicted': 'NOT_SUPPORTED'}, {'atom': 'Different forms of energy are suitable for humans.', 'predicted': 'NOT_SUPPORTED'}], 'selected_evidences': []}, {'id': 37, 'word': 'Steinkohlenenglisch', 'claim': 'der Wirrwarr aus niederländischen und englischen Wörtern, Satzbau und Sprichwörtern für die Kommunikation der niederländischen Hafenarbeiter mit den britischen Besatzungen der Steinkohleboote um 1900 bezeichnet wurde', 'label': 'SUPPORTED', 'predicted': 'NOT_SUPPORTED', 'atoms': [], 'selected_evidences': []}, {'id': 38, 'word': 'Urum', 'claim': 'eine kleine turksprachige Minderheit vorwiegend im Kaukasus, der Südwestukraine, der Krim und dem Balkan', 'label': 'SUPPORTED', 'predicted': 'NOT_SUPPORTED', 'atoms': [{'atom': 'Urums are a small minority group.', 'predicted': 'NOT_SUPPORTED'}, {'atom': 'Urums speak Turkic languages.', 'predicted': 'SUPPORTED'}, {'atom': 'Urums are mainly located in the Caucasus region.', 'predicted': 'NOT_SUPPORTED'}, {'atom': 'Urums are located in Southwest Ukraine.', 'predicted': 'NOT_SUPPORTED'}, {'atom': 'Urums are located in Crimea.', 'predicted': 'SUPPORTED'}, {'atom': 'Urums are located in the Balkans.', 'predicted': 'NOT_SUPPORTED'}], 'selected_evidences': []}, {'id': 39, 'word': 'OPEC', 'claim': 'Organisation erdölexportierender Länder', 'label': 'SUPPORTED', 'predicted': 'NOT_SUPPORTED', 'atoms': [{'atom': 'Opec represents the Organization.', 'predicted': 'NOT_SUPPORTED'}, {'atom': 'Opec represents oil exporting countries.', 'predicted': 'NOT_SUPPORTED'}, {'atom': 'Opec is an organization.', 'predicted': 'NOT_SUPPORTED'}], 'selected_evidences': []}, {'id': 40, 'word': 'Post-Punk', 'claim': 'die Bezeichnung für eine Musikbewegung, die vor allem und zuerst in Großbritannien Ende der 1970er/Anfang der 1980er Jahre aus dem Punk hervorging', 'label': 'SUPPORTED', 'predicted': 'SUPPORTED', 'atoms': [{'atom': 'Post-punk is a name for a music movement.', 'predicted': 'SUPPORTED'}, {'atom': 'Post-punk emerged from punk.', 'predicted': 'SUPPORTED'}, {'atom': 'Post-punk emerged mainly in Great Britain.', 'predicted': 'SUPPORTED'}, {'atom': 'Post-punk emerged in the late 1970s/early 1980s.', 'predicted': 'SUPPORTED'}], 'selected_evidences': []}, {'id': 41, 'word': 'Generator', 'claim': 'Bewegungsleistung in elektrische Leistung umwandelt', 'label': 'SUPPORTED', 'predicted': 'NOT_SUPPORTED', 'atoms': [{'atom': 'A generator represents movement power.', 'predicted': 'NOT_SUPPORTED'}, {'atom': 'Movement power is converted to electrical power.', 'predicted': 'SUPPORTED'}, {'atom': 'A generator produces electrical power.', 'predicted': 'SUPPORTED'}], 'selected_evidences': []}, {'id': 42, 'word': 'proto-neolithisch', 'claim': 'Diese Vorstufe zur produzierenden Landwirtschaft', 'label': 'SUPPORTED', 'predicted': 'NOT_SUPPORTED', 'atoms': [{'atom': 'Proto-neolithic refers to a precursor.', 'predicted': 'NOT_SUPPORTED'}, {'atom': 'The precursor is related to producing agriculture.', 'predicted': 'NOT_SUPPORTED'}], 'selected_evidences': []}, {'id': 43, 'word': 'Dime', 'claim': 'Zehn-Cent-Münze', 'label': 'SUPPORTED', 'predicted': 'SUPPORTED', 'atoms': [{'atom': 'A dime is a coin.', 'predicted': 'SUPPORTED'}, {'atom': 'A dime is worth ten cents.', 'predicted': 'SUPPORTED'}, {'atom': 'A dime is denoted by the number 10.', 'predicted': 'SUPPORTED'}], 'selected_evidences': []}, {'id': 44, 'word': 'Sepsis', 'claim': 'Eine schwere generalisierte Infektion, also die Ausbreitung von einem lokalen Infektionsort über die Blutbahn im gesamten Körper', 'label': 'SUPPORTED', 'predicted': 'NOT_SUPPORTED', 'atoms': [{'atom': 'Sepsis is a term used to describe a severe infection.', 'predicted': 'NOT_SUPPORTED'}, {'atom': 'Sepsis is a generalized infection.', 'predicted': 'NOT_SUPPORTED'}, {'atom': 'Sepsis can result from the spread of a local infection through the bloodstream.', 'predicted': 'NOT_SUPPORTED'}, {'atom': 'Sepsis affects the whole body.', 'predicted': 'SUPPORTED'}], 'selected_evidences': []}, {'id': 45, 'word': 'Glasübergang', 'claim': 'eine sprunghafte Änderung des Wärmeausdehnungskoeffizienten sowie eine Abnahme der spezifischen Wärme', 'label': 'SUPPORTED', 'predicted': 'NOT_SUPPORTED', 'atoms': [{'atom': 'The glass transition signifies a sudden change.', 'predicted': 'NOT_SUPPORTED'}, {'atom': 'The glass transition signifies a change in the coefficient of thermal expansion.', 'predicted': 'NOT_SUPPORTED'}, {'atom': 'The glass transition signifies a decrease in specific heat.', 'predicted': 'SUPPORTED'}], 'selected_evidences': []}, {'id': 46, 'word': 'Splintholz', 'claim': \"Bereich des Stammes, der aktiv am ''Wasser''- und ''Nährstofftransport'' und der Speicherung teilnimmt\", 'label': 'SUPPORTED', 'predicted': 'NOT_SUPPORTED', 'atoms': [{'atom': 'Sapwood is an area of the trunk.', 'predicted': 'NOT_SUPPORTED'}, {'atom': 'Sapwood actively participates in water transport.', 'predicted': 'NOT_SUPPORTED'}, {'atom': 'Sapwood actively participates in nutrient transport.', 'predicted': 'NOT_SUPPORTED'}, {'atom': 'Sapwood also stores water and nutrients.', 'predicted': 'NOT_SUPPORTED'}], 'selected_evidences': []}, {'id': 47, 'word': 'Koran', 'claim': \"die heilige Schrift des Islams, die gemäß dem Glauben der Muslime die wörtliche Offenbarung Gottes (arabisch الله, ''Allah'') an den Propheten Mohammed enthält\", 'label': 'SUPPORTED', 'predicted': 'NOT_SUPPORTED', 'atoms': [{'atom': 'The Quran is the sacred scripture of Islam.', 'predicted': 'SUPPORTED'}, {'atom': 'Islam is a faith of Muslims.', 'predicted': 'SUPPORTED'}, {'atom': 'The Quran contains the literal revelation of God.', 'predicted': 'NOT_SUPPORTED'}, {'atom': 'The Quran was revealed to the Prophet Mohammed.', 'predicted': 'SUPPORTED'}, {'atom': \"The Arabic word for God is ''Allah''.\", 'predicted': 'NOT_SUPPORTED'}], 'selected_evidences': []}, {'id': 48, 'word': 'Bergflucht', 'claim': 'durch inneralpine Abwanderung in die Zentren', 'label': 'SUPPORTED', 'predicted': 'NOT_SUPPORTED', 'atoms': [], 'selected_evidences': []}, {'id': 49, 'word': 'Grand Central Terminal', 'claim': 'Bahnhofsgebäudes', 'label': 'SUPPORTED', 'predicted': 'NOT_SUPPORTED', 'atoms': [{'atom': 'The Grand Central Terminal is a building.', 'predicted': 'SUPPORTED'}, {'atom': 'The building is a station.', 'predicted': 'NOT_SUPPORTED'}], 'selected_evidences': []}, {'id': 50, 'word': 'Broadway', 'claim': 'das Theaterviertel am Times Square zwischen der 41st Street und 53rd Street und zwischen der Sixth und Ninth Avenue', 'label': 'SUPPORTED', 'predicted': 'NOT_SUPPORTED', 'atoms': [{'atom': 'Broadway is the theatre district.', 'predicted': 'SUPPORTED'}, {'atom': 'Broadway is on Times Square.', 'predicted': 'SUPPORTED'}, {'atom': 'Times Square is between 41st Street and 53rd Street.', 'predicted': 'SUPPORTED'}, {'atom': 'Times Square is between Sixth and Ninth Avenue.', 'predicted': 'NOT_SUPPORTED'}], 'selected_evidences': []}, {'id': 51, 'word': 'Inokulation', 'claim': 'Das absichtliche (aktive) Einbringen von Mikroorganismen in ein Nährmedium', 'label': 'SUPPORTED', 'predicted': 'NOT_SUPPORTED', 'atoms': [{'atom': 'Inoculation is a process.', 'predicted': 'SUPPORTED'}, {'atom': 'Inoculation involves inserting microorganisms.', 'predicted': 'NOT_SUPPORTED'}, {'atom': 'Inoculation is deliberate.', 'predicted': 'NOT_SUPPORTED'}, {'atom': 'Inoculation is active.', 'predicted': 'NOT_SUPPORTED'}, {'atom': 'Inoculation is used in breeding.', 'predicted': 'NOT_SUPPORTED'}, {'atom': 'Inoculation is used in breeding medium.', 'predicted': 'NOT_SUPPORTED'}], 'selected_evidences': []}, {'id': 52, 'word': 'Asthma', 'claim': 'eine chronische, entzündliche Erkrankung der Atemwege mit dauerhaft bestehender Überempfindlichkeit', 'label': 'SUPPORTED', 'predicted': 'SUPPORTED', 'atoms': [{'atom': 'Asthma is a respiratory disease.', 'predicted': 'SUPPORTED'}, {'atom': 'Asthma is chronic.', 'predicted': 'SUPPORTED'}, {'atom': 'Asthma is inflammatory.', 'predicted': 'SUPPORTED'}, {'atom': 'Asthma is characterized by persistent hypersensitivity.', 'predicted': 'SUPPORTED'}, {'atom': 'Asthma is a chronic inflammatory respiratory disease.', 'predicted': 'SUPPORTED'}, {'atom': 'Asthma signifies a chronic inflammatory respiratory disease with persistent hypersensitivity.', 'predicted': 'SUPPORTED'}], 'selected_evidences': []}, {'id': 53, 'word': 'Universitätsrechenzentrum', 'claim': 'die informationstechnische (IT) Infrastruktur (Hochschulnetz, Server etc.) bereitstellt und betreibt sowie IT-Dienstleistungen (E-Mail, Web-Services etc.) und Beratung erbringt', 'label': 'SUPPORTED', 'predicted': 'NOT_SUPPORTED', 'atoms': [{'atom': 'A university computing centre provides information technology infrastructure.', 'predicted': 'NOT_SUPPORTED'}, {'atom': 'A university computing centre operates information technology infrastructure.', 'predicted': 'NOT_SUPPORTED'}, {'atom': 'A university computing centre provides IT services.', 'predicted': 'NOT_SUPPORTED'}, {'atom': 'A university computing centre provides consulting services.', 'predicted': 'NOT_SUPPORTED'}], 'selected_evidences': []}, {'id': 54, 'word': 'Pharaonismus', 'claim': 'der sogenannte ethno-territoriale ägyptische Nationalismus', 'label': 'SUPPORTED', 'predicted': 'NOT_SUPPORTED', 'atoms': [], 'selected_evidences': []}, {'id': 55, 'word': 'USAF', 'claim': 'die Luftstreitkraft der Streitkräfte der Vereinigten Staaten von Amerika', 'label': 'SUPPORTED', 'predicted': 'SUPPORTED', 'atoms': [{'atom': 'The USAF stands for the Air Force of the United States of America.', 'predicted': 'SUPPORTED'}, {'atom': 'The USAF represents the Air Force of the United States of America.', 'predicted': 'SUPPORTED'}], 'selected_evidences': []}, {'id': 56, 'word': 'phonematisches Orthographieprinzip', 'claim': 'die Schreibung richtet sich nach der Lautung', 'label': 'SUPPORTED', 'predicted': 'NOT_SUPPORTED', 'atoms': [], 'selected_evidences': []}, {'id': 57, 'word': 'Flechte', 'claim': 'eine symbiotische Lebensgemeinschaft zwischen einem Pilz und Grünalgen oder Cyanobakterien', 'label': 'SUPPORTED', 'predicted': 'NOT_SUPPORTED', 'atoms': [{'atom': 'Lichen is a symbiotic community.', 'predicted': 'SUPPORTED'}, {'atom': 'Lichen includes a fungus.', 'predicted': 'NOT_SUPPORTED'}, {'atom': 'Lichen includes green algae or cyanobacteria.', 'predicted': 'NOT_SUPPORTED'}], 'selected_evidences': []}, {'id': 58, 'word': 'Apotheose', 'claim': 'die Vergöttlichung eines als heldenhaft angesehenen Menschen, der als Gottkönig verehrt wird', 'label': 'SUPPORTED', 'predicted': 'NOT_SUPPORTED', 'atoms': [{'atom': 'Apotheosis signifies something.', 'predicted': 'SUPPORTED'}, {'atom': 'The something is the deification of a man.', 'predicted': 'NOT_SUPPORTED'}, {'atom': 'The man is considered heroic.', 'predicted': 'NOT_SUPPORTED'}, {'atom': 'The man is revered.', 'predicted': 'NOT_SUPPORTED'}, {'atom': 'The man is revered as God King.', 'predicted': 'NOT_SUPPORTED'}], 'selected_evidences': []}, {'id': 59, 'word': 'Hub-Topologie', 'claim': 'baumartig verzweigende Strukturen', 'label': 'SUPPORTED', 'predicted': 'NOT_SUPPORTED', 'atoms': [], 'selected_evidences': []}, {'id': 60, 'word': 'Barekendan', 'claim': 'die armenische Variante des Karneval', 'label': 'SUPPORTED', 'predicted': 'NOT_SUPPORTED', 'atoms': [], 'selected_evidences': []}, {'id': 61, 'word': 'USB-Umschalter', 'claim': 'ein Gerät zum Betrieb eines Peripheriegeräts an mehreren Rechnern ohne Umstecken', 'label': 'SUPPORTED', 'predicted': 'NOT_SUPPORTED', 'atoms': [], 'selected_evidences': []}, {'id': 62, 'word': 'Immunologie', 'claim': 'die Lehre von den biologischen und biochemischen Grundlagen der körperlichen Abwehr von Krankheitserregern wie Bakterien, Viren und Pilzen sowie anderen körperfremden Stoffen wie beispielsweise biologischen Toxinen und Umweltgiften, und darüber hinaus von Störungen und Fehlfunktionen dieser Abwehrmechanismen', 'label': 'SUPPORTED', 'predicted': 'NOT_SUPPORTED', 'atoms': [{'atom': 'Immunology teaches about biological and biochemical fundamentals.', 'predicted': 'SUPPORTED'}, {'atom': 'Immunology is about physical defense against pathogens.', 'predicted': 'NOT_SUPPORTED'}, {'atom': 'Pathogens include bacteria, viruses, and fungi.', 'predicted': 'NOT_SUPPORTED'}, {'atom': 'Immunology also covers non-body substances such as biological toxins and environmental toxins.', 'predicted': 'NOT_SUPPORTED'}, {'atom': 'Immunology teaches about disorders and malfunctions of defense mechanisms.', 'predicted': 'SUPPORTED'}], 'selected_evidences': []}, {'id': 63, 'word': 'Energieversorgung', 'claim': 'die Belieferung von Verbrauchern mit diesen Energieformen, inklusive der dazu notwendigen Energieinfrastruktur', 'label': 'SUPPORTED', 'predicted': 'NOT_SUPPORTED', 'atoms': [{'atom': 'Energy supply is the process of supplying consumers with forms of energy.', 'predicted': 'NOT_SUPPORTED'}, {'atom': 'Forms of energy are included in energy supply.', 'predicted': 'SUPPORTED'}, {'atom': 'Energy infrastructure is necessary for energy supply.', 'predicted': 'SUPPORTED'}, {'atom': 'Necessary energy infrastructure is included in energy supply.', 'predicted': 'SUPPORTED'}], 'selected_evidences': []}, {'id': 64, 'word': 'YouTube-Kanal', 'claim': 'der individuelle Bereich eines YouTube-Benutzers', 'label': 'SUPPORTED', 'predicted': 'NOT_SUPPORTED', 'atoms': [{'atom': \"The YouTube channel represents an individual's area on YouTube.\", 'predicted': 'NOT_SUPPORTED'}, {'atom': 'The YouTube channel is associated with a YouTube user.', 'predicted': 'NOT_SUPPORTED'}], 'selected_evidences': []}, {'id': 65, 'word': 'DBMS', 'claim': 'die eingesetzte Software, die für das Datenbanksystem installiert und konfiguriert wird', 'label': 'SUPPORTED', 'predicted': 'NOT_SUPPORTED', 'atoms': [{'atom': 'The dbms represents software.', 'predicted': 'NOT_SUPPORTED'}, {'atom': 'The software is used.', 'predicted': 'NOT_SUPPORTED'}, {'atom': 'The software is installed.', 'predicted': 'NOT_SUPPORTED'}, {'atom': 'The software is configured.', 'predicted': 'NOT_SUPPORTED'}, {'atom': 'The software is for the database system.', 'predicted': 'NOT_SUPPORTED'}], 'selected_evidences': []}, {'id': 66, 'word': 'Empanada', 'claim': 'überwiegend aus Teig und einer würzigen Füllung bestehende Gericht', 'label': 'SUPPORTED', 'predicted': 'NOT_SUPPORTED', 'atoms': [{'atom': 'An empanada is a dish.', 'predicted': 'SUPPORTED'}, {'atom': 'An empanada is made of dough.', 'predicted': 'SUPPORTED'}, {'atom': 'An empanada has a spicy filling.', 'predicted': 'SUPPORTED'}, {'atom': 'An empanada is mainly made of dough.', 'predicted': 'SUPPORTED'}, {'atom': 'The filling in an empanada is spicy.', 'predicted': 'NOT_SUPPORTED'}], 'selected_evidences': []}, {'id': 67, 'word': 'Drehkreuz-Flughafen', 'claim': 'als ein Flughafen definiert, von dem eine oder mehrere Fluggesellschaften ein integriertes Servicenetzwerk zu einer Vielzahl von verschiedenen Destinationen mit einer hohen Frequenz an Verbindungen anbieten', 'label': 'SUPPORTED', 'predicted': 'NOT_SUPPORTED', 'atoms': [{'atom': 'A hub airport is defined as an airport.', 'predicted': 'SUPPORTED'}, {'atom': 'One or more airlines offer an integrated service network.', 'predicted': 'NOT_SUPPORTED'}, {'atom': 'The service network is offered to a variety of different destinations.', 'predicted': 'NOT_SUPPORTED'}, {'atom': 'The service network has a high frequency of connections.', 'predicted': 'NOT_SUPPORTED'}], 'selected_evidences': []}, {'id': 68, 'word': 'Hebb-Synapse', 'claim': 'eine Synapse, die durch gleichzeitige Aktivität im vor- und nachsynaptischen Neuron stärker wird', 'label': 'SUPPORTED', 'predicted': 'NOT_SUPPORTED', 'atoms': [{'atom': 'A hebb synapse is a type of synapse.', 'predicted': 'NOT_SUPPORTED'}, {'atom': 'A hebb synapse becomes stronger.', 'predicted': 'NOT_SUPPORTED'}, {'atom': 'A hebb synapse becomes stronger by simultaneous activity.', 'predicted': 'NOT_SUPPORTED'}, {'atom': 'The simultaneous activity occurs in the pre', 'predicted': 'NOT_SUPPORTED'}, {'atom': 'and post-synaptic neurons.', 'predicted': 'SUPPORTED'}], 'selected_evidences': []}, {'id': 69, 'word': 'Durchfall', 'claim': \"die mehrfache Ausscheidung von ''zu flüssigem'' Stuhl\", 'label': 'SUPPORTED', 'predicted': 'NOT_SUPPORTED', 'atoms': [{'atom': 'Diarrhea is a medical condition.', 'predicted': 'NOT_SUPPORTED'}, {'atom': 'Diarrhea involves multiple excretion of stool.', 'predicted': 'NOT_SUPPORTED'}, {'atom': \"The stool is 'too liquid'.\", 'predicted': 'NOT_SUPPORTED'}, {'atom': 'Diarrhea is a sign of a health issue.', 'predicted': 'NOT_SUPPORTED'}], 'selected_evidences': []}, {'id': 70, 'word': 'Internet-Konnektivität', 'claim': ' Transfer von IP-Paketen in und aus dem Internet', 'label': 'SUPPORTED', 'predicted': 'NOT_SUPPORTED', 'atoms': [{'atom': 'Internet connectivity involves transferring IP packages.', 'predicted': 'NOT_SUPPORTED'}, {'atom': 'IP packages are transferred to the Internet.', 'predicted': 'NOT_SUPPORTED'}, {'atom': 'IP packages are transferred from the Internet.', 'predicted': 'NOT_SUPPORTED'}], 'selected_evidences': []}, {'id': 71, 'word': 'Browser', 'claim': 'die Benutzeroberfläche für Webanwendungen ', 'label': 'SUPPORTED', 'predicted': 'NOT_SUPPORTED', 'atoms': [{'atom': 'A browser is a user interface.', 'predicted': 'SUPPORTED'}, {'atom': 'A browser is for web applications.', 'predicted': 'SUPPORTED'}, {'atom': 'A browser represents the user.', 'predicted': 'NOT_SUPPORTED'}], 'selected_evidences': []}, {'id': 72, 'word': 'Macintosh', 'claim': 'der erste Mikrocomputer mit grafischer Benutzeroberfläche, der in größeren Stückzahlen produziert wurde', 'label': 'SUPPORTED', 'predicted': 'NOT_SUPPORTED', 'atoms': [{'atom': 'The Mac is a microcomputer.', 'predicted': 'NOT_SUPPORTED'}, {'atom': 'The Mac had a graphical user interface.', 'predicted': 'NOT_SUPPORTED'}, {'atom': 'The Mac was produced in larger quantities.', 'predicted': 'NOT_SUPPORTED'}, {'atom': 'The Mac was the first microcomputer with a graphical user interface to be produced in larger quantities.', 'predicted': 'NOT_SUPPORTED'}], 'selected_evidences': []}, {'id': 73, 'word': 'Tumorimmunologie', 'claim': 'Teilgebiet der Immunologie, das sich mit den immunologischen Vorgängen bei der Entstehung, dem Verlauf und der Bekämpfung von Tumoren befasst', 'label': 'SUPPORTED', 'predicted': 'NOT_SUPPORTED', 'atoms': [{'atom': 'Cancer immunology is a sub-area of immunology.', 'predicted': 'SUPPORTED'}, {'atom': 'Cancer immunology deals with immunological processes.', 'predicted': 'SUPPORTED'}, {'atom': 'Immunological processes are involved in the development, course, and control of tumors.', 'predicted': 'NOT_SUPPORTED'}], 'selected_evidences': []}, {'id': 74, 'word': 'Laservisiondisc', 'claim': 'ein optisches Speichermedium für Videos im Heimgebrauch', 'label': 'SUPPORTED', 'predicted': 'NOT_SUPPORTED', 'atoms': [], 'selected_evidences': []}, {'id': 75, 'word': 'Immuninsuffizienz', 'claim': 'eine ungenügende Immunabwehr', 'label': 'SUPPORTED', 'predicted': 'NOT_SUPPORTED', 'atoms': [], 'selected_evidences': []}, {'id': 76, 'word': 'VidCon', 'claim': 'die größte Video-Convention der Welt', 'label': 'SUPPORTED', 'predicted': 'NOT_SUPPORTED', 'atoms': [{'atom': 'Vidcon is a video convention.', 'predicted': 'NOT_SUPPORTED'}, {'atom': 'Vidcon is the largest in the world.', 'predicted': 'NOT_SUPPORTED'}], 'selected_evidences': []}, {'id': 77, 'word': 'Montgolfiere', 'claim': 'ein Heißluftballon aus Leinwand, der mit einer dünnen Papierschicht luftdicht verkleidet war', 'label': 'SUPPORTED', 'predicted': 'NOT_SUPPORTED', 'atoms': [{'atom': 'A montgolfiere is a type of hot air balloon.', 'predicted': 'SUPPORTED'}, {'atom': 'A montgolfiere is made of canvas.', 'predicted': 'NOT_SUPPORTED'}, {'atom': 'The canvas is covered with a thin layer of paper.', 'predicted': 'NOT_SUPPORTED'}], 'selected_evidences': []}, {'id': 78, 'word': 'Jayhawk', 'claim': 'ein nicht real existierender Vogel, der eine Mischung aus zwei Raubvögeln, nämlich einem Falken oder Habicht (englisch „hawk“) und dem Häher (englisch „jay“) darstellt', 'label': 'SUPPORTED', 'predicted': 'NOT_SUPPORTED', 'atoms': [{'atom': 'A jayhawk is a type of bird.', 'predicted': 'NOT_SUPPORTED'}, {'atom': 'A jayhawk is not a real bird.', 'predicted': 'NOT_SUPPORTED'}, {'atom': 'A jayhawk is a mixture of two birds of prey.', 'predicted': 'NOT_SUPPORTED'}, {'atom': 'One of the birds is a hawk or hawk.', 'predicted': 'NOT_SUPPORTED'}, {'atom': 'The other bird is the haher.', 'predicted': 'NOT_SUPPORTED'}], 'selected_evidences': []}, {'id': 79, 'word': 'Schleimhautödem', 'claim': 'Flüssigkeitseinlagerung in die Schleimhaut', 'label': 'SUPPORTED', 'predicted': 'NOT_SUPPORTED', 'atoms': [], 'selected_evidences': []}, {'id': 80, 'word': 'Lungenobstruktion', 'claim': 'Verengung des Lumens der Atemwege (Verkleinerung des verfügbaren Querschnitts)', 'label': 'SUPPORTED', 'predicted': 'NOT_SUPPORTED', 'atoms': [], 'selected_evidences': []}, {'id': 81, 'word': 'Uranmunition', 'claim': 'panzerbrechende Munition, die abgereichertes Uran als Projektilkernmaterial enthält', 'label': 'SUPPORTED', 'predicted': 'NOT_SUPPORTED', 'atoms': [{'atom': 'Uranium ammunition is armor-piercing ammunition.', 'predicted': 'NOT_SUPPORTED'}, {'atom': 'Uranium ammunition contains depleted uranium.', 'predicted': 'SUPPORTED'}, {'atom': 'Depleted uranium is used as projectile material in uranium ammunition.', 'predicted': 'SUPPORTED'}], 'selected_evidences': []}, {'id': 82, 'word': 'Feynmann-Diagramm', 'claim': 'Darstellung quantenfeldtheoretischer elementarer Wechselwirkungen', 'label': 'SUPPORTED', 'predicted': 'NOT_SUPPORTED', 'atoms': [{'atom': 'Feynmann diagram is a representation.', 'predicted': 'SUPPORTED'}, {'atom': 'It represents quantum field theoretical elementary interactions.', 'predicted': 'NOT_SUPPORTED'}], 'selected_evidences': []}, {'id': 83, 'word': 'Ornithologie', 'claim': 'Die Wissenschaft von den Vögeln', 'label': 'SUPPORTED', 'predicted': 'SUPPORTED', 'atoms': [{'atom': 'Ornithology is a science.', 'predicted': 'SUPPORTED'}, {'atom': 'Ornithology is the science of birds.', 'predicted': 'SUPPORTED'}], 'selected_evidences': []}, {'id': 84, 'word': 'Primärtuberkulose', 'claim': 'Krankheitszeichen, die sich direkt nach der Infektion manifestieren', 'label': 'SUPPORTED', 'predicted': 'NOT_SUPPORTED', 'atoms': [{'atom': 'Primary tuberculosis signifies signs of disease.', 'predicted': 'NOT_SUPPORTED'}, {'atom': 'The signs of disease manifest immediately after infection.', 'predicted': 'NOT_SUPPORTED'}, {'atom': 'The disease is tuberculosis.', 'predicted': 'NOT_SUPPORTED'}, {'atom': 'The tuberculosis is primary.', 'predicted': 'NOT_SUPPORTED'}, {'atom': 'The signs of disease manifest immediately after infection.', 'predicted': 'NOT_SUPPORTED'}], 'selected_evidences': []}, {'id': 85, 'word': 'phonematisches Orthographieprinzip', 'claim': 'elektrische Leistung in mechanische Leistung umwandelt', 'label': 'NOT_SUPPORTED', 'predicted': 'NOT_SUPPORTED', 'atoms': [], 'selected_evidences': []}, {'id': 86, 'word': 'Vakuum', 'claim': 'im engeren Wortsinn das Eingreifen staatlicher oder sonstiger machtgestützter Institutionen, durch die im Sinne dieser Institutionen unerwünschte Inhalte von der Medienöffentlichkeit ferngehalten werden sollen', 'label': 'NOT_SUPPORTED', 'predicted': 'NOT_SUPPORTED', 'atoms': [{'atom': 'The word vacuum has a narrow sense.', 'predicted': 'NOT_SUPPORTED'}, {'atom': 'Vacuum refers to the intervention of state or other power-based institutions.', 'predicted': 'NOT_SUPPORTED'}, {'atom': 'The purpose of vacuum is to keep away unwanted content from the media public.', 'predicted': 'NOT_SUPPORTED'}, {'atom': 'Vacuum only applies to unwanted content controlled by these institutions.', 'predicted': 'NOT_SUPPORTED'}], 'selected_evidences': []}, {'id': 87, 'word': 'Pharaonismus', 'claim': 'die staatliche Rundfunkgesellschaft Ägyptens', 'label': 'NOT_SUPPORTED', 'predicted': 'NOT_SUPPORTED', 'atoms': [], 'selected_evidences': []}, {'id': 88, 'word': 'phonematisches Orthographieprinzip', 'claim': 'ein Träger für elektronische Bauteile', 'label': 'NOT_SUPPORTED', 'predicted': 'NOT_SUPPORTED', 'atoms': [], 'selected_evidences': []}, {'id': 89, 'word': 'Kyffhäuserdenkmal', 'claim': 'eine organisierte Gruppe oder Gewerkschaft, in der arbeitende Kinder und Jugendliche sich aktiv und kollektiv für die eigenen Rechte einsetzen', 'label': 'NOT_SUPPORTED', 'predicted': 'NOT_SUPPORTED', 'atoms': [{'atom': 'The kyffhäuser monument symbolizes an organized group or union.', 'predicted': 'NOT_SUPPORTED'}, {'atom': 'The organized group or union consists of working children and young people.', 'predicted': 'NOT_SUPPORTED'}, {'atom': 'The working children and young people actively work for their own rights.', 'predicted': 'NOT_SUPPORTED'}], 'selected_evidences': []}, {'id': 90, 'word': 'Lungenobstruktion', 'claim': 'eine sportliche Spielpaarung, die in keine offizielle Wertung einfließt', 'label': 'NOT_SUPPORTED', 'predicted': 'NOT_SUPPORTED', 'atoms': [], 'selected_evidences': []}, {'id': 91, 'word': 'Generator', 'claim': 'eine künstliche Lichtquelle', 'label': 'NOT_SUPPORTED', 'predicted': 'NOT_SUPPORTED', 'atoms': [{'atom': 'A generator produces light.', 'predicted': 'NOT_SUPPORTED'}, {'atom': 'A generator is artificial.', 'predicted': 'NOT_SUPPORTED'}, {'atom': 'A generator is a light source.', 'predicted': 'NOT_SUPPORTED'}], 'selected_evidences': []}, {'id': 92, 'word': 'Dime', 'claim': 'Die Wissenschaft, die sich mit der russischen Sprache und der umfangreichen russischen Literatur beschäftigt', 'label': 'NOT_SUPPORTED', 'predicted': 'NOT_SUPPORTED', 'atoms': [{'atom': 'Dime is a science.', 'predicted': 'NOT_SUPPORTED'}, {'atom': 'Dime deals with Russian language.', 'predicted': 'NOT_SUPPORTED'}, {'atom': 'Dime deals with extensive Russian literature.', 'predicted': 'NOT_SUPPORTED'}], 'selected_evidences': []}, {'id': 93, 'word': 'Kindergewerkschaft', 'claim': 'eine aus dem Kubismus entstandene Kunstrichtung, bei der vor allem Kreisgebilde in bunten Farben auf der Grundlage der Farbtheorie des Chemikers Michel Eugène Chevreul geschaffen wurden', 'label': 'NOT_SUPPORTED', 'predicted': 'NOT_SUPPORTED', 'atoms': [], 'selected_evidences': []}, {'id': 94, 'word': 'Immunologie', 'claim': ' ein 81 Meter hohes, weithin sichtbares Denkmal auf dem gleichnamigen Gebirge bei Bad Frankenhausen', 'label': 'NOT_SUPPORTED', 'predicted': 'NOT_SUPPORTED', 'atoms': [{'atom': 'The monument is called Immunology.', 'predicted': 'NOT_SUPPORTED'}, {'atom': 'The monument is 81 metres high.', 'predicted': 'NOT_SUPPORTED'}, {'atom': 'The monument is located on the eponymous mountains.', 'predicted': 'NOT_SUPPORTED'}, {'atom': 'The monument is near Bad Frankenhausen.', 'predicted': 'NOT_SUPPORTED'}, {'atom': 'The monument is widely visible.', 'predicted': 'NOT_SUPPORTED'}], 'selected_evidences': []}, {'id': 95, 'word': 'Seidenstraße', 'claim': 'feinpulvriges Zink', 'label': 'NOT_SUPPORTED', 'predicted': 'NOT_SUPPORTED', 'atoms': [{'atom': 'The Silk Road refers to something.', 'predicted': 'SUPPORTED'}, {'atom': 'The Silk Road refers to fine powdery zinc.', 'predicted': 'NOT_SUPPORTED'}], 'selected_evidences': []}, {'id': 96, 'word': 'Glühbirne', 'claim': 'ie zentrale Verbindung zwischen Ost und West, sowohl zum Austausch von Waren als auch von kultureller Identität', 'label': 'NOT_SUPPORTED', 'predicted': 'NOT_SUPPORTED', 'atoms': [{'atom': 'A light bulb symbolizes the central connection between East and West.', 'predicted': 'NOT_SUPPORTED'}, {'atom': 'The connection is for the exchange of goods.', 'predicted': 'NOT_SUPPORTED'}, {'atom': 'The connection is for cultural identity.', 'predicted': 'NOT_SUPPORTED'}], 'selected_evidences': []}, {'id': 97, 'word': 'Anthropologie', 'claim': 'in der technischen Praxis ein Raum mit weitgehender Abwesenheit von Materie – im Vakuum gibt es keine festen Objekte oder Flüssigkeit, extrem wenig Gas und damit auch einen extrem niedrigen Gasdruck', 'label': 'NOT_SUPPORTED', 'predicted': 'NOT_SUPPORTED', 'atoms': [{'atom': 'Anthropology is a space.', 'predicted': 'NOT_SUPPORTED'}, {'atom': 'The space has an extensive absence of matter.', 'predicted': 'NOT_SUPPORTED'}, {'atom': 'In a vacuum, there are no solid objects.', 'predicted': 'NOT_SUPPORTED'}, {'atom': 'In a vacuum, there are no liquid objects.', 'predicted': 'NOT_SUPPORTED'}, {'atom': 'In a vacuum, there is an extremely little amount of gas.', 'predicted': 'NOT_SUPPORTED'}, {'atom': 'In a vacuum, there is an extremely low gas pressure.', 'predicted': 'NOT_SUPPORTED'}], 'selected_evidences': []}, {'id': 98, 'word': 'Feynmann-Diagramm', 'claim': 'eine promotionsberechtigte Hochschule mit einem breiten Angebot an Ingenieurfächern und naturwissenschaftlichen Fächern, zumeist ergänzt um weitere Fächer', 'label': 'NOT_SUPPORTED', 'predicted': 'NOT_SUPPORTED', 'atoms': [{'atom': 'A Feynmann diagram signifies a doctoral university.', 'predicted': 'NOT_SUPPORTED'}, {'atom': 'The university has a wide range of engineering and scientific subjects.', 'predicted': 'NOT_SUPPORTED'}, {'atom': \"The university's subjects are mostly supplemented by other subjects.\", 'predicted': 'NOT_SUPPORTED'}], 'selected_evidences': []}, {'id': 99, 'word': 'Datenkompression', 'claim': 'schwer kranken Kindern hilft', 'label': 'NOT_SUPPORTED', 'predicted': 'NOT_SUPPORTED', 'atoms': [{'atom': 'Data compression is a technology.', 'predicted': 'SUPPORTED'}, {'atom': 'Data compression reduces the size of data.', 'predicted': 'SUPPORTED'}, {'atom': 'Data compression helps severely ill children.', 'predicted': 'NOT_SUPPORTED'}], 'selected_evidences': []}, {'id': 100, 'word': 'Inokulation', 'claim': 'ein Gerät, das mittels programmierbarer Rechenvorschriften Daten verarbeitet', 'label': 'NOT_SUPPORTED', 'predicted': 'NOT_SUPPORTED', 'atoms': [{'atom': 'Inoculation is a device.', 'predicted': 'NOT_SUPPORTED'}, {'atom': 'Inoculation processes data.', 'predicted': 'NOT_SUPPORTED'}, {'atom': 'Inoculation uses programmable calculation rules.', 'predicted': 'NOT_SUPPORTED'}], 'selected_evidences': []}, {'id': 101, 'word': 'Hebb-Synapse', 'claim': 'eine empirisch gestützte Wissenschaft von der Kultur (im Sinne von „menschliche Kultur“)', 'label': 'NOT_SUPPORTED', 'predicted': 'NOT_SUPPORTED', 'atoms': [{'atom': 'A hebb synapse is a term.', 'predicted': 'NOT_SUPPORTED'}, {'atom': 'A hebb synapse signifies something.', 'predicted': 'NOT_SUPPORTED'}, {'atom': 'A hebb synapse signifies an empirically supported science.', 'predicted': 'NOT_SUPPORTED'}, {'atom': 'An empirically supported science is a type of science.', 'predicted': 'NOT_SUPPORTED'}, {'atom': 'An empirically supported science is related to culture.', 'predicted': 'NOT_SUPPORTED'}, {'atom': 'Culture refers to human culture.', 'predicted': 'NOT_SUPPORTED'}], 'selected_evidences': []}, {'id': 102, 'word': 'Energieversorgung', 'claim': 'ein Handwerker, der Papier herstellt', 'label': 'NOT_SUPPORTED', 'predicted': 'NOT_SUPPORTED', 'atoms': [{'atom': 'Energy supply represents a craftsman.', 'predicted': 'NOT_SUPPORTED'}, {'atom': 'The craftsman makes paper.', 'predicted': 'NOT_SUPPORTED'}], 'selected_evidences': []}, {'id': 103, 'word': 'Broadway', 'claim': 'ein optischer Speicher, der Anfang der 1980er-Jahre zur digitalen Speicherung von Musik von Philips/PolyGram und Sony eingeführt wurde und die Schallplatte ablösen sollte', 'label': 'NOT_SUPPORTED', 'predicted': 'NOT_SUPPORTED', 'atoms': [{'atom': 'Broadway is an optical memory.', 'predicted': 'NOT_SUPPORTED'}, {'atom': 'Broadway was introduced in the early 1980s.', 'predicted': 'NOT_SUPPORTED'}, {'atom': 'Broadway was introduced for the digital storage of music.', 'predicted': 'NOT_SUPPORTED'}, {'atom': 'Broadway was introduced by Philips/PolyGram and Sony.', 'predicted': 'NOT_SUPPORTED'}, {'atom': 'Broadway was introduced to replace the record.', 'predicted': 'NOT_SUPPORTED'}], 'selected_evidences': []}, {'id': 104, 'word': 'Zensur', 'claim': 'übernatürliche Geistwesen', 'label': 'NOT_SUPPORTED', 'predicted': 'NOT_SUPPORTED', 'atoms': [{'atom': 'Censorship signifies spirits.', 'predicted': 'NOT_SUPPORTED'}, {'atom': 'The spirits are supernatural.', 'predicted': 'NOT_SUPPORTED'}], 'selected_evidences': []}, {'id': 105, 'word': 'Energieverbrauch', 'claim': 'Computerprogramme, die ihre jeweils individuell erforderlichen Daten unter Nutzung eines Datenbanksystems verwalten und speichern', 'label': 'NOT_SUPPORTED', 'predicted': 'NOT_SUPPORTED', 'atoms': [{'atom': 'Energy consumption represents computer programs.', 'predicted': 'NOT_SUPPORTED'}, {'atom': 'Computer programs manage and store their individually required data.', 'predicted': 'NOT_SUPPORTED'}, {'atom': 'Computer programs use a database system.', 'predicted': 'NOT_SUPPORTED'}], 'selected_evidences': []}, {'id': 106, 'word': 'Kulturanthropologie', 'claim': 'die Wissenschaft vom Menschen', 'label': 'NOT_SUPPORTED', 'predicted': 'SUPPORTED', 'atoms': [{'atom': 'Cultural anthropology is a science.', 'predicted': 'SUPPORTED'}, {'atom': 'Cultural anthropology studies man.', 'predicted': 'SUPPORTED'}], 'selected_evidences': []}, {'id': 107, 'word': 'Gletscher', 'claim': 'ein serielles Bussystem zur Verbindung eines Computers mit externen Geräten', 'label': 'NOT_SUPPORTED', 'predicted': 'NOT_SUPPORTED', 'atoms': [{'atom': 'A glacier is a serial bus system.', 'predicted': 'NOT_SUPPORTED'}, {'atom': 'A glacier is used for connecting a computer to external devices.', 'predicted': 'NOT_SUPPORTED'}], 'selected_evidences': []}, {'id': 108, 'word': 'OPEC', 'claim': 'die Fähigkeit, Unsauberkeiten in der Intonation – also geringe Abweichungen der Tonhöhe von einem musikalisch geplanten Wert – zu erkennen', 'label': 'NOT_SUPPORTED', 'predicted': 'NOT_SUPPORTED', 'atoms': [{'atom': 'Opec signifies the ability to detect uncleanness in intonation.', 'predicted': 'NOT_SUPPORTED'}, {'atom': 'Opec detects small deviations in pitch.', 'predicted': 'NOT_SUPPORTED'}, {'atom': 'These deviations are from a musically planned value.', 'predicted': 'NOT_SUPPORTED'}], 'selected_evidences': []}, {'id': 109, 'word': 'Post-Punk', 'claim': 'einer Gruppe mittelindischer gesprochener Dialekte', 'label': 'NOT_SUPPORTED', 'predicted': 'NOT_SUPPORTED', 'atoms': [{'atom': 'Post-punk is a term.', 'predicted': 'SUPPORTED'}, {'atom': 'Post-punk represents a group.', 'predicted': 'NOT_SUPPORTED'}, {'atom': 'The group is called mittelindic spoken dialects.', 'predicted': 'NOT_SUPPORTED'}], 'selected_evidences': []}, {'id': 110, 'word': 'TU', 'claim': 'Für ein geografisches Gebiet, in dem die Biodiversität besonders groß ist – und das gleichzeitig besonders bedroht ist', 'label': 'NOT_SUPPORTED', 'predicted': 'NOT_SUPPORTED', 'atoms': [{'atom': 'Tu is a geographical area.', 'predicted': 'NOT_SUPPORTED'}, {'atom': 'Biodiversity is particularly large in Tu.', 'predicted': 'NOT_SUPPORTED'}, {'atom': 'Tu is particularly threatened.', 'predicted': 'NOT_SUPPORTED'}], 'selected_evidences': []}, {'id': 111, 'word': 'Generator', 'claim': 'Die Immungenetik untersucht die genetische Variabilität von Immunreaktionen, bzw. die Mechanismen der Erzeugung von Antikörpern, T-Zell-Rezeptoren und antigenpräsentierenden Komplexen', 'label': 'NOT_SUPPORTED', 'predicted': 'NOT_SUPPORTED', 'atoms': [{'atom': 'A generator signifies immunogenetics.', 'predicted': 'NOT_SUPPORTED'}, {'atom': 'Immunogenetics investigates genetic variability of immune reactions.', 'predicted': 'NOT_SUPPORTED'}, {'atom': 'Immunogenetics investigates the mechanisms of production of antibodies.', 'predicted': 'NOT_SUPPORTED'}, {'atom': 'Immunogenetics investigates the mechanisms of production of T-cell receptors.', 'predicted': 'NOT_SUPPORTED'}, {'atom': 'Immunogenetics investigates the mechanisms of production of antigen-presenting complexes.', 'predicted': 'NOT_SUPPORTED'}], 'selected_evidences': []}, {'id': 112, 'word': 'Prakrit', 'claim': \"ein Vorgang, bei dem die Menge digitaler Daten verdichtet oder ''reduziert'' wird\", 'label': 'NOT_SUPPORTED', 'predicted': 'NOT_SUPPORTED', 'atoms': [{'atom': 'Prakrit is a process.', 'predicted': 'NOT_SUPPORTED'}, {'atom': 'The process involves compressing digital data.', 'predicted': 'NOT_SUPPORTED'}, {'atom': 'The process involves reducing the amount of digital data.', 'predicted': 'NOT_SUPPORTED'}], 'selected_evidences': []}, {'id': 113, 'word': 'Drehkreuz-Flughafen', 'claim': 'internationale Abkommen zum Schutz der biologischen Vielfalt', 'label': 'NOT_SUPPORTED', 'predicted': 'NOT_SUPPORTED', 'atoms': [{'atom': 'The hub airport signifies something.', 'predicted': 'NOT_SUPPORTED'}, {'atom': 'The hub airport signifies international agreements.', 'predicted': 'NOT_SUPPORTED'}, {'atom': 'The international agreements are for the protection of biodiversity.', 'predicted': 'NOT_SUPPORTED'}], 'selected_evidences': []}, {'id': 114, 'word': 'Montgolfiere', 'claim': 'ein Abschnitt auf der DNA bezeichnet, der Grundinformationen für die Entwicklung von Eigenschaften eines Individuums und zur Herstellung einer biologisch aktiven RNA enthält', 'label': 'NOT_SUPPORTED', 'predicted': 'NOT_SUPPORTED', 'atoms': [{'atom': 'A montgolfiere represents a section on DNA.', 'predicted': 'NOT_SUPPORTED'}, {'atom': 'The section on DNA contains basic information.', 'predicted': 'NOT_SUPPORTED'}, {'atom': 'The basic information is for the development of properties of an individual.', 'predicted': 'NOT_SUPPORTED'}, {'atom': 'The basic information is for the production of a biologically active RNA.', 'predicted': 'NOT_SUPPORTED'}], 'selected_evidences': []}, {'id': 115, 'word': 'YouTube-Kanal', 'claim': 'die Lichtempfindlichkeit von fotografischen Platten und Filmen', 'label': 'NOT_SUPPORTED', 'predicted': 'NOT_SUPPORTED', 'atoms': [{'atom': 'The YouTube channel signifies something.', 'predicted': 'NOT_SUPPORTED'}, {'atom': 'The significance is related to light sensitivity.', 'predicted': 'NOT_SUPPORTED'}, {'atom': 'Light sensitivity is related to photographic plates and films.', 'predicted': 'NOT_SUPPORTED'}], 'selected_evidences': []}, {'id': 116, 'word': 'Flechte', 'claim': 'eine aus Schnee hervorgegangene Eismasse mit einem klar definierten Einzugsgebiet, die sich aufgrund von Hangneigung, Struktur des Eises, Temperatur und der aus der Masse des Eises und den anderen Faktoren hervorgehenden Schubspannung eigenständig bewegt', 'label': 'NOT_SUPPORTED', 'predicted': 'NOT_SUPPORTED', 'atoms': [{'atom': 'Lichen signifies an ice mass.', 'predicted': 'NOT_SUPPORTED'}, {'atom': 'The ice mass is the result of snow.', 'predicted': 'NOT_SUPPORTED'}, {'atom': 'The ice mass has a clearly defined catchment area.', 'predicted': 'NOT_SUPPORTED'}, {'atom': 'The ice mass moves independently.', 'predicted': 'NOT_SUPPORTED'}, {'atom': 'The ice mass moves due to slope, structure, temperature, and shear stress.', 'predicted': 'NOT_SUPPORTED'}, {'atom': 'The ice mass is affected by the mass of the ice and other factors.', 'predicted': 'NOT_SUPPORTED'}], 'selected_evidences': []}, {'id': 117, 'word': 'Pharaonismus', 'claim': 'ein Halbleiter-Bauelement, das Licht ausstrahlt, wenn elektrischer Strom in Durchlassrichtung fließt', 'label': 'NOT_SUPPORTED', 'predicted': 'NOT_SUPPORTED', 'atoms': [], 'selected_evidences': []}, {'id': 118, 'word': 'Lungenobstruktion', 'claim': 'die Gesamtheit der materiellen Träger der vererbbaren Informationen einer Zelle oder eines Viruspartikels: Chromosomen, Desoxyribonukleinsäure (DNS = DNA) oder Ribonukleinsäure (RNS = RNA) bei RNA-Viren, bei denen RNA anstelle von DNA als Informationsträger dient', 'label': 'NOT_SUPPORTED', 'predicted': 'NOT_SUPPORTED', 'atoms': [], 'selected_evidences': []}, {'id': 119, 'word': 'TU', 'claim': \"eine anhaltende Durchblutungsstörung (''Ischämie'') von Teilen des Herzmuskels\", 'label': 'NOT_SUPPORTED', 'predicted': 'NOT_SUPPORTED', 'atoms': [{'atom': 'Tu is a persistent circulation disorder.', 'predicted': 'NOT_SUPPORTED'}, {'atom': 'Tu is called \"Ischaemia.\"', 'predicted': 'NOT_SUPPORTED'}, {'atom': 'Tu affects parts of the heart muscle.', 'predicted': 'NOT_SUPPORTED'}], 'selected_evidences': []}, {'id': 120, 'word': 'Grand Central Terminal', 'claim': 'umgangssprachlich die Nutzung von verschiedenen Energien in für Menschen gut verwendbaren Formen', 'label': 'NOT_SUPPORTED', 'predicted': 'NOT_SUPPORTED', 'atoms': [{'atom': 'Grand Central Terminal symbolizes something.', 'predicted': 'SUPPORTED'}, {'atom': 'Grand Central Terminal symbolizes the colloquial use of different energies.', 'predicted': 'NOT_SUPPORTED'}, {'atom': 'Different energies can be used colloquially.', 'predicted': 'NOT_SUPPORTED'}, {'atom': 'The forms of energy are suitable for humans.', 'predicted': 'NOT_SUPPORTED'}], 'selected_evidences': []}, {'id': 121, 'word': 'Broadway', 'claim': 'der Wirrwarr aus niederländischen und englischen Wörtern, Satzbau und Sprichwörtern für die Kommunikation der niederländischen Hafenarbeiter mit den britischen Besatzungen der Steinkohleboote um 1900 bezeichnet wurde', 'label': 'NOT_SUPPORTED', 'predicted': 'NOT_SUPPORTED', 'atoms': [{'atom': 'Broadway symbolizes the confusion of Dutch and English words.', 'predicted': 'NOT_SUPPORTED'}, {'atom': 'Broadway symbolizes the confusion of Dutch and English sentence construction.', 'predicted': 'NOT_SUPPORTED'}, {'atom': 'Broadway symbolizes the confusion of Dutch and English proverbs.', 'predicted': 'NOT_SUPPORTED'}, {'atom': 'Dutch dockers communicated with British crews of coal boats.', 'predicted': 'NOT_SUPPORTED'}, {'atom': 'This communication occurred around 1900.', 'predicted': 'NOT_SUPPORTED'}], 'selected_evidences': []}, {'id': 122, 'word': 'DBMS', 'claim': 'eine kleine turksprachige Minderheit vorwiegend im Kaukasus, der Südwestukraine, der Krim und dem Balkan', 'label': 'NOT_SUPPORTED', 'predicted': 'NOT_SUPPORTED', 'atoms': [{'atom': 'A dbms represents a small minority.', 'predicted': 'NOT_SUPPORTED'}, {'atom': 'The minority is Turk-speaking.', 'predicted': 'NOT_SUPPORTED'}, {'atom': 'The minority is mainly located in the Caucasus, Southwest Ukraine, Crimea and the Balkans.', 'predicted': 'NOT_SUPPORTED'}], 'selected_evidences': []}, {'id': 123, 'word': 'Uranmunition', 'claim': 'Organisation erdölexportierender Länder', 'label': 'NOT_SUPPORTED', 'predicted': 'NOT_SUPPORTED', 'atoms': [{'atom': 'Uranium ammunition is a type of ammunition.', 'predicted': 'SUPPORTED'}, {'atom': 'Uranium ammunition represents the Organization of Oil Exporting Countries (OPEC).', 'predicted': 'NOT_SUPPORTED'}], 'selected_evidences': []}, {'id': 124, 'word': 'Ornithologie', 'claim': 'die Bezeichnung für eine Musikbewegung, die vor allem und zuerst in Großbritannien Ende der 1970er/Anfang der 1980er Jahre aus dem Punk hervorging', 'label': 'NOT_SUPPORTED', 'predicted': 'NOT_SUPPORTED', 'atoms': [{'atom': 'Ornithology is a term.', 'predicted': 'SUPPORTED'}, {'atom': 'Ornithology is associated with a music movement.', 'predicted': 'NOT_SUPPORTED'}, {'atom': 'The music movement emerged from punk.', 'predicted': 'NOT_SUPPORTED'}, {'atom': 'The music movement emerged mainly in Great Britain.', 'predicted': 'NOT_SUPPORTED'}, {'atom': 'The music movement emerged in the late 1970s/early 1980s.', 'predicted': 'NOT_SUPPORTED'}], 'selected_evidences': []}, {'id': 125, 'word': 'YouTube-Kanal', 'claim': 'Bewegungsleistung in elektrische Leistung umwandelt', 'label': 'NOT_SUPPORTED', 'predicted': 'NOT_SUPPORTED', 'atoms': [{'atom': 'A YouTube channel signifies something.', 'predicted': 'NOT_SUPPORTED'}, {'atom': 'A YouTube channel signifies motion power.', 'predicted': 'NOT_SUPPORTED'}, {'atom': 'Motion power is converted into electrical power.', 'predicted': 'NOT_SUPPORTED'}], 'selected_evidences': []}, {'id': 126, 'word': 'Schleimhautödem', 'claim': 'Diese Vorstufe zur produzierenden Landwirtschaft', 'label': 'NOT_SUPPORTED', 'predicted': 'NOT_SUPPORTED', 'atoms': [], 'selected_evidences': []}, {'id': 127, 'word': 'OPEC', 'claim': 'Zehn-Cent-Münze', 'label': 'NOT_SUPPORTED', 'predicted': 'NOT_SUPPORTED', 'atoms': [{'atom': 'Opec is a ten cent coin.', 'predicted': 'NOT_SUPPORTED'}, {'atom': 'Opec is a denomination.', 'predicted': 'NOT_SUPPORTED'}], 'selected_evidences': []}, {'id': 128, 'word': 'Hebb-Synapse', 'claim': 'Eine schwere generalisierte Infektion, also die Ausbreitung von einem lokalen Infektionsort über die Blutbahn im gesamten Körper', 'label': 'NOT_SUPPORTED', 'predicted': 'NOT_SUPPORTED', 'atoms': [{'atom': 'A hebb synapse signifies a severe generalized infection.', 'predicted': 'NOT_SUPPORTED'}, {'atom': 'The infection is caused by the spread of a local infection site across the bloodstream.', 'predicted': 'NOT_SUPPORTED'}, {'atom': 'The infection can spread throughout the body.', 'predicted': 'NOT_SUPPORTED'}], 'selected_evidences': []}, {'id': 129, 'word': 'Ramsar-Konvention', 'claim': 'eine sprunghafte Änderung des Wärmeausdehnungskoeffizienten sowie eine Abnahme der spezifischen Wärme', 'label': 'NOT_SUPPORTED', 'predicted': 'NOT_SUPPORTED', 'atoms': [{'atom': 'The Ramsar Convention signifies a sudden change.', 'predicted': 'NOT_SUPPORTED'}, {'atom': 'The Ramsar Convention signifies a change in the coefficient of thermal expansion.', 'predicted': 'NOT_SUPPORTED'}, {'atom': 'The Ramsar Convention signifies a decrease in the specific heat.', 'predicted': 'NOT_SUPPORTED'}], 'selected_evidences': []}, {'id': 130, 'word': 'Immunologie', 'claim': \"Bereich des Stammes, der aktiv am ''Wasser''- und ''Nährstofftransport'' und der Speicherung teilnimmt\", 'label': 'NOT_SUPPORTED', 'predicted': 'NOT_SUPPORTED', 'atoms': [{'atom': 'Immunology is an area.', 'predicted': 'SUPPORTED'}, {'atom': \"The strain actively participates in ''water'' transport.\", 'predicted': 'NOT_SUPPORTED'}, {'atom': \"The strain actively participates in ''nutrient transport''.\", 'predicted': 'NOT_SUPPORTED'}, {'atom': 'The strain actively participates in storage.', 'predicted': 'NOT_SUPPORTED'}], 'selected_evidences': []}, {'id': 131, 'word': 'Barekendan', 'claim': \"die heilige Schrift des Islams, die gemäß dem Glauben der Muslime die wörtliche Offenbarung Gottes (arabisch الله, ''Allah'') an den Propheten Mohammed enthält\", 'label': 'NOT_SUPPORTED', 'predicted': 'NOT_SUPPORTED', 'atoms': [], 'selected_evidences': []}, {'id': 132, 'word': 'Schleimhautödem', 'claim': 'durch inneralpine Abwanderung in die Zentren', 'label': 'NOT_SUPPORTED', 'predicted': 'NOT_SUPPORTED', 'atoms': [], 'selected_evidences': []}, {'id': 133, 'word': 'Freundschaftsspiel', 'claim': 'Bahnhofsgebäudes', 'label': 'NOT_SUPPORTED', 'predicted': 'NOT_SUPPORTED', 'atoms': [{'atom': 'An exhibition game signifies a station.', 'predicted': 'NOT_SUPPORTED'}, {'atom': 'A station signifies a building.', 'predicted': 'NOT_SUPPORTED'}], 'selected_evidences': []}, {'id': 134, 'word': 'USB', 'claim': 'das Theaterviertel am Times Square zwischen der 41st Street und 53rd Street und zwischen der Sixth und Ninth Avenue', 'label': 'NOT_SUPPORTED', 'predicted': 'NOT_SUPPORTED', 'atoms': [{'atom': 'The USB represents the theatre district.', 'predicted': 'NOT_SUPPORTED'}, {'atom': 'The theatre district is located at Times Square.', 'predicted': 'NOT_SUPPORTED'}, {'atom': 'The theatre district is between 41st Street and 53rd Street.', 'predicted': 'NOT_SUPPORTED'}, {'atom': 'The theatre district is between Sixth and Ninth Avenue.', 'predicted': 'NOT_SUPPORTED'}], 'selected_evidences': []}, {'id': 135, 'word': 'DBMS', 'claim': 'Das absichtliche (aktive) Einbringen von Mikroorganismen in ein Nährmedium', 'label': 'NOT_SUPPORTED', 'predicted': 'NOT_SUPPORTED', 'atoms': [{'atom': 'A dbms denotes something.', 'predicted': 'NOT_SUPPORTED'}, {'atom': 'A dbms denotes deliberate insertion.', 'predicted': 'NOT_SUPPORTED'}, {'atom': 'Deliberate insertion is active.', 'predicted': 'NOT_SUPPORTED'}, {'atom': 'Deliberate insertion is of microorganisms.', 'predicted': 'NOT_SUPPORTED'}, {'atom': 'Microorganisms are being inserted.', 'predicted': 'NOT_SUPPORTED'}, {'atom': 'The insertion is into a breeding medium.', 'predicted': 'NOT_SUPPORTED'}, {'atom': 'The breeding medium is being inserted into.', 'predicted': 'NOT_SUPPORTED'}], 'selected_evidences': []}, {'id': 136, 'word': 'Intonationsgehör', 'claim': 'eine chronische, entzündliche Erkrankung der Atemwege mit dauerhaft bestehender Überempfindlichkeit', 'label': 'NOT_SUPPORTED', 'predicted': 'NOT_SUPPORTED', 'atoms': [], 'selected_evidences': []}, {'id': 137, 'word': 'Orphismus', 'claim': 'die informationstechnische (IT) Infrastruktur (Hochschulnetz, Server etc.) bereitstellt und betreibt sowie IT-Dienstleistungen (E-Mail, Web-Services etc.) und Beratung erbringt', 'label': 'NOT_SUPPORTED', 'predicted': 'NOT_SUPPORTED', 'atoms': [{'atom': 'Orphism represents providing and operating information technology infrastructure.', 'predicted': 'NOT_SUPPORTED'}, {'atom': 'Orphism represents providing IT services.', 'predicted': 'NOT_SUPPORTED'}, {'atom': 'Orphism represents consulting.', 'predicted': 'NOT_SUPPORTED'}], 'selected_evidences': []}, {'id': 138, 'word': 'Browser', 'claim': 'der sogenannte ethno-territoriale ägyptische Nationalismus', 'label': 'NOT_SUPPORTED', 'predicted': 'NOT_SUPPORTED', 'atoms': [{'atom': 'A browser signifies something.', 'predicted': 'NOT_SUPPORTED'}, {'atom': 'A browser signifies ethno-territorial Egyptian nationalism.', 'predicted': 'NOT_SUPPORTED'}, {'atom': 'Ethno-territorial Egyptian nationalism is so-called.', 'predicted': 'NOT_SUPPORTED'}], 'selected_evidences': []}, {'id': 139, 'word': 'Flechte', 'claim': 'die Luftstreitkraft der Streitkräfte der Vereinigten Staaten von Amerika', 'label': 'NOT_SUPPORTED', 'predicted': 'NOT_SUPPORTED', 'atoms': [{'atom': 'Lichen signifies something.', 'predicted': 'NOT_SUPPORTED'}, {'atom': 'Lichen signifies the air force.', 'predicted': 'NOT_SUPPORTED'}, {'atom': 'The air force belongs to the United States armed forces.', 'predicted': 'NOT_SUPPORTED'}], 'selected_evidences': []}, {'id': 140, 'word': 'Datenbankanwendungen', 'claim': 'die Schreibung richtet sich nach der Lautung', 'label': 'NOT_SUPPORTED', 'predicted': 'NOT_SUPPORTED', 'atoms': [{'atom': 'Database applications are used to write.', 'predicted': 'NOT_SUPPORTED'}, {'atom': 'Writing depends on sound.', 'predicted': 'NOT_SUPPORTED'}], 'selected_evidences': []}, {'id': 141, 'word': 'Drehkreuz-Flughafen', 'claim': 'eine symbiotische Lebensgemeinschaft zwischen einem Pilz und Grünalgen oder Cyanobakterien', 'label': 'NOT_SUPPORTED', 'predicted': 'NOT_SUPPORTED', 'atoms': [{'atom': 'A hub airport signifies a symbiotic community.', 'predicted': 'NOT_SUPPORTED'}, {'atom': 'The symbiotic community is between a fungus and green algae or cyanobacteria.', 'predicted': 'NOT_SUPPORTED'}], 'selected_evidences': []}, {'id': 142, 'word': 'Post-Punk', 'claim': 'die Vergöttlichung eines als heldenhaft angesehenen Menschen, der als Gottkönig verehrt wird', 'label': 'NOT_SUPPORTED', 'predicted': 'NOT_SUPPORTED', 'atoms': [{'atom': 'Post-punk signifies the deification of a man.', 'predicted': 'NOT_SUPPORTED'}, {'atom': 'The man is regarded as heroic.', 'predicted': 'NOT_SUPPORTED'}, {'atom': 'The man is revered as a God King.', 'predicted': 'NOT_SUPPORTED'}], 'selected_evidences': []}, {'id': 143, 'word': 'Seidenstraße', 'claim': 'baumartig verzweigende Strukturen', 'label': 'NOT_SUPPORTED', 'predicted': 'NOT_SUPPORTED', 'atoms': [{'atom': 'The silk road signifies branching structures.', 'predicted': 'NOT_SUPPORTED'}, {'atom': 'The silk road signifies tree-like structures.', 'predicted': 'NOT_SUPPORTED'}], 'selected_evidences': []}, {'id': 144, 'word': 'proto-neolithisch', 'claim': 'die armenische Variante des Karneval', 'label': 'NOT_SUPPORTED', 'predicted': 'NOT_SUPPORTED', 'atoms': [{'atom': 'The proto-neolithic is a historical period.', 'predicted': 'NOT_SUPPORTED'}, {'atom': 'The proto-neolithic is associated with the Armenian culture.', 'predicted': 'NOT_SUPPORTED'}, {'atom': 'The Armenian variant of Carnival is embodied in the proto-neolithic.', 'predicted': 'NOT_SUPPORTED'}], 'selected_evidences': []}, {'id': 145, 'word': 'ERTU', 'claim': 'ein Gerät zum Betrieb eines Peripheriegeräts an mehreren Rechnern ohne Umstecken', 'label': 'NOT_SUPPORTED', 'predicted': 'NOT_SUPPORTED', 'atoms': [{'atom': 'Ertu is a device.', 'predicted': 'NOT_SUPPORTED'}, {'atom': 'Ertu operates peripheral devices.', 'predicted': 'NOT_SUPPORTED'}, {'atom': 'Ertu can be used on multiple computers.', 'predicted': 'NOT_SUPPORTED'}, {'atom': 'Ertu allows for the operation of peripheral devices without switching.', 'predicted': 'NOT_SUPPORTED'}], 'selected_evidences': []}, {'id': 146, 'word': 'Ornithologie', 'claim': 'die Lehre von den biologischen und biochemischen Grundlagen der körperlichen Abwehr von Krankheitserregern wie Bakterien, Viren und Pilzen sowie anderen körperfremden Stoffen wie beispielsweise biologischen Toxinen und Umweltgiften, und darüber hinaus von Störungen und Fehlfunktionen dieser Abwehrmechanismen', 'label': 'NOT_SUPPORTED', 'predicted': 'NOT_SUPPORTED', 'atoms': [{'atom': 'Ornithology is the study of biological and biochemical fundamentals.', 'predicted': 'NOT_SUPPORTED'}, {'atom': 'Ornithology teaches about physical defense against pathogens such as bacteria, viruses, and fungi.', 'predicted': 'NOT_SUPPORTED'}, {'atom': 'Ornithology also teaches about defense against non-body substances like biological toxins and environmental toxins.', 'predicted': 'NOT_SUPPORTED'}, {'atom': 'Ornithology covers disorders and malfunctions of defense mechanisms.', 'predicted': 'NOT_SUPPORTED'}], 'selected_evidences': []}, {'id': 147, 'word': 'Kulturanthropologie', 'claim': 'die Belieferung von Verbrauchern mit diesen Energieformen, inklusive der dazu notwendigen Energieinfrastruktur', 'label': 'NOT_SUPPORTED', 'predicted': 'NOT_SUPPORTED', 'atoms': [{'atom': 'Cultural anthropology signifies.', 'predicted': 'SUPPORTED'}, {'atom': 'Cultural anthropology signifies supplying consumers.', 'predicted': 'NOT_SUPPORTED'}, {'atom': 'Cultural anthropology signifies supplying consumers with forms of energy.', 'predicted': 'NOT_SUPPORTED'}, {'atom': 'Forms of energy include necessary energy infrastructure.', 'predicted': 'NOT_SUPPORTED'}, {'atom': 'Cultural anthropology signifies supplying consumers with necessary energy infrastructure.', 'predicted': 'NOT_SUPPORTED'}], 'selected_evidences': []}, {'id': 148, 'word': 'Zinkstaub', 'claim': 'der individuelle Bereich eines YouTube-Benutzers', 'label': 'NOT_SUPPORTED', 'predicted': 'NOT_SUPPORTED', 'atoms': [], 'selected_evidences': []}, {'id': 149, 'word': 'Lungenobstruktion', 'claim': 'die eingesetzte Software, die für das Datenbanksystem installiert und konfiguriert wird', 'label': 'NOT_SUPPORTED', 'predicted': 'NOT_SUPPORTED', 'atoms': [], 'selected_evidences': []}, {'id': 150, 'word': 'Urum', 'claim': 'überwiegend aus Teig und einer würzigen Füllung bestehende Gericht', 'label': 'NOT_SUPPORTED', 'predicted': 'NOT_SUPPORTED', 'atoms': [{'atom': 'Urums is a dish.', 'predicted': 'NOT_SUPPORTED'}, {'atom': 'Urums is made of dough.', 'predicted': 'NOT_SUPPORTED'}, {'atom': 'Urums has a spicy filling.', 'predicted': 'NOT_SUPPORTED'}], 'selected_evidences': []}, {'id': 151, 'word': 'YouTube-Kanal', 'claim': 'als ein Flughafen definiert, von dem eine oder mehrere Fluggesellschaften ein integriertes Servicenetzwerk zu einer Vielzahl von verschiedenen Destinationen mit einer hohen Frequenz an Verbindungen anbieten', 'label': 'NOT_SUPPORTED', 'predicted': 'NOT_SUPPORTED', 'atoms': [{'atom': 'A YouTube channel is defined as an airport.', 'predicted': 'NOT_SUPPORTED'}, {'atom': 'The airport offers an integrated service network.', 'predicted': 'NOT_SUPPORTED'}, {'atom': 'The network is offered by one or more airlines.', 'predicted': 'NOT_SUPPORTED'}, {'atom': 'The network serves a variety of destinations.', 'predicted': 'NOT_SUPPORTED'}, {'atom': 'The connections within the network are frequent.', 'predicted': 'NOT_SUPPORTED'}], 'selected_evidences': []}, {'id': 152, 'word': 'YouTube-Kanal', 'claim': 'eine Synapse, die durch gleichzeitige Aktivität im vor- und nachsynaptischen Neuron stärker wird', 'label': 'NOT_SUPPORTED', 'predicted': 'NOT_SUPPORTED', 'atoms': [{'atom': 'A youtube channel represents a synapse.', 'predicted': 'NOT_SUPPORTED'}, {'atom': 'The synapse becomes stronger.', 'predicted': 'NOT_SUPPORTED'}, {'atom': 'The synapse becomes stronger by simultaneous activity.', 'predicted': 'NOT_SUPPORTED'}, {'atom': 'The simultaneous activity happens in the pre-synaptic and post-synaptic neurons.', 'predicted': 'NOT_SUPPORTED'}], 'selected_evidences': []}, {'id': 153, 'word': 'Laservisiondisc', 'claim': \"die mehrfache Ausscheidung von ''zu flüssigem'' Stuhl\", 'label': 'NOT_SUPPORTED', 'predicted': 'NOT_SUPPORTED', 'atoms': [], 'selected_evidences': []}, {'id': 154, 'word': 'Generator', 'claim': ' Transfer von IP-Paketen in und aus dem Internet', 'label': 'NOT_SUPPORTED', 'predicted': 'NOT_SUPPORTED', 'atoms': [{'atom': 'A generator is used for transferring IP packages.', 'predicted': 'NOT_SUPPORTED'}, {'atom': 'IP packages are transferred to and from the Internet using a generator.', 'predicted': 'NOT_SUPPORTED'}], 'selected_evidences': []}, {'id': 155, 'word': 'Datenbankanwendungen', 'claim': 'die Benutzeroberfläche für Webanwendungen ', 'label': 'NOT_SUPPORTED', 'predicted': 'NOT_SUPPORTED', 'atoms': [{'atom': 'Database applications represent the user interface.', 'predicted': 'NOT_SUPPORTED'}, {'atom': 'They are used for web applications.', 'predicted': 'NOT_SUPPORTED'}], 'selected_evidences': []}, {'id': 156, 'word': 'Uranmunition', 'claim': 'der erste Mikrocomputer mit grafischer Benutzeroberfläche, der in größeren Stückzahlen produziert wurde', 'label': 'NOT_SUPPORTED', 'predicted': 'NOT_SUPPORTED', 'atoms': [{'atom': 'Uranium ammunition was produced in larger quantities.', 'predicted': 'NOT_SUPPORTED'}, {'atom': 'It signifies the first microcomputer.', 'predicted': 'NOT_SUPPORTED'}, {'atom': 'It has a graphical user interface.', 'predicted': 'NOT_SUPPORTED'}], 'selected_evidences': []}, {'id': 157, 'word': 'Zensur', 'claim': 'Teilgebiet der Immunologie, das sich mit den immunologischen Vorgängen bei der Entstehung, dem Verlauf und der Bekämpfung von Tumoren befasst', 'label': 'NOT_SUPPORTED', 'predicted': 'NOT_SUPPORTED', 'atoms': [{'atom': 'Censorship signifies the Department of Immunology.', 'predicted': 'NOT_SUPPORTED'}, {'atom': 'The Department of Immunology deals with immunological processes.', 'predicted': 'NOT_SUPPORTED'}, {'atom': 'Immunological processes are involved in the development, course, and control of tumors.', 'predicted': 'NOT_SUPPORTED'}], 'selected_evidences': []}, {'id': 158, 'word': 'DBMS', 'claim': 'ein optisches Speichermedium für Videos im Heimgebrauch', 'label': 'NOT_SUPPORTED', 'predicted': 'NOT_SUPPORTED', 'atoms': [{'atom': 'A dbms is an optical storage medium.', 'predicted': 'NOT_SUPPORTED'}, {'atom': 'A dbms is used for videos.', 'predicted': 'NOT_SUPPORTED'}, {'atom': 'A dbms is used in home use.', 'predicted': 'NOT_SUPPORTED'}], 'selected_evidences': []}, {'id': 159, 'word': 'Russistik', 'claim': 'eine ungenügende Immunabwehr', 'label': 'NOT_SUPPORTED', 'predicted': 'NOT_SUPPORTED', 'atoms': [{'atom': 'Russian studies signifies something.', 'predicted': 'SUPPORTED'}, {'atom': 'Russian studies signifies an insufficient immune defense.', 'predicted': 'NOT_SUPPORTED'}], 'selected_evidences': []}, {'id': 160, 'word': 'Gen', 'claim': 'die größte Video-Convention der Welt', 'label': 'NOT_SUPPORTED', 'predicted': 'NOT_SUPPORTED', 'atoms': [{'atom': 'The gene signifies something.', 'predicted': 'NOT_SUPPORTED'}, {'atom': 'The gene signifies the largest video convention.', 'predicted': 'NOT_SUPPORTED'}, {'atom': 'The largest video convention is in the world.', 'predicted': 'NOT_SUPPORTED'}], 'selected_evidences': []}, {'id': 161, 'word': 'Asthma', 'claim': 'ein Heißluftballon aus Leinwand, der mit einer dünnen Papierschicht luftdicht verkleidet war', 'label': 'NOT_SUPPORTED', 'predicted': 'NOT_SUPPORTED', 'atoms': [{'atom': 'Asthma is a medical condition.', 'predicted': 'SUPPORTED'}, {'atom': 'Asthma is characterized by difficulty breathing.', 'predicted': 'SUPPORTED'}, {'atom': 'Asthma is named after a hot air balloon called a \"canvas covered with a thin layer of paper.\".', 'predicted': 'NOT_SUPPORTED'}], 'selected_evidences': []}, {'id': 162, 'word': 'Grand Central Terminal', 'claim': 'ein nicht real existierender Vogel, der eine Mischung aus zwei Raubvögeln, nämlich einem Falken oder Habicht (englisch „hawk“) und dem Häher (englisch „jay“) darstellt', 'label': 'NOT_SUPPORTED', 'predicted': 'NOT_SUPPORTED', 'atoms': [{'atom': 'The grand central terminal symbolizes a bird.', 'predicted': 'NOT_SUPPORTED'}, {'atom': 'The bird is not real.', 'predicted': 'NOT_SUPPORTED'}, {'atom': 'The bird represents a mixture of two birds of prey.', 'predicted': 'NOT_SUPPORTED'}, {'atom': 'The birds of prey are a hawk and a hawk.', 'predicted': 'NOT_SUPPORTED'}, {'atom': 'The bird also represents the haher.', 'predicted': 'NOT_SUPPORTED'}], 'selected_evidences': []}, {'id': 163, 'word': 'Zinkstaub', 'claim': 'Flüssigkeitseinlagerung in die Schleimhaut', 'label': 'NOT_SUPPORTED', 'predicted': 'NOT_SUPPORTED', 'atoms': [], 'selected_evidences': []}, {'id': 164, 'word': 'Orphismus', 'claim': 'Verengung des Lumens der Atemwege (Verkleinerung des verfügbaren Querschnitts)', 'label': 'NOT_SUPPORTED', 'predicted': 'NOT_SUPPORTED', 'atoms': [{'atom': 'Orphism is a signifier.', 'predicted': 'NOT_SUPPORTED'}, {'atom': 'Orphism signifies narrowing of the lumen of the airways.', 'predicted': 'NOT_SUPPORTED'}, {'atom': 'Orphism signifies reduction of the available cross-section.', 'predicted': 'NOT_SUPPORTED'}], 'selected_evidences': []}, {'id': 165, 'word': 'Genom', 'claim': 'panzerbrechende Munition, die abgereichertes Uran als Projektilkernmaterial enthält', 'label': 'NOT_SUPPORTED', 'predicted': 'NOT_SUPPORTED', 'atoms': [{'atom': 'The genome represents something.', 'predicted': 'SUPPORTED'}, {'atom': 'The genome is armor-piercing ammunition.', 'predicted': 'NOT_SUPPORTED'}, {'atom': 'The armor-piercing ammunition contains depleted uranium.', 'predicted': 'NOT_SUPPORTED'}, {'atom': 'The depleted uranium is used as projectile material.', 'predicted': 'NOT_SUPPORTED'}], 'selected_evidences': []}, {'id': 166, 'word': 'Zensur', 'claim': 'Darstellung quantenfeldtheoretischer elementarer Wechselwirkungen', 'label': 'NOT_SUPPORTED', 'predicted': 'NOT_SUPPORTED', 'atoms': [{'atom': 'Censorship signifies the representation of quantum field theory.', 'predicted': 'NOT_SUPPORTED'}, {'atom': 'Quantum field theory deals with elementary interactions.', 'predicted': 'NOT_SUPPORTED'}], 'selected_evidences': []}, {'id': 167, 'word': 'Flechte', 'claim': 'Die Wissenschaft von den Vögeln', 'label': 'NOT_SUPPORTED', 'predicted': 'NOT_SUPPORTED', 'atoms': [{'atom': 'Lichen is a type of organism.', 'predicted': 'SUPPORTED'}, {'atom': 'Lichen is used to signify something.', 'predicted': 'NOT_SUPPORTED'}, {'atom': 'Lichen signifies the science of birds.', 'predicted': 'NOT_SUPPORTED'}], 'selected_evidences': []}, {'id': 168, 'word': 'Kyffhäuserdenkmal', 'claim': 'Krankheitszeichen, die sich direkt nach der Infektion manifestieren', 'label': 'NOT_SUPPORTED', 'predicted': 'NOT_SUPPORTED', 'atoms': [{'atom': 'The Kyffhäuser monument exists.', 'predicted': 'SUPPORTED'}, {'atom': 'The Kyffhäuser monument is symbolic.', 'predicted': 'SUPPORTED'}, {'atom': 'The Kyffhäuser monument symbolizes symptoms.', 'predicted': 'NOT_SUPPORTED'}, {'atom': 'Symptoms manifest after infection.', 'predicted': 'NOT_SUPPORTED'}, {'atom': 'Symptoms manifest directly after infection.', 'predicted': 'NOT_SUPPORTED'}], 'selected_evidences': []}])"
      ]
     },
     "execution_count": 30,
     "metadata": {},
     "output_type": "execute_result"
    }
   ],
   "execution_count": 30
  },
  {
   "metadata": {},
   "cell_type": "code",
   "outputs": [],
   "execution_count": null,
   "source": "",
   "id": "ec70836f41721f4e"
  }
 ],
 "metadata": {
  "kernelspec": {
   "display_name": "Python 3",
   "language": "python",
   "name": "python3"
  },
  "language_info": {
   "codemirror_mode": {
    "name": "ipython",
    "version": 2
   },
   "file_extension": ".py",
   "mimetype": "text/x-python",
   "name": "python",
   "nbconvert_exporter": "python",
   "pygments_lexer": "ipython2",
   "version": "2.7.6"
  }
 },
 "nbformat": 4,
 "nbformat_minor": 5
}
