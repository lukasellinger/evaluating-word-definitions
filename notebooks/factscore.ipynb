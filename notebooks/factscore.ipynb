{
 "cells": [
  {
   "metadata": {
    "ExecuteTime": {
     "end_time": "2024-07-29T15:51:02.625Z",
     "start_time": "2024-07-29T15:50:47.072334Z"
    }
   },
   "cell_type": "code",
   "source": [
    "import string\n",
    "from datasets import load_dataset\n",
    "from general_utils.reader import JSONLineReader\n",
    "import json\n",
    "from config import PROJECT_DIR\n",
    "from fetchers.wikipedia import Wikipedia\n",
    "import numpy as np\n",
    "from rank_bm25 import BM25Okapi\n",
    "from general_utils.utils import parse_model_answer\n",
    "from collections import defaultdict\n",
    "import torch\n",
    "from transformers import AutoTokenizer, AutoModelForMaskedLM\n",
    "from fetchers.openai import OpenAiFetcher\n",
    "from general_utils.atomic_facts import FactScoreFactGenerator\n",
    "from tqdm import tqdm\n",
    "from config import FACT_EVULATION_OPENAI_TOKEN\n",
    "from sentence_transformers import SentenceTransformer"
   ],
   "id": "b46cfbbe2416a996",
   "outputs": [],
   "execution_count": 1
  },
  {
   "metadata": {
    "ExecuteTime": {
     "end_time": "2024-07-29T15:51:02.687022Z",
     "start_time": "2024-07-29T15:51:02.627689Z"
    }
   },
   "cell_type": "code",
   "source": [
    "openai_fetcher = OpenAiFetcher(api_key=FACT_EVULATION_OPENAI_TOKEN)\n",
    "fh = JSONLineReader()"
   ],
   "id": "9e9005853b8f9a57",
   "outputs": [],
   "execution_count": 2
  },
  {
   "metadata": {
    "ExecuteTime": {
     "end_time": "2024-07-17T20:27:03.809711Z",
     "start_time": "2024-07-17T20:26:58.116195Z"
    }
   },
   "cell_type": "code",
   "source": [
    "dataset_name = \"lukasellinger/german_dpr_claim_verification_dissim-v1\"\n",
    "dataset = load_dataset(dataset_name).get('train')\n",
    "offline_wiki = 'lukasellinger/wiki_dump_2024-07-08'\n",
    "wiki = Wikipedia(use_dataset=offline_wiki)"
   ],
   "id": "aa363d5470e437cb",
   "outputs": [],
   "execution_count": 52
  },
  {
   "metadata": {},
   "cell_type": "markdown",
   "source": "# Calc Atomic Facts",
   "id": "bb8843526a4a5be4"
  },
  {
   "metadata": {
    "ExecuteTime": {
     "end_time": "2024-07-16T16:09:52.949620Z",
     "start_time": "2024-07-16T16:09:51.960971Z"
    }
   },
   "cell_type": "code",
   "source": [
    "af_prompt_generator = FactScoreFactGenerator(PROJECT_DIR.joinpath('factscore/demos'), is_bio=False)\n",
    "model = \"gpt-3.5-turbo-instruct\"\n",
    "temperature = 0.7\n",
    "max_tokens = 512\n",
    "tasks = []\n",
    "\n",
    "for idx, entry in enumerate(dataset):\n",
    "    topic = entry['document_search_word']  # translation via wikipedia langlinks\n",
    "    # claim = f\"{topic}: {entry.get('english_claim', entry['claim'])}\"\n",
    "    prompt = af_prompt_generator.get_prompt_for_sentence(entry['connected_claim'])\n",
    "    task = {\n",
    "        \"custom_id\": f\"task-{idx}\",\n",
    "        \"method\": \"POST\",\n",
    "        \"url\": \"/v1/completions\",\n",
    "        \"body\": {\n",
    "            \"model\": model,\n",
    "            \"temperature\": temperature,\n",
    "            \"max_tokens\": max_tokens,\n",
    "            \"prompt\": prompt\n",
    "        }\n",
    "    }\n",
    "    tasks.append(task)"
   ],
   "id": "cd7450851dc40c1c",
   "outputs": [],
   "execution_count": 30
  },
  {
   "metadata": {
    "ExecuteTime": {
     "end_time": "2024-07-16T16:09:54.953547Z",
     "start_time": "2024-07-16T16:09:54.942784Z"
    }
   },
   "cell_type": "code",
   "source": [
    "identification = 'german_dpr_factscore_facts-gpt3_5-turbo'\n",
    "file_name = PROJECT_DIR.joinpath(f'dataset/openai/batch_{identification}.jsonl')\n",
    "\n",
    "with open(file_name, 'w') as file:\n",
    "    for obj in tasks:\n",
    "        file.write(json.dumps(obj) + '\\n')"
   ],
   "id": "b467fdc082f0577c",
   "outputs": [],
   "execution_count": 31
  },
  {
   "metadata": {
    "ExecuteTime": {
     "end_time": "2024-07-16T16:10:01.895038Z",
     "start_time": "2024-07-16T16:09:56.668008Z"
    }
   },
   "cell_type": "code",
   "source": "batch_job = openai_fetcher.create_batch_job(file_name, endpoint=\"/v1/completions\")",
   "id": "c6dffde69c6ff31d",
   "outputs": [],
   "execution_count": 32
  },
  {
   "metadata": {
    "ExecuteTime": {
     "end_time": "2024-07-16T16:10:08.374138Z",
     "start_time": "2024-07-16T16:10:08.158336Z"
    }
   },
   "cell_type": "code",
   "source": [
    "batch_job = openai_fetcher.get_batch_update(batch_job)\n",
    "print(batch_job)"
   ],
   "id": "31200f93c1d2bda2",
   "outputs": [
    {
     "name": "stdout",
     "output_type": "stream",
     "text": [
      "Batch(id='batch_Z7ddZ8ocZzTbGFj5b52vu51f', completion_window='24h', created_at=1721146201, endpoint='/v1/completions', input_file_id='file-1yX3GMHuHT6sDMXoTLI0Xetd', object='batch', status='failed', cancelled_at=None, cancelling_at=None, completed_at=None, error_file_id=None, errors=Errors(data=[BatchError(code='model_not_found', line=1, message=\"The provided model 'gpt-3.5-turbo-instruct' is not supported by the Batch API.\", param='body.model'), BatchError(code='model_not_found', line=2, message=\"The provided model 'gpt-3.5-turbo-instruct' is not supported by the Batch API.\", param='body.model'), BatchError(code='model_not_found', line=3, message=\"The provided model 'gpt-3.5-turbo-instruct' is not supported by the Batch API.\", param='body.model'), BatchError(code='model_not_found', line=4, message=\"The provided model 'gpt-3.5-turbo-instruct' is not supported by the Batch API.\", param='body.model'), BatchError(code='model_not_found', line=5, message=\"The provided model 'gpt-3.5-turbo-instruct' is not supported by the Batch API.\", param='body.model'), BatchError(code='model_not_found', line=6, message=\"The provided model 'gpt-3.5-turbo-instruct' is not supported by the Batch API.\", param='body.model'), BatchError(code='model_not_found', line=7, message=\"The provided model 'gpt-3.5-turbo-instruct' is not supported by the Batch API.\", param='body.model'), BatchError(code='model_not_found', line=8, message=\"The provided model 'gpt-3.5-turbo-instruct' is not supported by the Batch API.\", param='body.model'), BatchError(code='model_not_found', line=9, message=\"The provided model 'gpt-3.5-turbo-instruct' is not supported by the Batch API.\", param='body.model'), BatchError(code='model_not_found', line=10, message=\"The provided model 'gpt-3.5-turbo-instruct' is not supported by the Batch API.\", param='body.model'), BatchError(code='model_not_found', line=11, message=\"The provided model 'gpt-3.5-turbo-instruct' is not supported by the Batch API.\", param='body.model'), BatchError(code='model_not_found', line=12, message=\"The provided model 'gpt-3.5-turbo-instruct' is not supported by the Batch API.\", param='body.model'), BatchError(code='model_not_found', line=13, message=\"The provided model 'gpt-3.5-turbo-instruct' is not supported by the Batch API.\", param='body.model'), BatchError(code='model_not_found', line=14, message=\"The provided model 'gpt-3.5-turbo-instruct' is not supported by the Batch API.\", param='body.model'), BatchError(code='model_not_found', line=15, message=\"The provided model 'gpt-3.5-turbo-instruct' is not supported by the Batch API.\", param='body.model'), BatchError(code='model_not_found', line=16, message=\"The provided model 'gpt-3.5-turbo-instruct' is not supported by the Batch API.\", param='body.model'), BatchError(code='model_not_found', line=17, message=\"The provided model 'gpt-3.5-turbo-instruct' is not supported by the Batch API.\", param='body.model'), BatchError(code='model_not_found', line=18, message=\"The provided model 'gpt-3.5-turbo-instruct' is not supported by the Batch API.\", param='body.model'), BatchError(code='model_not_found', line=19, message=\"The provided model 'gpt-3.5-turbo-instruct' is not supported by the Batch API.\", param='body.model'), BatchError(code='model_not_found', line=20, message=\"The provided model 'gpt-3.5-turbo-instruct' is not supported by the Batch API.\", param='body.model')], object='list'), expired_at=None, expires_at=1721232601, failed_at=1721146203, finalizing_at=None, in_progress_at=None, metadata=None, output_file_id=None, request_counts=BatchRequestCounts(completed=0, failed=0, total=0))\n"
     ]
    }
   ],
   "execution_count": 34
  },
  {
   "metadata": {
    "ExecuteTime": {
     "end_time": "2024-07-16T16:08:23.411826Z",
     "start_time": "2024-07-16T16:08:23.408084Z"
    }
   },
   "cell_type": "code",
   "source": "result_file_name = openai_fetcher.get_batch_result(identification, batch_job)",
   "id": "bf3bd23b51dab01f",
   "outputs": [],
   "execution_count": 28
  },
  {
   "metadata": {
    "ExecuteTime": {
     "end_time": "2024-07-16T16:08:24.280150Z",
     "start_time": "2024-07-16T16:08:24.238167Z"
    }
   },
   "cell_type": "code",
   "source": "results = fh.read(result_file_name)",
   "id": "3a990c5546a8e40d",
   "outputs": [
    {
     "ename": "TypeError",
     "evalue": "expected str, bytes or os.PathLike object, not NoneType",
     "output_type": "error",
     "traceback": [
      "\u001B[0;31m---------------------------------------------------------------------------\u001B[0m",
      "\u001B[0;31mTypeError\u001B[0m                                 Traceback (most recent call last)",
      "Cell \u001B[0;32mIn[29], line 1\u001B[0m\n\u001B[0;32m----> 1\u001B[0m results \u001B[38;5;241m=\u001B[39m \u001B[43mfh\u001B[49m\u001B[38;5;241;43m.\u001B[39;49m\u001B[43mread\u001B[49m\u001B[43m(\u001B[49m\u001B[43mresult_file_name\u001B[49m\u001B[43m)\u001B[49m\n",
      "File \u001B[0;32m~/PycharmProjects/evaluating_factuality_word_definitions/general_utils/reader.py:13\u001B[0m, in \u001B[0;36mReader.read\u001B[0;34m(self, file)\u001B[0m\n\u001B[1;32m     11\u001B[0m \u001B[38;5;28;01mdef\u001B[39;00m \u001B[38;5;21mread\u001B[39m(\u001B[38;5;28mself\u001B[39m, file):\n\u001B[1;32m     12\u001B[0m \u001B[38;5;250m    \u001B[39m\u001B[38;5;124;03m\"\"\"Read a file.\"\"\"\u001B[39;00m\n\u001B[0;32m---> 13\u001B[0m     \u001B[38;5;28;01mwith\u001B[39;00m \u001B[38;5;28;43mopen\u001B[39;49m\u001B[43m(\u001B[49m\u001B[43mfile\u001B[49m\u001B[43m,\u001B[49m\u001B[43m \u001B[49m\u001B[38;5;124;43m\"\u001B[39;49m\u001B[38;5;124;43mr\u001B[39;49m\u001B[38;5;124;43m\"\u001B[39;49m\u001B[43m,\u001B[49m\u001B[43m \u001B[49m\u001B[43mencoding\u001B[49m\u001B[38;5;241;43m=\u001B[39;49m\u001B[38;5;28;43mself\u001B[39;49m\u001B[38;5;241;43m.\u001B[39;49m\u001B[43menc\u001B[49m\u001B[43m)\u001B[49m \u001B[38;5;28;01mas\u001B[39;00m f:\n\u001B[1;32m     14\u001B[0m         \u001B[38;5;28;01mreturn\u001B[39;00m \u001B[38;5;28mself\u001B[39m\u001B[38;5;241m.\u001B[39mprocess(f)\n",
      "\u001B[0;31mTypeError\u001B[0m: expected str, bytes or os.PathLike object, not NoneType"
     ]
    }
   ],
   "execution_count": 29
  },
  {
   "metadata": {
    "ExecuteTime": {
     "end_time": "2024-07-29T16:17:08.625710Z",
     "start_time": "2024-07-29T16:05:18.254823Z"
    }
   },
   "cell_type": "code",
   "source": [
    "af_prompt_generator = FactScoreFactGenerator(PROJECT_DIR.joinpath('factscore/demos'), is_bio=False)\n",
    "model = \"gpt-3.5-turbo-instruct\"\n",
    "temperature = 0.7\n",
    "max_tokens = 512\n",
    "\n",
    "fact_column = []\n",
    "for entry in tqdm(dataset):\n",
    "    claim = entry['connected_claim']\n",
    "    prompt = af_prompt_generator.get_prompt_for_sentence(claim)\n",
    "    response = openai_fetcher.client.completions.create(\n",
    "        model=model,\n",
    "        temperature=temperature,\n",
    "        max_tokens=max_tokens,\n",
    "        prompt=prompt\n",
    "    )\n",
    "    generated_answer = response.choices[0].text\n",
    "    facts = af_prompt_generator.get_facts_from_response(claim, generated_answer)\n",
    "    fact_column.append( '--;--'.join(facts))"
   ],
   "id": "453cbe82edbdeb97",
   "outputs": [
    {
     "name": "stderr",
     "output_type": "stream",
     "text": [
      "100%|██████████| 158/158 [01:56<00:00,  1.36it/s]\n"
     ]
    },
    {
     "data": {
      "text/plain": [
       "Uploading the dataset shards:   0%|          | 0/1 [00:00<?, ?it/s]"
      ],
      "application/vnd.jupyter.widget-view+json": {
       "version_major": 2,
       "version_minor": 0,
       "model_id": "994e8d67f8664e48af5e015e3f2b958d"
      }
     },
     "metadata": {},
     "output_type": "display_data"
    },
    {
     "data": {
      "text/plain": [
       "Creating parquet from Arrow format:   0%|          | 0/1 [00:00<?, ?ba/s]"
      ],
      "application/vnd.jupyter.widget-view+json": {
       "version_major": 2,
       "version_minor": 0,
       "model_id": "2cc99a7fae8840f2a3b9662a730bb467"
      }
     },
     "metadata": {},
     "output_type": "display_data"
    },
    {
     "data": {
      "text/plain": [
       "README.md:   0%|          | 0.00/739 [00:00<?, ?B/s]"
      ],
      "application/vnd.jupyter.widget-view+json": {
       "version_major": 2,
       "version_minor": 0,
       "model_id": "e94b0b68782f4eee9cf4ecc3e0ad347c"
      }
     },
     "metadata": {},
     "output_type": "display_data"
    },
    {
     "name": "stderr",
     "output_type": "stream",
     "text": [
      "100%|██████████| 710/710 [09:44<00:00,  1.21it/s]\n"
     ]
    },
    {
     "data": {
      "text/plain": [
       "Uploading the dataset shards:   0%|          | 0/1 [00:00<?, ?it/s]"
      ],
      "application/vnd.jupyter.widget-view+json": {
       "version_major": 2,
       "version_minor": 0,
       "model_id": "26a179eb6f544f07bb33793161558168"
      }
     },
     "metadata": {},
     "output_type": "display_data"
    },
    {
     "data": {
      "text/plain": [
       "Creating parquet from Arrow format:   0%|          | 0/1 [00:00<?, ?ba/s]"
      ],
      "application/vnd.jupyter.widget-view+json": {
       "version_major": 2,
       "version_minor": 0,
       "model_id": "e621dfe0b9c34d7f8fb374abb70da0ae"
      }
     },
     "metadata": {},
     "output_type": "display_data"
    },
    {
     "data": {
      "text/plain": [
       "README.md:   0%|          | 0.00/713 [00:00<?, ?B/s]"
      ],
      "application/vnd.jupyter.widget-view+json": {
       "version_major": 2,
       "version_minor": 0,
       "model_id": "338780cc6d0048919b7eb68df2798f88"
      }
     },
     "metadata": {},
     "output_type": "display_data"
    }
   ],
   "execution_count": 10
  },
  {
   "metadata": {
    "ExecuteTime": {
     "end_time": "2024-07-16T16:39:35.824592Z",
     "start_time": "2024-07-16T16:39:32.315563Z"
    }
   },
   "cell_type": "code",
   "source": [
    "from config import HF_WRITE_TOKEN\n",
    "\n",
    "dataset = dataset.add_column('Factscore_facts', fact_column)\n",
    "dataset.push_to_hub(dataset_name, private=True, token=HF_WRITE_TOKEN)"
   ],
   "id": "7bbf9c4a1fa2d6a",
   "outputs": [
    {
     "data": {
      "text/plain": [
       "Uploading the dataset shards:   0%|          | 0/1 [00:00<?, ?it/s]"
      ],
      "application/vnd.jupyter.widget-view+json": {
       "version_major": 2,
       "version_minor": 0,
       "model_id": "d28aab0cf8ec422db6c38bddd6600e52"
      }
     },
     "metadata": {},
     "output_type": "display_data"
    },
    {
     "data": {
      "text/plain": [
       "Creating parquet from Arrow format:   0%|          | 0/1 [00:00<?, ?ba/s]"
      ],
      "application/vnd.jupyter.widget-view+json": {
       "version_major": 2,
       "version_minor": 0,
       "model_id": "3315b1c5b6c244048fae2afa4a71fdac"
      }
     },
     "metadata": {},
     "output_type": "display_data"
    },
    {
     "data": {
      "text/plain": [
       "README.md:   0%|          | 0.00/736 [00:00<?, ?B/s]"
      ],
      "application/vnd.jupyter.widget-view+json": {
       "version_major": 2,
       "version_minor": 0,
       "model_id": "b88a62d630554a8092bd1ce3aa57955d"
      }
     },
     "metadata": {},
     "output_type": "display_data"
    },
    {
     "data": {
      "text/plain": [
       "CommitInfo(commit_url='https://huggingface.co/datasets/lukasellinger/german_dpr_claim_verification_dissim-v1/commit/a77c9eb033e75a645acbd831056de08bfd7d1c47', commit_message='Upload dataset', commit_description='', oid='a77c9eb033e75a645acbd831056de08bfd7d1c47', pr_url=None, pr_revision=None, pr_num=None)"
      ]
     },
     "execution_count": 47,
     "metadata": {},
     "output_type": "execute_result"
    }
   ],
   "execution_count": 47
  },
  {
   "metadata": {
    "ExecuteTime": {
     "end_time": "2024-07-16T16:40:16.450068Z",
     "start_time": "2024-07-16T16:40:16.440289Z"
    }
   },
   "cell_type": "code",
   "source": "fact_column",
   "id": "bbeaea6b3badf58b",
   "outputs": [
    {
     "data": {
      "text/plain": [
       "['An electric motor represents electrical power.--;--Electrical power is converted into mechanical power.--;--Electrical power is converted into mechanical power.',\n",
       " 'Censorship refers to intervention by state or power-based institutions.--;--Censorship aims to keep unwanted content away from the media public.--;--Unwanted content is kept away from the media public by state or power-based institutions.',\n",
       " 'Ertu is a company.--;--Ertu is the State Broadcasting Company.--;--Ertu is located in Egypt.',\n",
       " 'A printed circuit board is a support.--;--A printed circuit board supports electronic components.--;--Electronic components are supported by printed circuit boards.',\n",
       " \"A children's union represents an organized group.--;--A children's union represents a union.--;--The union is for working children and young people.--;--The union works actively for their own rights.--;--The children and young people work collectively for their rights.\",\n",
       " 'An exhibition game is a sporting match.--;--An exhibition game does not flow into an official rating.--;--An exhibition game signifies a pairing.',\n",
       " 'A light bulb is a representation.--;--A light bulb represents an artificial light source.',\n",
       " 'Russian studies is a science.--;--Russian studies deals with the Russian language.--;--Russian studies deals with extensive Russian literature.',\n",
       " 'Orphism is an art direction.--;--Orphism was created by Cubism.--;--Orphism uses mainly circular forms.--;--Orphism uses colorful colours.--;--Orphism was created based on the color theory of chemist Michel Eugène Chevreul.',\n",
       " 'The kyffhäuser monument is 81 metres high.--;--The kyffhäuser monument is widely visible.--;--The kyffhäuser monument is on the eponymous mountains.--;--The eponymous mountains are near Bad Frankenhausen.',\n",
       " 'Zinc dust is a representation.--;--Zinc dust is finely pulverized.--;--Zinc dust is made of zinc.',\n",
       " 'The Silk Road signifies the central link between East and West.--;--The Silk Road was used for the exchange of goods.--;--The Silk Road was used for the exchange of cultural identity.',\n",
       " 'A vacuum is a room.--;--The room has an extensive absence of matter.--;--In a vacuum, there are no solid objects or liquid.--;--In a vacuum, there is extremely little gas.--;--In a vacuum, the gas pressure is extremely low.',\n",
       " 'Tu is a doctoral university.--;--Tu offers a wide range of engineering and scientific subjects.--;--Tu also offers other subjects.--;--The engineering and scientific subjects are mostly supplemented by other subjects.',\n",
       " 'The Starbright Foundation exists.--;--The Starbright Foundation provides support and care.--;--The support and care is for severely ill children.',\n",
       " 'A computer is a device.--;--A computer processes data.--;--A computer processes data by means of programmable calculation rules.',\n",
       " 'Cultural anthropology is a field of study.--;--Cultural anthropology involves the study of culture.--;--Culture refers to human culture.--;--Cultural anthropology is supported by empirical evidence.',\n",
       " 'A papermaker is a craftsman.--;--A papermaker makes paper.',\n",
       " 'CD is an optical memory.--;--CD was introduced in the early 1980s.--;--CD was introduced for the digital storage of music.--;--CD was introduced by Philips/PolyGram and Sony.--;--CD was introduced to replace the record.',\n",
       " 'God signifies.--;--God is a supernatural spirit.--;--God is a being.',\n",
       " 'Database applications are computer programs.--;--Database applications manage data.--;--Database applications store data.--;--Database applications use a database system.--;--Data is individually required.',\n",
       " 'Anthropology is a science.--;--Anthropology is the study of man.',\n",
       " 'A usb is a serial bus system.--;--A usb is for connecting a computer to external devices.--;--A computer can be connected to external devices using a usb.',\n",
       " 'Intonation hearing is the ability to detect uncleanness in intonation.--;--Uncleanness in intonation refers to slight deviations of pitch.--;--These deviations are from a musically planned value.',\n",
       " 'Prakrit is a group.--;--Prakrit represents mittelindic spoken dialects.--;--Prakrit is spoken.',\n",
       " 'A biodiversity hotspot is a geographical area.--;--Biodiversity is particularly large in a biodiversity hotspot.--;--A biodiversity hotspot is particularly threatened.--;--Biodiversity in a biodiversity hotspot is at risk.',\n",
       " 'Immunogenetics is the investigation of the genetic variability of immune reactions.--;--Immunogenetics is the investigation of the mechanisms of the production of antibodies, T-cell receptors, and antigen-presenting complexes.',\n",
       " 'Data compression is a process.--;--Digital data is compressed.--;--Digital data is reduced.',\n",
       " 'The Ramsar Convention represents the International Convention.--;--The Ramsar Convention represents the Protection of Biological Diversity.',\n",
       " 'A gene is a section on DNA.--;--A gene contains basic information.--;--A gene is responsible for the development of properties of an individual.--;--A gene is responsible for the production of a biologically active RNA.',\n",
       " 'Film speed signifies.--;--Film speed signifies the light sensitivity.--;--Film speed signifies the light sensitivity of photographic plates.--;--Film speed signifies the light sensitivity of films.--;--Photographic plates are used in photography.--;--Films are used in photography.',\n",
       " 'A glacier is an ice mass.--;--A glacier is formed from snow.--;--A glacier has a clearly defined catchment area.--;--A glacier moves independently.--;--A glacier moves due to slope.--;--A glacier moves due to structure of the ice.--;--A glacier moves due to temperature.--;--A glacier moves due to shear stress.--;--A glacier is affected by the mass of the ice.--;--A glacier is affected by other factors.',\n",
       " 'A led is a semiconductor component.--;--A led emits light.--;--The emission of light is caused by electrical current.--;--The electrical current flows in the direction of passage.',\n",
       " 'The genome represents the totality of the material carriers.--;--The genome carries inherited information.--;--The genome is found in cells or virus particles.--;--The genome is made up of chromosomes.--;--The genome is made up of DNA or RNA.--;--DNA stands for deoxyribonucleic acid.--;--RNA stands for ribonucleic acid.--;--RNA is used as an information carrier in RNA viruses.--;--RNA is used instead of DNA for information.',\n",
       " \"Myocardial infarction is a medical condition.--;--Myocardial infarction is also known as a heart attack.--;--Myocardial infarction is caused by a persistent circulation disorder called 'Ischemia'.--;--Ischemia affects parts of the heart muscle.\",\n",
       " 'Energy consumption represents the use of different energies.--;--Energy consumption is suitable for humans.--;--Different forms of energy are suitable for humans.',\n",
       " 'Coal English is a form of communication used by Dutch dockers.--;--Dutch dockers used Coal English to communicate with British crews.--;--Coal English combines Dutch and English words.--;--Coal English also includes Dutch sentence construction and proverbs.--;--Coal English was used around 1900.',\n",
       " 'Urums are a small minority group.--;--Urums speak Turkic languages.--;--Urums are mainly located in the Caucasus region.--;--Urums are located in Southwest Ukraine.--;--Urums are located in Crimea.--;--Urums are located in the Balkans.',\n",
       " 'Opec represents the Organization.--;--Opec represents oil exporting countries.--;--Opec is an organization.',\n",
       " 'Post-punk is a name for a music movement.--;--Post-punk emerged from punk.--;--Post-punk emerged mainly in Great Britain.--;--Post-punk emerged in the late 1970s/early 1980s.',\n",
       " 'A generator represents movement power.--;--Movement power is converted to electrical power.--;--A generator produces electrical power.',\n",
       " 'Proto-neolithic refers to a precursor.--;--The precursor is related to producing agriculture.',\n",
       " 'A dime is a coin.--;--A dime is worth ten cents.--;--A dime is denoted by the number 10.',\n",
       " 'Sepsis is a term used to describe a severe infection.--;--Sepsis is a generalized infection.--;--Sepsis can result from the spread of a local infection through the bloodstream.--;--Sepsis affects the whole body.',\n",
       " 'The glass transition signifies a sudden change.--;--The glass transition signifies a change in the coefficient of thermal expansion.--;--The glass transition signifies a decrease in specific heat.',\n",
       " 'Sapwood is an area of the trunk.--;--Sapwood actively participates in water transport.--;--Sapwood actively participates in nutrient transport.--;--Sapwood also stores water and nutrients.',\n",
       " \"The Quran is the sacred scripture of Islam.--;--Islam is a faith of Muslims.--;--The Quran contains the literal revelation of God.--;--The Quran was revealed to the Prophet Mohammed.--;--The Arabic word for God is ''Allah''.\",\n",
       " 'A mountain escape signifies something.--;--A mountain escape signifies through inneralpine migration.--;--Inneralpine migration goes to the centers.--;--Inneralpine migration goes to the centers during a mountain escape.',\n",
       " 'The Grand Central Terminal is a building.--;--The building is a station.',\n",
       " 'Broadway is the theatre district.--;--Broadway is on Times Square.--;--Times Square is between 41st Street and 53rd Street.--;--Times Square is between Sixth and Ninth Avenue.',\n",
       " 'Inoculation is a process.--;--Inoculation involves inserting microorganisms.--;--Inoculation is deliberate.--;--Inoculation is active.--;--Inoculation is used in breeding.--;--Inoculation is used in breeding medium.',\n",
       " 'Asthma is a respiratory disease.--;--Asthma is chronic.--;--Asthma is inflammatory.--;--Asthma is characterized by persistent hypersensitivity.--;--Asthma is a chronic inflammatory respiratory disease.--;--Asthma signifies a chronic inflammatory respiratory disease with persistent hypersensitivity.',\n",
       " 'A university computing centre provides information technology infrastructure.--;--A university computing centre operates information technology infrastructure.--;--A university computing centre provides IT services.--;--A university computing centre provides consulting services.',\n",
       " 'Pharaohism signifies ethno-territorial Egyptian nationalism.--;--Pharaohism is a term.--;--Pharaohism is used to describe something.--;--Pharaohism is used to describe ethno-territorial Egyptian nationalism.--;--Ethno-territorial Egyptian nationalism is a type of nationalism.',\n",
       " 'The USAF stands for the Air Force of the United States of America.--;--The USAF represents the Air Force of the United States of America.',\n",
       " 'Phonematic orthography principle is a principle.--;--The writing is based on the sound.',\n",
       " 'Lichen is a symbiotic community.--;--Lichen includes a fungus.--;--Lichen includes green algae or cyanobacteria.',\n",
       " 'Apotheosis signifies something.--;--The something is the deification of a man.--;--The man is considered heroic.--;--The man is revered.--;--The man is revered as God King.',\n",
       " 'Hub topology signifies tree-like structures.--;--Hub topology signifies branching structures.',\n",
       " 'Barekendan is a word.--;--Barekendan is an Armenian word.--;--Barekendan denotes something.--;--Barekendan denotes the Armenian version of Carnival.',\n",
       " 'A usb switch is used to operate a peripheral device.--;--A usb switch can be used on multiple computers.--;--A usb switch eliminates the need for switching between computers to use the peripheral device.',\n",
       " 'Immunology teaches about biological and biochemical fundamentals.--;--Immunology is about physical defense against pathogens.--;--Pathogens include bacteria, viruses, and fungi.--;--Immunology also covers non-body substances such as biological toxins and environmental toxins.--;--Immunology teaches about disorders and malfunctions of defense mechanisms.',\n",
       " 'Energy supply is the process of supplying consumers with forms of energy.--;--Forms of energy are included in energy supply.--;--Energy infrastructure is necessary for energy supply.--;--Necessary energy infrastructure is included in energy supply.',\n",
       " \"The YouTube channel represents an individual's area on YouTube.--;--The YouTube channel is associated with a YouTube user.\",\n",
       " 'The dbms represents software.--;--The software is used.--;--The software is installed.--;--The software is configured.--;--The software is for the database system.',\n",
       " 'An empanada is a dish.--;--An empanada is made of dough.--;--An empanada has a spicy filling.--;--An empanada is mainly made of dough.--;--The filling in an empanada is spicy.',\n",
       " 'A hub airport is defined as an airport.--;--One or more airlines offer an integrated service network.--;--The service network is offered to a variety of different destinations.--;--The service network has a high frequency of connections.',\n",
       " 'A hebb synapse is a type of synapse.--;--A hebb synapse becomes stronger.--;--A hebb synapse becomes stronger by simultaneous activity.--;--The simultaneous activity occurs in the pre--;--and post-synaptic neurons.',\n",
       " \"Diarrhea is a medical condition.--;--Diarrhea involves multiple excretion of stool.--;--The stool is 'too liquid'.--;--Diarrhea is a sign of a health issue.\",\n",
       " 'Internet connectivity involves transferring IP packages.--;--IP packages are transferred to the Internet.--;--IP packages are transferred from the Internet.',\n",
       " 'A browser is a user interface.--;--A browser is for web applications.--;--A browser represents the user.',\n",
       " 'The Mac is a microcomputer.--;--The Mac had a graphical user interface.--;--The Mac was produced in larger quantities.--;--The Mac was the first microcomputer with a graphical user interface to be produced in larger quantities.',\n",
       " 'Cancer immunology is a sub-area of immunology.--;--Cancer immunology deals with immunological processes.--;--Immunological processes are involved in the development, course, and control of tumors.',\n",
       " 'A laservisiondisc is an optical storage medium.--;--A laservisiondisc is used for home video.',\n",
       " 'Immune failure signifies something.--;--Immune failure signifies insufficient immune defence.--;--Insufficient immune defence is a result of immune failure.',\n",
       " 'Vidcon is a video convention.--;--Vidcon is the largest in the world.',\n",
       " 'A montgolfiere is a type of hot air balloon.--;--A montgolfiere is made of canvas.--;--The canvas is covered with a thin layer of paper.',\n",
       " 'A jayhawk is a type of bird.--;--A jayhawk is not a real bird.--;--A jayhawk is a mixture of two birds of prey.--;--One of the birds is a hawk or hawk.--;--The other bird is the haher.',\n",
       " 'Mucous membrane oedema signifies fluid retention.--;--The fluid retention is in the mucous membrane.',\n",
       " 'Pulmonary obstruction signifies narrowing.--;--Pulmonary obstruction signifies narrowing of the lumen of the airways.--;--The lumen of the airways is reduced.--;--The cross-section of the airways is reduced.',\n",
       " 'Uranium ammunition is armor-piercing ammunition.--;--Uranium ammunition contains depleted uranium.--;--Depleted uranium is used as projectile material in uranium ammunition.',\n",
       " 'Feynmann diagram is a representation.--;--It represents quantum field theoretical elementary interactions.',\n",
       " 'Ornithology is a science.--;--Ornithology is the science of birds.',\n",
       " 'Primary tuberculosis signifies signs of disease.--;--The signs of disease manifest immediately after infection.--;--The disease is tuberculosis.--;--The tuberculosis is primary.--;--The signs of disease manifest immediately after infection.',\n",
       " 'The phonematic orthography principle signifies something.--;--The phonematic orthography principle signifies electrical power.--;--Electrical power is converted into mechanical power.--;--The conversion is made possible by the phonematic orthography principle.',\n",
       " 'The word vacuum has a narrow sense.--;--Vacuum refers to the intervention of state or other power-based institutions.--;--The purpose of vacuum is to keep away unwanted content from the media public.--;--Vacuum only applies to unwanted content controlled by these institutions.',\n",
       " 'Pharaohism signifies.--;--Pharaohism signifies Egypt.--;--Pharaohism signifies the State Broadcasting Company.--;--The State Broadcasting Company is in Egypt.',\n",
       " 'The phonematic orthography principle embodies a carrier.--;--The carrier is for electronic components.--;--The carrier is electronic.',\n",
       " 'The kyffhäuser monument symbolizes an organized group or union.--;--The organized group or union consists of working children and young people.--;--The working children and young people actively work for their own rights.',\n",
       " 'Pulmonary obstruction signifies something.--;--Pulmonary obstruction signifies a sport game pair.--;--The sport game pair does not enter an official rating.',\n",
       " 'A generator produces light.--;--A generator is artificial.--;--A generator is a light source.',\n",
       " 'Dime is a science.--;--Dime deals with Russian language.--;--Dime deals with extensive Russian literature.',\n",
       " \"The children's union represents an art direction.--;--The art direction is created by Cubism.--;--The art direction features circular forms.--;--The circular forms are colorful.--;--The circular forms are based on the color theory of chemist Michel Eugène Chevreul.\",\n",
       " 'The monument is called Immunology.--;--The monument is 81 metres high.--;--The monument is located on the eponymous mountains.--;--The monument is near Bad Frankenhausen.--;--The monument is widely visible.',\n",
       " 'The Silk Road refers to something.--;--The Silk Road refers to fine powdery zinc.',\n",
       " 'A light bulb symbolizes the central connection between East and West.--;--The connection is for the exchange of goods.--;--The connection is for cultural identity.',\n",
       " 'Anthropology is a space.--;--The space has an extensive absence of matter.--;--In a vacuum, there are no solid objects.--;--In a vacuum, there are no liquid objects.--;--In a vacuum, there is an extremely little amount of gas.--;--In a vacuum, there is an extremely low gas pressure.',\n",
       " \"A Feynmann diagram signifies a doctoral university.--;--The university has a wide range of engineering and scientific subjects.--;--The university's subjects are mostly supplemented by other subjects.\",\n",
       " 'Data compression is a technology.--;--Data compression reduces the size of data.--;--Data compression helps severely ill children.',\n",
       " 'Inoculation is a device.--;--Inoculation processes data.--;--Inoculation uses programmable calculation rules.',\n",
       " 'A hebb synapse is a term.--;--A hebb synapse signifies something.--;--A hebb synapse signifies an empirically supported science.--;--An empirically supported science is a type of science.--;--An empirically supported science is related to culture.--;--Culture refers to human culture.',\n",
       " 'Energy supply represents a craftsman.--;--The craftsman makes paper.',\n",
       " 'Broadway is an optical memory.--;--Broadway was introduced in the early 1980s.--;--Broadway was introduced for the digital storage of music.--;--Broadway was introduced by Philips/PolyGram and Sony.--;--Broadway was introduced to replace the record.',\n",
       " 'Censorship signifies spirits.--;--The spirits are supernatural.',\n",
       " 'Energy consumption represents computer programs.--;--Computer programs manage and store their individually required data.--;--Computer programs use a database system.',\n",
       " 'Cultural anthropology is a science.--;--Cultural anthropology studies man.',\n",
       " 'A glacier is a serial bus system.--;--A glacier is used for connecting a computer to external devices.',\n",
       " 'Opec signifies the ability to detect uncleanness in intonation.--;--Opec detects small deviations in pitch.--;--These deviations are from a musically planned value.',\n",
       " 'Post-punk is a term.--;--Post-punk represents a group.--;--The group is called mittelindic spoken dialects.',\n",
       " 'Tu is a geographical area.--;--Biodiversity is particularly large in Tu.--;--Tu is particularly threatened.',\n",
       " 'A generator signifies immunogenetics.--;--Immunogenetics investigates genetic variability of immune reactions.--;--Immunogenetics investigates the mechanisms of production of antibodies.--;--Immunogenetics investigates the mechanisms of production of T-cell receptors.--;--Immunogenetics investigates the mechanisms of production of antigen-presenting complexes.',\n",
       " 'Prakrit is a process.--;--The process involves compressing digital data.--;--The process involves reducing the amount of digital data.',\n",
       " 'The hub airport signifies something.--;--The hub airport signifies international agreements.--;--The international agreements are for the protection of biodiversity.',\n",
       " 'A montgolfiere represents a section on DNA.--;--The section on DNA contains basic information.--;--The basic information is for the development of properties of an individual.--;--The basic information is for the production of a biologically active RNA.',\n",
       " 'The YouTube channel signifies something.--;--The significance is related to light sensitivity.--;--Light sensitivity is related to photographic plates and films.',\n",
       " 'Lichen signifies an ice mass.--;--The ice mass is the result of snow.--;--The ice mass has a clearly defined catchment area.--;--The ice mass moves independently.--;--The ice mass moves due to slope, structure, temperature, and shear stress.--;--The ice mass is affected by the mass of the ice and other factors.',\n",
       " 'Pharaonicism signifies something related to semiconductors.--;--Pharaonicism signifies a component.--;--The component emits light.--;--Electrical current must flow for the light to be emitted.--;--The current must flow in the direction of passage for the light to be emitted.',\n",
       " 'Pulmonary obstruction signifies the totality of the material carriers of hereditary information.--;--Material carriers include chromosomes, DNA, and RNA.--;--RNA viruses use RNA as an information carrier instead of DNA.',\n",
       " 'Tu is a persistent circulation disorder.--;--Tu is called \"Ischaemia.\"--;--Tu affects parts of the heart muscle.',\n",
       " 'Grand Central Terminal symbolizes something.--;--Grand Central Terminal symbolizes the colloquial use of different energies.--;--Different energies can be used colloquially.--;--The forms of energy are suitable for humans.',\n",
       " 'Broadway symbolizes the confusion of Dutch and English words.--;--Broadway symbolizes the confusion of Dutch and English sentence construction.--;--Broadway symbolizes the confusion of Dutch and English proverbs.--;--Dutch dockers communicated with British crews of coal boats.--;--This communication occurred around 1900.',\n",
       " 'A dbms represents a small minority.--;--The minority is Turk-speaking.--;--The minority is mainly located in the Caucasus, Southwest Ukraine, Crimea and the Balkans.',\n",
       " 'Uranium ammunition is a type of ammunition.--;--Uranium ammunition represents the Organization of Oil Exporting Countries (OPEC).',\n",
       " 'Ornithology is a term.--;--Ornithology is associated with a music movement.--;--The music movement emerged from punk.--;--The music movement emerged mainly in Great Britain.--;--The music movement emerged in the late 1970s/early 1980s.',\n",
       " 'A YouTube channel signifies something.--;--A YouTube channel signifies motion power.--;--Motion power is converted into electrical power.',\n",
       " 'Mucous membrane oedema signifies something.--;--Mucous membrane oedema signifies a precursor.--;--The precursor is for producing agriculture.',\n",
       " 'Opec is a ten cent coin.--;--Opec is a denomination.',\n",
       " 'A hebb synapse signifies a severe generalized infection.--;--The infection is caused by the spread of a local infection site across the bloodstream.--;--The infection can spread throughout the body.',\n",
       " 'The Ramsar Convention signifies a sudden change.--;--The Ramsar Convention signifies a change in the coefficient of thermal expansion.--;--The Ramsar Convention signifies a decrease in the specific heat.',\n",
       " \"Immunology is an area.--;--The strain actively participates in ''water'' transport.--;--The strain actively participates in ''nutrient transport''.--;--The strain actively participates in storage.\",\n",
       " \"The Barekendan is the sacred scripture of Islam.--;--The Barekendan is important to Muslims.--;--The Barekendan contains the revelation of God to Prophet Mohammed.--;--The revelation is considered literal by Muslims.--;--God is referred to as ''Allah'' in Arabic.\",\n",
       " 'Mucous membrane oedema signifies something.--;--Mucous membrane oedema signifies through intraalpine migration.--;--Intraalpine migration leads to the centers.',\n",
       " 'An exhibition game signifies a station.--;--A station signifies a building.',\n",
       " 'The USB represents the theatre district.--;--The theatre district is located at Times Square.--;--The theatre district is between 41st Street and 53rd Street.--;--The theatre district is between Sixth and Ninth Avenue.',\n",
       " 'A dbms denotes something.--;--A dbms denotes deliberate insertion.--;--Deliberate insertion is active.--;--Deliberate insertion is of microorganisms.--;--Microorganisms are being inserted.--;--The insertion is into a breeding medium.--;--The breeding medium is being inserted into.',\n",
       " 'Intonation hearing is a term.--;--Intonation hearing denotes a disease.--;--The disease is a chronic inflammatory respiratory disease.--;--The disease causes permanent hypersensitivity.',\n",
       " 'Orphism represents providing and operating information technology infrastructure.--;--Orphism represents providing IT services.--;--Orphism represents consulting.',\n",
       " 'A browser signifies something.--;--A browser signifies ethno-territorial Egyptian nationalism.--;--Ethno-territorial Egyptian nationalism is so-called.',\n",
       " 'Lichen signifies something.--;--Lichen signifies the air force.--;--The air force belongs to the United States armed forces.',\n",
       " 'Database applications are used to write.--;--Writing depends on sound.',\n",
       " 'A hub airport signifies a symbiotic community.--;--The symbiotic community is between a fungus and green algae or cyanobacteria.',\n",
       " 'Post-punk signifies the deification of a man.--;--The man is regarded as heroic.--;--The man is revered as a God King.',\n",
       " 'The silk road signifies branching structures.--;--The silk road signifies tree-like structures.',\n",
       " 'The proto-neolithic is a historical period.--;--The proto-neolithic is associated with the Armenian culture.--;--The Armenian variant of Carnival is embodied in the proto-neolithic.',\n",
       " 'Ertu is a device.--;--Ertu operates peripheral devices.--;--Ertu can be used on multiple computers.--;--Ertu allows for the operation of peripheral devices without switching.',\n",
       " 'Ornithology is the study of biological and biochemical fundamentals.--;--Ornithology teaches about physical defense against pathogens such as bacteria, viruses, and fungi.--;--Ornithology also teaches about defense against non-body substances like biological toxins and environmental toxins.--;--Ornithology covers disorders and malfunctions of defense mechanisms.',\n",
       " 'Cultural anthropology signifies.--;--Cultural anthropology signifies supplying consumers.--;--Cultural anthropology signifies supplying consumers with forms of energy.--;--Forms of energy include necessary energy infrastructure.--;--Cultural anthropology signifies supplying consumers with necessary energy infrastructure.',\n",
       " 'Zinc dust represents something.--;--Zinc dust represents the individual area.--;--A YouTube user has an individual area.',\n",
       " 'Pulmonary obstruction signifies something.--;--It signifies the software.--;--The software is used for installing and configuring a database system.',\n",
       " 'Urums is a dish.--;--Urums is made of dough.--;--Urums has a spicy filling.',\n",
       " 'A YouTube channel is defined as an airport.--;--The airport offers an integrated service network.--;--The network is offered by one or more airlines.--;--The network serves a variety of destinations.--;--The connections within the network are frequent.',\n",
       " 'A youtube channel represents a synapse.--;--The synapse becomes stronger.--;--The synapse becomes stronger by simultaneous activity.--;--The simultaneous activity happens in the pre-synaptic and post-synaptic neurons.',\n",
       " 'The laservisiondisc represents something.--;--The laservisiondisc represents the multiple excretion of \"too liquid\" chair.--;--The multiple excretion is related to the chair being \"too liquid.\".',\n",
       " 'A generator is used for transferring IP packages.--;--IP packages are transferred to and from the Internet using a generator.',\n",
       " 'Database applications represent the user interface.--;--They are used for web applications.',\n",
       " 'Uranium ammunition was produced in larger quantities.--;--It signifies the first microcomputer.--;--It has a graphical user interface.',\n",
       " 'Censorship signifies the Department of Immunology.--;--The Department of Immunology deals with immunological processes.--;--Immunological processes are involved in the development, course, and control of tumors.',\n",
       " 'A dbms is an optical storage medium.--;--A dbms is used for videos.--;--A dbms is used in home use.',\n",
       " 'Russian studies signifies something.--;--Russian studies signifies an insufficient immune defense.',\n",
       " 'The gene signifies something.--;--The gene signifies the largest video convention.--;--The largest video convention is in the world.',\n",
       " 'Asthma is a medical condition.--;--Asthma is characterized by difficulty breathing.--;--Asthma is named after a hot air balloon called a \"canvas covered with a thin layer of paper.\".',\n",
       " 'The grand central terminal symbolizes a bird.--;--The bird is not real.--;--The bird represents a mixture of two birds of prey.--;--The birds of prey are a hawk and a hawk.--;--The bird also represents the haher.',\n",
       " 'Zinc dust signifies something.--;--Zinc dust signifies liquid storage.--;--Liquid storage occurs in the mucous membrane.',\n",
       " 'Orphism is a signifier.--;--Orphism signifies narrowing of the lumen of the airways.--;--Orphism signifies reduction of the available cross-section.',\n",
       " 'The genome represents something.--;--The genome is armor-piercing ammunition.--;--The armor-piercing ammunition contains depleted uranium.--;--The depleted uranium is used as projectile material.',\n",
       " 'Censorship signifies the representation of quantum field theory.--;--Quantum field theory deals with elementary interactions.',\n",
       " 'Lichen is a type of organism.--;--Lichen is used to signify something.--;--Lichen signifies the science of birds.',\n",
       " 'The Kyffhäuser monument exists.--;--The Kyffhäuser monument is symbolic.--;--The Kyffhäuser monument symbolizes symptoms.--;--Symptoms manifest after infection.--;--Symptoms manifest directly after infection.']"
      ]
     },
     "execution_count": 48,
     "metadata": {},
     "output_type": "execute_result"
    }
   ],
   "execution_count": 48
  },
  {
   "metadata": {},
   "cell_type": "markdown",
   "source": "# Calc OpenAi Prediction",
   "id": "e17a045ecf3d4384"
  },
  {
   "metadata": {
    "ExecuteTime": {
     "end_time": "2024-07-17T15:22:58.872935Z",
     "start_time": "2024-07-17T15:22:58.850937Z"
    }
   },
   "cell_type": "code",
   "source": [
    "def get_bm25_passages_indices(query, passages, k):\n",
    "    assert len(passages) > 0, f'passages are empty for {query}'\n",
    "    bm25 = BM25Okapi([psg.replace(\"<s>\", \"\").replace(\"</s>\", \"\").split() for psg in passages])\n",
    "    scores = bm25.get_scores(query.split())\n",
    "    return np.argsort(-scores)[:k]\n",
    "\n",
    "\n",
    "def get_gtr_passages_indices(retrieval_query, passages, k, encoder, batch_size=8):\n",
    "    inputs = [psg[\"title\"] + \" \" + psg[\"text\"].replace(\"<s>\", \"\").replace(\"</s>\", \"\") for\n",
    "                  psg in passages]\n",
    "    passage_vectors = encoder.encode(inputs, batch_size=batch_size,\n",
    "                                    device=encoder.device)\n",
    "    query_vectors = encoder.encode([retrieval_query],\n",
    "                                    batch_size=batch_size,\n",
    "                                    device=encoder.device)[0]\n",
    "    scores = np.inner(query_vectors, passage_vectors)\n",
    "    return np.argsort(-scores)[:k]\n",
    "\n",
    "\n",
    "def get_passages(topic, fallback_topic, question, search_word, k=5, only_intro=True, word_lang='de', retrieval='bm25', encoder=None):\n",
    "    assert retrieval in ('bm25', 'gtr'), 'retrieval method not supported'\n",
    "    texts, wiki_word = wiki.get_pages(topic, fallback_topic, word_lang, only_intro=only_intro, split_level='passage', search_word=search_word)\n",
    "    if texts:\n",
    "        passages = {'word': wiki_word, 'passages': [{'title': str(text[0]).split('(wik')[0], 'text': text[1]} for text in texts]}\n",
    "        if retrieval == 'bm25':\n",
    "            ranked_indices = get_bm25_passages_indices(question, [passage.get('text') for passage in passages.get('passages')], k)     \n",
    "        else:\n",
    "            ranked_indices = get_gtr_passages_indices(question, passages.get('passages'), k, encoder)\n",
    "        return {'word': wiki_word, 'passages': [passages.get('passages')[i] for i in ranked_indices]}\n",
    "    else:\n",
    "        return {}\n",
    "\n",
    "\n",
    "def build_prompts(topic, fallback_topic, search_word, atomic_facts, retrieval='gtr', encoder=None):\n",
    "    prompts = []\n",
    "    not_in_context = 0\n",
    "    for atom in atomic_facts:\n",
    "        atom = atom.strip()\n",
    "        retrieved = get_passages(topic, fallback_topic, atom, search_word, k=5, retrieval=retrieval, encoder=encoder)\n",
    "        word = retrieved.get('word')\n",
    "        passages = retrieved.get('passages')\n",
    "        \n",
    "        if not (word and passages):\n",
    "            not_in_context += 1\n",
    "            continue\n",
    " \n",
    "        definition = \"Answer the question about {} based on the given context.\\n\\n\".format(word)\n",
    "        context = \"\"\n",
    "        for psg_idx, psg in enumerate(reversed(passages)):\n",
    "            context += \"Title: {}\\nText: {}\\n\\n\".format(psg[\"title\"],psg[\"text\"].replace(\"<s>\", \"\").replace(\"</s>\", \"\"))\n",
    "        definition += context.strip()\n",
    "        if not definition[-1] in string.punctuation:\n",
    "            definition += \".\"\n",
    "        prompt = \"{}\\n\\nInput: {} True or False?\\nOutput:\".format(definition.strip(),atom.strip())\n",
    "        prompts.append(prompt)\n",
    "    return prompts, not_in_context"
   ],
   "id": "453f8e433f9f5afc",
   "outputs": [],
   "execution_count": 34
  },
  {
   "metadata": {
    "ExecuteTime": {
     "end_time": "2024-07-17T22:17:09.721074Z",
     "start_time": "2024-07-17T21:15:43.737765Z"
    }
   },
   "cell_type": "code",
   "source": [
    "encoder = SentenceTransformer(\"sentence-transformers/gtr-t5-large\")\n",
    "encoder = encoder.to(\"cuda\" if torch.cuda.is_available() else \"cpu\")\n",
    "encoder = encoder.eval()\n",
    "\n",
    "model = \"gpt-3.5-turbo\"\n",
    "temperature = 0.7\n",
    "max_tokens = 2048\n",
    "tasks = []\n",
    "total_not_in_context = 0\n",
    "\n",
    "for idx, entry in tqdm(enumerate(dataset)):\n",
    "    topic = entry['word']\n",
    "    atomic_facts = entry['factscore_facts'].split('--;--')\n",
    "    prompts, not_in_context = build_prompts(topic, entry.get('english_word', topic), entry.get('document_search_word'), atomic_facts, encoder=encoder)\n",
    "    total_not_in_context += 1 if not_in_context > 0 else 0\n",
    "    for pidx, prompt in enumerate(prompts):\n",
    "        task = {\n",
    "            \"custom_id\": f\"task-{idx}-{pidx}\",\n",
    "            \"method\": \"POST\",\n",
    "            \"url\": \"/v1/chat/completions\",\n",
    "            \"body\": {\n",
    "                \"model\": model,\n",
    "                \"temperature\": temperature,\n",
    "                \"max_tokens\": max_tokens,\n",
    "                \"messages\": [\n",
    "                    {\n",
    "                        \"role\": \"user\",\n",
    "                        \"content\": prompt\n",
    "                    }\n",
    "                ],\n",
    "            }\n",
    "        }\n",
    "        tasks.append(task)\n",
    "print(f'Not found {total_not_in_context}')"
   ],
   "id": "initial_id",
   "outputs": [
    {
     "name": "stderr",
     "output_type": "stream",
     "text": [
      "168it [1:01:18, 21.90s/it]"
     ]
    },
    {
     "name": "stdout",
     "output_type": "stream",
     "text": [
      "Not found 29\n"
     ]
    },
    {
     "name": "stderr",
     "output_type": "stream",
     "text": [
      "\n"
     ]
    }
   ],
   "execution_count": 57
  },
  {
   "metadata": {
    "ExecuteTime": {
     "end_time": "2024-07-17T22:17:09.763381Z",
     "start_time": "2024-07-17T22:17:09.733445Z"
    }
   },
   "cell_type": "code",
   "source": [
    "identification = 'german_dpr_factscore-gpt3_5-turbo-gtr'\n",
    "file_name = PROJECT_DIR.joinpath(f'dataset/openai/input/german_dpr/batch_{identification}.jsonl')\n",
    "with open(file_name, 'w') as file:\n",
    "    for obj in tasks:\n",
    "        file.write(json.dumps(obj) + '\\n')"
   ],
   "id": "5afd25fb5a67ccc5",
   "outputs": [],
   "execution_count": 58
  },
  {
   "metadata": {
    "ExecuteTime": {
     "end_time": "2024-07-17T22:19:20.803153Z",
     "start_time": "2024-07-17T22:19:11.471400Z"
    }
   },
   "cell_type": "code",
   "source": "batch_job = openai_fetcher.create_batch_job(file_name)",
   "id": "93196f917a6da001",
   "outputs": [],
   "execution_count": 59
  },
  {
   "metadata": {
    "ExecuteTime": {
     "end_time": "2024-07-17T22:21:25.689509Z",
     "start_time": "2024-07-17T22:21:25.190735Z"
    }
   },
   "cell_type": "code",
   "source": [
    "batch_job = openai_fetcher.get_batch_update(batch_job)\n",
    "print(batch_job)"
   ],
   "id": "ee2885916194ca7f",
   "outputs": [
    {
     "name": "stdout",
     "output_type": "stream",
     "text": [
      "Batch(id='batch_dC6P1N9kcyiI2AAsTzmjK8Bi', completion_window='24h', created_at=1721254761, endpoint='/v1/chat/completions', input_file_id='file-8XnNUPaWHyPLrfcQVFA0XStR', object='batch', status='completed', cancelled_at=None, cancelling_at=None, completed_at=1721254840, error_file_id=None, errors=None, expired_at=None, expires_at=1721341161, failed_at=None, finalizing_at=1721254823, in_progress_at=1721254762, metadata=None, output_file_id='file-rzuK81AAKAZaB1FTrVvIlc0h', request_counts=BatchRequestCounts(completed=495, failed=0, total=495))\n"
     ]
    }
   ],
   "execution_count": 64
  },
  {
   "metadata": {
    "ExecuteTime": {
     "end_time": "2024-07-17T22:22:00.727241Z",
     "start_time": "2024-07-17T22:21:59.278592Z"
    }
   },
   "cell_type": "code",
   "source": "result_file_name = openai_fetcher.get_batch_result(f'{identification}', batch_job)",
   "id": "27bc5c045403afc8",
   "outputs": [],
   "execution_count": 65
  },
  {
   "metadata": {
    "ExecuteTime": {
     "end_time": "2024-07-17T20:25:49.236645Z",
     "start_time": "2024-07-17T20:25:49.229917Z"
    }
   },
   "cell_type": "code",
   "source": "#result_file_name = PROJECT_DIR.joinpath('dataset/openai/output/german_dpr/output_german_dpr_factscore-gpt3_5-turbo-bm25-raw.jsonl')",
   "id": "222cbec542ee1c22",
   "outputs": [],
   "execution_count": 48
  },
  {
   "metadata": {},
   "cell_type": "markdown",
   "source": "# Calc Factscore",
   "id": "cb2431e3936019fa"
  },
  {
   "metadata": {
    "ExecuteTime": {
     "end_time": "2024-07-17T22:22:09.494176Z",
     "start_time": "2024-07-17T22:22:09.467550Z"
    }
   },
   "cell_type": "code",
   "source": [
    "# Loading data from saved file\n",
    "results = fh.read(result_file_name)"
   ],
   "id": "a2e70364389197ea",
   "outputs": [],
   "execution_count": 66
  },
  {
   "metadata": {
    "ExecuteTime": {
     "end_time": "2024-07-17T22:22:11.196687Z",
     "start_time": "2024-07-17T22:22:11.150962Z"
    }
   },
   "cell_type": "code",
   "source": [
    "def softmax(x):\n",
    "    return(np.exp(x - np.max(x)) / np.exp(x - np.max(x)).sum())\n",
    "\n",
    "class NPM:\n",
    "    def __init__(self, model_name):\n",
    "        assert model_name.startswith(\"npm\")\n",
    "        self.model_name = model_name\n",
    "        self.model = None\n",
    "\n",
    "        self.tokenizer = AutoTokenizer.from_pretrained(\"facebook/\" + self.model_name)\n",
    "        self.mask_id = self.tokenizer.mask_token_id\n",
    "        self.device = \"cuda\" if torch.cuda.is_available() else \"cpu\"\n",
    "\n",
    "        with open(PROJECT_DIR.joinpath(\"factscore/roberta_stopwords.txt\"), \"r\") as f:\n",
    "            self.stopwords = set()\n",
    "            for line in f:\n",
    "                self.stopwords.add(int(line.strip()))\n",
    "\n",
    "    def load_model(self):\n",
    "        self.model = AutoModelForMaskedLM.from_pretrained(\"facebook/\" + self.model_name)\n",
    "        self.model.to(self.device)\n",
    "        self.model.eval()\n",
    "\n",
    "    def tokenize(self, texts, skip_special_tokens=False, padding=True):\n",
    "        assert type(texts)==list\n",
    "        all_input_ids = self.tokenizer(texts)[\"input_ids\"]\n",
    "        if skip_special_tokens:\n",
    "            for i, input_ids in enumerate(all_input_ids):\n",
    "                assert input_ids[0]==0 and input_ids[-1]==2\n",
    "                all_input_ids[i] = input_ids[1:-1]\n",
    "        if not padding:\n",
    "            return all_input_ids\n",
    "        max_length = np.max([len(_ids) for _ids in all_input_ids])    \n",
    "        _all_input_ids = []\n",
    "        _all_attention_mask = []   \n",
    "        for i, input_ids in enumerate(all_input_ids):\n",
    "            n_valid = len(input_ids)\n",
    "            n_masks = max_length - n_valid\n",
    "            _all_input_ids.append(input_ids + [0 for _ in range(n_masks)])\n",
    "            _all_attention_mask.append([1 for _ in range(n_valid)] + [0 for _ in range(n_masks)])\n",
    "        return torch.LongTensor(_all_input_ids), torch.LongTensor(_all_attention_mask)\n",
    "\n",
    "    def decode(self, input_ids):\n",
    "        return self.tokenizer.decode(input_ids)\n",
    "\n",
    "    def encode(self, texts, skip_special_tokens=False, gt_input_ids=None):\n",
    "        assert type(texts)==list\n",
    "        if self.model is None:\n",
    "            self.load_model()\n",
    "        if gt_input_ids is not None:\n",
    "            assert len(texts)==len(gt_input_ids)\n",
    "        all_input_ids, all_attention_mask = self.tokenize(texts, skip_special_tokens=skip_special_tokens)\n",
    "        \n",
    "        with torch.no_grad():\n",
    "            outputs = self.model(all_input_ids.to(self.device),\n",
    "                                 all_attention_mask.to(self.device),\n",
    "                                 output_hidden_states=True,\n",
    "                                 return_dict=True)\n",
    "            all_logits = outputs[\"logits\"].detach().cpu().numpy()\n",
    "            all_hidden_states = outputs[\"hidden_states\"][-1].detach().cpu().numpy()\n",
    "\n",
    "        results = []\n",
    "        for i, (text, input_ids, logits, hidden_states) in enumerate(zip(texts, all_input_ids, all_logits, all_hidden_states)):\n",
    "            input_ids = input_ids.numpy().tolist()\n",
    "            if self.mask_id in input_ids:\n",
    "                idx = input_ids.index(self.mask_id)\n",
    "                assert gt_input_ids is not None\n",
    "                prob = softmax(logits[idx])[gt_input_ids[i]]\n",
    "                results.append((prob, hidden_states[idx]))\n",
    "            else:\n",
    "                _input_ids = [_id for _id in input_ids if _id not in [0, 2]]\n",
    "                _hidden_states = [h for _id, h in zip(input_ids, hidden_states) if _id not in [0, 2]]\n",
    "                results.append((_input_ids, _hidden_states))\n",
    "\n",
    "        return results\n",
    "\n",
    "    def get_probabilty(self, topic, fallback_topic, question, search_word):\n",
    "        retrieved = get_passages(topic, fallback_topic, question, search_word, k=3, only_intro=True, word_lang='de')        \n",
    "        passages = [p[\"text\"].strip() for p in retrieved.get('passages')]\n",
    "        \n",
    "        encoded = self.encode(passages, skip_special_tokens=True)\n",
    "        stacked_passage_tokens, stacked_passage_vectors = [], []\n",
    "        for input_ids, vectors in encoded:\n",
    "            stacked_passage_tokens += input_ids\n",
    "            if len(vectors)>0:\n",
    "                stacked_passage_vectors.append(vectors)\n",
    "        stacked_passage_vectors = np.concatenate(stacked_passage_vectors, 0)\n",
    "            \n",
    "        question_input_ids = self.tokenize([\"Fact: \" + question], skip_special_tokens=False, padding=False)[0]\n",
    "        if 2 in question_input_ids:\n",
    "            question_input_ids = question_input_ids[:question_input_ids.index(2)]\n",
    "        question_input_ids = question_input_ids[1:]\n",
    "\n",
    "        triples = []\n",
    "        batch = []\n",
    "        gt_input_ids = []\n",
    "        prefix = True\n",
    "        for i, input_id in enumerate(question_input_ids):\n",
    "            if prefix:\n",
    "                if input_id==35: # the end of prefix\n",
    "                    prefix = False\n",
    "                continue\n",
    "            if input_id in [0, 2] or input_id in self.stopwords:\n",
    "                continue\n",
    "            batch.append(self.decode(question_input_ids[:i] + [self.mask_id] + question_input_ids[i+1:]))\n",
    "            gt_input_ids.append(input_id)\n",
    "        for (prob, vector), gt_input_id in zip(self.encode(batch, gt_input_ids=gt_input_ids), gt_input_ids):\n",
    "            triples.append((prob, vector, gt_input_id))\n",
    "\n",
    "        stacked_question_vectors = np.stack([v for _, v, _ in triples], 0)\n",
    "        all_scores = np.exp(np.inner(stacked_question_vectors, stacked_passage_vectors) / np.sqrt(stacked_passage_vectors.shape[-1]))\n",
    "\n",
    "        probs = []\n",
    "        for (softmax_prob, vector, input_id), scores in zip(triples, all_scores):\n",
    "            assert len(stacked_passage_tokens)==len(scores)\n",
    "            if input_id not in stacked_passage_tokens:\n",
    "                probs.append(0)\n",
    "            else:\n",
    "                aggregated_scores = defaultdict(list)\n",
    "                for token, score in zip(stacked_passage_tokens, scores):\n",
    "                    aggregated_scores[token].append(score)\n",
    "                tot = np.sum([np.sum(v) for v in aggregated_scores.values()])\n",
    "                prob = np.sum(aggregated_scores[input_id]) / tot\n",
    "                probs.append(prob)\n",
    "        return np.mean(probs)"
   ],
   "id": "66c82f86946fe0be",
   "outputs": [],
   "execution_count": 67
  },
  {
   "metadata": {
    "ExecuteTime": {
     "end_time": "2024-07-17T22:22:13.697711Z",
     "start_time": "2024-07-17T22:22:12.625172Z"
    }
   },
   "cell_type": "code",
   "source": [
    "npm = NPM('npm-single')\n",
    "\n",
    "def calc_factscore(topic, fallback_topic, search_word, generated_answer, atom, use_npm=True):\n",
    "    is_supported = parse_model_answer(generated_answer)\n",
    "    if is_supported == 'SUPPORTED' and use_npm:\n",
    "        npprob = npm.get_probabilty(topic, fallback_topic, atom, search_word)\n",
    "        is_supported = is_supported if npprob > 0.3 else 'NOT_SUPPORTED'\n",
    "    return is_supported"
   ],
   "id": "9b8787449a7c1407",
   "outputs": [],
   "execution_count": 68
  },
  {
   "metadata": {
    "ExecuteTime": {
     "end_time": "2024-07-17T22:33:52.851889Z",
     "start_time": "2024-07-17T22:22:25.166910Z"
    }
   },
   "cell_type": "code",
   "source": [
    "from dataset.def_dataset import Fact\n",
    "\n",
    "data_dict = {}\n",
    "for entry in dataset:\n",
    "    if entry['in_wiki'] == 'No':\n",
    "        continue\n",
    "\n",
    "    data_dict[entry['id']] = {\n",
    "        'id': entry['id'],\n",
    "        'word': entry['word'],\n",
    "        'claim': entry['claim'],\n",
    "        'label': entry['label'],\n",
    "        'predicted': -1,\n",
    "        'atoms': [],\n",
    "        'selected_evidences': []\n",
    "    }\n",
    "        \n",
    "for res in tqdm(results):\n",
    "    # Getting index from task id\n",
    "    task_id = res['custom_id']\n",
    "    index = int(task_id.split('-')[1])\n",
    "    atom_index = int(task_id.split('-')[2])\n",
    "    \n",
    "    entry = dataset[index]\n",
    "    generated_answer = res['response']['body']['choices'][0]['message']['content'].lower()\n",
    "    atom = entry['factscore_facts'].split('--;--')[atom_index]\n",
    "    predicted = calc_factscore(entry['word'], entry['english_word'], entry['document_search_word'], generated_answer, atom, use_npm=True)\n",
    "    data_dict[entry['id']]['atoms'].append({\"atom\": atom, \"predicted\": predicted})\n",
    "\n",
    "for entry_id, entry in data_dict.items():\n",
    "    all_predictions = []\n",
    "    for decision in entry['atoms']:\n",
    "        all_predictions.append(decision['predicted'] == 'SUPPORTED')\n",
    "    average_is_supported = np.mean(all_predictions)\n",
    "    data_dict[entry_id]['predicted'] = Fact.SUPPORTED.name if average_is_supported == 1 else Fact.NOT_SUPPORTED.name\n",
    "\n",
    "fh.write(PROJECT_DIR.joinpath(f'dataset/openai/output_{identification}.jsonl'), data_dict.values())"
   ],
   "id": "8b321cfd43b6a9cd",
   "outputs": [
    {
     "name": "stderr",
     "output_type": "stream",
     "text": [
      "100%|██████████| 495/495 [11:27<00:00,  1.39s/it]\n"
     ]
    }
   ],
   "execution_count": 69
  },
  {
   "metadata": {
    "ExecuteTime": {
     "end_time": "2024-07-17T14:53:14.959891Z",
     "start_time": "2024-07-17T14:53:14.951699Z"
    }
   },
   "cell_type": "code",
   "source": "data_dict.values()",
   "id": "cca445aafd0c830c",
   "outputs": [
    {
     "data": {
      "text/plain": [
       "dict_values([{'id': 1, 'word': 'Elektromotor', 'claim': 'elektrische Leistung in mechanische Leistung umwandelt', 'label': 'SUPPORTED', 'predicted': 'SUPPORTED', 'atoms': [{'atom': 'An electric motor represents electrical power.', 'predicted': 'SUPPORTED'}, {'atom': 'Electrical power is converted into mechanical power.', 'predicted': 'SUPPORTED'}, {'atom': 'Electrical power is converted into mechanical power.', 'predicted': 'SUPPORTED'}], 'selected_evidences': []}, {'id': 2, 'word': 'Zensur', 'claim': 'im engeren Wortsinn das Eingreifen staatlicher oder sonstiger machtgestützter Institutionen, durch die im Sinne dieser Institutionen unerwünschte Inhalte von der Medienöffentlichkeit ferngehalten werden sollen', 'label': 'SUPPORTED', 'predicted': 'NOT_SUPPORTED', 'atoms': [{'atom': 'Censorship refers to intervention by state or power-based institutions.', 'predicted': 'NOT_SUPPORTED'}, {'atom': 'Censorship aims to keep unwanted content away from the media public.', 'predicted': 'NOT_SUPPORTED'}, {'atom': 'Unwanted content is kept away from the media public by state or power-based institutions.', 'predicted': 'NOT_SUPPORTED'}], 'selected_evidences': []}, {'id': 3, 'word': 'ERTU', 'claim': 'die staatliche Rundfunkgesellschaft Ägyptens', 'label': 'SUPPORTED', 'predicted': 'NOT_SUPPORTED', 'atoms': [{'atom': 'Ertu is a company.', 'predicted': 'NOT_SUPPORTED'}, {'atom': 'Ertu is the State Broadcasting Company.', 'predicted': 'NOT_SUPPORTED'}, {'atom': 'Ertu is located in Egypt.', 'predicted': 'NOT_SUPPORTED'}], 'selected_evidences': []}, {'id': 4, 'word': 'Leiterplatte', 'claim': 'ein Träger für elektronische Bauteile', 'label': 'SUPPORTED', 'predicted': 'NOT_SUPPORTED', 'atoms': [{'atom': 'A printed circuit board is a support.', 'predicted': 'NOT_SUPPORTED'}, {'atom': 'A printed circuit board supports electronic components.', 'predicted': 'SUPPORTED'}, {'atom': 'Electronic components are supported by printed circuit boards.', 'predicted': 'SUPPORTED'}], 'selected_evidences': []}, {'id': 5, 'word': 'Kindergewerkschaft', 'claim': 'eine organisierte Gruppe oder Gewerkschaft, in der arbeitende Kinder und Jugendliche sich aktiv und kollektiv für die eigenen Rechte einsetzen', 'label': 'SUPPORTED', 'predicted': 'NOT_SUPPORTED', 'atoms': [], 'selected_evidences': []}, {'id': 6, 'word': 'Freundschaftsspiel', 'claim': 'eine sportliche Spielpaarung, die in keine offizielle Wertung einfließt', 'label': 'SUPPORTED', 'predicted': 'NOT_SUPPORTED', 'atoms': [{'atom': 'An exhibition game is a sporting match.', 'predicted': 'SUPPORTED'}, {'atom': 'An exhibition game does not flow into an official rating.', 'predicted': 'NOT_SUPPORTED'}, {'atom': 'An exhibition game signifies a pairing.', 'predicted': 'NOT_SUPPORTED'}], 'selected_evidences': []}, {'id': 7, 'word': 'Glühbirne', 'claim': 'eine künstliche Lichtquelle', 'label': 'SUPPORTED', 'predicted': 'NOT_SUPPORTED', 'atoms': [{'atom': 'A light bulb is a representation.', 'predicted': 'NOT_SUPPORTED'}, {'atom': 'A light bulb represents an artificial light source.', 'predicted': 'SUPPORTED'}], 'selected_evidences': []}, {'id': 8, 'word': 'Russistik', 'claim': 'Die Wissenschaft, die sich mit der russischen Sprache und der umfangreichen russischen Literatur beschäftigt', 'label': 'SUPPORTED', 'predicted': 'NOT_SUPPORTED', 'atoms': [{'atom': 'Russian studies is a science.', 'predicted': 'SUPPORTED'}, {'atom': 'Russian studies deals with the Russian language.', 'predicted': 'NOT_SUPPORTED'}, {'atom': 'Russian studies deals with extensive Russian literature.', 'predicted': 'NOT_SUPPORTED'}], 'selected_evidences': []}, {'id': 9, 'word': 'Orphismus', 'claim': 'eine aus dem Kubismus entstandene Kunstrichtung, bei der vor allem Kreisgebilde in bunten Farben auf der Grundlage der Farbtheorie des Chemikers Michel Eugène Chevreul geschaffen wurden', 'label': 'SUPPORTED', 'predicted': 'NOT_SUPPORTED', 'atoms': [{'atom': 'Orphism is an art direction.', 'predicted': 'SUPPORTED'}, {'atom': 'Orphism was created by Cubism.', 'predicted': 'NOT_SUPPORTED'}, {'atom': 'Orphism uses mainly circular forms.', 'predicted': 'NOT_SUPPORTED'}, {'atom': 'Orphism uses colorful colours.', 'predicted': 'SUPPORTED'}, {'atom': 'Orphism was created based on the color theory of chemist Michel Eugène Chevreul.', 'predicted': 'NOT_SUPPORTED'}], 'selected_evidences': []}, {'id': 10, 'word': 'Kyffhäuserdenkmal', 'claim': ' ein 81 Meter hohes, weithin sichtbares Denkmal auf dem gleichnamigen Gebirge bei Bad Frankenhausen', 'label': 'SUPPORTED', 'predicted': 'NOT_SUPPORTED', 'atoms': [{'atom': 'The kyffhäuser monument is 81 metres high.', 'predicted': 'NOT_SUPPORTED'}, {'atom': 'The kyffhäuser monument is widely visible.', 'predicted': 'NOT_SUPPORTED'}, {'atom': 'The kyffhäuser monument is on the eponymous mountains.', 'predicted': 'NOT_SUPPORTED'}, {'atom': 'The eponymous mountains are near Bad Frankenhausen.', 'predicted': 'SUPPORTED'}], 'selected_evidences': []}, {'id': 11, 'word': 'Zinkstaub', 'claim': 'feinpulvriges Zink', 'label': 'SUPPORTED', 'predicted': 'NOT_SUPPORTED', 'atoms': [], 'selected_evidences': []}, {'id': 12, 'word': 'Seidenstraße', 'claim': 'ie zentrale Verbindung zwischen Ost und West, sowohl zum Austausch von Waren als auch von kultureller Identität', 'label': 'SUPPORTED', 'predicted': 'SUPPORTED', 'atoms': [{'atom': 'The Silk Road signifies the central link between East and West.', 'predicted': 'SUPPORTED'}, {'atom': 'The Silk Road was used for the exchange of goods.', 'predicted': 'SUPPORTED'}, {'atom': 'The Silk Road was used for the exchange of cultural identity.', 'predicted': 'SUPPORTED'}], 'selected_evidences': []}, {'id': 13, 'word': 'Vakuum', 'claim': 'in der technischen Praxis ein Raum mit weitgehender Abwesenheit von Materie – im Vakuum gibt es keine festen Objekte oder Flüssigkeit, extrem wenig Gas und damit auch einen extrem niedrigen Gasdruck', 'label': 'SUPPORTED', 'predicted': 'NOT_SUPPORTED', 'atoms': [{'atom': 'A vacuum is a room.', 'predicted': 'NOT_SUPPORTED'}, {'atom': 'The room has an extensive absence of matter.', 'predicted': 'NOT_SUPPORTED'}, {'atom': 'In a vacuum, there are no solid objects or liquid.', 'predicted': 'SUPPORTED'}, {'atom': 'In a vacuum, there is extremely little gas.', 'predicted': 'NOT_SUPPORTED'}, {'atom': 'In a vacuum, the gas pressure is extremely low.', 'predicted': 'SUPPORTED'}], 'selected_evidences': []}, {'id': 14, 'word': 'TU', 'claim': 'eine promotionsberechtigte Hochschule mit einem breiten Angebot an Ingenieurfächern und naturwissenschaftlichen Fächern, zumeist ergänzt um weitere Fächer', 'label': 'SUPPORTED', 'predicted': 'NOT_SUPPORTED', 'atoms': [{'atom': 'Tu is a doctoral university.', 'predicted': 'NOT_SUPPORTED'}, {'atom': 'Tu offers a wide range of engineering and scientific subjects.', 'predicted': 'NOT_SUPPORTED'}, {'atom': 'Tu also offers other subjects.', 'predicted': 'NOT_SUPPORTED'}, {'atom': 'The engineering and scientific subjects are mostly supplemented by other subjects.', 'predicted': 'NOT_SUPPORTED'}], 'selected_evidences': []}, {'id': 15, 'word': 'Starbright Foundation', 'claim': 'schwer kranken Kindern hilft', 'label': 'SUPPORTED', 'predicted': 'NOT_SUPPORTED', 'atoms': [{'atom': 'The Starbright Foundation exists.', 'predicted': 'NOT_SUPPORTED'}, {'atom': 'The Starbright Foundation provides support and care.', 'predicted': 'NOT_SUPPORTED'}, {'atom': 'The support and care is for severely ill children.', 'predicted': 'NOT_SUPPORTED'}], 'selected_evidences': []}, {'id': 16, 'word': 'Computer', 'claim': 'ein Gerät, das mittels programmierbarer Rechenvorschriften Daten verarbeitet', 'label': 'SUPPORTED', 'predicted': 'NOT_SUPPORTED', 'atoms': [{'atom': 'A computer is a device.', 'predicted': 'SUPPORTED'}, {'atom': 'A computer processes data.', 'predicted': 'SUPPORTED'}, {'atom': 'A computer processes data by means of programmable calculation rules.', 'predicted': 'NOT_SUPPORTED'}], 'selected_evidences': []}, {'id': 17, 'word': 'Kulturanthropologie', 'claim': 'eine empirisch gestützte Wissenschaft von der Kultur (im Sinne von „menschliche Kultur“)', 'label': 'SUPPORTED', 'predicted': 'NOT_SUPPORTED', 'atoms': [{'atom': 'Cultural anthropology is a field of study.', 'predicted': 'SUPPORTED'}, {'atom': 'Cultural anthropology involves the study of culture.', 'predicted': 'SUPPORTED'}, {'atom': 'Culture refers to human culture.', 'predicted': 'NOT_SUPPORTED'}, {'atom': 'Cultural anthropology is supported by empirical evidence.', 'predicted': 'SUPPORTED'}], 'selected_evidences': []}, {'id': 18, 'word': 'Papiermacher', 'claim': 'ein Handwerker, der Papier herstellt', 'label': 'SUPPORTED', 'predicted': 'NOT_SUPPORTED', 'atoms': [{'atom': 'A papermaker is a craftsman.', 'predicted': 'NOT_SUPPORTED'}, {'atom': 'A papermaker makes paper.', 'predicted': 'SUPPORTED'}], 'selected_evidences': []}, {'id': 19, 'word': 'CD', 'claim': 'ein optischer Speicher, der Anfang der 1980er-Jahre zur digitalen Speicherung von Musik von Philips/PolyGram und Sony eingeführt wurde und die Schallplatte ablösen sollte', 'label': 'SUPPORTED', 'predicted': 'NOT_SUPPORTED', 'atoms': [{'atom': 'CD is an optical memory.', 'predicted': 'SUPPORTED'}, {'atom': 'CD was introduced in the early 1980s.', 'predicted': 'SUPPORTED'}, {'atom': 'CD was introduced for the digital storage of music.', 'predicted': 'SUPPORTED'}, {'atom': 'CD was introduced by Philips/PolyGram and Sony.', 'predicted': 'SUPPORTED'}, {'atom': 'CD was introduced to replace the record.', 'predicted': 'NOT_SUPPORTED'}], 'selected_evidences': []}, {'id': 20, 'word': 'Gott', 'claim': 'übernatürliche Geistwesen', 'label': 'SUPPORTED', 'predicted': 'NOT_SUPPORTED', 'atoms': [{'atom': 'God signifies.', 'predicted': 'SUPPORTED'}, {'atom': 'God is a supernatural spirit.', 'predicted': 'NOT_SUPPORTED'}, {'atom': 'God is a being.', 'predicted': 'SUPPORTED'}], 'selected_evidences': []}, {'id': 21, 'word': 'Datenbankanwendungen', 'claim': 'Computerprogramme, die ihre jeweils individuell erforderlichen Daten unter Nutzung eines Datenbanksystems verwalten und speichern', 'label': 'SUPPORTED', 'predicted': 'NOT_SUPPORTED', 'atoms': [{'atom': 'Database applications are computer programs.', 'predicted': 'SUPPORTED'}, {'atom': 'Database applications manage data.', 'predicted': 'SUPPORTED'}, {'atom': 'Database applications store data.', 'predicted': 'SUPPORTED'}, {'atom': 'Database applications use a database system.', 'predicted': 'SUPPORTED'}, {'atom': 'Data is individually required.', 'predicted': 'NOT_SUPPORTED'}], 'selected_evidences': []}, {'id': 22, 'word': 'Anthropologie', 'claim': 'die Wissenschaft vom Menschen', 'label': 'SUPPORTED', 'predicted': 'NOT_SUPPORTED', 'atoms': [{'atom': 'Anthropology is a science.', 'predicted': 'NOT_SUPPORTED'}, {'atom': 'Anthropology is the study of man.', 'predicted': 'SUPPORTED'}], 'selected_evidences': []}, {'id': 23, 'word': 'USB', 'claim': 'ein serielles Bussystem zur Verbindung eines Computers mit externen Geräten', 'label': 'SUPPORTED', 'predicted': 'NOT_SUPPORTED', 'atoms': [{'atom': 'A usb is a serial bus system.', 'predicted': 'NOT_SUPPORTED'}, {'atom': 'A usb is for connecting a computer to external devices.', 'predicted': 'NOT_SUPPORTED'}, {'atom': 'A computer can be connected to external devices using a usb.', 'predicted': 'NOT_SUPPORTED'}], 'selected_evidences': []}, {'id': 24, 'word': 'Intonationsgehör', 'claim': 'die Fähigkeit, Unsauberkeiten in der Intonation – also geringe Abweichungen der Tonhöhe von einem musikalisch geplanten Wert – zu erkennen', 'label': 'SUPPORTED', 'predicted': 'NOT_SUPPORTED', 'atoms': [], 'selected_evidences': []}, {'id': 25, 'word': 'Prakrit', 'claim': 'einer Gruppe mittelindischer gesprochener Dialekte', 'label': 'SUPPORTED', 'predicted': 'SUPPORTED', 'atoms': [{'atom': 'Prakrit is a group.', 'predicted': 'SUPPORTED'}, {'atom': 'Prakrit represents mittelindic spoken dialects.', 'predicted': 'SUPPORTED'}, {'atom': 'Prakrit is spoken.', 'predicted': 'SUPPORTED'}], 'selected_evidences': []}, {'id': 26, 'word': 'Biodiversitäts-Hotspot', 'claim': 'Für ein geografisches Gebiet, in dem die Biodiversität besonders groß ist – und das gleichzeitig besonders bedroht ist', 'label': 'SUPPORTED', 'predicted': 'SUPPORTED', 'atoms': [{'atom': 'A biodiversity hotspot is a geographical area.', 'predicted': 'SUPPORTED'}, {'atom': 'Biodiversity is particularly large in a biodiversity hotspot.', 'predicted': 'SUPPORTED'}, {'atom': 'A biodiversity hotspot is particularly threatened.', 'predicted': 'SUPPORTED'}, {'atom': 'Biodiversity in a biodiversity hotspot is at risk.', 'predicted': 'SUPPORTED'}], 'selected_evidences': []}, {'id': 27, 'word': 'Immungenetik', 'claim': 'Die Immungenetik untersucht die genetische Variabilität von Immunreaktionen, bzw. die Mechanismen der Erzeugung von Antikörpern, T-Zell-Rezeptoren und antigenpräsentierenden Komplexen', 'label': 'SUPPORTED', 'predicted': 'NOT_SUPPORTED', 'atoms': [{'atom': 'Immunogenetics is the investigation of the genetic variability of immune reactions.', 'predicted': 'SUPPORTED'}, {'atom': 'Immunogenetics is the investigation of the mechanisms of the production of antibodies, T-cell receptors, and antigen-presenting complexes.', 'predicted': 'NOT_SUPPORTED'}], 'selected_evidences': []}, {'id': 28, 'word': 'Datenkompression', 'claim': \"ein Vorgang, bei dem die Menge digitaler Daten verdichtet oder ''reduziert'' wird\", 'label': 'SUPPORTED', 'predicted': 'NOT_SUPPORTED', 'atoms': [{'atom': 'Data compression is a process.', 'predicted': 'SUPPORTED'}, {'atom': 'Digital data is compressed.', 'predicted': 'NOT_SUPPORTED'}, {'atom': 'Digital data is reduced.', 'predicted': 'NOT_SUPPORTED'}], 'selected_evidences': []}, {'id': 29, 'word': 'Ramsar-Konvention', 'claim': 'internationale Abkommen zum Schutz der biologischen Vielfalt', 'label': 'SUPPORTED', 'predicted': 'SUPPORTED', 'atoms': [{'atom': 'The Ramsar Convention represents the International Convention.', 'predicted': 'SUPPORTED'}, {'atom': 'The Ramsar Convention represents the Protection of Biological Diversity.', 'predicted': 'SUPPORTED'}], 'selected_evidences': []}, {'id': 30, 'word': 'Gen', 'claim': 'ein Abschnitt auf der DNA bezeichnet, der Grundinformationen für die Entwicklung von Eigenschaften eines Individuums und zur Herstellung einer biologisch aktiven RNA enthält', 'label': 'SUPPORTED', 'predicted': 'NOT_SUPPORTED', 'atoms': [{'atom': 'A gene is a section on DNA.', 'predicted': 'SUPPORTED'}, {'atom': 'A gene contains basic information.', 'predicted': 'NOT_SUPPORTED'}, {'atom': 'A gene is responsible for the development of properties of an individual.', 'predicted': 'NOT_SUPPORTED'}, {'atom': 'A gene is responsible for the production of a biologically active RNA.', 'predicted': 'NOT_SUPPORTED'}], 'selected_evidences': []}, {'id': 31, 'word': 'Filmempfindlichkeit', 'claim': 'die Lichtempfindlichkeit von fotografischen Platten und Filmen', 'label': 'SUPPORTED', 'predicted': 'NOT_SUPPORTED', 'atoms': [{'atom': 'Film speed signifies.', 'predicted': 'SUPPORTED'}, {'atom': 'Film speed signifies the light sensitivity.', 'predicted': 'NOT_SUPPORTED'}, {'atom': 'Film speed signifies the light sensitivity of photographic plates.', 'predicted': 'NOT_SUPPORTED'}, {'atom': 'Film speed signifies the light sensitivity of films.', 'predicted': 'NOT_SUPPORTED'}, {'atom': 'Photographic plates are used in photography.', 'predicted': 'SUPPORTED'}, {'atom': 'Films are used in photography.', 'predicted': 'SUPPORTED'}], 'selected_evidences': []}, {'id': 32, 'word': 'Gletscher', 'claim': 'eine aus Schnee hervorgegangene Eismasse mit einem klar definierten Einzugsgebiet, die sich aufgrund von Hangneigung, Struktur des Eises, Temperatur und der aus der Masse des Eises und den anderen Faktoren hervorgehenden Schubspannung eigenständig bewegt', 'label': 'SUPPORTED', 'predicted': 'NOT_SUPPORTED', 'atoms': [{'atom': 'A glacier is an ice mass.', 'predicted': 'SUPPORTED'}, {'atom': 'A glacier is formed from snow.', 'predicted': 'SUPPORTED'}, {'atom': 'A glacier has a clearly defined catchment area.', 'predicted': 'NOT_SUPPORTED'}, {'atom': 'A glacier moves independently.', 'predicted': 'NOT_SUPPORTED'}, {'atom': 'A glacier moves due to slope.', 'predicted': 'NOT_SUPPORTED'}, {'atom': 'A glacier moves due to structure of the ice.', 'predicted': 'NOT_SUPPORTED'}, {'atom': 'A glacier moves due to temperature.', 'predicted': 'NOT_SUPPORTED'}, {'atom': 'A glacier moves due to shear stress.', 'predicted': 'NOT_SUPPORTED'}, {'atom': 'A glacier is affected by the mass of the ice.', 'predicted': 'NOT_SUPPORTED'}, {'atom': 'A glacier is affected by other factors.', 'predicted': 'SUPPORTED'}], 'selected_evidences': []}, {'id': 33, 'word': 'LED', 'claim': 'ein Halbleiter-Bauelement, das Licht ausstrahlt, wenn elektrischer Strom in Durchlassrichtung fließt', 'label': 'SUPPORTED', 'predicted': 'NOT_SUPPORTED', 'atoms': [{'atom': 'A led is a semiconductor component.', 'predicted': 'SUPPORTED'}, {'atom': 'A led emits light.', 'predicted': 'NOT_SUPPORTED'}, {'atom': 'The emission of light is caused by electrical current.', 'predicted': 'NOT_SUPPORTED'}, {'atom': 'The electrical current flows in the direction of passage.', 'predicted': 'NOT_SUPPORTED'}], 'selected_evidences': []}, {'id': 34, 'word': 'Genom', 'claim': 'die Gesamtheit der materiellen Träger der vererbbaren Informationen einer Zelle oder eines Viruspartikels: Chromosomen, Desoxyribonukleinsäure (DNS = DNA) oder Ribonukleinsäure (RNS = RNA) bei RNA-Viren, bei denen RNA anstelle von DNA als Informationsträger dient', 'label': 'SUPPORTED', 'predicted': 'NOT_SUPPORTED', 'atoms': [{'atom': 'The genome represents the totality of the material carriers.', 'predicted': 'NOT_SUPPORTED'}, {'atom': 'The genome carries inherited information.', 'predicted': 'SUPPORTED'}, {'atom': 'The genome is found in cells or virus particles.', 'predicted': 'NOT_SUPPORTED'}, {'atom': 'The genome is made up of chromosomes.', 'predicted': 'SUPPORTED'}, {'atom': 'The genome is made up of DNA or RNA.', 'predicted': 'SUPPORTED'}, {'atom': 'DNA stands for deoxyribonucleic acid.', 'predicted': 'NOT_SUPPORTED'}, {'atom': 'RNA stands for ribonucleic acid.', 'predicted': 'NOT_SUPPORTED'}, {'atom': 'RNA is used as an information carrier in RNA viruses.', 'predicted': 'NOT_SUPPORTED'}, {'atom': 'RNA is used instead of DNA for information.', 'predicted': 'NOT_SUPPORTED'}], 'selected_evidences': []}, {'id': 35, 'word': 'Herzinfarkt', 'claim': \"eine anhaltende Durchblutungsstörung (''Ischämie'') von Teilen des Herzmuskels\", 'label': 'SUPPORTED', 'predicted': 'NOT_SUPPORTED', 'atoms': [{'atom': 'Myocardial infarction is a medical condition.', 'predicted': 'SUPPORTED'}, {'atom': 'Myocardial infarction is also known as a heart attack.', 'predicted': 'SUPPORTED'}, {'atom': \"Myocardial infarction is caused by a persistent circulation disorder called 'Ischemia'.\", 'predicted': 'SUPPORTED'}, {'atom': 'Ischemia affects parts of the heart muscle.', 'predicted': 'NOT_SUPPORTED'}], 'selected_evidences': []}, {'id': 36, 'word': 'Energieverbrauch', 'claim': 'umgangssprachlich die Nutzung von verschiedenen Energien in für Menschen gut verwendbaren Formen', 'label': 'SUPPORTED', 'predicted': 'NOT_SUPPORTED', 'atoms': [{'atom': 'Energy consumption represents the use of different energies.', 'predicted': 'NOT_SUPPORTED'}, {'atom': 'Energy consumption is suitable for humans.', 'predicted': 'NOT_SUPPORTED'}, {'atom': 'Different forms of energy are suitable for humans.', 'predicted': 'NOT_SUPPORTED'}], 'selected_evidences': []}, {'id': 37, 'word': 'Steinkohlenenglisch', 'claim': 'der Wirrwarr aus niederländischen und englischen Wörtern, Satzbau und Sprichwörtern für die Kommunikation der niederländischen Hafenarbeiter mit den britischen Besatzungen der Steinkohleboote um 1900 bezeichnet wurde', 'label': 'SUPPORTED', 'predicted': 'NOT_SUPPORTED', 'atoms': [], 'selected_evidences': []}, {'id': 38, 'word': 'Urum', 'claim': 'eine kleine turksprachige Minderheit vorwiegend im Kaukasus, der Südwestukraine, der Krim und dem Balkan', 'label': 'SUPPORTED', 'predicted': 'NOT_SUPPORTED', 'atoms': [{'atom': 'Urums are a small minority group.', 'predicted': 'NOT_SUPPORTED'}, {'atom': 'Urums speak Turkic languages.', 'predicted': 'SUPPORTED'}, {'atom': 'Urums are mainly located in the Caucasus region.', 'predicted': 'NOT_SUPPORTED'}, {'atom': 'Urums are located in Southwest Ukraine.', 'predicted': 'NOT_SUPPORTED'}, {'atom': 'Urums are located in Crimea.', 'predicted': 'SUPPORTED'}, {'atom': 'Urums are located in the Balkans.', 'predicted': 'NOT_SUPPORTED'}], 'selected_evidences': []}, {'id': 39, 'word': 'OPEC', 'claim': 'Organisation erdölexportierender Länder', 'label': 'SUPPORTED', 'predicted': 'NOT_SUPPORTED', 'atoms': [{'atom': 'Opec represents the Organization.', 'predicted': 'NOT_SUPPORTED'}, {'atom': 'Opec represents oil exporting countries.', 'predicted': 'NOT_SUPPORTED'}, {'atom': 'Opec is an organization.', 'predicted': 'NOT_SUPPORTED'}], 'selected_evidences': []}, {'id': 40, 'word': 'Post-Punk', 'claim': 'die Bezeichnung für eine Musikbewegung, die vor allem und zuerst in Großbritannien Ende der 1970er/Anfang der 1980er Jahre aus dem Punk hervorging', 'label': 'SUPPORTED', 'predicted': 'SUPPORTED', 'atoms': [{'atom': 'Post-punk is a name for a music movement.', 'predicted': 'SUPPORTED'}, {'atom': 'Post-punk emerged from punk.', 'predicted': 'SUPPORTED'}, {'atom': 'Post-punk emerged mainly in Great Britain.', 'predicted': 'SUPPORTED'}, {'atom': 'Post-punk emerged in the late 1970s/early 1980s.', 'predicted': 'SUPPORTED'}], 'selected_evidences': []}, {'id': 41, 'word': 'Generator', 'claim': 'Bewegungsleistung in elektrische Leistung umwandelt', 'label': 'SUPPORTED', 'predicted': 'NOT_SUPPORTED', 'atoms': [{'atom': 'A generator represents movement power.', 'predicted': 'NOT_SUPPORTED'}, {'atom': 'Movement power is converted to electrical power.', 'predicted': 'SUPPORTED'}, {'atom': 'A generator produces electrical power.', 'predicted': 'SUPPORTED'}], 'selected_evidences': []}, {'id': 42, 'word': 'proto-neolithisch', 'claim': 'Diese Vorstufe zur produzierenden Landwirtschaft', 'label': 'SUPPORTED', 'predicted': 'NOT_SUPPORTED', 'atoms': [{'atom': 'Proto-neolithic refers to a precursor.', 'predicted': 'NOT_SUPPORTED'}, {'atom': 'The precursor is related to producing agriculture.', 'predicted': 'NOT_SUPPORTED'}], 'selected_evidences': []}, {'id': 43, 'word': 'Dime', 'claim': 'Zehn-Cent-Münze', 'label': 'SUPPORTED', 'predicted': 'SUPPORTED', 'atoms': [{'atom': 'A dime is a coin.', 'predicted': 'SUPPORTED'}, {'atom': 'A dime is worth ten cents.', 'predicted': 'SUPPORTED'}, {'atom': 'A dime is denoted by the number 10.', 'predicted': 'SUPPORTED'}], 'selected_evidences': []}, {'id': 44, 'word': 'Sepsis', 'claim': 'Eine schwere generalisierte Infektion, also die Ausbreitung von einem lokalen Infektionsort über die Blutbahn im gesamten Körper', 'label': 'SUPPORTED', 'predicted': 'NOT_SUPPORTED', 'atoms': [{'atom': 'Sepsis is a term used to describe a severe infection.', 'predicted': 'NOT_SUPPORTED'}, {'atom': 'Sepsis is a generalized infection.', 'predicted': 'NOT_SUPPORTED'}, {'atom': 'Sepsis can result from the spread of a local infection through the bloodstream.', 'predicted': 'NOT_SUPPORTED'}, {'atom': 'Sepsis affects the whole body.', 'predicted': 'SUPPORTED'}], 'selected_evidences': []}, {'id': 45, 'word': 'Glasübergang', 'claim': 'eine sprunghafte Änderung des Wärmeausdehnungskoeffizienten sowie eine Abnahme der spezifischen Wärme', 'label': 'SUPPORTED', 'predicted': 'NOT_SUPPORTED', 'atoms': [{'atom': 'The glass transition signifies a sudden change.', 'predicted': 'NOT_SUPPORTED'}, {'atom': 'The glass transition signifies a change in the coefficient of thermal expansion.', 'predicted': 'NOT_SUPPORTED'}, {'atom': 'The glass transition signifies a decrease in specific heat.', 'predicted': 'SUPPORTED'}], 'selected_evidences': []}, {'id': 46, 'word': 'Splintholz', 'claim': \"Bereich des Stammes, der aktiv am ''Wasser''- und ''Nährstofftransport'' und der Speicherung teilnimmt\", 'label': 'SUPPORTED', 'predicted': 'NOT_SUPPORTED', 'atoms': [{'atom': 'Sapwood is an area of the trunk.', 'predicted': 'NOT_SUPPORTED'}, {'atom': 'Sapwood actively participates in water transport.', 'predicted': 'NOT_SUPPORTED'}, {'atom': 'Sapwood actively participates in nutrient transport.', 'predicted': 'NOT_SUPPORTED'}, {'atom': 'Sapwood also stores water and nutrients.', 'predicted': 'NOT_SUPPORTED'}], 'selected_evidences': []}, {'id': 47, 'word': 'Koran', 'claim': \"die heilige Schrift des Islams, die gemäß dem Glauben der Muslime die wörtliche Offenbarung Gottes (arabisch الله, ''Allah'') an den Propheten Mohammed enthält\", 'label': 'SUPPORTED', 'predicted': 'NOT_SUPPORTED', 'atoms': [{'atom': 'The Quran is the sacred scripture of Islam.', 'predicted': 'SUPPORTED'}, {'atom': 'Islam is a faith of Muslims.', 'predicted': 'SUPPORTED'}, {'atom': 'The Quran contains the literal revelation of God.', 'predicted': 'NOT_SUPPORTED'}, {'atom': 'The Quran was revealed to the Prophet Mohammed.', 'predicted': 'SUPPORTED'}, {'atom': \"The Arabic word for God is ''Allah''.\", 'predicted': 'NOT_SUPPORTED'}], 'selected_evidences': []}, {'id': 48, 'word': 'Bergflucht', 'claim': 'durch inneralpine Abwanderung in die Zentren', 'label': 'SUPPORTED', 'predicted': 'NOT_SUPPORTED', 'atoms': [], 'selected_evidences': []}, {'id': 49, 'word': 'Grand Central Terminal', 'claim': 'Bahnhofsgebäudes', 'label': 'SUPPORTED', 'predicted': 'NOT_SUPPORTED', 'atoms': [{'atom': 'The Grand Central Terminal is a building.', 'predicted': 'SUPPORTED'}, {'atom': 'The building is a station.', 'predicted': 'NOT_SUPPORTED'}], 'selected_evidences': []}, {'id': 50, 'word': 'Broadway', 'claim': 'das Theaterviertel am Times Square zwischen der 41st Street und 53rd Street und zwischen der Sixth und Ninth Avenue', 'label': 'SUPPORTED', 'predicted': 'NOT_SUPPORTED', 'atoms': [{'atom': 'Broadway is the theatre district.', 'predicted': 'SUPPORTED'}, {'atom': 'Broadway is on Times Square.', 'predicted': 'SUPPORTED'}, {'atom': 'Times Square is between 41st Street and 53rd Street.', 'predicted': 'SUPPORTED'}, {'atom': 'Times Square is between Sixth and Ninth Avenue.', 'predicted': 'NOT_SUPPORTED'}], 'selected_evidences': []}, {'id': 51, 'word': 'Inokulation', 'claim': 'Das absichtliche (aktive) Einbringen von Mikroorganismen in ein Nährmedium', 'label': 'SUPPORTED', 'predicted': 'NOT_SUPPORTED', 'atoms': [{'atom': 'Inoculation is a process.', 'predicted': 'SUPPORTED'}, {'atom': 'Inoculation involves inserting microorganisms.', 'predicted': 'NOT_SUPPORTED'}, {'atom': 'Inoculation is deliberate.', 'predicted': 'NOT_SUPPORTED'}, {'atom': 'Inoculation is active.', 'predicted': 'NOT_SUPPORTED'}, {'atom': 'Inoculation is used in breeding.', 'predicted': 'NOT_SUPPORTED'}, {'atom': 'Inoculation is used in breeding medium.', 'predicted': 'NOT_SUPPORTED'}], 'selected_evidences': []}, {'id': 52, 'word': 'Asthma', 'claim': 'eine chronische, entzündliche Erkrankung der Atemwege mit dauerhaft bestehender Überempfindlichkeit', 'label': 'SUPPORTED', 'predicted': 'SUPPORTED', 'atoms': [{'atom': 'Asthma is a respiratory disease.', 'predicted': 'SUPPORTED'}, {'atom': 'Asthma is chronic.', 'predicted': 'SUPPORTED'}, {'atom': 'Asthma is inflammatory.', 'predicted': 'SUPPORTED'}, {'atom': 'Asthma is characterized by persistent hypersensitivity.', 'predicted': 'SUPPORTED'}, {'atom': 'Asthma is a chronic inflammatory respiratory disease.', 'predicted': 'SUPPORTED'}, {'atom': 'Asthma signifies a chronic inflammatory respiratory disease with persistent hypersensitivity.', 'predicted': 'SUPPORTED'}], 'selected_evidences': []}, {'id': 53, 'word': 'Universitätsrechenzentrum', 'claim': 'die informationstechnische (IT) Infrastruktur (Hochschulnetz, Server etc.) bereitstellt und betreibt sowie IT-Dienstleistungen (E-Mail, Web-Services etc.) und Beratung erbringt', 'label': 'SUPPORTED', 'predicted': 'NOT_SUPPORTED', 'atoms': [{'atom': 'A university computing centre provides information technology infrastructure.', 'predicted': 'NOT_SUPPORTED'}, {'atom': 'A university computing centre operates information technology infrastructure.', 'predicted': 'NOT_SUPPORTED'}, {'atom': 'A university computing centre provides IT services.', 'predicted': 'NOT_SUPPORTED'}, {'atom': 'A university computing centre provides consulting services.', 'predicted': 'NOT_SUPPORTED'}], 'selected_evidences': []}, {'id': 54, 'word': 'Pharaonismus', 'claim': 'der sogenannte ethno-territoriale ägyptische Nationalismus', 'label': 'SUPPORTED', 'predicted': 'NOT_SUPPORTED', 'atoms': [], 'selected_evidences': []}, {'id': 55, 'word': 'USAF', 'claim': 'die Luftstreitkraft der Streitkräfte der Vereinigten Staaten von Amerika', 'label': 'SUPPORTED', 'predicted': 'SUPPORTED', 'atoms': [{'atom': 'The USAF stands for the Air Force of the United States of America.', 'predicted': 'SUPPORTED'}, {'atom': 'The USAF represents the Air Force of the United States of America.', 'predicted': 'SUPPORTED'}], 'selected_evidences': []}, {'id': 56, 'word': 'phonematisches Orthographieprinzip', 'claim': 'die Schreibung richtet sich nach der Lautung', 'label': 'SUPPORTED', 'predicted': 'NOT_SUPPORTED', 'atoms': [], 'selected_evidences': []}, {'id': 57, 'word': 'Flechte', 'claim': 'eine symbiotische Lebensgemeinschaft zwischen einem Pilz und Grünalgen oder Cyanobakterien', 'label': 'SUPPORTED', 'predicted': 'NOT_SUPPORTED', 'atoms': [{'atom': 'Lichen is a symbiotic community.', 'predicted': 'SUPPORTED'}, {'atom': 'Lichen includes a fungus.', 'predicted': 'NOT_SUPPORTED'}, {'atom': 'Lichen includes green algae or cyanobacteria.', 'predicted': 'NOT_SUPPORTED'}], 'selected_evidences': []}, {'id': 58, 'word': 'Apotheose', 'claim': 'die Vergöttlichung eines als heldenhaft angesehenen Menschen, der als Gottkönig verehrt wird', 'label': 'SUPPORTED', 'predicted': 'NOT_SUPPORTED', 'atoms': [{'atom': 'Apotheosis signifies something.', 'predicted': 'SUPPORTED'}, {'atom': 'The something is the deification of a man.', 'predicted': 'NOT_SUPPORTED'}, {'atom': 'The man is considered heroic.', 'predicted': 'NOT_SUPPORTED'}, {'atom': 'The man is revered.', 'predicted': 'NOT_SUPPORTED'}, {'atom': 'The man is revered as God King.', 'predicted': 'NOT_SUPPORTED'}], 'selected_evidences': []}, {'id': 59, 'word': 'Hub-Topologie', 'claim': 'baumartig verzweigende Strukturen', 'label': 'SUPPORTED', 'predicted': 'NOT_SUPPORTED', 'atoms': [], 'selected_evidences': []}, {'id': 60, 'word': 'Barekendan', 'claim': 'die armenische Variante des Karneval', 'label': 'SUPPORTED', 'predicted': 'NOT_SUPPORTED', 'atoms': [], 'selected_evidences': []}, {'id': 61, 'word': 'USB-Umschalter', 'claim': 'ein Gerät zum Betrieb eines Peripheriegeräts an mehreren Rechnern ohne Umstecken', 'label': 'SUPPORTED', 'predicted': 'NOT_SUPPORTED', 'atoms': [], 'selected_evidences': []}, {'id': 62, 'word': 'Immunologie', 'claim': 'die Lehre von den biologischen und biochemischen Grundlagen der körperlichen Abwehr von Krankheitserregern wie Bakterien, Viren und Pilzen sowie anderen körperfremden Stoffen wie beispielsweise biologischen Toxinen und Umweltgiften, und darüber hinaus von Störungen und Fehlfunktionen dieser Abwehrmechanismen', 'label': 'SUPPORTED', 'predicted': 'NOT_SUPPORTED', 'atoms': [{'atom': 'Immunology teaches about biological and biochemical fundamentals.', 'predicted': 'SUPPORTED'}, {'atom': 'Immunology is about physical defense against pathogens.', 'predicted': 'NOT_SUPPORTED'}, {'atom': 'Pathogens include bacteria, viruses, and fungi.', 'predicted': 'NOT_SUPPORTED'}, {'atom': 'Immunology also covers non-body substances such as biological toxins and environmental toxins.', 'predicted': 'NOT_SUPPORTED'}, {'atom': 'Immunology teaches about disorders and malfunctions of defense mechanisms.', 'predicted': 'SUPPORTED'}], 'selected_evidences': []}, {'id': 63, 'word': 'Energieversorgung', 'claim': 'die Belieferung von Verbrauchern mit diesen Energieformen, inklusive der dazu notwendigen Energieinfrastruktur', 'label': 'SUPPORTED', 'predicted': 'NOT_SUPPORTED', 'atoms': [{'atom': 'Energy supply is the process of supplying consumers with forms of energy.', 'predicted': 'NOT_SUPPORTED'}, {'atom': 'Forms of energy are included in energy supply.', 'predicted': 'SUPPORTED'}, {'atom': 'Energy infrastructure is necessary for energy supply.', 'predicted': 'SUPPORTED'}, {'atom': 'Necessary energy infrastructure is included in energy supply.', 'predicted': 'SUPPORTED'}], 'selected_evidences': []}, {'id': 64, 'word': 'YouTube-Kanal', 'claim': 'der individuelle Bereich eines YouTube-Benutzers', 'label': 'SUPPORTED', 'predicted': 'NOT_SUPPORTED', 'atoms': [{'atom': \"The YouTube channel represents an individual's area on YouTube.\", 'predicted': 'NOT_SUPPORTED'}, {'atom': 'The YouTube channel is associated with a YouTube user.', 'predicted': 'NOT_SUPPORTED'}], 'selected_evidences': []}, {'id': 65, 'word': 'DBMS', 'claim': 'die eingesetzte Software, die für das Datenbanksystem installiert und konfiguriert wird', 'label': 'SUPPORTED', 'predicted': 'NOT_SUPPORTED', 'atoms': [{'atom': 'The dbms represents software.', 'predicted': 'NOT_SUPPORTED'}, {'atom': 'The software is used.', 'predicted': 'NOT_SUPPORTED'}, {'atom': 'The software is installed.', 'predicted': 'NOT_SUPPORTED'}, {'atom': 'The software is configured.', 'predicted': 'NOT_SUPPORTED'}, {'atom': 'The software is for the database system.', 'predicted': 'NOT_SUPPORTED'}], 'selected_evidences': []}, {'id': 66, 'word': 'Empanada', 'claim': 'überwiegend aus Teig und einer würzigen Füllung bestehende Gericht', 'label': 'SUPPORTED', 'predicted': 'NOT_SUPPORTED', 'atoms': [{'atom': 'An empanada is a dish.', 'predicted': 'SUPPORTED'}, {'atom': 'An empanada is made of dough.', 'predicted': 'SUPPORTED'}, {'atom': 'An empanada has a spicy filling.', 'predicted': 'SUPPORTED'}, {'atom': 'An empanada is mainly made of dough.', 'predicted': 'SUPPORTED'}, {'atom': 'The filling in an empanada is spicy.', 'predicted': 'NOT_SUPPORTED'}], 'selected_evidences': []}, {'id': 67, 'word': 'Drehkreuz-Flughafen', 'claim': 'als ein Flughafen definiert, von dem eine oder mehrere Fluggesellschaften ein integriertes Servicenetzwerk zu einer Vielzahl von verschiedenen Destinationen mit einer hohen Frequenz an Verbindungen anbieten', 'label': 'SUPPORTED', 'predicted': 'NOT_SUPPORTED', 'atoms': [{'atom': 'A hub airport is defined as an airport.', 'predicted': 'SUPPORTED'}, {'atom': 'One or more airlines offer an integrated service network.', 'predicted': 'NOT_SUPPORTED'}, {'atom': 'The service network is offered to a variety of different destinations.', 'predicted': 'NOT_SUPPORTED'}, {'atom': 'The service network has a high frequency of connections.', 'predicted': 'NOT_SUPPORTED'}], 'selected_evidences': []}, {'id': 68, 'word': 'Hebb-Synapse', 'claim': 'eine Synapse, die durch gleichzeitige Aktivität im vor- und nachsynaptischen Neuron stärker wird', 'label': 'SUPPORTED', 'predicted': 'NOT_SUPPORTED', 'atoms': [{'atom': 'A hebb synapse is a type of synapse.', 'predicted': 'NOT_SUPPORTED'}, {'atom': 'A hebb synapse becomes stronger.', 'predicted': 'NOT_SUPPORTED'}, {'atom': 'A hebb synapse becomes stronger by simultaneous activity.', 'predicted': 'NOT_SUPPORTED'}, {'atom': 'The simultaneous activity occurs in the pre', 'predicted': 'NOT_SUPPORTED'}, {'atom': 'and post-synaptic neurons.', 'predicted': 'SUPPORTED'}], 'selected_evidences': []}, {'id': 69, 'word': 'Durchfall', 'claim': \"die mehrfache Ausscheidung von ''zu flüssigem'' Stuhl\", 'label': 'SUPPORTED', 'predicted': 'NOT_SUPPORTED', 'atoms': [{'atom': 'Diarrhea is a medical condition.', 'predicted': 'NOT_SUPPORTED'}, {'atom': 'Diarrhea involves multiple excretion of stool.', 'predicted': 'NOT_SUPPORTED'}, {'atom': \"The stool is 'too liquid'.\", 'predicted': 'NOT_SUPPORTED'}, {'atom': 'Diarrhea is a sign of a health issue.', 'predicted': 'NOT_SUPPORTED'}], 'selected_evidences': []}, {'id': 70, 'word': 'Internet-Konnektivität', 'claim': ' Transfer von IP-Paketen in und aus dem Internet', 'label': 'SUPPORTED', 'predicted': 'NOT_SUPPORTED', 'atoms': [{'atom': 'Internet connectivity involves transferring IP packages.', 'predicted': 'NOT_SUPPORTED'}, {'atom': 'IP packages are transferred to the Internet.', 'predicted': 'NOT_SUPPORTED'}, {'atom': 'IP packages are transferred from the Internet.', 'predicted': 'NOT_SUPPORTED'}], 'selected_evidences': []}, {'id': 71, 'word': 'Browser', 'claim': 'die Benutzeroberfläche für Webanwendungen ', 'label': 'SUPPORTED', 'predicted': 'NOT_SUPPORTED', 'atoms': [{'atom': 'A browser is a user interface.', 'predicted': 'SUPPORTED'}, {'atom': 'A browser is for web applications.', 'predicted': 'SUPPORTED'}, {'atom': 'A browser represents the user.', 'predicted': 'NOT_SUPPORTED'}], 'selected_evidences': []}, {'id': 72, 'word': 'Macintosh', 'claim': 'der erste Mikrocomputer mit grafischer Benutzeroberfläche, der in größeren Stückzahlen produziert wurde', 'label': 'SUPPORTED', 'predicted': 'NOT_SUPPORTED', 'atoms': [{'atom': 'The Mac is a microcomputer.', 'predicted': 'NOT_SUPPORTED'}, {'atom': 'The Mac had a graphical user interface.', 'predicted': 'NOT_SUPPORTED'}, {'atom': 'The Mac was produced in larger quantities.', 'predicted': 'NOT_SUPPORTED'}, {'atom': 'The Mac was the first microcomputer with a graphical user interface to be produced in larger quantities.', 'predicted': 'NOT_SUPPORTED'}], 'selected_evidences': []}, {'id': 73, 'word': 'Tumorimmunologie', 'claim': 'Teilgebiet der Immunologie, das sich mit den immunologischen Vorgängen bei der Entstehung, dem Verlauf und der Bekämpfung von Tumoren befasst', 'label': 'SUPPORTED', 'predicted': 'NOT_SUPPORTED', 'atoms': [{'atom': 'Cancer immunology is a sub-area of immunology.', 'predicted': 'SUPPORTED'}, {'atom': 'Cancer immunology deals with immunological processes.', 'predicted': 'SUPPORTED'}, {'atom': 'Immunological processes are involved in the development, course, and control of tumors.', 'predicted': 'NOT_SUPPORTED'}], 'selected_evidences': []}, {'id': 74, 'word': 'Laservisiondisc', 'claim': 'ein optisches Speichermedium für Videos im Heimgebrauch', 'label': 'SUPPORTED', 'predicted': 'NOT_SUPPORTED', 'atoms': [], 'selected_evidences': []}, {'id': 75, 'word': 'Immuninsuffizienz', 'claim': 'eine ungenügende Immunabwehr', 'label': 'SUPPORTED', 'predicted': 'NOT_SUPPORTED', 'atoms': [], 'selected_evidences': []}, {'id': 76, 'word': 'VidCon', 'claim': 'die größte Video-Convention der Welt', 'label': 'SUPPORTED', 'predicted': 'NOT_SUPPORTED', 'atoms': [{'atom': 'Vidcon is a video convention.', 'predicted': 'NOT_SUPPORTED'}, {'atom': 'Vidcon is the largest in the world.', 'predicted': 'NOT_SUPPORTED'}], 'selected_evidences': []}, {'id': 77, 'word': 'Montgolfiere', 'claim': 'ein Heißluftballon aus Leinwand, der mit einer dünnen Papierschicht luftdicht verkleidet war', 'label': 'SUPPORTED', 'predicted': 'NOT_SUPPORTED', 'atoms': [{'atom': 'A montgolfiere is a type of hot air balloon.', 'predicted': 'SUPPORTED'}, {'atom': 'A montgolfiere is made of canvas.', 'predicted': 'NOT_SUPPORTED'}, {'atom': 'The canvas is covered with a thin layer of paper.', 'predicted': 'NOT_SUPPORTED'}], 'selected_evidences': []}, {'id': 78, 'word': 'Jayhawk', 'claim': 'ein nicht real existierender Vogel, der eine Mischung aus zwei Raubvögeln, nämlich einem Falken oder Habicht (englisch „hawk“) und dem Häher (englisch „jay“) darstellt', 'label': 'SUPPORTED', 'predicted': 'NOT_SUPPORTED', 'atoms': [{'atom': 'A jayhawk is a type of bird.', 'predicted': 'NOT_SUPPORTED'}, {'atom': 'A jayhawk is not a real bird.', 'predicted': 'NOT_SUPPORTED'}, {'atom': 'A jayhawk is a mixture of two birds of prey.', 'predicted': 'NOT_SUPPORTED'}, {'atom': 'One of the birds is a hawk or hawk.', 'predicted': 'NOT_SUPPORTED'}, {'atom': 'The other bird is the haher.', 'predicted': 'NOT_SUPPORTED'}], 'selected_evidences': []}, {'id': 79, 'word': 'Schleimhautödem', 'claim': 'Flüssigkeitseinlagerung in die Schleimhaut', 'label': 'SUPPORTED', 'predicted': 'NOT_SUPPORTED', 'atoms': [], 'selected_evidences': []}, {'id': 80, 'word': 'Lungenobstruktion', 'claim': 'Verengung des Lumens der Atemwege (Verkleinerung des verfügbaren Querschnitts)', 'label': 'SUPPORTED', 'predicted': 'NOT_SUPPORTED', 'atoms': [], 'selected_evidences': []}, {'id': 81, 'word': 'Uranmunition', 'claim': 'panzerbrechende Munition, die abgereichertes Uran als Projektilkernmaterial enthält', 'label': 'SUPPORTED', 'predicted': 'NOT_SUPPORTED', 'atoms': [{'atom': 'Uranium ammunition is armor-piercing ammunition.', 'predicted': 'NOT_SUPPORTED'}, {'atom': 'Uranium ammunition contains depleted uranium.', 'predicted': 'SUPPORTED'}, {'atom': 'Depleted uranium is used as projectile material in uranium ammunition.', 'predicted': 'SUPPORTED'}], 'selected_evidences': []}, {'id': 82, 'word': 'Feynmann-Diagramm', 'claim': 'Darstellung quantenfeldtheoretischer elementarer Wechselwirkungen', 'label': 'SUPPORTED', 'predicted': 'NOT_SUPPORTED', 'atoms': [{'atom': 'Feynmann diagram is a representation.', 'predicted': 'SUPPORTED'}, {'atom': 'It represents quantum field theoretical elementary interactions.', 'predicted': 'NOT_SUPPORTED'}], 'selected_evidences': []}, {'id': 83, 'word': 'Ornithologie', 'claim': 'Die Wissenschaft von den Vögeln', 'label': 'SUPPORTED', 'predicted': 'SUPPORTED', 'atoms': [{'atom': 'Ornithology is a science.', 'predicted': 'SUPPORTED'}, {'atom': 'Ornithology is the science of birds.', 'predicted': 'SUPPORTED'}], 'selected_evidences': []}, {'id': 84, 'word': 'Primärtuberkulose', 'claim': 'Krankheitszeichen, die sich direkt nach der Infektion manifestieren', 'label': 'SUPPORTED', 'predicted': 'NOT_SUPPORTED', 'atoms': [{'atom': 'Primary tuberculosis signifies signs of disease.', 'predicted': 'NOT_SUPPORTED'}, {'atom': 'The signs of disease manifest immediately after infection.', 'predicted': 'NOT_SUPPORTED'}, {'atom': 'The disease is tuberculosis.', 'predicted': 'NOT_SUPPORTED'}, {'atom': 'The tuberculosis is primary.', 'predicted': 'NOT_SUPPORTED'}, {'atom': 'The signs of disease manifest immediately after infection.', 'predicted': 'NOT_SUPPORTED'}], 'selected_evidences': []}, {'id': 85, 'word': 'phonematisches Orthographieprinzip', 'claim': 'elektrische Leistung in mechanische Leistung umwandelt', 'label': 'NOT_SUPPORTED', 'predicted': 'NOT_SUPPORTED', 'atoms': [], 'selected_evidences': []}, {'id': 86, 'word': 'Vakuum', 'claim': 'im engeren Wortsinn das Eingreifen staatlicher oder sonstiger machtgestützter Institutionen, durch die im Sinne dieser Institutionen unerwünschte Inhalte von der Medienöffentlichkeit ferngehalten werden sollen', 'label': 'NOT_SUPPORTED', 'predicted': 'NOT_SUPPORTED', 'atoms': [{'atom': 'The word vacuum has a narrow sense.', 'predicted': 'NOT_SUPPORTED'}, {'atom': 'Vacuum refers to the intervention of state or other power-based institutions.', 'predicted': 'NOT_SUPPORTED'}, {'atom': 'The purpose of vacuum is to keep away unwanted content from the media public.', 'predicted': 'NOT_SUPPORTED'}, {'atom': 'Vacuum only applies to unwanted content controlled by these institutions.', 'predicted': 'NOT_SUPPORTED'}], 'selected_evidences': []}, {'id': 87, 'word': 'Pharaonismus', 'claim': 'die staatliche Rundfunkgesellschaft Ägyptens', 'label': 'NOT_SUPPORTED', 'predicted': 'NOT_SUPPORTED', 'atoms': [], 'selected_evidences': []}, {'id': 88, 'word': 'phonematisches Orthographieprinzip', 'claim': 'ein Träger für elektronische Bauteile', 'label': 'NOT_SUPPORTED', 'predicted': 'NOT_SUPPORTED', 'atoms': [], 'selected_evidences': []}, {'id': 89, 'word': 'Kyffhäuserdenkmal', 'claim': 'eine organisierte Gruppe oder Gewerkschaft, in der arbeitende Kinder und Jugendliche sich aktiv und kollektiv für die eigenen Rechte einsetzen', 'label': 'NOT_SUPPORTED', 'predicted': 'NOT_SUPPORTED', 'atoms': [{'atom': 'The kyffhäuser monument symbolizes an organized group or union.', 'predicted': 'NOT_SUPPORTED'}, {'atom': 'The organized group or union consists of working children and young people.', 'predicted': 'NOT_SUPPORTED'}, {'atom': 'The working children and young people actively work for their own rights.', 'predicted': 'NOT_SUPPORTED'}], 'selected_evidences': []}, {'id': 90, 'word': 'Lungenobstruktion', 'claim': 'eine sportliche Spielpaarung, die in keine offizielle Wertung einfließt', 'label': 'NOT_SUPPORTED', 'predicted': 'NOT_SUPPORTED', 'atoms': [], 'selected_evidences': []}, {'id': 91, 'word': 'Generator', 'claim': 'eine künstliche Lichtquelle', 'label': 'NOT_SUPPORTED', 'predicted': 'NOT_SUPPORTED', 'atoms': [{'atom': 'A generator produces light.', 'predicted': 'NOT_SUPPORTED'}, {'atom': 'A generator is artificial.', 'predicted': 'NOT_SUPPORTED'}, {'atom': 'A generator is a light source.', 'predicted': 'NOT_SUPPORTED'}], 'selected_evidences': []}, {'id': 92, 'word': 'Dime', 'claim': 'Die Wissenschaft, die sich mit der russischen Sprache und der umfangreichen russischen Literatur beschäftigt', 'label': 'NOT_SUPPORTED', 'predicted': 'NOT_SUPPORTED', 'atoms': [{'atom': 'Dime is a science.', 'predicted': 'NOT_SUPPORTED'}, {'atom': 'Dime deals with Russian language.', 'predicted': 'NOT_SUPPORTED'}, {'atom': 'Dime deals with extensive Russian literature.', 'predicted': 'NOT_SUPPORTED'}], 'selected_evidences': []}, {'id': 93, 'word': 'Kindergewerkschaft', 'claim': 'eine aus dem Kubismus entstandene Kunstrichtung, bei der vor allem Kreisgebilde in bunten Farben auf der Grundlage der Farbtheorie des Chemikers Michel Eugène Chevreul geschaffen wurden', 'label': 'NOT_SUPPORTED', 'predicted': 'NOT_SUPPORTED', 'atoms': [], 'selected_evidences': []}, {'id': 94, 'word': 'Immunologie', 'claim': ' ein 81 Meter hohes, weithin sichtbares Denkmal auf dem gleichnamigen Gebirge bei Bad Frankenhausen', 'label': 'NOT_SUPPORTED', 'predicted': 'NOT_SUPPORTED', 'atoms': [{'atom': 'The monument is called Immunology.', 'predicted': 'NOT_SUPPORTED'}, {'atom': 'The monument is 81 metres high.', 'predicted': 'NOT_SUPPORTED'}, {'atom': 'The monument is located on the eponymous mountains.', 'predicted': 'NOT_SUPPORTED'}, {'atom': 'The monument is near Bad Frankenhausen.', 'predicted': 'NOT_SUPPORTED'}, {'atom': 'The monument is widely visible.', 'predicted': 'NOT_SUPPORTED'}], 'selected_evidences': []}, {'id': 95, 'word': 'Seidenstraße', 'claim': 'feinpulvriges Zink', 'label': 'NOT_SUPPORTED', 'predicted': 'NOT_SUPPORTED', 'atoms': [{'atom': 'The Silk Road refers to something.', 'predicted': 'SUPPORTED'}, {'atom': 'The Silk Road refers to fine powdery zinc.', 'predicted': 'NOT_SUPPORTED'}], 'selected_evidences': []}, {'id': 96, 'word': 'Glühbirne', 'claim': 'ie zentrale Verbindung zwischen Ost und West, sowohl zum Austausch von Waren als auch von kultureller Identität', 'label': 'NOT_SUPPORTED', 'predicted': 'NOT_SUPPORTED', 'atoms': [{'atom': 'A light bulb symbolizes the central connection between East and West.', 'predicted': 'NOT_SUPPORTED'}, {'atom': 'The connection is for the exchange of goods.', 'predicted': 'NOT_SUPPORTED'}, {'atom': 'The connection is for cultural identity.', 'predicted': 'NOT_SUPPORTED'}], 'selected_evidences': []}, {'id': 97, 'word': 'Anthropologie', 'claim': 'in der technischen Praxis ein Raum mit weitgehender Abwesenheit von Materie – im Vakuum gibt es keine festen Objekte oder Flüssigkeit, extrem wenig Gas und damit auch einen extrem niedrigen Gasdruck', 'label': 'NOT_SUPPORTED', 'predicted': 'NOT_SUPPORTED', 'atoms': [{'atom': 'Anthropology is a space.', 'predicted': 'NOT_SUPPORTED'}, {'atom': 'The space has an extensive absence of matter.', 'predicted': 'NOT_SUPPORTED'}, {'atom': 'In a vacuum, there are no solid objects.', 'predicted': 'NOT_SUPPORTED'}, {'atom': 'In a vacuum, there are no liquid objects.', 'predicted': 'NOT_SUPPORTED'}, {'atom': 'In a vacuum, there is an extremely little amount of gas.', 'predicted': 'NOT_SUPPORTED'}, {'atom': 'In a vacuum, there is an extremely low gas pressure.', 'predicted': 'NOT_SUPPORTED'}], 'selected_evidences': []}, {'id': 98, 'word': 'Feynmann-Diagramm', 'claim': 'eine promotionsberechtigte Hochschule mit einem breiten Angebot an Ingenieurfächern und naturwissenschaftlichen Fächern, zumeist ergänzt um weitere Fächer', 'label': 'NOT_SUPPORTED', 'predicted': 'NOT_SUPPORTED', 'atoms': [{'atom': 'A Feynmann diagram signifies a doctoral university.', 'predicted': 'NOT_SUPPORTED'}, {'atom': 'The university has a wide range of engineering and scientific subjects.', 'predicted': 'NOT_SUPPORTED'}, {'atom': \"The university's subjects are mostly supplemented by other subjects.\", 'predicted': 'NOT_SUPPORTED'}], 'selected_evidences': []}, {'id': 99, 'word': 'Datenkompression', 'claim': 'schwer kranken Kindern hilft', 'label': 'NOT_SUPPORTED', 'predicted': 'NOT_SUPPORTED', 'atoms': [{'atom': 'Data compression is a technology.', 'predicted': 'SUPPORTED'}, {'atom': 'Data compression reduces the size of data.', 'predicted': 'SUPPORTED'}, {'atom': 'Data compression helps severely ill children.', 'predicted': 'NOT_SUPPORTED'}], 'selected_evidences': []}, {'id': 100, 'word': 'Inokulation', 'claim': 'ein Gerät, das mittels programmierbarer Rechenvorschriften Daten verarbeitet', 'label': 'NOT_SUPPORTED', 'predicted': 'NOT_SUPPORTED', 'atoms': [{'atom': 'Inoculation is a device.', 'predicted': 'NOT_SUPPORTED'}, {'atom': 'Inoculation processes data.', 'predicted': 'NOT_SUPPORTED'}, {'atom': 'Inoculation uses programmable calculation rules.', 'predicted': 'NOT_SUPPORTED'}], 'selected_evidences': []}, {'id': 101, 'word': 'Hebb-Synapse', 'claim': 'eine empirisch gestützte Wissenschaft von der Kultur (im Sinne von „menschliche Kultur“)', 'label': 'NOT_SUPPORTED', 'predicted': 'NOT_SUPPORTED', 'atoms': [{'atom': 'A hebb synapse is a term.', 'predicted': 'NOT_SUPPORTED'}, {'atom': 'A hebb synapse signifies something.', 'predicted': 'NOT_SUPPORTED'}, {'atom': 'A hebb synapse signifies an empirically supported science.', 'predicted': 'NOT_SUPPORTED'}, {'atom': 'An empirically supported science is a type of science.', 'predicted': 'NOT_SUPPORTED'}, {'atom': 'An empirically supported science is related to culture.', 'predicted': 'NOT_SUPPORTED'}, {'atom': 'Culture refers to human culture.', 'predicted': 'NOT_SUPPORTED'}], 'selected_evidences': []}, {'id': 102, 'word': 'Energieversorgung', 'claim': 'ein Handwerker, der Papier herstellt', 'label': 'NOT_SUPPORTED', 'predicted': 'NOT_SUPPORTED', 'atoms': [{'atom': 'Energy supply represents a craftsman.', 'predicted': 'NOT_SUPPORTED'}, {'atom': 'The craftsman makes paper.', 'predicted': 'NOT_SUPPORTED'}], 'selected_evidences': []}, {'id': 103, 'word': 'Broadway', 'claim': 'ein optischer Speicher, der Anfang der 1980er-Jahre zur digitalen Speicherung von Musik von Philips/PolyGram und Sony eingeführt wurde und die Schallplatte ablösen sollte', 'label': 'NOT_SUPPORTED', 'predicted': 'NOT_SUPPORTED', 'atoms': [{'atom': 'Broadway is an optical memory.', 'predicted': 'NOT_SUPPORTED'}, {'atom': 'Broadway was introduced in the early 1980s.', 'predicted': 'NOT_SUPPORTED'}, {'atom': 'Broadway was introduced for the digital storage of music.', 'predicted': 'NOT_SUPPORTED'}, {'atom': 'Broadway was introduced by Philips/PolyGram and Sony.', 'predicted': 'NOT_SUPPORTED'}, {'atom': 'Broadway was introduced to replace the record.', 'predicted': 'NOT_SUPPORTED'}], 'selected_evidences': []}, {'id': 104, 'word': 'Zensur', 'claim': 'übernatürliche Geistwesen', 'label': 'NOT_SUPPORTED', 'predicted': 'NOT_SUPPORTED', 'atoms': [{'atom': 'Censorship signifies spirits.', 'predicted': 'NOT_SUPPORTED'}, {'atom': 'The spirits are supernatural.', 'predicted': 'NOT_SUPPORTED'}], 'selected_evidences': []}, {'id': 105, 'word': 'Energieverbrauch', 'claim': 'Computerprogramme, die ihre jeweils individuell erforderlichen Daten unter Nutzung eines Datenbanksystems verwalten und speichern', 'label': 'NOT_SUPPORTED', 'predicted': 'NOT_SUPPORTED', 'atoms': [{'atom': 'Energy consumption represents computer programs.', 'predicted': 'NOT_SUPPORTED'}, {'atom': 'Computer programs manage and store their individually required data.', 'predicted': 'NOT_SUPPORTED'}, {'atom': 'Computer programs use a database system.', 'predicted': 'NOT_SUPPORTED'}], 'selected_evidences': []}, {'id': 106, 'word': 'Kulturanthropologie', 'claim': 'die Wissenschaft vom Menschen', 'label': 'NOT_SUPPORTED', 'predicted': 'SUPPORTED', 'atoms': [{'atom': 'Cultural anthropology is a science.', 'predicted': 'SUPPORTED'}, {'atom': 'Cultural anthropology studies man.', 'predicted': 'SUPPORTED'}], 'selected_evidences': []}, {'id': 107, 'word': 'Gletscher', 'claim': 'ein serielles Bussystem zur Verbindung eines Computers mit externen Geräten', 'label': 'NOT_SUPPORTED', 'predicted': 'NOT_SUPPORTED', 'atoms': [{'atom': 'A glacier is a serial bus system.', 'predicted': 'NOT_SUPPORTED'}, {'atom': 'A glacier is used for connecting a computer to external devices.', 'predicted': 'NOT_SUPPORTED'}], 'selected_evidences': []}, {'id': 108, 'word': 'OPEC', 'claim': 'die Fähigkeit, Unsauberkeiten in der Intonation – also geringe Abweichungen der Tonhöhe von einem musikalisch geplanten Wert – zu erkennen', 'label': 'NOT_SUPPORTED', 'predicted': 'NOT_SUPPORTED', 'atoms': [{'atom': 'Opec signifies the ability to detect uncleanness in intonation.', 'predicted': 'NOT_SUPPORTED'}, {'atom': 'Opec detects small deviations in pitch.', 'predicted': 'NOT_SUPPORTED'}, {'atom': 'These deviations are from a musically planned value.', 'predicted': 'NOT_SUPPORTED'}], 'selected_evidences': []}, {'id': 109, 'word': 'Post-Punk', 'claim': 'einer Gruppe mittelindischer gesprochener Dialekte', 'label': 'NOT_SUPPORTED', 'predicted': 'NOT_SUPPORTED', 'atoms': [{'atom': 'Post-punk is a term.', 'predicted': 'SUPPORTED'}, {'atom': 'Post-punk represents a group.', 'predicted': 'NOT_SUPPORTED'}, {'atom': 'The group is called mittelindic spoken dialects.', 'predicted': 'NOT_SUPPORTED'}], 'selected_evidences': []}, {'id': 110, 'word': 'TU', 'claim': 'Für ein geografisches Gebiet, in dem die Biodiversität besonders groß ist – und das gleichzeitig besonders bedroht ist', 'label': 'NOT_SUPPORTED', 'predicted': 'NOT_SUPPORTED', 'atoms': [{'atom': 'Tu is a geographical area.', 'predicted': 'NOT_SUPPORTED'}, {'atom': 'Biodiversity is particularly large in Tu.', 'predicted': 'NOT_SUPPORTED'}, {'atom': 'Tu is particularly threatened.', 'predicted': 'NOT_SUPPORTED'}], 'selected_evidences': []}, {'id': 111, 'word': 'Generator', 'claim': 'Die Immungenetik untersucht die genetische Variabilität von Immunreaktionen, bzw. die Mechanismen der Erzeugung von Antikörpern, T-Zell-Rezeptoren und antigenpräsentierenden Komplexen', 'label': 'NOT_SUPPORTED', 'predicted': 'NOT_SUPPORTED', 'atoms': [{'atom': 'A generator signifies immunogenetics.', 'predicted': 'NOT_SUPPORTED'}, {'atom': 'Immunogenetics investigates genetic variability of immune reactions.', 'predicted': 'NOT_SUPPORTED'}, {'atom': 'Immunogenetics investigates the mechanisms of production of antibodies.', 'predicted': 'NOT_SUPPORTED'}, {'atom': 'Immunogenetics investigates the mechanisms of production of T-cell receptors.', 'predicted': 'NOT_SUPPORTED'}, {'atom': 'Immunogenetics investigates the mechanisms of production of antigen-presenting complexes.', 'predicted': 'NOT_SUPPORTED'}], 'selected_evidences': []}, {'id': 112, 'word': 'Prakrit', 'claim': \"ein Vorgang, bei dem die Menge digitaler Daten verdichtet oder ''reduziert'' wird\", 'label': 'NOT_SUPPORTED', 'predicted': 'NOT_SUPPORTED', 'atoms': [{'atom': 'Prakrit is a process.', 'predicted': 'NOT_SUPPORTED'}, {'atom': 'The process involves compressing digital data.', 'predicted': 'NOT_SUPPORTED'}, {'atom': 'The process involves reducing the amount of digital data.', 'predicted': 'NOT_SUPPORTED'}], 'selected_evidences': []}, {'id': 113, 'word': 'Drehkreuz-Flughafen', 'claim': 'internationale Abkommen zum Schutz der biologischen Vielfalt', 'label': 'NOT_SUPPORTED', 'predicted': 'NOT_SUPPORTED', 'atoms': [{'atom': 'The hub airport signifies something.', 'predicted': 'NOT_SUPPORTED'}, {'atom': 'The hub airport signifies international agreements.', 'predicted': 'NOT_SUPPORTED'}, {'atom': 'The international agreements are for the protection of biodiversity.', 'predicted': 'NOT_SUPPORTED'}], 'selected_evidences': []}, {'id': 114, 'word': 'Montgolfiere', 'claim': 'ein Abschnitt auf der DNA bezeichnet, der Grundinformationen für die Entwicklung von Eigenschaften eines Individuums und zur Herstellung einer biologisch aktiven RNA enthält', 'label': 'NOT_SUPPORTED', 'predicted': 'NOT_SUPPORTED', 'atoms': [{'atom': 'A montgolfiere represents a section on DNA.', 'predicted': 'NOT_SUPPORTED'}, {'atom': 'The section on DNA contains basic information.', 'predicted': 'NOT_SUPPORTED'}, {'atom': 'The basic information is for the development of properties of an individual.', 'predicted': 'NOT_SUPPORTED'}, {'atom': 'The basic information is for the production of a biologically active RNA.', 'predicted': 'NOT_SUPPORTED'}], 'selected_evidences': []}, {'id': 115, 'word': 'YouTube-Kanal', 'claim': 'die Lichtempfindlichkeit von fotografischen Platten und Filmen', 'label': 'NOT_SUPPORTED', 'predicted': 'NOT_SUPPORTED', 'atoms': [{'atom': 'The YouTube channel signifies something.', 'predicted': 'NOT_SUPPORTED'}, {'atom': 'The significance is related to light sensitivity.', 'predicted': 'NOT_SUPPORTED'}, {'atom': 'Light sensitivity is related to photographic plates and films.', 'predicted': 'NOT_SUPPORTED'}], 'selected_evidences': []}, {'id': 116, 'word': 'Flechte', 'claim': 'eine aus Schnee hervorgegangene Eismasse mit einem klar definierten Einzugsgebiet, die sich aufgrund von Hangneigung, Struktur des Eises, Temperatur und der aus der Masse des Eises und den anderen Faktoren hervorgehenden Schubspannung eigenständig bewegt', 'label': 'NOT_SUPPORTED', 'predicted': 'NOT_SUPPORTED', 'atoms': [{'atom': 'Lichen signifies an ice mass.', 'predicted': 'NOT_SUPPORTED'}, {'atom': 'The ice mass is the result of snow.', 'predicted': 'NOT_SUPPORTED'}, {'atom': 'The ice mass has a clearly defined catchment area.', 'predicted': 'NOT_SUPPORTED'}, {'atom': 'The ice mass moves independently.', 'predicted': 'NOT_SUPPORTED'}, {'atom': 'The ice mass moves due to slope, structure, temperature, and shear stress.', 'predicted': 'NOT_SUPPORTED'}, {'atom': 'The ice mass is affected by the mass of the ice and other factors.', 'predicted': 'NOT_SUPPORTED'}], 'selected_evidences': []}, {'id': 117, 'word': 'Pharaonismus', 'claim': 'ein Halbleiter-Bauelement, das Licht ausstrahlt, wenn elektrischer Strom in Durchlassrichtung fließt', 'label': 'NOT_SUPPORTED', 'predicted': 'NOT_SUPPORTED', 'atoms': [], 'selected_evidences': []}, {'id': 118, 'word': 'Lungenobstruktion', 'claim': 'die Gesamtheit der materiellen Träger der vererbbaren Informationen einer Zelle oder eines Viruspartikels: Chromosomen, Desoxyribonukleinsäure (DNS = DNA) oder Ribonukleinsäure (RNS = RNA) bei RNA-Viren, bei denen RNA anstelle von DNA als Informationsträger dient', 'label': 'NOT_SUPPORTED', 'predicted': 'NOT_SUPPORTED', 'atoms': [], 'selected_evidences': []}, {'id': 119, 'word': 'TU', 'claim': \"eine anhaltende Durchblutungsstörung (''Ischämie'') von Teilen des Herzmuskels\", 'label': 'NOT_SUPPORTED', 'predicted': 'NOT_SUPPORTED', 'atoms': [{'atom': 'Tu is a persistent circulation disorder.', 'predicted': 'NOT_SUPPORTED'}, {'atom': 'Tu is called \"Ischaemia.\"', 'predicted': 'NOT_SUPPORTED'}, {'atom': 'Tu affects parts of the heart muscle.', 'predicted': 'NOT_SUPPORTED'}], 'selected_evidences': []}, {'id': 120, 'word': 'Grand Central Terminal', 'claim': 'umgangssprachlich die Nutzung von verschiedenen Energien in für Menschen gut verwendbaren Formen', 'label': 'NOT_SUPPORTED', 'predicted': 'NOT_SUPPORTED', 'atoms': [{'atom': 'Grand Central Terminal symbolizes something.', 'predicted': 'SUPPORTED'}, {'atom': 'Grand Central Terminal symbolizes the colloquial use of different energies.', 'predicted': 'NOT_SUPPORTED'}, {'atom': 'Different energies can be used colloquially.', 'predicted': 'NOT_SUPPORTED'}, {'atom': 'The forms of energy are suitable for humans.', 'predicted': 'NOT_SUPPORTED'}], 'selected_evidences': []}, {'id': 121, 'word': 'Broadway', 'claim': 'der Wirrwarr aus niederländischen und englischen Wörtern, Satzbau und Sprichwörtern für die Kommunikation der niederländischen Hafenarbeiter mit den britischen Besatzungen der Steinkohleboote um 1900 bezeichnet wurde', 'label': 'NOT_SUPPORTED', 'predicted': 'NOT_SUPPORTED', 'atoms': [{'atom': 'Broadway symbolizes the confusion of Dutch and English words.', 'predicted': 'NOT_SUPPORTED'}, {'atom': 'Broadway symbolizes the confusion of Dutch and English sentence construction.', 'predicted': 'NOT_SUPPORTED'}, {'atom': 'Broadway symbolizes the confusion of Dutch and English proverbs.', 'predicted': 'NOT_SUPPORTED'}, {'atom': 'Dutch dockers communicated with British crews of coal boats.', 'predicted': 'NOT_SUPPORTED'}, {'atom': 'This communication occurred around 1900.', 'predicted': 'NOT_SUPPORTED'}], 'selected_evidences': []}, {'id': 122, 'word': 'DBMS', 'claim': 'eine kleine turksprachige Minderheit vorwiegend im Kaukasus, der Südwestukraine, der Krim und dem Balkan', 'label': 'NOT_SUPPORTED', 'predicted': 'NOT_SUPPORTED', 'atoms': [{'atom': 'A dbms represents a small minority.', 'predicted': 'NOT_SUPPORTED'}, {'atom': 'The minority is Turk-speaking.', 'predicted': 'NOT_SUPPORTED'}, {'atom': 'The minority is mainly located in the Caucasus, Southwest Ukraine, Crimea and the Balkans.', 'predicted': 'NOT_SUPPORTED'}], 'selected_evidences': []}, {'id': 123, 'word': 'Uranmunition', 'claim': 'Organisation erdölexportierender Länder', 'label': 'NOT_SUPPORTED', 'predicted': 'NOT_SUPPORTED', 'atoms': [{'atom': 'Uranium ammunition is a type of ammunition.', 'predicted': 'SUPPORTED'}, {'atom': 'Uranium ammunition represents the Organization of Oil Exporting Countries (OPEC).', 'predicted': 'NOT_SUPPORTED'}], 'selected_evidences': []}, {'id': 124, 'word': 'Ornithologie', 'claim': 'die Bezeichnung für eine Musikbewegung, die vor allem und zuerst in Großbritannien Ende der 1970er/Anfang der 1980er Jahre aus dem Punk hervorging', 'label': 'NOT_SUPPORTED', 'predicted': 'NOT_SUPPORTED', 'atoms': [{'atom': 'Ornithology is a term.', 'predicted': 'SUPPORTED'}, {'atom': 'Ornithology is associated with a music movement.', 'predicted': 'NOT_SUPPORTED'}, {'atom': 'The music movement emerged from punk.', 'predicted': 'NOT_SUPPORTED'}, {'atom': 'The music movement emerged mainly in Great Britain.', 'predicted': 'NOT_SUPPORTED'}, {'atom': 'The music movement emerged in the late 1970s/early 1980s.', 'predicted': 'NOT_SUPPORTED'}], 'selected_evidences': []}, {'id': 125, 'word': 'YouTube-Kanal', 'claim': 'Bewegungsleistung in elektrische Leistung umwandelt', 'label': 'NOT_SUPPORTED', 'predicted': 'NOT_SUPPORTED', 'atoms': [{'atom': 'A YouTube channel signifies something.', 'predicted': 'NOT_SUPPORTED'}, {'atom': 'A YouTube channel signifies motion power.', 'predicted': 'NOT_SUPPORTED'}, {'atom': 'Motion power is converted into electrical power.', 'predicted': 'NOT_SUPPORTED'}], 'selected_evidences': []}, {'id': 126, 'word': 'Schleimhautödem', 'claim': 'Diese Vorstufe zur produzierenden Landwirtschaft', 'label': 'NOT_SUPPORTED', 'predicted': 'NOT_SUPPORTED', 'atoms': [], 'selected_evidences': []}, {'id': 127, 'word': 'OPEC', 'claim': 'Zehn-Cent-Münze', 'label': 'NOT_SUPPORTED', 'predicted': 'NOT_SUPPORTED', 'atoms': [{'atom': 'Opec is a ten cent coin.', 'predicted': 'NOT_SUPPORTED'}, {'atom': 'Opec is a denomination.', 'predicted': 'NOT_SUPPORTED'}], 'selected_evidences': []}, {'id': 128, 'word': 'Hebb-Synapse', 'claim': 'Eine schwere generalisierte Infektion, also die Ausbreitung von einem lokalen Infektionsort über die Blutbahn im gesamten Körper', 'label': 'NOT_SUPPORTED', 'predicted': 'NOT_SUPPORTED', 'atoms': [{'atom': 'A hebb synapse signifies a severe generalized infection.', 'predicted': 'NOT_SUPPORTED'}, {'atom': 'The infection is caused by the spread of a local infection site across the bloodstream.', 'predicted': 'NOT_SUPPORTED'}, {'atom': 'The infection can spread throughout the body.', 'predicted': 'NOT_SUPPORTED'}], 'selected_evidences': []}, {'id': 129, 'word': 'Ramsar-Konvention', 'claim': 'eine sprunghafte Änderung des Wärmeausdehnungskoeffizienten sowie eine Abnahme der spezifischen Wärme', 'label': 'NOT_SUPPORTED', 'predicted': 'NOT_SUPPORTED', 'atoms': [{'atom': 'The Ramsar Convention signifies a sudden change.', 'predicted': 'NOT_SUPPORTED'}, {'atom': 'The Ramsar Convention signifies a change in the coefficient of thermal expansion.', 'predicted': 'NOT_SUPPORTED'}, {'atom': 'The Ramsar Convention signifies a decrease in the specific heat.', 'predicted': 'NOT_SUPPORTED'}], 'selected_evidences': []}, {'id': 130, 'word': 'Immunologie', 'claim': \"Bereich des Stammes, der aktiv am ''Wasser''- und ''Nährstofftransport'' und der Speicherung teilnimmt\", 'label': 'NOT_SUPPORTED', 'predicted': 'NOT_SUPPORTED', 'atoms': [{'atom': 'Immunology is an area.', 'predicted': 'SUPPORTED'}, {'atom': \"The strain actively participates in ''water'' transport.\", 'predicted': 'NOT_SUPPORTED'}, {'atom': \"The strain actively participates in ''nutrient transport''.\", 'predicted': 'NOT_SUPPORTED'}, {'atom': 'The strain actively participates in storage.', 'predicted': 'NOT_SUPPORTED'}], 'selected_evidences': []}, {'id': 131, 'word': 'Barekendan', 'claim': \"die heilige Schrift des Islams, die gemäß dem Glauben der Muslime die wörtliche Offenbarung Gottes (arabisch الله, ''Allah'') an den Propheten Mohammed enthält\", 'label': 'NOT_SUPPORTED', 'predicted': 'NOT_SUPPORTED', 'atoms': [], 'selected_evidences': []}, {'id': 132, 'word': 'Schleimhautödem', 'claim': 'durch inneralpine Abwanderung in die Zentren', 'label': 'NOT_SUPPORTED', 'predicted': 'NOT_SUPPORTED', 'atoms': [], 'selected_evidences': []}, {'id': 133, 'word': 'Freundschaftsspiel', 'claim': 'Bahnhofsgebäudes', 'label': 'NOT_SUPPORTED', 'predicted': 'NOT_SUPPORTED', 'atoms': [{'atom': 'An exhibition game signifies a station.', 'predicted': 'NOT_SUPPORTED'}, {'atom': 'A station signifies a building.', 'predicted': 'NOT_SUPPORTED'}], 'selected_evidences': []}, {'id': 134, 'word': 'USB', 'claim': 'das Theaterviertel am Times Square zwischen der 41st Street und 53rd Street und zwischen der Sixth und Ninth Avenue', 'label': 'NOT_SUPPORTED', 'predicted': 'NOT_SUPPORTED', 'atoms': [{'atom': 'The USB represents the theatre district.', 'predicted': 'NOT_SUPPORTED'}, {'atom': 'The theatre district is located at Times Square.', 'predicted': 'NOT_SUPPORTED'}, {'atom': 'The theatre district is between 41st Street and 53rd Street.', 'predicted': 'NOT_SUPPORTED'}, {'atom': 'The theatre district is between Sixth and Ninth Avenue.', 'predicted': 'NOT_SUPPORTED'}], 'selected_evidences': []}, {'id': 135, 'word': 'DBMS', 'claim': 'Das absichtliche (aktive) Einbringen von Mikroorganismen in ein Nährmedium', 'label': 'NOT_SUPPORTED', 'predicted': 'NOT_SUPPORTED', 'atoms': [{'atom': 'A dbms denotes something.', 'predicted': 'NOT_SUPPORTED'}, {'atom': 'A dbms denotes deliberate insertion.', 'predicted': 'NOT_SUPPORTED'}, {'atom': 'Deliberate insertion is active.', 'predicted': 'NOT_SUPPORTED'}, {'atom': 'Deliberate insertion is of microorganisms.', 'predicted': 'NOT_SUPPORTED'}, {'atom': 'Microorganisms are being inserted.', 'predicted': 'NOT_SUPPORTED'}, {'atom': 'The insertion is into a breeding medium.', 'predicted': 'NOT_SUPPORTED'}, {'atom': 'The breeding medium is being inserted into.', 'predicted': 'NOT_SUPPORTED'}], 'selected_evidences': []}, {'id': 136, 'word': 'Intonationsgehör', 'claim': 'eine chronische, entzündliche Erkrankung der Atemwege mit dauerhaft bestehender Überempfindlichkeit', 'label': 'NOT_SUPPORTED', 'predicted': 'NOT_SUPPORTED', 'atoms': [], 'selected_evidences': []}, {'id': 137, 'word': 'Orphismus', 'claim': 'die informationstechnische (IT) Infrastruktur (Hochschulnetz, Server etc.) bereitstellt und betreibt sowie IT-Dienstleistungen (E-Mail, Web-Services etc.) und Beratung erbringt', 'label': 'NOT_SUPPORTED', 'predicted': 'NOT_SUPPORTED', 'atoms': [{'atom': 'Orphism represents providing and operating information technology infrastructure.', 'predicted': 'NOT_SUPPORTED'}, {'atom': 'Orphism represents providing IT services.', 'predicted': 'NOT_SUPPORTED'}, {'atom': 'Orphism represents consulting.', 'predicted': 'NOT_SUPPORTED'}], 'selected_evidences': []}, {'id': 138, 'word': 'Browser', 'claim': 'der sogenannte ethno-territoriale ägyptische Nationalismus', 'label': 'NOT_SUPPORTED', 'predicted': 'NOT_SUPPORTED', 'atoms': [{'atom': 'A browser signifies something.', 'predicted': 'NOT_SUPPORTED'}, {'atom': 'A browser signifies ethno-territorial Egyptian nationalism.', 'predicted': 'NOT_SUPPORTED'}, {'atom': 'Ethno-territorial Egyptian nationalism is so-called.', 'predicted': 'NOT_SUPPORTED'}], 'selected_evidences': []}, {'id': 139, 'word': 'Flechte', 'claim': 'die Luftstreitkraft der Streitkräfte der Vereinigten Staaten von Amerika', 'label': 'NOT_SUPPORTED', 'predicted': 'NOT_SUPPORTED', 'atoms': [{'atom': 'Lichen signifies something.', 'predicted': 'NOT_SUPPORTED'}, {'atom': 'Lichen signifies the air force.', 'predicted': 'NOT_SUPPORTED'}, {'atom': 'The air force belongs to the United States armed forces.', 'predicted': 'NOT_SUPPORTED'}], 'selected_evidences': []}, {'id': 140, 'word': 'Datenbankanwendungen', 'claim': 'die Schreibung richtet sich nach der Lautung', 'label': 'NOT_SUPPORTED', 'predicted': 'NOT_SUPPORTED', 'atoms': [{'atom': 'Database applications are used to write.', 'predicted': 'NOT_SUPPORTED'}, {'atom': 'Writing depends on sound.', 'predicted': 'NOT_SUPPORTED'}], 'selected_evidences': []}, {'id': 141, 'word': 'Drehkreuz-Flughafen', 'claim': 'eine symbiotische Lebensgemeinschaft zwischen einem Pilz und Grünalgen oder Cyanobakterien', 'label': 'NOT_SUPPORTED', 'predicted': 'NOT_SUPPORTED', 'atoms': [{'atom': 'A hub airport signifies a symbiotic community.', 'predicted': 'NOT_SUPPORTED'}, {'atom': 'The symbiotic community is between a fungus and green algae or cyanobacteria.', 'predicted': 'NOT_SUPPORTED'}], 'selected_evidences': []}, {'id': 142, 'word': 'Post-Punk', 'claim': 'die Vergöttlichung eines als heldenhaft angesehenen Menschen, der als Gottkönig verehrt wird', 'label': 'NOT_SUPPORTED', 'predicted': 'NOT_SUPPORTED', 'atoms': [{'atom': 'Post-punk signifies the deification of a man.', 'predicted': 'NOT_SUPPORTED'}, {'atom': 'The man is regarded as heroic.', 'predicted': 'NOT_SUPPORTED'}, {'atom': 'The man is revered as a God King.', 'predicted': 'NOT_SUPPORTED'}], 'selected_evidences': []}, {'id': 143, 'word': 'Seidenstraße', 'claim': 'baumartig verzweigende Strukturen', 'label': 'NOT_SUPPORTED', 'predicted': 'NOT_SUPPORTED', 'atoms': [{'atom': 'The silk road signifies branching structures.', 'predicted': 'NOT_SUPPORTED'}, {'atom': 'The silk road signifies tree-like structures.', 'predicted': 'NOT_SUPPORTED'}], 'selected_evidences': []}, {'id': 144, 'word': 'proto-neolithisch', 'claim': 'die armenische Variante des Karneval', 'label': 'NOT_SUPPORTED', 'predicted': 'NOT_SUPPORTED', 'atoms': [{'atom': 'The proto-neolithic is a historical period.', 'predicted': 'NOT_SUPPORTED'}, {'atom': 'The proto-neolithic is associated with the Armenian culture.', 'predicted': 'NOT_SUPPORTED'}, {'atom': 'The Armenian variant of Carnival is embodied in the proto-neolithic.', 'predicted': 'NOT_SUPPORTED'}], 'selected_evidences': []}, {'id': 145, 'word': 'ERTU', 'claim': 'ein Gerät zum Betrieb eines Peripheriegeräts an mehreren Rechnern ohne Umstecken', 'label': 'NOT_SUPPORTED', 'predicted': 'NOT_SUPPORTED', 'atoms': [{'atom': 'Ertu is a device.', 'predicted': 'NOT_SUPPORTED'}, {'atom': 'Ertu operates peripheral devices.', 'predicted': 'NOT_SUPPORTED'}, {'atom': 'Ertu can be used on multiple computers.', 'predicted': 'NOT_SUPPORTED'}, {'atom': 'Ertu allows for the operation of peripheral devices without switching.', 'predicted': 'NOT_SUPPORTED'}], 'selected_evidences': []}, {'id': 146, 'word': 'Ornithologie', 'claim': 'die Lehre von den biologischen und biochemischen Grundlagen der körperlichen Abwehr von Krankheitserregern wie Bakterien, Viren und Pilzen sowie anderen körperfremden Stoffen wie beispielsweise biologischen Toxinen und Umweltgiften, und darüber hinaus von Störungen und Fehlfunktionen dieser Abwehrmechanismen', 'label': 'NOT_SUPPORTED', 'predicted': 'NOT_SUPPORTED', 'atoms': [{'atom': 'Ornithology is the study of biological and biochemical fundamentals.', 'predicted': 'NOT_SUPPORTED'}, {'atom': 'Ornithology teaches about physical defense against pathogens such as bacteria, viruses, and fungi.', 'predicted': 'NOT_SUPPORTED'}, {'atom': 'Ornithology also teaches about defense against non-body substances like biological toxins and environmental toxins.', 'predicted': 'NOT_SUPPORTED'}, {'atom': 'Ornithology covers disorders and malfunctions of defense mechanisms.', 'predicted': 'NOT_SUPPORTED'}], 'selected_evidences': []}, {'id': 147, 'word': 'Kulturanthropologie', 'claim': 'die Belieferung von Verbrauchern mit diesen Energieformen, inklusive der dazu notwendigen Energieinfrastruktur', 'label': 'NOT_SUPPORTED', 'predicted': 'NOT_SUPPORTED', 'atoms': [{'atom': 'Cultural anthropology signifies.', 'predicted': 'SUPPORTED'}, {'atom': 'Cultural anthropology signifies supplying consumers.', 'predicted': 'NOT_SUPPORTED'}, {'atom': 'Cultural anthropology signifies supplying consumers with forms of energy.', 'predicted': 'NOT_SUPPORTED'}, {'atom': 'Forms of energy include necessary energy infrastructure.', 'predicted': 'NOT_SUPPORTED'}, {'atom': 'Cultural anthropology signifies supplying consumers with necessary energy infrastructure.', 'predicted': 'NOT_SUPPORTED'}], 'selected_evidences': []}, {'id': 148, 'word': 'Zinkstaub', 'claim': 'der individuelle Bereich eines YouTube-Benutzers', 'label': 'NOT_SUPPORTED', 'predicted': 'NOT_SUPPORTED', 'atoms': [], 'selected_evidences': []}, {'id': 149, 'word': 'Lungenobstruktion', 'claim': 'die eingesetzte Software, die für das Datenbanksystem installiert und konfiguriert wird', 'label': 'NOT_SUPPORTED', 'predicted': 'NOT_SUPPORTED', 'atoms': [], 'selected_evidences': []}, {'id': 150, 'word': 'Urum', 'claim': 'überwiegend aus Teig und einer würzigen Füllung bestehende Gericht', 'label': 'NOT_SUPPORTED', 'predicted': 'NOT_SUPPORTED', 'atoms': [{'atom': 'Urums is a dish.', 'predicted': 'NOT_SUPPORTED'}, {'atom': 'Urums is made of dough.', 'predicted': 'NOT_SUPPORTED'}, {'atom': 'Urums has a spicy filling.', 'predicted': 'NOT_SUPPORTED'}], 'selected_evidences': []}, {'id': 151, 'word': 'YouTube-Kanal', 'claim': 'als ein Flughafen definiert, von dem eine oder mehrere Fluggesellschaften ein integriertes Servicenetzwerk zu einer Vielzahl von verschiedenen Destinationen mit einer hohen Frequenz an Verbindungen anbieten', 'label': 'NOT_SUPPORTED', 'predicted': 'NOT_SUPPORTED', 'atoms': [{'atom': 'A YouTube channel is defined as an airport.', 'predicted': 'NOT_SUPPORTED'}, {'atom': 'The airport offers an integrated service network.', 'predicted': 'NOT_SUPPORTED'}, {'atom': 'The network is offered by one or more airlines.', 'predicted': 'NOT_SUPPORTED'}, {'atom': 'The network serves a variety of destinations.', 'predicted': 'NOT_SUPPORTED'}, {'atom': 'The connections within the network are frequent.', 'predicted': 'NOT_SUPPORTED'}], 'selected_evidences': []}, {'id': 152, 'word': 'YouTube-Kanal', 'claim': 'eine Synapse, die durch gleichzeitige Aktivität im vor- und nachsynaptischen Neuron stärker wird', 'label': 'NOT_SUPPORTED', 'predicted': 'NOT_SUPPORTED', 'atoms': [{'atom': 'A youtube channel represents a synapse.', 'predicted': 'NOT_SUPPORTED'}, {'atom': 'The synapse becomes stronger.', 'predicted': 'NOT_SUPPORTED'}, {'atom': 'The synapse becomes stronger by simultaneous activity.', 'predicted': 'NOT_SUPPORTED'}, {'atom': 'The simultaneous activity happens in the pre-synaptic and post-synaptic neurons.', 'predicted': 'NOT_SUPPORTED'}], 'selected_evidences': []}, {'id': 153, 'word': 'Laservisiondisc', 'claim': \"die mehrfache Ausscheidung von ''zu flüssigem'' Stuhl\", 'label': 'NOT_SUPPORTED', 'predicted': 'NOT_SUPPORTED', 'atoms': [], 'selected_evidences': []}, {'id': 154, 'word': 'Generator', 'claim': ' Transfer von IP-Paketen in und aus dem Internet', 'label': 'NOT_SUPPORTED', 'predicted': 'NOT_SUPPORTED', 'atoms': [{'atom': 'A generator is used for transferring IP packages.', 'predicted': 'NOT_SUPPORTED'}, {'atom': 'IP packages are transferred to and from the Internet using a generator.', 'predicted': 'NOT_SUPPORTED'}], 'selected_evidences': []}, {'id': 155, 'word': 'Datenbankanwendungen', 'claim': 'die Benutzeroberfläche für Webanwendungen ', 'label': 'NOT_SUPPORTED', 'predicted': 'NOT_SUPPORTED', 'atoms': [{'atom': 'Database applications represent the user interface.', 'predicted': 'NOT_SUPPORTED'}, {'atom': 'They are used for web applications.', 'predicted': 'NOT_SUPPORTED'}], 'selected_evidences': []}, {'id': 156, 'word': 'Uranmunition', 'claim': 'der erste Mikrocomputer mit grafischer Benutzeroberfläche, der in größeren Stückzahlen produziert wurde', 'label': 'NOT_SUPPORTED', 'predicted': 'NOT_SUPPORTED', 'atoms': [{'atom': 'Uranium ammunition was produced in larger quantities.', 'predicted': 'NOT_SUPPORTED'}, {'atom': 'It signifies the first microcomputer.', 'predicted': 'NOT_SUPPORTED'}, {'atom': 'It has a graphical user interface.', 'predicted': 'NOT_SUPPORTED'}], 'selected_evidences': []}, {'id': 157, 'word': 'Zensur', 'claim': 'Teilgebiet der Immunologie, das sich mit den immunologischen Vorgängen bei der Entstehung, dem Verlauf und der Bekämpfung von Tumoren befasst', 'label': 'NOT_SUPPORTED', 'predicted': 'NOT_SUPPORTED', 'atoms': [{'atom': 'Censorship signifies the Department of Immunology.', 'predicted': 'NOT_SUPPORTED'}, {'atom': 'The Department of Immunology deals with immunological processes.', 'predicted': 'NOT_SUPPORTED'}, {'atom': 'Immunological processes are involved in the development, course, and control of tumors.', 'predicted': 'NOT_SUPPORTED'}], 'selected_evidences': []}, {'id': 158, 'word': 'DBMS', 'claim': 'ein optisches Speichermedium für Videos im Heimgebrauch', 'label': 'NOT_SUPPORTED', 'predicted': 'NOT_SUPPORTED', 'atoms': [{'atom': 'A dbms is an optical storage medium.', 'predicted': 'NOT_SUPPORTED'}, {'atom': 'A dbms is used for videos.', 'predicted': 'NOT_SUPPORTED'}, {'atom': 'A dbms is used in home use.', 'predicted': 'NOT_SUPPORTED'}], 'selected_evidences': []}, {'id': 159, 'word': 'Russistik', 'claim': 'eine ungenügende Immunabwehr', 'label': 'NOT_SUPPORTED', 'predicted': 'NOT_SUPPORTED', 'atoms': [{'atom': 'Russian studies signifies something.', 'predicted': 'SUPPORTED'}, {'atom': 'Russian studies signifies an insufficient immune defense.', 'predicted': 'NOT_SUPPORTED'}], 'selected_evidences': []}, {'id': 160, 'word': 'Gen', 'claim': 'die größte Video-Convention der Welt', 'label': 'NOT_SUPPORTED', 'predicted': 'NOT_SUPPORTED', 'atoms': [{'atom': 'The gene signifies something.', 'predicted': 'NOT_SUPPORTED'}, {'atom': 'The gene signifies the largest video convention.', 'predicted': 'NOT_SUPPORTED'}, {'atom': 'The largest video convention is in the world.', 'predicted': 'NOT_SUPPORTED'}], 'selected_evidences': []}, {'id': 161, 'word': 'Asthma', 'claim': 'ein Heißluftballon aus Leinwand, der mit einer dünnen Papierschicht luftdicht verkleidet war', 'label': 'NOT_SUPPORTED', 'predicted': 'NOT_SUPPORTED', 'atoms': [{'atom': 'Asthma is a medical condition.', 'predicted': 'SUPPORTED'}, {'atom': 'Asthma is characterized by difficulty breathing.', 'predicted': 'SUPPORTED'}, {'atom': 'Asthma is named after a hot air balloon called a \"canvas covered with a thin layer of paper.\".', 'predicted': 'NOT_SUPPORTED'}], 'selected_evidences': []}, {'id': 162, 'word': 'Grand Central Terminal', 'claim': 'ein nicht real existierender Vogel, der eine Mischung aus zwei Raubvögeln, nämlich einem Falken oder Habicht (englisch „hawk“) und dem Häher (englisch „jay“) darstellt', 'label': 'NOT_SUPPORTED', 'predicted': 'NOT_SUPPORTED', 'atoms': [{'atom': 'The grand central terminal symbolizes a bird.', 'predicted': 'NOT_SUPPORTED'}, {'atom': 'The bird is not real.', 'predicted': 'NOT_SUPPORTED'}, {'atom': 'The bird represents a mixture of two birds of prey.', 'predicted': 'NOT_SUPPORTED'}, {'atom': 'The birds of prey are a hawk and a hawk.', 'predicted': 'NOT_SUPPORTED'}, {'atom': 'The bird also represents the haher.', 'predicted': 'NOT_SUPPORTED'}], 'selected_evidences': []}, {'id': 163, 'word': 'Zinkstaub', 'claim': 'Flüssigkeitseinlagerung in die Schleimhaut', 'label': 'NOT_SUPPORTED', 'predicted': 'NOT_SUPPORTED', 'atoms': [], 'selected_evidences': []}, {'id': 164, 'word': 'Orphismus', 'claim': 'Verengung des Lumens der Atemwege (Verkleinerung des verfügbaren Querschnitts)', 'label': 'NOT_SUPPORTED', 'predicted': 'NOT_SUPPORTED', 'atoms': [{'atom': 'Orphism is a signifier.', 'predicted': 'NOT_SUPPORTED'}, {'atom': 'Orphism signifies narrowing of the lumen of the airways.', 'predicted': 'NOT_SUPPORTED'}, {'atom': 'Orphism signifies reduction of the available cross-section.', 'predicted': 'NOT_SUPPORTED'}], 'selected_evidences': []}, {'id': 165, 'word': 'Genom', 'claim': 'panzerbrechende Munition, die abgereichertes Uran als Projektilkernmaterial enthält', 'label': 'NOT_SUPPORTED', 'predicted': 'NOT_SUPPORTED', 'atoms': [{'atom': 'The genome represents something.', 'predicted': 'SUPPORTED'}, {'atom': 'The genome is armor-piercing ammunition.', 'predicted': 'NOT_SUPPORTED'}, {'atom': 'The armor-piercing ammunition contains depleted uranium.', 'predicted': 'NOT_SUPPORTED'}, {'atom': 'The depleted uranium is used as projectile material.', 'predicted': 'NOT_SUPPORTED'}], 'selected_evidences': []}, {'id': 166, 'word': 'Zensur', 'claim': 'Darstellung quantenfeldtheoretischer elementarer Wechselwirkungen', 'label': 'NOT_SUPPORTED', 'predicted': 'NOT_SUPPORTED', 'atoms': [{'atom': 'Censorship signifies the representation of quantum field theory.', 'predicted': 'NOT_SUPPORTED'}, {'atom': 'Quantum field theory deals with elementary interactions.', 'predicted': 'NOT_SUPPORTED'}], 'selected_evidences': []}, {'id': 167, 'word': 'Flechte', 'claim': 'Die Wissenschaft von den Vögeln', 'label': 'NOT_SUPPORTED', 'predicted': 'NOT_SUPPORTED', 'atoms': [{'atom': 'Lichen is a type of organism.', 'predicted': 'SUPPORTED'}, {'atom': 'Lichen is used to signify something.', 'predicted': 'NOT_SUPPORTED'}, {'atom': 'Lichen signifies the science of birds.', 'predicted': 'NOT_SUPPORTED'}], 'selected_evidences': []}, {'id': 168, 'word': 'Kyffhäuserdenkmal', 'claim': 'Krankheitszeichen, die sich direkt nach der Infektion manifestieren', 'label': 'NOT_SUPPORTED', 'predicted': 'NOT_SUPPORTED', 'atoms': [{'atom': 'The Kyffhäuser monument exists.', 'predicted': 'SUPPORTED'}, {'atom': 'The Kyffhäuser monument is symbolic.', 'predicted': 'SUPPORTED'}, {'atom': 'The Kyffhäuser monument symbolizes symptoms.', 'predicted': 'NOT_SUPPORTED'}, {'atom': 'Symptoms manifest after infection.', 'predicted': 'NOT_SUPPORTED'}, {'atom': 'Symptoms manifest directly after infection.', 'predicted': 'NOT_SUPPORTED'}], 'selected_evidences': []}])"
      ]
     },
     "execution_count": 30,
     "metadata": {},
     "output_type": "execute_result"
    }
   ],
   "execution_count": 30
  },
  {
   "metadata": {},
   "cell_type": "code",
   "outputs": [],
   "execution_count": null,
   "source": "",
   "id": "ec70836f41721f4e"
  }
 ],
 "metadata": {
  "kernelspec": {
   "display_name": "Python 3",
   "language": "python",
   "name": "python3"
  },
  "language_info": {
   "codemirror_mode": {
    "name": "ipython",
    "version": 2
   },
   "file_extension": ".py",
   "mimetype": "text/x-python",
   "name": "python",
   "nbconvert_exporter": "python",
   "pygments_lexer": "ipython2",
   "version": "2.7.6"
  }
 },
 "nbformat": 4,
 "nbformat_minor": 5
}
