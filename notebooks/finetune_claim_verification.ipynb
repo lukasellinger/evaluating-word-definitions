{
 "cells": [
  {
   "cell_type": "code",
   "execution_count": null,
   "id": "initial_id",
   "metadata": {
    "collapsed": true
   },
   "outputs": [],
   "source": [
    "from google.colab import drive\n",
    "\n",
    "drive.mount('/content/drive', force_remount=True)\n",
    "repository = 'evaluating_factuality_word_definitions'\n",
    "\n",
    "%cd /content/drive/My Drive/{repository}"
   ]
  },
  {
   "metadata": {},
   "cell_type": "code",
   "outputs": [],
   "execution_count": null,
   "source": [
    "%%capture\n",
    "!pip install datasets~=2.18.0\n",
    "!pip install einops~=0.8.0\n",
    "!pip install rank_bm25~=0.2.2\n",
    "!pip install wandb~=0.17.5"
   ],
   "id": "bce19b5b9a8b0737"
  },
  {
   "metadata": {
    "ExecuteTime": {
     "end_time": "2024-07-02T15:00:27.465137Z",
     "start_time": "2024-07-02T15:00:23.347829Z"
    }
   },
   "cell_type": "code",
   "source": [
    "import gc\n",
    "import torch\n",
    "import random\n",
    "from models.claim_verification_model import ClaimVerificationModel\n",
    "from transformers import AutoModelForSequenceClassification, AutoTokenizer\n",
    "from torch.utils.data import DataLoader\n",
    "from losses.atomic_fact_loss import AtomicFactsLoss\n",
    "from dataset.def_dataset import DefinitionDataset\n",
    "from matplotlib import pyplot as plt\n",
    "from tqdm import tqdm\n",
    "import numpy as np\n",
    "from torch.cuda.amp import GradScaler, autocast\n",
    "from datetime import datetime\n",
    "from torch import optim\n",
    "from sklearn.metrics import classification_report\n",
    "import wandb"
   ],
   "id": "d91fa86757e3b76a",
   "outputs": [],
   "execution_count": 1
  },
  {
   "metadata": {},
   "cell_type": "code",
   "outputs": [],
   "execution_count": null,
   "source": [
    "seed = 42\n",
    "torch.manual_seed(seed)\n",
    "torch.cuda.manual_seed_all(seed)\n",
    "np.random.seed(seed)\n",
    "random.seed(seed)"
   ],
   "id": "c6ac10c0970351e0"
  },
  {
   "metadata": {},
   "cell_type": "markdown",
   "source": "# Evaluation",
   "id": "58b42e563923820d"
  },
  {
   "metadata": {
    "ExecuteTime": {
     "end_time": "2024-07-02T15:00:27.475304Z",
     "start_time": "2024-07-02T15:00:27.467943Z"
    }
   },
   "cell_type": "code",
   "source": [
    "def evaluate(ev_model, dataloader, loss_function):\n",
    "    gt_labels = []\n",
    "    pr_labels = []\n",
    "    all_loss = []\n",
    "\n",
    "    for batch in tqdm(dataloader):\n",
    "        ev_model.eval()\n",
    "        model_input = batch['model_input']\n",
    "        claim_mask = model_input.get('claim_mask')\n",
    "        with torch.no_grad():\n",
    "            logits = ev_model(input_ids=model_input['input_ids'], \n",
    "                              attention_mask=model_input['attention_mask'])['logits']\n",
    "            predicted = torch.softmax(logits, dim=-1)\n",
    "\n",
    "            labels = batch['labels']\n",
    "            loss = loss_function(labels, predicted[:, :1], claim_mask)\n",
    "            \n",
    "            predicted_label = torch.argmax(predicted, dim=-1).unsqueeze(1)\n",
    "            predicted_label = (predicted_label * claim_mask.unsqueeze(2)).squeeze(2)            \n",
    "            predicted_label = torch.all(predicted_label == 0, dim=1)   # index 0 == SUPPORTED\n",
    "            \n",
    "        gt_labels.extend(batch['labels'].tolist())\n",
    "        pr_labels.extend(predicted_label.tolist())\n",
    "        all_loss.append(loss)\n",
    "\n",
    "    loss = sum(all_loss) / len(all_loss)\n",
    "    return loss.item(), classification_report(gt_labels, pr_labels, digits=4)"
   ],
   "id": "fa747ee21c6ce421",
   "outputs": [],
   "execution_count": 2
  },
  {
   "metadata": {},
   "cell_type": "markdown",
   "source": "# Training",
   "id": "74e5aab422c5376b"
  },
  {
   "metadata": {
    "ExecuteTime": {
     "end_time": "2024-07-02T15:00:28.258536Z",
     "start_time": "2024-07-02T15:00:28.173027Z"
    }
   },
   "cell_type": "code",
   "source": [
    "torch.cuda.empty_cache()\n",
    "gc.collect()"
   ],
   "id": "df6cefb38921ddcb",
   "outputs": [
    {
     "data": {
      "text/plain": [
       "75"
      ]
     },
     "execution_count": 3,
     "metadata": {},
     "output_type": "execute_result"
    }
   ],
   "execution_count": 3
  },
  {
   "metadata": {
    "ExecuteTime": {
     "end_time": "2024-07-02T15:00:33.135849Z",
     "start_time": "2024-07-02T15:00:28.755091Z"
    }
   },
   "cell_type": "code",
   "source": [
    "device = \"cuda\" if torch.cuda.is_available() else \"cpu\"\n",
    "\n",
    "model_name = \"MoritzLaurer/mDeBERTa-v3-base-xnli-multilingual-nli-2mil7\"\n",
    "tokenizer = AutoTokenizer.from_pretrained(model_name)\n",
    "model = AutoModelForSequenceClassification.from_pretrained(model_name)\n",
    "\n",
    "verification_model = ClaimVerificationModel(model).to(device)"
   ],
   "id": "a41eea9b0aade39a",
   "outputs": [],
   "execution_count": 4
  },
  {
   "metadata": {
    "ExecuteTime": {
     "end_time": "2024-07-02T15:00:46.224409Z",
     "start_time": "2024-07-02T15:00:33.139803Z"
    }
   },
   "cell_type": "code",
   "source": [
    "from datasets import load_dataset\n",
    "\n",
    "def map_dataset(example, sentence_ordering):\n",
    "    if example.get('selected_evidence_lines'):\n",
    "        evidence_lines = example['selected_evidence_lines'].split(',')\n",
    "        if sentence_ordering == 'top_last':\n",
    "            evidence_lines = evidence_lines[1:] + [evidence_lines[0]]\n",
    "        elif sentence_ordering == 'reverse':\n",
    "            evidence_lines.reverse()\n",
    "        example['evidence_lines'] = ','.join(evidence_lines)\n",
    "    return example\n",
    "\n",
    "sentence_ordering = 'keep'\n",
    "dataset = load_dataset(\"lukasellinger/filtered_fever-claim_verification\")\n",
    "dataset = dataset.map(map_dataset, fn_kwargs={'sentence_ordering': sentence_ordering})\n",
    "dataset = dataset.remove_columns(\"atomic_facts\")  # try without atomic facts as splitting error prune\n",
    "\n",
    "train_dataset = DefinitionDataset(dataset['train'], tokenizer, mode='validation', model='claim_verification')\n",
    "train_dataloader = DataLoader(train_dataset, shuffle=True,\n",
    "                              collate_fn=train_dataset.collate_fn,\n",
    "                              batch_size=32)\n",
    "dev_dataset = DefinitionDataset(dataset['dev'], tokenizer, mode='train', model='claim_verification')\n",
    "dev_dataloader = DataLoader(dev_dataset, shuffle=True,\n",
    "                            collate_fn=dev_dataset.collate_fn,\n",
    "                            batch_size=32)"
   ],
   "id": "11f2f81eef1f7d8b",
   "outputs": [
    {
     "data": {
      "text/plain": [
       "Filter:   0%|          | 0/29237 [00:00<?, ? examples/s]"
      ],
      "application/vnd.jupyter.widget-view+json": {
       "version_major": 2,
       "version_minor": 0,
       "model_id": "93e1ee369a1e476a82dba6cceef465d4"
      }
     },
     "metadata": {},
     "output_type": "display_data"
    },
    {
     "data": {
      "text/plain": [
       "Filter:   0%|          | 0/1978 [00:00<?, ? examples/s]"
      ],
      "application/vnd.jupyter.widget-view+json": {
       "version_major": 2,
       "version_minor": 0,
       "model_id": "986f4ba674e2449db23154b7d2303d31"
      }
     },
     "metadata": {},
     "output_type": "display_data"
    }
   ],
   "execution_count": 5
  },
  {
   "metadata": {
    "ExecuteTime": {
     "end_time": "2024-07-02T15:00:46.231761Z",
     "start_time": "2024-07-02T15:00:46.226516Z"
    }
   },
   "cell_type": "code",
   "source": "len(train_dataloader)",
   "id": "86b058fd84c23839",
   "outputs": [
    {
     "data": {
      "text/plain": [
       "5455"
      ]
     },
     "execution_count": 6,
     "metadata": {},
     "output_type": "execute_result"
    }
   ],
   "execution_count": 6
  },
  {
   "metadata": {},
   "cell_type": "markdown",
   "source": "## Gradient Accumulation",
   "id": "c51cb8a77b558076"
  },
  {
   "metadata": {},
   "cell_type": "markdown",
   "source": "### AtomicFacts-Loss",
   "id": "34f5bbcd9652f997"
  },
  {
   "metadata": {},
   "cell_type": "markdown",
   "source": "As we are combining REFUTES and NOT ENOUGH INFO into one Label 'NOT VERIFIABLE WRT KNOWLEDGE BASE' we can use Binary Cross Entropy Loss",
   "id": "7714f5d3236ef6a8"
  },
  {
   "metadata": {},
   "cell_type": "code",
   "outputs": [],
   "execution_count": null,
   "source": [
    "settings = {\n",
    "    \"learning_rate\": 1e-6,\n",
    "    \"dataset\": \"FEVER\",\n",
    "    \"epochs\": 6,\n",
    "    \"patience\": 2,\n",
    "    \"gradient_accumulation\": 16,\n",
    "    \"seed\": seed,\n",
    "    'sentence_ordering': sentence_ordering,\n",
    "    'mode': 'including not enough info'\n",
    "    }\n",
    "\n",
    "# start a new wandb run to track this script\n",
    "wandb.init(\n",
    "    project=\"claim_verification\",\n",
    "    config=settings\n",
    ")"
   ],
   "id": "e6d833189380dec6"
  },
  {
   "metadata": {
    "ExecuteTime": {
     "end_time": "2024-07-02T15:04:58.411418Z",
     "start_time": "2024-07-02T15:00:48.906732Z"
    }
   },
   "cell_type": "code",
   "source": [
    "optimizer = optim.AdamW(verification_model.parameters(), lr=settings.get('learning_rate'))\n",
    "criterion = AtomicFactsLoss(pos_weight=2) #BCELoss()\n",
    "\n",
    "timestamp = datetime.now().strftime(\"%m-%d_%H-%M\")\n",
    "\n",
    "num_epochs = settings.get('epochs') \n",
    "patience = settings.get('patience')   \n",
    "gradient_accumulation = settings.get('gradient_accumulation')\n",
    "trace_train = []\n",
    "trace_val = []\n",
    "\n",
    "verification_model.zero_grad()\n",
    "use_amp = True\n",
    "scaler = GradScaler(enabled=use_amp, init_scale=1)\n",
    "\n",
    "checkpoint = {\n",
    "    'model': verification_model.model.state_dict(),\n",
    "    'optimizer': optimizer.state_dict(),\n",
    "    'scaler': scaler.state_dict(),\n",
    "    'settings': settings,\n",
    "    'epoch': 0\n",
    "}\n",
    "\n",
    "torch.save(checkpoint, f'claim_verification_start_{timestamp}')\n",
    "#wandb.save('claim_verification_start') # does not work in colab\n",
    "\n",
    "#checkpoint = torch.load(f'training_05-15_15-55')\n",
    "#optimizer.load_state_dict(checkpoint['optimizer'])\n",
    "#scaler.load_state_dict(checkpoint['scaler'])\n",
    "\n",
    "best_loss = np.inf\n",
    "epoch = 0\n",
    "for epoch in range(num_epochs):\n",
    "    bar_desc = \"Epoch %d of %d | Iteration\" % (epoch + 1, num_epochs)\n",
    "    train_iterator = tqdm(train_dataloader, desc=bar_desc)\n",
    "\n",
    "    train_loss = 0\n",
    "    print('Train ...')\n",
    "    for step, batch in enumerate(train_iterator):\n",
    "        verification_model.train()\n",
    "        model_input = batch[\"model_input\"]\n",
    "        claim_mask = model_input.get('claim_mask')\n",
    "\n",
    "        with autocast():\n",
    "            logits = verification_model(input_ids=model_input['input_ids'], \n",
    "                                        attention_mask=model_input['attention_mask'])['logits']\n",
    "            predicted = torch.softmax(logits, dim=-1)\n",
    "            predicted = predicted[:, :1]\n",
    "            labels = batch['labels']\n",
    "            loss = criterion(labels, predicted, claim_mask)\n",
    "            train_loss += loss.detach().item()\n",
    "            loss = (loss / gradient_accumulation)\n",
    "        scaler.scale(loss).backward()\n",
    "        \n",
    "        if (step + 1) % gradient_accumulation == 0:\n",
    "            scaler.unscale_(optimizer)\n",
    "            torch.nn.utils.clip_grad_norm_(model.parameters(), 1e-1) #1e-2\n",
    "\n",
    "            scaler.step(optimizer)\n",
    "            scaler.update()\n",
    "            optimizer.step()\n",
    "            optimizer.zero_grad()\n",
    "\n",
    "    trace_train.append(train_loss / len(train_dataloader))\n",
    "    # validation\n",
    "    with torch.no_grad():\n",
    "        val_loss, report = evaluate(verification_model, dev_dataloader, criterion)\n",
    "        trace_val.append(val_loss)\n",
    "        print(\n",
    "            f'Epoch {epoch + 1}/{num_epochs}, Training Loss: {(train_loss / len(train_dataloader)):.4f}, Validation Loss: {val_loss:.4f}')\n",
    "        print(report)\n",
    "        wandb.log({\"val_loss\": val_loss, \"train_loss\": train_loss / len(train_dataloader), \"report\": report})\n",
    "\n",
    "        if val_loss < best_loss:\n",
    "            best_loss = val_loss\n",
    "            best_epoch = epoch\n",
    "            best_state = {key: value.cpu() for key, value in\n",
    "                          verification_model.state_dict().items()}\n",
    "            verification_model.save(f'claim_verification_model_intermediate_{timestamp}_epoch{epoch}_{sentence_ordering}')\n",
    "        else:\n",
    "            if epoch >= best_epoch + patience:\n",
    "                break\n",
    "\n",
    "verification_model.load_state_dict(best_state)\n",
    "\n",
    "checkpoint = {\n",
    "    'model': verification_model.model.state_dict(),\n",
    "    'optimizer': optimizer.state_dict(),\n",
    "    'scaler': scaler.state_dict(),\n",
    "    'settings': settings,\n",
    "    'epoch': epoch\n",
    "}\n",
    "\n",
    "torch.save(checkpoint, f'claim_verification_done_{timestamp}_{sentence_ordering}')\n",
    "#wandb.save(f'claim_verification_done_{timestamp}')  # does not work in colab\n",
    "wandb.finish()\n",
    "\n",
    "plt.plot(trace_train, label='train')\n",
    "plt.plot(trace_val, label='validation')\n",
    "plt.xlabel('Epochs')\n",
    "plt.ylabel('Loss')\n",
    "plt.legend()\n",
    "plt.grid(True)"
   ],
   "id": "59b12a7086fa9ea2",
   "outputs": [
    {
     "name": "stderr",
     "output_type": "stream",
     "text": [
      "/Users/lukasellinger/anaconda3/envs/thesis/lib/python3.10/site-packages/torch/cuda/amp/grad_scaler.py:126: UserWarning: torch.cuda.amp.GradScaler is enabled, but CUDA is not available.  Disabling.\n",
      "  warnings.warn(\n",
      "Epoch 1 of 10 | Iteration:   0%|          | 0/5455 [00:00<?, ?it/s]/Users/lukasellinger/anaconda3/envs/thesis/lib/python3.10/site-packages/torch/amp/autocast_mode.py:250: UserWarning: User provided device_type of 'cuda', but CUDA is not available. Disabling\n",
      "  warnings.warn(\n"
     ]
    },
    {
     "name": "stdout",
     "output_type": "stream",
     "text": [
      "Train ...\n"
     ]
    },
    {
     "name": "stderr",
     "output_type": "stream",
     "text": [
      "Epoch 1 of 10 | Iteration:   0%|          | 0/5455 [04:09<?, ?it/s]\n",
      "\n",
      "KeyboardInterrupt\n",
      "\n"
     ]
    }
   ],
   "execution_count": 12
  },
  {
   "metadata": {
    "ExecuteTime": {
     "end_time": "2024-07-02T08:49:08.546626Z",
     "start_time": "2024-07-02T08:31:49.845183Z"
    }
   },
   "cell_type": "code",
   "source": [
    "criterion = AtomicFactsLoss() #BCELoss()\n",
    "val_loss, report = evaluate(verification_model, train_dataloader, criterion)\n",
    "print(val_loss)\n",
    "print(report)"
   ],
   "id": "f6d1a12394bdf75e",
   "outputs": [
    {
     "name": "stderr",
     "output_type": "stream",
     "text": [
      "  1%|          | 55/5455 [17:18<28:19:19, 18.88s/it]\n"
     ]
    },
    {
     "ename": "KeyboardInterrupt",
     "evalue": "",
     "output_type": "error",
     "traceback": [
      "\u001B[0;31m---------------------------------------------------------------------------\u001B[0m",
      "\u001B[0;31mKeyboardInterrupt\u001B[0m                         Traceback (most recent call last)",
      "Cell \u001B[0;32mIn[23], line 33\u001B[0m\n\u001B[1;32m     29\u001B[0m     \u001B[38;5;28;01mreturn\u001B[39;00m loss\u001B[38;5;241m.\u001B[39mitem(), classification_report(gt_labels, pr_labels)\n\u001B[1;32m     32\u001B[0m criterion \u001B[38;5;241m=\u001B[39m AtomicFactsLoss() \u001B[38;5;66;03m#BCELoss()\u001B[39;00m\n\u001B[0;32m---> 33\u001B[0m val_loss, report \u001B[38;5;241m=\u001B[39m \u001B[43mevaluate1\u001B[49m\u001B[43m(\u001B[49m\u001B[43mverification_model\u001B[49m\u001B[43m,\u001B[49m\u001B[43m \u001B[49m\u001B[43mtrain_dataloader\u001B[49m\u001B[43m,\u001B[49m\u001B[43m \u001B[49m\u001B[43mcriterion\u001B[49m\u001B[43m)\u001B[49m\n\u001B[1;32m     34\u001B[0m \u001B[38;5;28mprint\u001B[39m(val_loss)\n\u001B[1;32m     35\u001B[0m \u001B[38;5;28mprint\u001B[39m(report)\n",
      "Cell \u001B[0;32mIn[23], line 22\u001B[0m, in \u001B[0;36mevaluate1\u001B[0;34m(ev_model, dataloader, loss_function)\u001B[0m\n\u001B[1;32m     19\u001B[0m     a \u001B[38;5;241m=\u001B[39m (predicted\u001B[38;5;241m.\u001B[39munsqueeze(\u001B[38;5;241m0\u001B[39m) \u001B[38;5;241m*\u001B[39m claim_mask\u001B[38;5;241m.\u001B[39munsqueeze(\u001B[38;5;241m2\u001B[39m))\u001B[38;5;241m.\u001B[39msqueeze(\u001B[38;5;241m2\u001B[39m)\n\u001B[1;32m     20\u001B[0m     b \u001B[38;5;241m=\u001B[39m a\u001B[38;5;241m.\u001B[39mmasked_fill(torch\u001B[38;5;241m.\u001B[39meq(a, \u001B[38;5;241m0\u001B[39m), \u001B[38;5;241m1\u001B[39m)\n\u001B[0;32m---> 22\u001B[0m     predicted \u001B[38;5;241m=\u001B[39m \u001B[43mtorch\u001B[49m\u001B[38;5;241m.\u001B[39mall(b \u001B[38;5;241m>\u001B[39m \u001B[38;5;241m0\u001B[39m, dim\u001B[38;5;241m=\u001B[39m\u001B[38;5;241m1\u001B[39m)   \u001B[38;5;66;03m# predicted = supported - not supported value (no enough info is ignored. only incorporated in softmax)\u001B[39;00m\n\u001B[1;32m     24\u001B[0m gt_labels\u001B[38;5;241m.\u001B[39mextend(batch[\u001B[38;5;124m'\u001B[39m\u001B[38;5;124mlabels\u001B[39m\u001B[38;5;124m'\u001B[39m]\u001B[38;5;241m.\u001B[39mtolist())\n\u001B[1;32m     25\u001B[0m pr_labels\u001B[38;5;241m.\u001B[39mextend(predicted\u001B[38;5;241m.\u001B[39mtolist())\n",
      "Cell \u001B[0;32mIn[23], line 22\u001B[0m, in \u001B[0;36mevaluate1\u001B[0;34m(ev_model, dataloader, loss_function)\u001B[0m\n\u001B[1;32m     19\u001B[0m     a \u001B[38;5;241m=\u001B[39m (predicted\u001B[38;5;241m.\u001B[39munsqueeze(\u001B[38;5;241m0\u001B[39m) \u001B[38;5;241m*\u001B[39m claim_mask\u001B[38;5;241m.\u001B[39munsqueeze(\u001B[38;5;241m2\u001B[39m))\u001B[38;5;241m.\u001B[39msqueeze(\u001B[38;5;241m2\u001B[39m)\n\u001B[1;32m     20\u001B[0m     b \u001B[38;5;241m=\u001B[39m a\u001B[38;5;241m.\u001B[39mmasked_fill(torch\u001B[38;5;241m.\u001B[39meq(a, \u001B[38;5;241m0\u001B[39m), \u001B[38;5;241m1\u001B[39m)\n\u001B[0;32m---> 22\u001B[0m     predicted \u001B[38;5;241m=\u001B[39m \u001B[43mtorch\u001B[49m\u001B[38;5;241m.\u001B[39mall(b \u001B[38;5;241m>\u001B[39m \u001B[38;5;241m0\u001B[39m, dim\u001B[38;5;241m=\u001B[39m\u001B[38;5;241m1\u001B[39m)   \u001B[38;5;66;03m# predicted = supported - not supported value (no enough info is ignored. only incorporated in softmax)\u001B[39;00m\n\u001B[1;32m     24\u001B[0m gt_labels\u001B[38;5;241m.\u001B[39mextend(batch[\u001B[38;5;124m'\u001B[39m\u001B[38;5;124mlabels\u001B[39m\u001B[38;5;124m'\u001B[39m]\u001B[38;5;241m.\u001B[39mtolist())\n\u001B[1;32m     25\u001B[0m pr_labels\u001B[38;5;241m.\u001B[39mextend(predicted\u001B[38;5;241m.\u001B[39mtolist())\n",
      "File \u001B[0;32m_pydevd_bundle/pydevd_cython_darwin_310_64.pyx:1187\u001B[0m, in \u001B[0;36m_pydevd_bundle.pydevd_cython_darwin_310_64.SafeCallWrapper.__call__\u001B[0;34m()\u001B[0m\n",
      "File \u001B[0;32m_pydevd_bundle/pydevd_cython_darwin_310_64.pyx:627\u001B[0m, in \u001B[0;36m_pydevd_bundle.pydevd_cython_darwin_310_64.PyDBFrame.trace_dispatch\u001B[0;34m()\u001B[0m\n",
      "File \u001B[0;32m_pydevd_bundle/pydevd_cython_darwin_310_64.pyx:1103\u001B[0m, in \u001B[0;36m_pydevd_bundle.pydevd_cython_darwin_310_64.PyDBFrame.trace_dispatch\u001B[0;34m()\u001B[0m\n",
      "File \u001B[0;32m_pydevd_bundle/pydevd_cython_darwin_310_64.pyx:1061\u001B[0m, in \u001B[0;36m_pydevd_bundle.pydevd_cython_darwin_310_64.PyDBFrame.trace_dispatch\u001B[0;34m()\u001B[0m\n",
      "File \u001B[0;32m~/Applications/PyCharm Professional.app/Contents/plugins/python/helpers-pro/jupyter_debug/pydev_jupyter_plugin.py:169\u001B[0m, in \u001B[0;36mstop\u001B[0;34m(plugin, pydb, frame, event, args, stop_info, arg, step_cmd)\u001B[0m\n\u001B[1;32m    167\u001B[0m     frame \u001B[38;5;241m=\u001B[39m suspend_jupyter(main_debugger, thread, frame, step_cmd)\n\u001B[1;32m    168\u001B[0m     \u001B[38;5;28;01mif\u001B[39;00m frame:\n\u001B[0;32m--> 169\u001B[0m         \u001B[43mmain_debugger\u001B[49m\u001B[38;5;241;43m.\u001B[39;49m\u001B[43mdo_wait_suspend\u001B[49m\u001B[43m(\u001B[49m\u001B[43mthread\u001B[49m\u001B[43m,\u001B[49m\u001B[43m \u001B[49m\u001B[43mframe\u001B[49m\u001B[43m,\u001B[49m\u001B[43m \u001B[49m\u001B[43mevent\u001B[49m\u001B[43m,\u001B[49m\u001B[43m \u001B[49m\u001B[43marg\u001B[49m\u001B[43m)\u001B[49m\n\u001B[1;32m    170\u001B[0m         \u001B[38;5;28;01mreturn\u001B[39;00m \u001B[38;5;28;01mTrue\u001B[39;00m\n\u001B[1;32m    171\u001B[0m \u001B[38;5;28;01mreturn\u001B[39;00m \u001B[38;5;28;01mFalse\u001B[39;00m\n",
      "File \u001B[0;32m~/Applications/PyCharm Professional.app/Contents/plugins/python/helpers/pydev/pydevd.py:1185\u001B[0m, in \u001B[0;36mPyDB.do_wait_suspend\u001B[0;34m(self, thread, frame, event, arg, send_suspend_message, is_unhandled_exception)\u001B[0m\n\u001B[1;32m   1182\u001B[0m         from_this_thread\u001B[38;5;241m.\u001B[39mappend(frame_id)\n\u001B[1;32m   1184\u001B[0m \u001B[38;5;28;01mwith\u001B[39;00m \u001B[38;5;28mself\u001B[39m\u001B[38;5;241m.\u001B[39m_threads_suspended_single_notification\u001B[38;5;241m.\u001B[39mnotify_thread_suspended(thread_id, stop_reason):\n\u001B[0;32m-> 1185\u001B[0m     \u001B[38;5;28;43mself\u001B[39;49m\u001B[38;5;241;43m.\u001B[39;49m\u001B[43m_do_wait_suspend\u001B[49m\u001B[43m(\u001B[49m\u001B[43mthread\u001B[49m\u001B[43m,\u001B[49m\u001B[43m \u001B[49m\u001B[43mframe\u001B[49m\u001B[43m,\u001B[49m\u001B[43m \u001B[49m\u001B[43mevent\u001B[49m\u001B[43m,\u001B[49m\u001B[43m \u001B[49m\u001B[43marg\u001B[49m\u001B[43m,\u001B[49m\u001B[43m \u001B[49m\u001B[43msuspend_type\u001B[49m\u001B[43m,\u001B[49m\u001B[43m \u001B[49m\u001B[43mfrom_this_thread\u001B[49m\u001B[43m)\u001B[49m\n",
      "File \u001B[0;32m~/Applications/PyCharm Professional.app/Contents/plugins/python/helpers/pydev/pydevd.py:1200\u001B[0m, in \u001B[0;36mPyDB._do_wait_suspend\u001B[0;34m(self, thread, frame, event, arg, suspend_type, from_this_thread)\u001B[0m\n\u001B[1;32m   1197\u001B[0m             \u001B[38;5;28mself\u001B[39m\u001B[38;5;241m.\u001B[39m_call_mpl_hook()\n\u001B[1;32m   1199\u001B[0m         \u001B[38;5;28mself\u001B[39m\u001B[38;5;241m.\u001B[39mprocess_internal_commands()\n\u001B[0;32m-> 1200\u001B[0m         \u001B[43mtime\u001B[49m\u001B[38;5;241;43m.\u001B[39;49m\u001B[43msleep\u001B[49m\u001B[43m(\u001B[49m\u001B[38;5;241;43m0.01\u001B[39;49m\u001B[43m)\u001B[49m\n\u001B[1;32m   1202\u001B[0m \u001B[38;5;28mself\u001B[39m\u001B[38;5;241m.\u001B[39mcancel_async_evaluation(get_current_thread_id(thread), \u001B[38;5;28mstr\u001B[39m(\u001B[38;5;28mid\u001B[39m(frame)))\n\u001B[1;32m   1204\u001B[0m \u001B[38;5;66;03m# process any stepping instructions\u001B[39;00m\n",
      "\u001B[0;31mKeyboardInterrupt\u001B[0m: "
     ]
    }
   ],
   "execution_count": 56
  },
  {
   "metadata": {},
   "cell_type": "code",
   "outputs": [],
   "execution_count": null,
   "source": [
    "test_dataset = DefinitionDataset(dataset['test'], tokenizer, mode='train', model='evidence_selection')\n",
    "test_dataloader = DataLoader(test_dataset, shuffle=True, collate_fn=test_dataset.collate_fn, batch_size=10)\n",
    "\n",
    "test_loss, report = evaluate(model, test_dataloader)\n",
    "print(test_loss)\n",
    "print(report)"
   ],
   "id": "8c36f6a01da49e7e"
  }
 ],
 "metadata": {
  "kernelspec": {
   "display_name": "Python 3",
   "language": "python",
   "name": "python3"
  },
  "language_info": {
   "codemirror_mode": {
    "name": "ipython",
    "version": 2
   },
   "file_extension": ".py",
   "mimetype": "text/x-python",
   "name": "python",
   "nbconvert_exporter": "python",
   "pygments_lexer": "ipython2",
   "version": "2.7.6"
  }
 },
 "nbformat": 4,
 "nbformat_minor": 5
}
