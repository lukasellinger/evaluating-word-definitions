{
 "cells": [
  {
   "cell_type": "code",
   "execution_count": null,
   "id": "initial_id",
   "metadata": {
    "collapsed": true
   },
   "outputs": [],
   "source": [
    "from google.colab import drive\n",
    "\n",
    "drive.mount('/content/drive', force_remount=True)\n",
    "repository = 'evaluating_factuality_word_definitions'\n",
    "\n",
    "%cd /content/drive/My Drive/{repository}"
   ]
  },
  {
   "metadata": {},
   "cell_type": "code",
   "outputs": [],
   "execution_count": null,
   "source": [
    "!pip install datasets\n",
    "!pip install einops\n",
    "!pip install rank_bm25"
   ],
   "id": "bce19b5b9a8b0737"
  },
  {
   "metadata": {
    "ExecuteTime": {
     "end_time": "2024-05-28T11:47:44.612749Z",
     "start_time": "2024-05-28T11:47:37.826304Z"
    }
   },
   "cell_type": "code",
   "source": [
    "import gc\n",
    "import torch\n",
    "from models.claim_verification_model import ClaimVerificationModel\n",
    "from transformers import AutoModelForSequenceClassification, AutoTokenizer\n",
    "from torch.utils.data import DataLoader\n",
    "from losses.atomic_fact_loss import AtomicFactsLoss\n",
    "from config import DB_URL\n",
    "from datasets import Dataset\n",
    "from dataset.def_dataset import DefinitionDataset\n",
    "from matplotlib import pyplot as plt\n",
    "from tqdm import tqdm\n",
    "import numpy as np\n",
    "from torch.cuda.amp import GradScaler, autocast\n",
    "from datetime import datetime\n",
    "from torch import optim\n",
    "from torch.nn import BCELoss\n",
    "from sklearn.metrics import classification_report"
   ],
   "id": "d91fa86757e3b76a",
   "outputs": [],
   "execution_count": 2
  },
  {
   "metadata": {},
   "cell_type": "markdown",
   "source": "# Evaluation",
   "id": "58b42e563923820d"
  },
  {
   "metadata": {
    "ExecuteTime": {
     "end_time": "2024-05-28T11:47:44.624731Z",
     "start_time": "2024-05-28T11:47:44.615475Z"
    }
   },
   "cell_type": "code",
   "source": [
    "def evaluate(ev_model, dataloader, loss_function):\n",
    "    gt_labels = []\n",
    "    pr_labels = []\n",
    "    all_loss = []\n",
    "\n",
    "    for batch in tqdm(dataloader):\n",
    "        ev_model.eval()\n",
    "        model_input = batch['model_input']\n",
    "        claim_mask = model_input.get('claim_mask')\n",
    "        with torch.no_grad():\n",
    "            logits = ev_model(input_ids=model_input['input_ids'], \n",
    "                              attention_mask=model_input['attention_mask'])['logits']\n",
    "            predicted = torch.softmax(logits, dim=-1)\n",
    "            predicted = predicted[:, :1]\n",
    "            labels = batch['labels']\n",
    "            loss = loss_function(labels, predicted, claim_mask)\n",
    "            \n",
    "            a = (predicted.unsqueeze(0) * claim_mask.unsqueeze(2)).squeeze(2)\n",
    "            b = a.masked_fill(torch.eq(a, 0), 1)\n",
    "            \n",
    "            predicted = torch.all(b > 0.5, dim=1)\n",
    "            \n",
    "        gt_labels.extend(batch['labels'].tolist())\n",
    "        pr_labels.extend(predicted.tolist())\n",
    "        all_loss.append(loss)\n",
    "\n",
    "    loss = sum(all_loss) / len(all_loss)\n",
    "    return loss.item(), classification_report(gt_labels, pr_labels)"
   ],
   "id": "fa747ee21c6ce421",
   "outputs": [],
   "execution_count": 3
  },
  {
   "metadata": {},
   "cell_type": "markdown",
   "source": "# Training",
   "id": "74e5aab422c5376b"
  },
  {
   "metadata": {
    "ExecuteTime": {
     "end_time": "2024-05-28T11:47:44.760869Z",
     "start_time": "2024-05-28T11:47:44.627498Z"
    }
   },
   "cell_type": "code",
   "source": [
    "torch.cuda.empty_cache()\n",
    "gc.collect()"
   ],
   "id": "df6cefb38921ddcb",
   "outputs": [
    {
     "data": {
      "text/plain": [
       "0"
      ]
     },
     "execution_count": 4,
     "metadata": {},
     "output_type": "execute_result"
    }
   ],
   "execution_count": 4
  },
  {
   "metadata": {
    "ExecuteTime": {
     "end_time": "2024-05-28T11:47:51.202090Z",
     "start_time": "2024-05-28T11:47:44.764634Z"
    }
   },
   "cell_type": "code",
   "source": [
    "device = \"cuda\" if torch.cuda.is_available() else \"cpu\"\n",
    "\n",
    "model_name = \"MoritzLaurer/mDeBERTa-v3-base-xnli-multilingual-nli-2mil7\"\n",
    "tokenizer = AutoTokenizer.from_pretrained(model_name)\n",
    "model = AutoModelForSequenceClassification.from_pretrained(model_name)\n",
    "\n",
    "verification_model = ClaimVerificationModel(model).to(device)"
   ],
   "id": "a41eea9b0aade39a",
   "outputs": [],
   "execution_count": 5
  },
  {
   "metadata": {
    "ExecuteTime": {
     "end_time": "2024-05-28T11:48:04.756526Z",
     "start_time": "2024-05-28T11:47:51.205462Z"
    }
   },
   "cell_type": "code",
   "source": [
    "from datasets import load_dataset\n",
    "\n",
    "dataset = load_dataset(\"lukasellinger/claim_verification_atomic-v1\")\n",
    "\n",
    "train_dataset = DefinitionDataset(dataset['train'], tokenizer, mode='train', model='claim_verification')\n",
    "train_dataloader = DataLoader(train_dataset, shuffle=True,\n",
    "                              collate_fn=train_dataset.collate_fn,\n",
    "                              batch_size=4)\n",
    "dev_dataset = DefinitionDataset(dataset['dev'], tokenizer, mode='train', model='claim_verification')\n",
    "dev_dataloader = DataLoader(dev_dataset, shuffle=True,\n",
    "                            collate_fn=dev_dataset.collate_fn,\n",
    "                            batch_size=4)"
   ],
   "id": "11f2f81eef1f7d8b",
   "outputs": [
    {
     "data": {
      "text/plain": [
       "Downloading readme:   0%|          | 0.00/727 [00:00<?, ?B/s]"
      ],
      "application/vnd.jupyter.widget-view+json": {
       "version_major": 2,
       "version_minor": 0,
       "model_id": "6f8f9e2f493d44229b0588292be34e9b"
      }
     },
     "metadata": {},
     "output_type": "display_data"
    },
    {
     "name": "stderr",
     "output_type": "stream",
     "text": [
      "Downloading data: 100%|██████████| 14.5M/14.5M [00:02<00:00, 5.61MB/s]\n",
      "Downloading data: 100%|██████████| 436k/436k [00:00<00:00, 1.20MB/s]\n",
      "Downloading data: 100%|██████████| 460k/460k [00:00<00:00, 1.27MB/s]\n"
     ]
    },
    {
     "data": {
      "text/plain": [
       "Generating train split:   0%|          | 0/11680 [00:00<?, ? examples/s]"
      ],
      "application/vnd.jupyter.widget-view+json": {
       "version_major": 2,
       "version_minor": 0,
       "model_id": "ed622288b88c42cbba840d500c461c13"
      }
     },
     "metadata": {},
     "output_type": "display_data"
    },
    {
     "data": {
      "text/plain": [
       "Generating dev split:   0%|          | 0/976 [00:00<?, ? examples/s]"
      ],
      "application/vnd.jupyter.widget-view+json": {
       "version_major": 2,
       "version_minor": 0,
       "model_id": "3f3c2222b55142bea852d02c59f9cb2a"
      }
     },
     "metadata": {},
     "output_type": "display_data"
    },
    {
     "data": {
      "text/plain": [
       "Generating test split:   0%|          | 0/898 [00:00<?, ? examples/s]"
      ],
      "application/vnd.jupyter.widget-view+json": {
       "version_major": 2,
       "version_minor": 0,
       "model_id": "04e1ddb49ae64b8ba28f77643d13b5fc"
      }
     },
     "metadata": {},
     "output_type": "display_data"
    },
    {
     "data": {
      "text/plain": [
       "Filter:   0%|          | 0/11680 [00:00<?, ? examples/s]"
      ],
      "application/vnd.jupyter.widget-view+json": {
       "version_major": 2,
       "version_minor": 0,
       "model_id": "0184f76c2d8a4e438bb5706aa44eb5bf"
      }
     },
     "metadata": {},
     "output_type": "display_data"
    },
    {
     "data": {
      "text/plain": [
       "Filter:   0%|          | 0/976 [00:00<?, ? examples/s]"
      ],
      "application/vnd.jupyter.widget-view+json": {
       "version_major": 2,
       "version_minor": 0,
       "model_id": "3f8d556956e1448583a58c92234b374a"
      }
     },
     "metadata": {},
     "output_type": "display_data"
    }
   ],
   "execution_count": 6
  },
  {
   "metadata": {
    "ExecuteTime": {
     "end_time": "2024-05-28T11:48:04.764982Z",
     "start_time": "2024-05-28T11:48:04.758648Z"
    }
   },
   "cell_type": "code",
   "source": "len(train_dataloader)",
   "id": "86b058fd84c23839",
   "outputs": [
    {
     "data": {
      "text/plain": [
       "2920"
      ]
     },
     "execution_count": 7,
     "metadata": {},
     "output_type": "execute_result"
    }
   ],
   "execution_count": 7
  },
  {
   "metadata": {},
   "cell_type": "markdown",
   "source": "## Gradient Accumulation",
   "id": "c51cb8a77b558076"
  },
  {
   "metadata": {},
   "cell_type": "markdown",
   "source": "### AtomicFacts-Loss",
   "id": "34f5bbcd9652f997"
  },
  {
   "metadata": {},
   "cell_type": "markdown",
   "source": "As we are combining REFUTES and NOT ENOUGH INFO into one Label 'NOT VERIFIABLE WRT KNOWLEDGE BASE' we can use Binary Cross Entropy Loss",
   "id": "7714f5d3236ef6a8"
  },
  {
   "metadata": {
    "ExecuteTime": {
     "end_time": "2024-05-28T12:22:18.665160Z",
     "start_time": "2024-05-28T11:48:29.242660Z"
    }
   },
   "cell_type": "code",
   "source": [
    "optimizer = optim.AdamW(verification_model.parameters(), lr=1e-7)\n",
    "criterion = AtomicFactsLoss() #BCELoss()\n",
    "\n",
    "timestamp = datetime.now().strftime(\"%m-%d_%H-%M\")\n",
    "\n",
    "num_epochs = 10 \n",
    "patience = 3   \n",
    "gradient_accumulation = 64\n",
    "trace_train = []\n",
    "trace_val = []\n",
    "\n",
    "verification_model.zero_grad()\n",
    "use_amp = True\n",
    "scaler = GradScaler(enabled=use_amp, init_scale=1)\n",
    "\n",
    "#checkpoint = torch.load(f'training_05-15_15-55')\n",
    "#optimizer.load_state_dict(checkpoint['optimizer'])\n",
    "#scaler.load_state_dict(checkpoint['scaler'])\n",
    "\n",
    "best_loss = np.inf\n",
    "for epoch in range(num_epochs):\n",
    "    bar_desc = \"Epoch %d of %d | Iteration\" % (epoch + 1, num_epochs)\n",
    "    train_iterator = tqdm(train_dataloader, desc=bar_desc)\n",
    "\n",
    "    train_loss = 0\n",
    "    print('Train ...')\n",
    "    for step, batch in enumerate(train_iterator):\n",
    "        verification_model.train()\n",
    "        model_input = batch[\"model_input\"]\n",
    "        claim_mask = model_input.get('claim_mask')\n",
    "\n",
    "        with autocast():\n",
    "            logits = verification_model(input_ids=model_input['input_ids'], \n",
    "                                        attention_mask=model_input['attention_mask'])['logits']\n",
    "            predicted = torch.softmax(logits, dim=-1)\n",
    "            #predicted[:, 1] += predicted[:, 2]\n",
    "            predicted = predicted[:, :1]\n",
    "            labels = batch['labels']\n",
    "            #labels_one_hot = torch.zeros_like(predicted)\n",
    "            #labels_one_hot.scatter_(1, batch['labels'].unsqueeze(1), 1)\n",
    "            loss = criterion(labels, predicted, claim_mask)\n",
    "            train_loss += loss.detach().item()\n",
    "            loss = (loss / gradient_accumulation)\n",
    "        scaler.scale(loss).backward()\n",
    "        \n",
    "        total_norm = 0\n",
    "        for name, param in verification_model.named_parameters():\n",
    "            if param.grad is not None:\n",
    "                param_norm = param.grad.data.norm(2)\n",
    "                total_norm += param_norm.item() ** 2\n",
    "        total_norm = total_norm ** (1 / 2)\n",
    "        print(total_norm)\n",
    "\n",
    "        if (step + 1) % gradient_accumulation == 0:\n",
    "            scaler.unscale_(optimizer)\n",
    "            torch.nn.utils.clip_grad_norm_(model.parameters(), 1e-1) #1e-2\n",
    "\n",
    "            scaler.step(optimizer)\n",
    "            scaler.update()\n",
    "            optimizer.step()\n",
    "            optimizer.zero_grad()\n",
    "\n",
    "    trace_train.append(train_loss / len(train_dataloader))\n",
    "    # validation\n",
    "    with torch.no_grad():\n",
    "        val_loss, report = evaluate(verification_model, dev_dataloader, criterion)\n",
    "        trace_val.append(val_loss)\n",
    "        print(\n",
    "            f'Epoch {epoch + 1}/{num_epochs}, Training Loss: {(train_loss / len(train_dataloader)):.4f}, Validation Loss: {val_loss:.4f}')\n",
    "        print(report)\n",
    "\n",
    "        if val_loss < best_loss:\n",
    "            best_loss = val_loss\n",
    "            best_epoch = epoch\n",
    "            best_state = {key: value.cpu() for key, value in\n",
    "                          verification_model.state_dict().items()}\n",
    "            verification_model.save(f'verification_model_intermediate_{timestamp}')\n",
    "            torch.save({\n",
    "                'optimizer': optimizer.state_dict(),\n",
    "                'scaler': scaler.state_dict()}, f'training_{timestamp}')\n",
    "        else:\n",
    "            if epoch >= best_epoch + patience:\n",
    "                break\n",
    "\n",
    "        if val_loss < best_loss:\n",
    "            best_loss = val_loss\n",
    "            best_epoch = epoch\n",
    "            best_state.clear() \n",
    "            for key, value in verification_model.state_dict().items():\n",
    "                best_state[key].copy_(value.cpu())\n",
    "            verification_model.save(f'selection_model_intermediate_{timestamp}')\n",
    "        else:\n",
    "            if epoch >= best_epoch + patience:\n",
    "                break\n",
    "\n",
    "verification_model.load_state_dict(best_state)\n",
    "verification_model.save(f'selection_model_{timestamp}')\n",
    "torch.save({'optimizer': optimizer.state_dict(),\n",
    "            'scaler': scaler.state_dict()}, f'training_{timestamp}')\n",
    "\n",
    "plt.plot(trace_train, label='train')\n",
    "plt.plot(trace_val, label='validation')\n",
    "plt.xlabel('Epochs')\n",
    "plt.ylabel('Loss')\n",
    "plt.legend()\n",
    "plt.grid(True)"
   ],
   "id": "59b12a7086fa9ea2",
   "outputs": [
    {
     "name": "stderr",
     "output_type": "stream",
     "text": [
      "/Users/lukasellinger/anaconda3/envs/thesis/lib/python3.10/site-packages/torch/cuda/amp/grad_scaler.py:126: UserWarning: torch.cuda.amp.GradScaler is enabled, but CUDA is not available.  Disabling.\n",
      "  warnings.warn(\n",
      "Epoch 1 of 10 | Iteration:   0%|          | 0/2920 [00:00<?, ?it/s]/Users/lukasellinger/anaconda3/envs/thesis/lib/python3.10/site-packages/torch/amp/autocast_mode.py:250: UserWarning: User provided device_type of 'cuda', but CUDA is not available. Disabling\n",
      "  warnings.warn(\n"
     ]
    },
    {
     "name": "stdout",
     "output_type": "stream",
     "text": [
      "Train ...\n"
     ]
    },
    {
     "name": "stderr",
     "output_type": "stream",
     "text": [
      "Epoch 1 of 10 | Iteration:   0%|          | 0/2920 [33:48<?, ?it/s]\n"
     ]
    },
    {
     "ename": "KeyboardInterrupt",
     "evalue": "",
     "output_type": "error",
     "traceback": [
      "\u001B[0;31m---------------------------------------------------------------------------\u001B[0m",
      "\u001B[0;31mKeyboardInterrupt\u001B[0m                         Traceback (most recent call last)",
      "Cell \u001B[0;32mIn[8], line 41\u001B[0m\n\u001B[1;32m     38\u001B[0m labels \u001B[38;5;241m=\u001B[39m batch[\u001B[38;5;124m'\u001B[39m\u001B[38;5;124mlabels\u001B[39m\u001B[38;5;124m'\u001B[39m]\n\u001B[1;32m     39\u001B[0m \u001B[38;5;66;03m#labels_one_hot = torch.zeros_like(predicted)\u001B[39;00m\n\u001B[1;32m     40\u001B[0m \u001B[38;5;66;03m#labels_one_hot.scatter_(1, batch['labels'].unsqueeze(1), 1)\u001B[39;00m\n\u001B[0;32m---> 41\u001B[0m loss \u001B[38;5;241m=\u001B[39m \u001B[43mcriterion\u001B[49m\u001B[43m(\u001B[49m\u001B[43mlabels\u001B[49m\u001B[43m,\u001B[49m\u001B[43m \u001B[49m\u001B[43mpredicted\u001B[49m\u001B[43m,\u001B[49m\u001B[43m \u001B[49m\u001B[43mclaim_mask\u001B[49m\u001B[43m)\u001B[49m\n\u001B[1;32m     42\u001B[0m train_loss \u001B[38;5;241m+\u001B[39m\u001B[38;5;241m=\u001B[39m loss\u001B[38;5;241m.\u001B[39mdetach()\u001B[38;5;241m.\u001B[39mitem()\n\u001B[1;32m     43\u001B[0m loss \u001B[38;5;241m=\u001B[39m (loss \u001B[38;5;241m/\u001B[39m gradient_accumulation)\n",
      "File \u001B[0;32m~/anaconda3/envs/thesis/lib/python3.10/site-packages/torch/nn/modules/module.py:1511\u001B[0m, in \u001B[0;36mModule._wrapped_call_impl\u001B[0;34m(self, *args, **kwargs)\u001B[0m\n\u001B[1;32m   1509\u001B[0m     \u001B[38;5;28;01mreturn\u001B[39;00m \u001B[38;5;28mself\u001B[39m\u001B[38;5;241m.\u001B[39m_compiled_call_impl(\u001B[38;5;241m*\u001B[39margs, \u001B[38;5;241m*\u001B[39m\u001B[38;5;241m*\u001B[39mkwargs)  \u001B[38;5;66;03m# type: ignore[misc]\u001B[39;00m\n\u001B[1;32m   1510\u001B[0m \u001B[38;5;28;01melse\u001B[39;00m:\n\u001B[0;32m-> 1511\u001B[0m     \u001B[38;5;28;01mreturn\u001B[39;00m \u001B[38;5;28;43mself\u001B[39;49m\u001B[38;5;241;43m.\u001B[39;49m\u001B[43m_call_impl\u001B[49m\u001B[43m(\u001B[49m\u001B[38;5;241;43m*\u001B[39;49m\u001B[43margs\u001B[49m\u001B[43m,\u001B[49m\u001B[43m \u001B[49m\u001B[38;5;241;43m*\u001B[39;49m\u001B[38;5;241;43m*\u001B[39;49m\u001B[43mkwargs\u001B[49m\u001B[43m)\u001B[49m\n",
      "File \u001B[0;32m~/anaconda3/envs/thesis/lib/python3.10/site-packages/torch/nn/modules/module.py:1520\u001B[0m, in \u001B[0;36mModule._call_impl\u001B[0;34m(self, *args, **kwargs)\u001B[0m\n\u001B[1;32m   1515\u001B[0m \u001B[38;5;66;03m# If we don't have any hooks, we want to skip the rest of the logic in\u001B[39;00m\n\u001B[1;32m   1516\u001B[0m \u001B[38;5;66;03m# this function, and just call forward.\u001B[39;00m\n\u001B[1;32m   1517\u001B[0m \u001B[38;5;28;01mif\u001B[39;00m \u001B[38;5;129;01mnot\u001B[39;00m (\u001B[38;5;28mself\u001B[39m\u001B[38;5;241m.\u001B[39m_backward_hooks \u001B[38;5;129;01mor\u001B[39;00m \u001B[38;5;28mself\u001B[39m\u001B[38;5;241m.\u001B[39m_backward_pre_hooks \u001B[38;5;129;01mor\u001B[39;00m \u001B[38;5;28mself\u001B[39m\u001B[38;5;241m.\u001B[39m_forward_hooks \u001B[38;5;129;01mor\u001B[39;00m \u001B[38;5;28mself\u001B[39m\u001B[38;5;241m.\u001B[39m_forward_pre_hooks\n\u001B[1;32m   1518\u001B[0m         \u001B[38;5;129;01mor\u001B[39;00m _global_backward_pre_hooks \u001B[38;5;129;01mor\u001B[39;00m _global_backward_hooks\n\u001B[1;32m   1519\u001B[0m         \u001B[38;5;129;01mor\u001B[39;00m _global_forward_hooks \u001B[38;5;129;01mor\u001B[39;00m _global_forward_pre_hooks):\n\u001B[0;32m-> 1520\u001B[0m     \u001B[38;5;28;01mreturn\u001B[39;00m \u001B[43mforward_call\u001B[49m\u001B[43m(\u001B[49m\u001B[38;5;241;43m*\u001B[39;49m\u001B[43margs\u001B[49m\u001B[43m,\u001B[49m\u001B[43m \u001B[49m\u001B[38;5;241;43m*\u001B[39;49m\u001B[38;5;241;43m*\u001B[39;49m\u001B[43mkwargs\u001B[49m\u001B[43m)\u001B[49m\n\u001B[1;32m   1522\u001B[0m \u001B[38;5;28;01mtry\u001B[39;00m:\n\u001B[1;32m   1523\u001B[0m     result \u001B[38;5;241m=\u001B[39m \u001B[38;5;28;01mNone\u001B[39;00m\n",
      "File \u001B[0;32m~/PycharmProjects/evaluating_factuality_word_definitions/losses/atomic_fact_loss.py:23\u001B[0m, in \u001B[0;36mAtomicFactsLoss.forward\u001B[0;34m(self, y, atomic_preds, claim_mask)\u001B[0m\n\u001B[1;32m     21\u001B[0m \u001B[38;5;66;03m#loss_true = -torch.log(b)\u001B[39;00m\n\u001B[1;32m     22\u001B[0m loss_true \u001B[38;5;241m=\u001B[39m torch\u001B[38;5;241m.\u001B[39mrelu(\u001B[38;5;28mself\u001B[39m\u001B[38;5;241m.\u001B[39mdelta \u001B[38;5;241m-\u001B[39m b)\n\u001B[0;32m---> 23\u001B[0m loss_true \u001B[38;5;241m=\u001B[39m loss_true\u001B[38;5;241m.\u001B[39msum(dim\u001B[38;5;241m=\u001B[39m\u001B[38;5;241m1\u001B[39m) \u001B[38;5;241m*\u001B[39m atomic_facts_count \u001B[38;5;66;03m# / atomic_facts_count\u001B[39;00m\n\u001B[1;32m     24\u001B[0m \u001B[38;5;66;03m#mean_loss_true = loss_true.sum() / labels.sum()\u001B[39;00m\n\u001B[1;32m     25\u001B[0m \n\u001B[1;32m     26\u001B[0m \u001B[38;5;66;03m# Loss for false facts\u001B[39;00m\n\u001B[1;32m     27\u001B[0m min_atomic_preds \u001B[38;5;241m=\u001B[39m b\u001B[38;5;241m.\u001B[39mmin(dim\u001B[38;5;241m=\u001B[39m\u001B[38;5;241m1\u001B[39m)[\u001B[38;5;241m0\u001B[39m]\n",
      "File \u001B[0;32m~/PycharmProjects/evaluating_factuality_word_definitions/losses/atomic_fact_loss.py:23\u001B[0m, in \u001B[0;36mAtomicFactsLoss.forward\u001B[0;34m(self, y, atomic_preds, claim_mask)\u001B[0m\n\u001B[1;32m     21\u001B[0m \u001B[38;5;66;03m#loss_true = -torch.log(b)\u001B[39;00m\n\u001B[1;32m     22\u001B[0m loss_true \u001B[38;5;241m=\u001B[39m torch\u001B[38;5;241m.\u001B[39mrelu(\u001B[38;5;28mself\u001B[39m\u001B[38;5;241m.\u001B[39mdelta \u001B[38;5;241m-\u001B[39m b)\n\u001B[0;32m---> 23\u001B[0m loss_true \u001B[38;5;241m=\u001B[39m loss_true\u001B[38;5;241m.\u001B[39msum(dim\u001B[38;5;241m=\u001B[39m\u001B[38;5;241m1\u001B[39m) \u001B[38;5;241m*\u001B[39m atomic_facts_count \u001B[38;5;66;03m# / atomic_facts_count\u001B[39;00m\n\u001B[1;32m     24\u001B[0m \u001B[38;5;66;03m#mean_loss_true = loss_true.sum() / labels.sum()\u001B[39;00m\n\u001B[1;32m     25\u001B[0m \n\u001B[1;32m     26\u001B[0m \u001B[38;5;66;03m# Loss for false facts\u001B[39;00m\n\u001B[1;32m     27\u001B[0m min_atomic_preds \u001B[38;5;241m=\u001B[39m b\u001B[38;5;241m.\u001B[39mmin(dim\u001B[38;5;241m=\u001B[39m\u001B[38;5;241m1\u001B[39m)[\u001B[38;5;241m0\u001B[39m]\n",
      "File \u001B[0;32m_pydevd_bundle/pydevd_cython_darwin_310_64.pyx:1187\u001B[0m, in \u001B[0;36m_pydevd_bundle.pydevd_cython_darwin_310_64.SafeCallWrapper.__call__\u001B[0;34m()\u001B[0m\n",
      "File \u001B[0;32m_pydevd_bundle/pydevd_cython_darwin_310_64.pyx:627\u001B[0m, in \u001B[0;36m_pydevd_bundle.pydevd_cython_darwin_310_64.PyDBFrame.trace_dispatch\u001B[0;34m()\u001B[0m\n",
      "File \u001B[0;32m_pydevd_bundle/pydevd_cython_darwin_310_64.pyx:937\u001B[0m, in \u001B[0;36m_pydevd_bundle.pydevd_cython_darwin_310_64.PyDBFrame.trace_dispatch\u001B[0;34m()\u001B[0m\n",
      "File \u001B[0;32m_pydevd_bundle/pydevd_cython_darwin_310_64.pyx:928\u001B[0m, in \u001B[0;36m_pydevd_bundle.pydevd_cython_darwin_310_64.PyDBFrame.trace_dispatch\u001B[0;34m()\u001B[0m\n",
      "File \u001B[0;32m_pydevd_bundle/pydevd_cython_darwin_310_64.pyx:585\u001B[0m, in \u001B[0;36m_pydevd_bundle.pydevd_cython_darwin_310_64.PyDBFrame.do_wait_suspend\u001B[0;34m()\u001B[0m\n",
      "File \u001B[0;32m~/Applications/PyCharm Professional.app/Contents/plugins/python/helpers/pydev/pydevd.py:1185\u001B[0m, in \u001B[0;36mPyDB.do_wait_suspend\u001B[0;34m(self, thread, frame, event, arg, send_suspend_message, is_unhandled_exception)\u001B[0m\n\u001B[1;32m   1182\u001B[0m         from_this_thread\u001B[38;5;241m.\u001B[39mappend(frame_id)\n\u001B[1;32m   1184\u001B[0m \u001B[38;5;28;01mwith\u001B[39;00m \u001B[38;5;28mself\u001B[39m\u001B[38;5;241m.\u001B[39m_threads_suspended_single_notification\u001B[38;5;241m.\u001B[39mnotify_thread_suspended(thread_id, stop_reason):\n\u001B[0;32m-> 1185\u001B[0m     \u001B[38;5;28;43mself\u001B[39;49m\u001B[38;5;241;43m.\u001B[39;49m\u001B[43m_do_wait_suspend\u001B[49m\u001B[43m(\u001B[49m\u001B[43mthread\u001B[49m\u001B[43m,\u001B[49m\u001B[43m \u001B[49m\u001B[43mframe\u001B[49m\u001B[43m,\u001B[49m\u001B[43m \u001B[49m\u001B[43mevent\u001B[49m\u001B[43m,\u001B[49m\u001B[43m \u001B[49m\u001B[43marg\u001B[49m\u001B[43m,\u001B[49m\u001B[43m \u001B[49m\u001B[43msuspend_type\u001B[49m\u001B[43m,\u001B[49m\u001B[43m \u001B[49m\u001B[43mfrom_this_thread\u001B[49m\u001B[43m)\u001B[49m\n",
      "File \u001B[0;32m~/Applications/PyCharm Professional.app/Contents/plugins/python/helpers/pydev/pydevd.py:1200\u001B[0m, in \u001B[0;36mPyDB._do_wait_suspend\u001B[0;34m(self, thread, frame, event, arg, suspend_type, from_this_thread)\u001B[0m\n\u001B[1;32m   1197\u001B[0m             \u001B[38;5;28mself\u001B[39m\u001B[38;5;241m.\u001B[39m_call_mpl_hook()\n\u001B[1;32m   1199\u001B[0m         \u001B[38;5;28mself\u001B[39m\u001B[38;5;241m.\u001B[39mprocess_internal_commands()\n\u001B[0;32m-> 1200\u001B[0m         \u001B[43mtime\u001B[49m\u001B[38;5;241;43m.\u001B[39;49m\u001B[43msleep\u001B[49m\u001B[43m(\u001B[49m\u001B[38;5;241;43m0.01\u001B[39;49m\u001B[43m)\u001B[49m\n\u001B[1;32m   1202\u001B[0m \u001B[38;5;28mself\u001B[39m\u001B[38;5;241m.\u001B[39mcancel_async_evaluation(get_current_thread_id(thread), \u001B[38;5;28mstr\u001B[39m(\u001B[38;5;28mid\u001B[39m(frame)))\n\u001B[1;32m   1204\u001B[0m \u001B[38;5;66;03m# process any stepping instructions\u001B[39;00m\n",
      "\u001B[0;31mKeyboardInterrupt\u001B[0m: "
     ]
    }
   ],
   "execution_count": 15
  },
  {
   "metadata": {
    "ExecuteTime": {
     "end_time": "2024-05-28T09:44:56.557720Z",
     "start_time": "2024-05-28T09:32:49.217402Z"
    }
   },
   "cell_type": "code",
   "source": [
    "def evaluate1(ev_model, dataloader, loss_function):\n",
    "    gt_labels = []\n",
    "    pr_labels = []\n",
    "    all_loss = []\n",
    "\n",
    "    for batch in tqdm(dataloader):\n",
    "        ev_model.eval()\n",
    "        model_input = batch['model_input']\n",
    "        claim_mask = model_input.get('claim_mask')\n",
    "        with torch.no_grad():\n",
    "            logits = ev_model(input_ids=model_input['input_ids'], \n",
    "                              attention_mask=model_input['attention_mask'])['logits']\n",
    "            predicted = torch.softmax(logits, dim=-1)\n",
    "            # predicted = predicted[:, :1]\n",
    "            predicted = predicted[:, :1] - predicted[:, 1:2]\n",
    "            labels = batch['labels']\n",
    "            loss = loss_function(labels, predicted, claim_mask)\n",
    "            \n",
    "            a = (predicted.unsqueeze(0) * claim_mask.unsqueeze(2)).squeeze(2)\n",
    "            b = a.masked_fill(torch.eq(a, 0), 1)\n",
    "            \n",
    "            predicted = torch.all(b > 0, dim=1)   # predicted = supported - not supported value (no enough info is ignored. only incorporated in softmax)\n",
    "            \n",
    "        gt_labels.extend(batch['labels'].tolist())\n",
    "        pr_labels.extend(predicted.tolist())\n",
    "        all_loss.append(loss)\n",
    "\n",
    "    loss = sum(all_loss) / len(all_loss)\n",
    "    return loss.item(), classification_report(gt_labels, pr_labels)\n",
    "\n",
    "\n",
    "criterion = AtomicFactsLoss() #BCELoss()\n",
    "val_loss, report = evaluate1(verification_model, train_dataloader, criterion)\n",
    "print(val_loss)\n",
    "print(report)"
   ],
   "id": "f6d1a12394bdf75e",
   "outputs": [
    {
     "name": "stderr",
     "output_type": "stream",
     "text": [
      "  0%|          | 0/2920 [11:57<?, ?it/s]\n"
     ]
    },
    {
     "ename": "KeyboardInterrupt",
     "evalue": "",
     "output_type": "error",
     "traceback": [
      "\u001B[0;31m---------------------------------------------------------------------------\u001B[0m",
      "\u001B[0;31mKeyboardInterrupt\u001B[0m                         Traceback (most recent call last)",
      "Cell \u001B[0;32mIn[8], line 32\u001B[0m\n\u001B[1;32m     28\u001B[0m     \u001B[38;5;28;01mreturn\u001B[39;00m loss\u001B[38;5;241m.\u001B[39mitem(), classification_report(gt_labels, pr_labels)\n\u001B[1;32m     31\u001B[0m criterion \u001B[38;5;241m=\u001B[39m AtomicFactsLoss() \u001B[38;5;66;03m#BCELoss()\u001B[39;00m\n\u001B[0;32m---> 32\u001B[0m val_loss, report \u001B[38;5;241m=\u001B[39m \u001B[43mevaluate1\u001B[49m\u001B[43m(\u001B[49m\u001B[43mverification_model\u001B[49m\u001B[43m,\u001B[49m\u001B[43m \u001B[49m\u001B[43mtrain_dataloader\u001B[49m\u001B[43m,\u001B[49m\u001B[43m \u001B[49m\u001B[43mcriterion\u001B[49m\u001B[43m)\u001B[49m\n\u001B[1;32m     33\u001B[0m \u001B[38;5;28mprint\u001B[39m(val_loss)\n\u001B[1;32m     34\u001B[0m \u001B[38;5;28mprint\u001B[39m(report)\n",
      "Cell \u001B[0;32mIn[8], line 14\u001B[0m, in \u001B[0;36mevaluate1\u001B[0;34m(ev_model, dataloader, loss_function)\u001B[0m\n\u001B[1;32m     11\u001B[0m logits \u001B[38;5;241m=\u001B[39m ev_model(input_ids\u001B[38;5;241m=\u001B[39mmodel_input[\u001B[38;5;124m'\u001B[39m\u001B[38;5;124minput_ids\u001B[39m\u001B[38;5;124m'\u001B[39m], \n\u001B[1;32m     12\u001B[0m                   attention_mask\u001B[38;5;241m=\u001B[39mmodel_input[\u001B[38;5;124m'\u001B[39m\u001B[38;5;124mattention_mask\u001B[39m\u001B[38;5;124m'\u001B[39m])[\u001B[38;5;124m'\u001B[39m\u001B[38;5;124mlogits\u001B[39m\u001B[38;5;124m'\u001B[39m]\n\u001B[1;32m     13\u001B[0m predicted \u001B[38;5;241m=\u001B[39m torch\u001B[38;5;241m.\u001B[39msoftmax(logits, dim\u001B[38;5;241m=\u001B[39m\u001B[38;5;241m-\u001B[39m\u001B[38;5;241m1\u001B[39m)\n\u001B[0;32m---> 14\u001B[0m predicted \u001B[38;5;241m=\u001B[39m \u001B[43mpredicted\u001B[49m[:, :\u001B[38;5;241m1\u001B[39m]\n\u001B[1;32m     15\u001B[0m labels \u001B[38;5;241m=\u001B[39m batch[\u001B[38;5;124m'\u001B[39m\u001B[38;5;124mlabels\u001B[39m\u001B[38;5;124m'\u001B[39m]\n\u001B[1;32m     16\u001B[0m loss \u001B[38;5;241m=\u001B[39m loss_function(labels, predicted, claim_mask)\n",
      "Cell \u001B[0;32mIn[8], line 14\u001B[0m, in \u001B[0;36mevaluate1\u001B[0;34m(ev_model, dataloader, loss_function)\u001B[0m\n\u001B[1;32m     11\u001B[0m logits \u001B[38;5;241m=\u001B[39m ev_model(input_ids\u001B[38;5;241m=\u001B[39mmodel_input[\u001B[38;5;124m'\u001B[39m\u001B[38;5;124minput_ids\u001B[39m\u001B[38;5;124m'\u001B[39m], \n\u001B[1;32m     12\u001B[0m                   attention_mask\u001B[38;5;241m=\u001B[39mmodel_input[\u001B[38;5;124m'\u001B[39m\u001B[38;5;124mattention_mask\u001B[39m\u001B[38;5;124m'\u001B[39m])[\u001B[38;5;124m'\u001B[39m\u001B[38;5;124mlogits\u001B[39m\u001B[38;5;124m'\u001B[39m]\n\u001B[1;32m     13\u001B[0m predicted \u001B[38;5;241m=\u001B[39m torch\u001B[38;5;241m.\u001B[39msoftmax(logits, dim\u001B[38;5;241m=\u001B[39m\u001B[38;5;241m-\u001B[39m\u001B[38;5;241m1\u001B[39m)\n\u001B[0;32m---> 14\u001B[0m predicted \u001B[38;5;241m=\u001B[39m \u001B[43mpredicted\u001B[49m[:, :\u001B[38;5;241m1\u001B[39m]\n\u001B[1;32m     15\u001B[0m labels \u001B[38;5;241m=\u001B[39m batch[\u001B[38;5;124m'\u001B[39m\u001B[38;5;124mlabels\u001B[39m\u001B[38;5;124m'\u001B[39m]\n\u001B[1;32m     16\u001B[0m loss \u001B[38;5;241m=\u001B[39m loss_function(labels, predicted, claim_mask)\n",
      "File \u001B[0;32m_pydevd_bundle/pydevd_cython_darwin_310_64.pyx:1187\u001B[0m, in \u001B[0;36m_pydevd_bundle.pydevd_cython_darwin_310_64.SafeCallWrapper.__call__\u001B[0;34m()\u001B[0m\n",
      "File \u001B[0;32m_pydevd_bundle/pydevd_cython_darwin_310_64.pyx:627\u001B[0m, in \u001B[0;36m_pydevd_bundle.pydevd_cython_darwin_310_64.PyDBFrame.trace_dispatch\u001B[0;34m()\u001B[0m\n",
      "File \u001B[0;32m_pydevd_bundle/pydevd_cython_darwin_310_64.pyx:1103\u001B[0m, in \u001B[0;36m_pydevd_bundle.pydevd_cython_darwin_310_64.PyDBFrame.trace_dispatch\u001B[0;34m()\u001B[0m\n",
      "File \u001B[0;32m_pydevd_bundle/pydevd_cython_darwin_310_64.pyx:1061\u001B[0m, in \u001B[0;36m_pydevd_bundle.pydevd_cython_darwin_310_64.PyDBFrame.trace_dispatch\u001B[0;34m()\u001B[0m\n",
      "File \u001B[0;32m~/Applications/PyCharm Professional.app/Contents/plugins/python/helpers-pro/jupyter_debug/pydev_jupyter_plugin.py:169\u001B[0m, in \u001B[0;36mstop\u001B[0;34m(plugin, pydb, frame, event, args, stop_info, arg, step_cmd)\u001B[0m\n\u001B[1;32m    167\u001B[0m     frame \u001B[38;5;241m=\u001B[39m suspend_jupyter(main_debugger, thread, frame, step_cmd)\n\u001B[1;32m    168\u001B[0m     \u001B[38;5;28;01mif\u001B[39;00m frame:\n\u001B[0;32m--> 169\u001B[0m         \u001B[43mmain_debugger\u001B[49m\u001B[38;5;241;43m.\u001B[39;49m\u001B[43mdo_wait_suspend\u001B[49m\u001B[43m(\u001B[49m\u001B[43mthread\u001B[49m\u001B[43m,\u001B[49m\u001B[43m \u001B[49m\u001B[43mframe\u001B[49m\u001B[43m,\u001B[49m\u001B[43m \u001B[49m\u001B[43mevent\u001B[49m\u001B[43m,\u001B[49m\u001B[43m \u001B[49m\u001B[43marg\u001B[49m\u001B[43m)\u001B[49m\n\u001B[1;32m    170\u001B[0m         \u001B[38;5;28;01mreturn\u001B[39;00m \u001B[38;5;28;01mTrue\u001B[39;00m\n\u001B[1;32m    171\u001B[0m \u001B[38;5;28;01mreturn\u001B[39;00m \u001B[38;5;28;01mFalse\u001B[39;00m\n",
      "File \u001B[0;32m~/Applications/PyCharm Professional.app/Contents/plugins/python/helpers/pydev/pydevd.py:1185\u001B[0m, in \u001B[0;36mPyDB.do_wait_suspend\u001B[0;34m(self, thread, frame, event, arg, send_suspend_message, is_unhandled_exception)\u001B[0m\n\u001B[1;32m   1182\u001B[0m         from_this_thread\u001B[38;5;241m.\u001B[39mappend(frame_id)\n\u001B[1;32m   1184\u001B[0m \u001B[38;5;28;01mwith\u001B[39;00m \u001B[38;5;28mself\u001B[39m\u001B[38;5;241m.\u001B[39m_threads_suspended_single_notification\u001B[38;5;241m.\u001B[39mnotify_thread_suspended(thread_id, stop_reason):\n\u001B[0;32m-> 1185\u001B[0m     \u001B[38;5;28;43mself\u001B[39;49m\u001B[38;5;241;43m.\u001B[39;49m\u001B[43m_do_wait_suspend\u001B[49m\u001B[43m(\u001B[49m\u001B[43mthread\u001B[49m\u001B[43m,\u001B[49m\u001B[43m \u001B[49m\u001B[43mframe\u001B[49m\u001B[43m,\u001B[49m\u001B[43m \u001B[49m\u001B[43mevent\u001B[49m\u001B[43m,\u001B[49m\u001B[43m \u001B[49m\u001B[43marg\u001B[49m\u001B[43m,\u001B[49m\u001B[43m \u001B[49m\u001B[43msuspend_type\u001B[49m\u001B[43m,\u001B[49m\u001B[43m \u001B[49m\u001B[43mfrom_this_thread\u001B[49m\u001B[43m)\u001B[49m\n",
      "File \u001B[0;32m~/Applications/PyCharm Professional.app/Contents/plugins/python/helpers/pydev/pydevd.py:1200\u001B[0m, in \u001B[0;36mPyDB._do_wait_suspend\u001B[0;34m(self, thread, frame, event, arg, suspend_type, from_this_thread)\u001B[0m\n\u001B[1;32m   1197\u001B[0m             \u001B[38;5;28mself\u001B[39m\u001B[38;5;241m.\u001B[39m_call_mpl_hook()\n\u001B[1;32m   1199\u001B[0m         \u001B[38;5;28mself\u001B[39m\u001B[38;5;241m.\u001B[39mprocess_internal_commands()\n\u001B[0;32m-> 1200\u001B[0m         \u001B[43mtime\u001B[49m\u001B[38;5;241;43m.\u001B[39;49m\u001B[43msleep\u001B[49m\u001B[43m(\u001B[49m\u001B[38;5;241;43m0.01\u001B[39;49m\u001B[43m)\u001B[49m\n\u001B[1;32m   1202\u001B[0m \u001B[38;5;28mself\u001B[39m\u001B[38;5;241m.\u001B[39mcancel_async_evaluation(get_current_thread_id(thread), \u001B[38;5;28mstr\u001B[39m(\u001B[38;5;28mid\u001B[39m(frame)))\n\u001B[1;32m   1204\u001B[0m \u001B[38;5;66;03m# process any stepping instructions\u001B[39;00m\n",
      "\u001B[0;31mKeyboardInterrupt\u001B[0m: "
     ]
    }
   ],
   "execution_count": 27
  },
  {
   "metadata": {},
   "cell_type": "code",
   "outputs": [],
   "execution_count": null,
   "source": [
    "test_dataset = DefinitionDataset(dataset['test'], tokenizer, mode='train', model='evidence_selection')\n",
    "test_dataloader = DataLoader(test_dataset, shuffle=True, collate_fn=test_dataset.collate_fn, batch_size=10)\n",
    "\n",
    "test_loss, report = evaluate(model, test_dataloader)\n",
    "print(test_loss)\n",
    "print(report)"
   ],
   "id": "8c36f6a01da49e7e"
  }
 ],
 "metadata": {
  "kernelspec": {
   "display_name": "Python 3",
   "language": "python",
   "name": "python3"
  },
  "language_info": {
   "codemirror_mode": {
    "name": "ipython",
    "version": 2
   },
   "file_extension": ".py",
   "mimetype": "text/x-python",
   "name": "python",
   "nbconvert_exporter": "python",
   "pygments_lexer": "ipython2",
   "version": "2.7.6"
  }
 },
 "nbformat": 4,
 "nbformat_minor": 5
}
