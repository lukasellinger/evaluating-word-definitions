{
 "cells": [
  {
   "metadata": {
    "ExecuteTime": {
     "end_time": "2024-07-09T14:11:29.678598Z",
     "start_time": "2024-07-09T14:11:23.558547Z"
    }
   },
   "cell_type": "code",
   "source": [
    "from general_utils.atomic_facts import AtomicFactPromptGenerator\n",
    "from openai import OpenAI\n",
    "from general_utils.reader import JSONLineReader\n",
    "from config import OPEN_AI_TOKEN"
   ],
   "id": "39f9af93f7425ea3",
   "outputs": [
    {
     "name": "stderr",
     "output_type": "stream",
     "text": [
      "[nltk_data] Downloading package punkt to\n",
      "[nltk_data]     /Users/lukasellinger/nltk_data...\n",
      "[nltk_data]   Package punkt is already up-to-date!\n"
     ]
    }
   ],
   "execution_count": 1
  },
  {
   "metadata": {
    "ExecuteTime": {
     "end_time": "2024-07-09T14:11:30.621451Z",
     "start_time": "2024-07-09T14:11:29.683936Z"
    }
   },
   "cell_type": "code",
   "source": [
    "client = OpenAI(api_key=OPEN_AI_TOKEN)\n",
    "fh = JSONLineReader()\n",
    "prompt_generator = AtomicFactPromptGenerator(demon_dir='../factscore/demos')"
   ],
   "id": "initial_id",
   "outputs": [],
   "execution_count": 2
  },
  {
   "metadata": {
    "ExecuteTime": {
     "end_time": "2024-07-09T14:11:36.584856Z",
     "start_time": "2024-07-09T14:11:30.623239Z"
    }
   },
   "cell_type": "code",
   "source": [
    "from datasets import load_dataset\n",
    "\n",
    "dataset = load_dataset(\"lukasellinger/german_dpr_claim_verification_dissim-v1\").get('train')"
   ],
   "id": "fc36663325a99629",
   "outputs": [],
   "execution_count": 3
  },
  {
   "metadata": {
    "ExecuteTime": {
     "end_time": "2024-07-09T14:11:36.593585Z",
     "start_time": "2024-07-09T14:11:36.588802Z"
    }
   },
   "cell_type": "code",
   "source": [
    "def get_facts(messages, model=\"gpt-3.5-turbo\"):\n",
    "    response = client.chat.completions.create(\n",
    "    model=model,\n",
    "    temperature=0.1,\n",
    "    logprobs=True,\n",
    "    top_logprobs=5,\n",
    "    messages=messages,\n",
    "    )\n",
    "    txt_output = response.choices[0].message.content\n",
    "    return txt_output"
   ],
   "id": "27bc51948f8e502f",
   "outputs": [],
   "execution_count": 4
  },
  {
   "metadata": {
    "ExecuteTime": {
     "end_time": "2024-07-09T14:15:27.651642Z",
     "start_time": "2024-07-09T14:15:13.675157Z"
    }
   },
   "cell_type": "code",
   "source": [
    "# Testing on a few examples\n",
    "for entry in dataset.select(range(150, 160)):\n",
    "    word = entry.get('english_word')\n",
    "    claim = f\"{word}: {entry['english_claim']}\"\n",
    "    \n",
    "    messages = prompt_generator.create_prompt_from_sentence(claim)\n",
    "    output = get_facts(messages)\n",
    "    print(f\"WORD: {word}\\nOVERVIEW: {claim}\\n\\nOUTPUT: {output}\")\n",
    "    print(\"\\n\\n----------------------------\\n\\n\")"
   ],
   "id": "619a9fdebfa7ff3e",
   "outputs": [
    {
     "name": "stdout",
     "output_type": "stream",
     "text": [
      "WORD: YouTube channel\n",
      "OVERVIEW: YouTube channel: defined as an airport from which one or more airlines offer an integrated service network to a variety of different destinations with a high frequency of connections\n",
      "\n",
      "OUTPUT: 1. YouTube channel is defined as an airport.\n",
      "2. YouTube channel is where one or more airlines offer an integrated service network.\n",
      "3. YouTube channel offers services to a variety of different destinations.\n",
      "4. YouTube channel has a high frequency of connections.\n",
      "\n",
      "\n",
      "----------------------------\n",
      "\n",
      "\n",
      "WORD: YouTube channel\n",
      "OVERVIEW: YouTube channel: a synapse that becomes stronger by simultaneous activity in the pre- and post-synaptic neurons\n",
      "\n",
      "OUTPUT: 1. YouTube channel is a synapse.\n",
      "2. Simultaneous activity occurs in the pre- and post-synaptic neurons. \n",
      "3. The synapse becomes stronger.\n",
      "\n",
      "\n",
      "----------------------------\n",
      "\n",
      "\n",
      "WORD: Laservisiondisc\n",
      "OVERVIEW: Laservisiondisc: the multiple excretion of ''too liquid'' chair\n",
      "\n",
      "OUTPUT: 1. Laservisiondisc is involved.\n",
      "2. The multiple excretion of \"too liquid\" chair is involved.\n",
      "\n",
      "\n",
      "----------------------------\n",
      "\n",
      "\n",
      "WORD: Generator\n",
      "OVERVIEW: Generator: Transfer of IP packages to and from the Internet\n",
      "\n",
      "OUTPUT: 1. Generator is involved in the transfer of IP packages.\n",
      "2. Generator is involved in the transfer to and from the Internet.\n",
      "\n",
      "\n",
      "----------------------------\n",
      "\n",
      "\n",
      "WORD: Database applications\n",
      "OVERVIEW: Database applications: the user interface for web applications\n",
      "\n",
      "OUTPUT: 1. Database applications have a user interface.\n",
      "2. Database applications are for web applications.\n",
      "\n",
      "\n",
      "----------------------------\n",
      "\n",
      "\n",
      "WORD: Uranium ammunition\n",
      "OVERVIEW: Uranium ammunition: the first microcomputer with graphical user interface produced in larger quantities\n",
      "\n",
      "OUTPUT: 1. Uranium ammunition was produced in larger quantities.\n",
      "2. The first microcomputer with graphical user interface was produced in larger quantities.\n",
      "\n",
      "\n",
      "----------------------------\n",
      "\n",
      "\n",
      "WORD: Censorship\n",
      "OVERVIEW: Censorship: Department of Immunology dealing with immunological processes in the development, course and control of tumours\n",
      "\n",
      "OUTPUT: 1. Censorship is related to the Department of Immunology.\n",
      "2. The Department of Immunology deals with immunological processes.\n",
      "3. Immunological processes are involved in the development, course, and control of tumors.\n",
      "\n",
      "\n",
      "----------------------------\n",
      "\n",
      "\n",
      "WORD: DBMS\n",
      "OVERVIEW: DBMS: an optical storage medium for videos in home use\n",
      "\n",
      "OUTPUT: 1. DBMS is an optical storage medium.\n",
      "2. DBMS is used for videos in home use.\n",
      "\n",
      "\n",
      "----------------------------\n",
      "\n",
      "\n",
      "WORD: Russistics\n",
      "OVERVIEW: Russistics: an insufficient immune defense\n",
      "\n",
      "OUTPUT: 1. Russistics is a field of study.\n",
      "2. Russistics is related to an insufficient immune defense.\n",
      "\n",
      "\n",
      "----------------------------\n",
      "\n",
      "\n",
      "WORD: Gen\n",
      "OVERVIEW: Gen: the largest video convention in the world\n",
      "\n",
      "OUTPUT: 1. Gen is a video convention.\n",
      "2. Gen is the largest in the world.\n",
      "\n",
      "\n",
      "----------------------------\n",
      "\n",
      "\n"
     ]
    }
   ],
   "execution_count": 6
  },
  {
   "metadata": {
    "ExecuteTime": {
     "end_time": "2024-07-09T13:43:21.559912Z",
     "start_time": "2024-07-09T13:43:21.550568Z"
    }
   },
   "cell_type": "code",
   "source": "output",
   "id": "775b4334740fdccb",
   "outputs": [
    {
     "data": {
      "text/plain": [
       "'1. Energy consumption is related to computer programs.\\n2. Computer programs manage and store their individually required data using a database system.'"
      ]
     },
     "execution_count": 8,
     "metadata": {},
     "output_type": "execute_result"
    }
   ],
   "execution_count": 8
  },
  {
   "metadata": {
    "ExecuteTime": {
     "end_time": "2024-07-09T13:44:38.236659Z",
     "start_time": "2024-07-09T13:44:38.229839Z"
    }
   },
   "cell_type": "code",
   "source": [
    "import re\n",
    "\n",
    "for line in output.split('\\n'):\n",
    "    fact_match = re.match(r'^\\d+\\.(.*)', line)\n",
    "    if fact_match:\n",
    "        fact = fact_match.group(1).strip()\n",
    "        print(fact)"
   ],
   "id": "9d09f69875c42eee",
   "outputs": [
    {
     "name": "stdout",
     "output_type": "stream",
     "text": [
      "Energy consumption is related to computer programs.\n",
      "Computer programs manage and store their individually required data using a database system.\n"
     ]
    }
   ],
   "execution_count": 10
  },
  {
   "metadata": {},
   "cell_type": "code",
   "outputs": [],
   "execution_count": null,
   "source": "",
   "id": "3344c54d3339f29b"
  }
 ],
 "metadata": {
  "kernelspec": {
   "display_name": "Python 3",
   "language": "python",
   "name": "python3"
  },
  "language_info": {
   "codemirror_mode": {
    "name": "ipython",
    "version": 2
   },
   "file_extension": ".py",
   "mimetype": "text/x-python",
   "name": "python",
   "nbconvert_exporter": "python",
   "pygments_lexer": "ipython2",
   "version": "2.7.6"
  }
 },
 "nbformat": 4,
 "nbformat_minor": 5
}
