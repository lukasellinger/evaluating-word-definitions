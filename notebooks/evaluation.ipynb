{
 "cells": [
  {
   "cell_type": "code",
   "id": "initial_id",
   "metadata": {
    "collapsed": true,
    "ExecuteTime": {
     "end_time": "2024-07-17T20:07:06.586265Z",
     "start_time": "2024-07-17T20:07:06.507103Z"
    }
   },
   "source": [
    "from general_utils.reader import JSONLineReader\n",
    "from sklearn.metrics import classification_report\n",
    "from dataset.def_dataset import Fact\n",
    "from config import PROJECT_DIR"
   ],
   "outputs": [],
   "execution_count": 7
  },
  {
   "metadata": {
    "ExecuteTime": {
     "end_time": "2024-07-17T22:35:27.409916Z",
     "start_time": "2024-07-17T22:35:21.778100Z"
    }
   },
   "cell_type": "code",
   "source": [
    "from datasets import load_dataset\n",
    "\n",
    "dataset_name = \"lukasellinger/german_dpr_claim_verification_dissim-v1\"\n",
    "dataset = load_dataset(dataset_name).get('train')\n",
    "outputs = JSONLineReader().read(PROJECT_DIR.joinpath('dataset/openai/output/german_dpr/output_german_dpr_factscore-gpt3_5-turbo-gtr.jsonl'))\n",
    "outputs = {d['id']: d for d in outputs}"
   ],
   "id": "a31f0196f3196fa8",
   "outputs": [],
   "execution_count": 18
  },
  {
   "metadata": {
    "ExecuteTime": {
     "end_time": "2024-07-17T22:35:29.521760Z",
     "start_time": "2024-07-17T22:35:29.489894Z"
    }
   },
   "cell_type": "code",
   "source": [
    "exclude_not_in_wiki = True\n",
    "\n",
    "gt_labels = []\n",
    "pr_labels = []\n",
    "for entry in dataset:\n",
    "    if exclude_not_in_wiki and entry['in_wiki'] == 'No':\n",
    "        continue\n",
    "    output = outputs[entry['id']]\n",
    "    pr_labels.append(Fact[output['predicted']].to_factuality())\n",
    "    gt_labels.append(Fact[output['label']].to_factuality())"
   ],
   "id": "fc892c04b3536c1",
   "outputs": [],
   "execution_count": 19
  },
  {
   "metadata": {
    "ExecuteTime": {
     "end_time": "2024-07-17T22:35:31.451238Z",
     "start_time": "2024-07-17T22:35:31.412939Z"
    }
   },
   "cell_type": "code",
   "source": "print(classification_report(gt_labels, pr_labels, zero_division=0, digits=4))",
   "id": "57ffb9943127e47a",
   "outputs": [
    {
     "name": "stdout",
     "output_type": "stream",
     "text": [
      "              precision    recall  f1-score   support\n",
      "\n",
      "           0     0.5312    0.9855    0.6904        69\n",
      "           1     0.9091    0.1429    0.2469        70\n",
      "\n",
      "    accuracy                         0.5612       139\n",
      "   macro avg     0.7202    0.5642    0.4686       139\n",
      "weighted avg     0.7215    0.5612    0.4670       139\n",
      "\n"
     ]
    }
   ],
   "execution_count": 20
  },
  {
   "metadata": {},
   "cell_type": "code",
   "outputs": [],
   "execution_count": null,
   "source": "",
   "id": "26dff9eae25d4da9"
  }
 ],
 "metadata": {
  "kernelspec": {
   "display_name": "Python 3",
   "language": "python",
   "name": "python3"
  },
  "language_info": {
   "codemirror_mode": {
    "name": "ipython",
    "version": 2
   },
   "file_extension": ".py",
   "mimetype": "text/x-python",
   "name": "python",
   "nbconvert_exporter": "python",
   "pygments_lexer": "ipython2",
   "version": "2.7.6"
  }
 },
 "nbformat": 4,
 "nbformat_minor": 5
}
