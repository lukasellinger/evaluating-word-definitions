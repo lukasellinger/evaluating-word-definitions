{
 "cells": [
  {
   "cell_type": "code",
   "id": "initial_id",
   "metadata": {
    "collapsed": true,
    "ExecuteTime": {
     "end_time": "2024-07-09T09:56:02.697811Z",
     "start_time": "2024-07-09T09:56:02.694182Z"
    }
   },
   "source": [
    "from general_utils.reader import JSONLineReader\n",
    "from sklearn.metrics import classification_report\n",
    "from dataset.def_dataset import Fact\n",
    "from config import PROJECT_DIR"
   ],
   "outputs": [],
   "execution_count": 16
  },
  {
   "metadata": {
    "ExecuteTime": {
     "end_time": "2024-07-09T10:15:13.524083Z",
     "start_time": "2024-07-09T10:15:13.514466Z"
    }
   },
   "cell_type": "code",
   "source": "output = JSONLineReader().read(PROJECT_DIR.joinpath('dataset/openai/output_german_contextless-gpt3_5-turbo.jsonl'))",
   "id": "a31f0196f3196fa8",
   "outputs": [],
   "execution_count": 26
  },
  {
   "metadata": {
    "ExecuteTime": {
     "end_time": "2024-07-09T10:15:14.002735Z",
     "start_time": "2024-07-09T10:15:13.992407Z"
    }
   },
   "cell_type": "code",
   "source": [
    "gt_labels = []\n",
    "pr_labels = []\n",
    "for entry in output:\n",
    "    predicted = entry['predicted']\n",
    "    pr_labels.append(Fact[entry['predicted']].to_factuality())\n",
    "    gt_labels.append(Fact[entry['label']].to_factuality())"
   ],
   "id": "fc892c04b3536c1",
   "outputs": [],
   "execution_count": 27
  },
  {
   "metadata": {
    "ExecuteTime": {
     "end_time": "2024-07-09T10:15:14.756283Z",
     "start_time": "2024-07-09T10:15:14.734939Z"
    }
   },
   "cell_type": "code",
   "source": "print(classification_report(gt_labels, pr_labels, zero_division=0, digits=3))",
   "id": "57ffb9943127e47a",
   "outputs": [
    {
     "name": "stdout",
     "output_type": "stream",
     "text": [
      "              precision    recall  f1-score   support\n",
      "\n",
      "           0      0.727     0.225     0.344       355\n",
      "           1      0.542     0.915     0.681       355\n",
      "\n",
      "    accuracy                          0.570       710\n",
      "   macro avg      0.634     0.570     0.512       710\n",
      "weighted avg      0.634     0.570     0.512       710\n",
      "\n"
     ]
    }
   ],
   "execution_count": 28
  },
  {
   "metadata": {},
   "cell_type": "code",
   "outputs": [],
   "execution_count": null,
   "source": "",
   "id": "26dff9eae25d4da9"
  }
 ],
 "metadata": {
  "kernelspec": {
   "display_name": "Python 3",
   "language": "python",
   "name": "python3"
  },
  "language_info": {
   "codemirror_mode": {
    "name": "ipython",
    "version": 2
   },
   "file_extension": ".py",
   "mimetype": "text/x-python",
   "name": "python",
   "nbconvert_exporter": "python",
   "pygments_lexer": "ipython2",
   "version": "2.7.6"
  }
 },
 "nbformat": 4,
 "nbformat_minor": 5
}
