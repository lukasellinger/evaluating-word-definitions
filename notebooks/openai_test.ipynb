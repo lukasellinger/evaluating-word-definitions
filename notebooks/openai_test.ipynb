{
 "cells": [
  {
   "cell_type": "code",
   "id": "initial_id",
   "metadata": {
    "collapsed": true,
    "ExecuteTime": {
     "end_time": "2024-07-09T09:22:01.601595Z",
     "start_time": "2024-07-09T09:22:00.118260Z"
    }
   },
   "source": [
    "import json\n",
    "from openai import OpenAI\n",
    "from datasets import load_dataset\n",
    "from config import OPEN_AI_TOKEN\n",
    "from config import PROJECT_DIR\n",
    "from general_utils.reader import JSONLineReader\n",
    "from tqdm import tqdm\n",
    "from general_utils.utils import parse_model_answer"
   ],
   "outputs": [],
   "execution_count": 42
  },
  {
   "metadata": {
    "ExecuteTime": {
     "end_time": "2024-07-09T07:51:22.802866Z",
     "start_time": "2024-07-09T07:51:22.746025Z"
    }
   },
   "cell_type": "code",
   "source": "client = OpenAI(api_key=OPEN_AI_TOKEN)",
   "id": "9814017a89e4850",
   "outputs": [],
   "execution_count": 2
  },
  {
   "metadata": {
    "ExecuteTime": {
     "end_time": "2024-07-09T10:06:48.104760Z",
     "start_time": "2024-07-09T10:06:39.204592Z"
    }
   },
   "cell_type": "code",
   "source": [
    "dataset = load_dataset(\"lukasellinger/german_claim_verification_dissim-v1\").get('train')\n",
    "\n",
    "dataset[:5]"
   ],
   "id": "5dec1c04ed69dce9",
   "outputs": [
    {
     "data": {
      "text/plain": [
       "Downloading readme:   0%|          | 0.00/585 [00:00<?, ?B/s]"
      ],
      "application/vnd.jupyter.widget-view+json": {
       "version_major": 2,
       "version_minor": 0,
       "model_id": "21920f6d91ce45b1852c6a322f842daf"
      }
     },
     "metadata": {},
     "output_type": "display_data"
    },
    {
     "name": "stderr",
     "output_type": "stream",
     "text": [
      "Downloading data: 100%|██████████| 95.3k/95.3k [00:00<00:00, 165kB/s]\n"
     ]
    },
    {
     "data": {
      "text/plain": [
       "Generating train split:   0%|          | 0/710 [00:00<?, ? examples/s]"
      ],
      "application/vnd.jupyter.widget-view+json": {
       "version_major": 2,
       "version_minor": 0,
       "model_id": "6582c62f79a94085bf32f3a245ef3521"
      }
     },
     "metadata": {},
     "output_type": "display_data"
    },
    {
     "data": {
      "text/plain": [
       "{'id': [1, 6, 7, 8, 9],\n",
       " 'word': ['Liebe', 'Liebe', 'Liebe', 'Liebe', 'Liebe'],\n",
       " 'english_word': ['Love', 'Love', 'Love', 'Love', 'Love'],\n",
       " 'label': ['SUPPORTED', 'SUPPORTED', 'SUPPORTED', 'SUPPORTED', 'SUPPORTED'],\n",
       " 'claim': ['inniges Gefühl der Zuneigung für jemanden oder für etwas',\n",
       "  'sexuell oder erotisch motivierte Neigung zu jemandem oder zu einer Sache',\n",
       "  'Geschlechtsakt; Akt der körperlichen Vereinigung in Folge von 2',\n",
       "  'Liebschaft',\n",
       "  'innige und gefühlsbetonte Beziehung zu einer Sache, einer Idee, einem Ziel oder Ähnlichem'],\n",
       " 'english_claim': ['a deep feeling of affection for someone or for something',\n",
       "  'sexually or erotically motivated inclination towards someone or something',\n",
       "  'sexual act; act of physical union in succession of 2',\n",
       "  'Love',\n",
       "  'intimate and emotional relationship to a thing, an idea, a goal or similar'],\n",
       " 'context_sentence': ['Die Liebe überwindet alle Grenzen.',\n",
       "  'homosexuelle Liebe, lesbische Liebe',\n",
       "  'Sie machten Liebe, ohne an die Konsequenzen zu denken.',\n",
       "  'Seine Lieben sind wohlbekannt.',\n",
       "  'Eberhards Liebe zu seiner Modelleisenbahn ist ungebrochen.'],\n",
       " 'atomic_facts': ['a deep feeling of affection for someone or for something',\n",
       "  'sexually or erotically motivated inclination towards someone or something',\n",
       "  'sexual act; act of physical union in succession of 2',\n",
       "  'Love',\n",
       "  'intimate and emotional relationship to a thing, an idea, a goal or similar'],\n",
       " 'document_search_word': ['love', 'love', 'love', 'love', 'love']}"
      ]
     },
     "execution_count": 76,
     "metadata": {},
     "output_type": "execute_result"
    }
   ],
   "execution_count": 76
  },
  {
   "metadata": {
    "ExecuteTime": {
     "end_time": "2024-07-09T09:03:50.099589Z",
     "start_time": "2024-07-09T09:03:50.095354Z"
    }
   },
   "cell_type": "code",
   "source": [
    "def get_prediction(claim, model=\"gpt-3.5-turbo\"):\n",
    "    response = client.chat.completions.create(\n",
    "    model=model,\n",
    "    temperature=0.1,\n",
    "    messages=[\n",
    "        {\n",
    "            \"role\": \"user\",\n",
    "            \"content\": f'Input: {claim} True or False?\\nOutput:'\n",
    "        }\n",
    "    ],\n",
    "    )\n",
    "\n",
    "    return response.choices[0].message.content"
   ],
   "id": "e992acf418da2343",
   "outputs": [],
   "execution_count": 33
  },
  {
   "metadata": {
    "ExecuteTime": {
     "end_time": "2024-07-09T10:07:04.880502Z",
     "start_time": "2024-07-09T10:07:02.899353Z"
    }
   },
   "cell_type": "code",
   "source": [
    "# Testing on a few examples\n",
    "for entry in dataset.select(range(3)):\n",
    "    word = entry.get('word')\n",
    "    claim = f\"{word}: {entry['claim']}\"\n",
    "    result = get_prediction(claim)\n",
    "    print(f\"WORD: {word}\\nOVERVIEW: {claim}\\n\\nRESULT: {result}\")\n",
    "    print(\"\\n\\n----------------------------\\n\\n\")"
   ],
   "id": "4d3dec8eb1877d89",
   "outputs": [
    {
     "name": "stdout",
     "output_type": "stream",
     "text": [
      "WORD: Liebe\n",
      "OVERVIEW: Liebe: inniges Gefühl der Zuneigung für jemanden oder für etwas\n",
      "\n",
      "RESULT: True\n",
      "\n",
      "\n",
      "----------------------------\n",
      "\n",
      "\n",
      "WORD: Liebe\n",
      "OVERVIEW: Liebe: sexuell oder erotisch motivierte Neigung zu jemandem oder zu einer Sache\n",
      "\n",
      "RESULT: True\n",
      "\n",
      "\n",
      "----------------------------\n",
      "\n",
      "\n",
      "WORD: Liebe\n",
      "OVERVIEW: Liebe: Geschlechtsakt; Akt der körperlichen Vereinigung in Folge von 2\n",
      "\n",
      "RESULT: False\n",
      "\n",
      "\n",
      "----------------------------\n",
      "\n",
      "\n"
     ]
    }
   ],
   "execution_count": 77
  },
  {
   "metadata": {
    "ExecuteTime": {
     "end_time": "2024-07-09T09:06:41.440113Z",
     "start_time": "2024-07-09T09:04:17.344938Z"
    }
   },
   "cell_type": "code",
   "source": [
    "fh = JSONLineReader()\n",
    "\n",
    "lines = []\n",
    "for entry in tqdm(dataset):\n",
    "    word = entry.get('word')\n",
    "    claim = f\"{word}: {entry['claim']}\"\n",
    "    generated_answer = get_prediction(claim, model='gpt-4o').lower()\n",
    "    predicted = parse_model_answer(generated_answer)\n",
    "    \n",
    "    lines.append({\n",
    "        'id': entry['id'],\n",
    "        'word': entry['word'],\n",
    "        'claim': claim,\n",
    "        'predicted': predicted,\n",
    "        'label': entry['label']\n",
    "    })\n",
    "        \n",
    "fh.write('output_gpt4o.jsonl', lines)"
   ],
   "id": "8b7585ffcce72a1b",
   "outputs": [
    {
     "name": "stderr",
     "output_type": "stream",
     "text": [
      "100%|██████████| 168/168 [02:24<00:00,  1.17it/s]\n"
     ]
    }
   ],
   "execution_count": 34
  },
  {
   "metadata": {},
   "cell_type": "markdown",
   "source": "# Create Task",
   "id": "9abc1eca3b5c4a3e"
  },
  {
   "metadata": {
    "ExecuteTime": {
     "end_time": "2024-07-09T10:07:32.973926Z",
     "start_time": "2024-07-09T10:07:32.905507Z"
    }
   },
   "cell_type": "code",
   "source": [
    "# Creating an array of json tasks\n",
    "model = \"gpt-3.5-turbo\"\n",
    "tasks = []\n",
    "\n",
    "for idx, entry in enumerate(dataset):\n",
    "    word = entry['word']\n",
    "    claim = f\"{word}: {entry['claim']}\"\n",
    "    task = {\n",
    "        \"custom_id\": f\"task-{idx}\",\n",
    "        \"method\": \"POST\",\n",
    "        \"url\": \"/v1/chat/completions\",\n",
    "        \"body\": {\n",
    "            # This is what you would have in your Chat Completions API call\n",
    "            \"model\": model,\n",
    "            \"temperature\": 0.1,\n",
    "            \"messages\": [\n",
    "                {\n",
    "                    \"role\": \"user\",\n",
    "                    \"content\": f'Input: {claim} True or False?\\nOutput:'\n",
    "                }\n",
    "            ],\n",
    "        }\n",
    "    }\n",
    "    \n",
    "    tasks.append(task)"
   ],
   "id": "aa992895c8a298e8",
   "outputs": [],
   "execution_count": 78
  },
  {
   "metadata": {
    "ExecuteTime": {
     "end_time": "2024-07-09T10:07:46.641605Z",
     "start_time": "2024-07-09T10:07:46.629491Z"
    }
   },
   "cell_type": "code",
   "source": [
    "# Creating the file\n",
    "file_name = PROJECT_DIR.joinpath('dataset/openai/batch_german_contextless-gpt3_5-turbo.jsonl')\n",
    "\n",
    "with open(file_name, 'w') as file:\n",
    "    for obj in tasks:\n",
    "        file.write(json.dumps(obj) + '\\n')"
   ],
   "id": "9d5300dacbeeb275",
   "outputs": [],
   "execution_count": 79
  },
  {
   "metadata": {
    "ExecuteTime": {
     "end_time": "2024-07-09T10:07:51.142940Z",
     "start_time": "2024-07-09T10:07:49.784992Z"
    }
   },
   "cell_type": "code",
   "source": [
    "batch_file = client.files.create(\n",
    "  file=open(file_name, \"rb\"),\n",
    "  purpose=\"batch\"\n",
    ")"
   ],
   "id": "f432a5941e9dffa4",
   "outputs": [],
   "execution_count": 80
  },
  {
   "metadata": {
    "ExecuteTime": {
     "end_time": "2024-07-09T10:07:52.565669Z",
     "start_time": "2024-07-09T10:07:52.561405Z"
    }
   },
   "cell_type": "code",
   "source": "print(batch_file)",
   "id": "4cac3ab3d4043760",
   "outputs": [
    {
     "name": "stdout",
     "output_type": "stream",
     "text": [
      "FileObject(id='file-VWp7f9KvRBKSXmr5XLo6XG4C', bytes=205971, created_at=1720519670, filename='batch_german_contextless-gpt3_5-turbo.jsonl', object='file', purpose='batch', status='processed', status_details=None)\n"
     ]
    }
   ],
   "execution_count": 81
  },
  {
   "metadata": {},
   "cell_type": "markdown",
   "source": "# Creating batch job",
   "id": "e0a00013634b86c3"
  },
  {
   "metadata": {
    "ExecuteTime": {
     "end_time": "2024-07-09T10:08:46.630213Z",
     "start_time": "2024-07-09T10:08:46.032655Z"
    }
   },
   "cell_type": "code",
   "source": [
    "batch_job = client.batches.create(\n",
    "  input_file_id=batch_file.id,\n",
    "  endpoint=\"/v1/chat/completions\",\n",
    "  completion_window=\"24h\"\n",
    ")"
   ],
   "id": "ea068487952b9971",
   "outputs": [],
   "execution_count": 82
  },
  {
   "metadata": {
    "ExecuteTime": {
     "end_time": "2024-07-09T10:11:33.317639Z",
     "start_time": "2024-07-09T10:11:33.036442Z"
    }
   },
   "cell_type": "code",
   "source": [
    "batch_job = client.batches.retrieve(batch_job.id)\n",
    "print(batch_job)"
   ],
   "id": "86eae459775ab997",
   "outputs": [
    {
     "name": "stdout",
     "output_type": "stream",
     "text": [
      "Batch(id='batch_2Eg6lPJHvJq3dBlDPrzrfYuv', completion_window='24h', created_at=1720519726, endpoint='/v1/chat/completions', input_file_id='file-VWp7f9KvRBKSXmr5XLo6XG4C', object='batch', status='completed', cancelled_at=None, cancelling_at=None, completed_at=1720519855, error_file_id=None, errors=None, expired_at=None, expires_at=1720606126, failed_at=None, finalizing_at=1720519832, in_progress_at=1720519727, metadata=None, output_file_id='file-5YD9A0YKqQY84gixUTATBTvE', request_counts=BatchRequestCounts(completed=710, failed=0, total=710))\n"
     ]
    }
   ],
   "execution_count": 85
  },
  {
   "metadata": {},
   "cell_type": "markdown",
   "source": "# Retrieving results",
   "id": "f90e9bc9873363d2"
  },
  {
   "metadata": {
    "ExecuteTime": {
     "end_time": "2024-07-09T10:11:38.100153Z",
     "start_time": "2024-07-09T10:11:37.108195Z"
    }
   },
   "cell_type": "code",
   "source": [
    "result_file_id = batch_job.output_file_id\n",
    "result = client.files.content(result_file_id).content"
   ],
   "id": "56258b406252fdd7",
   "outputs": [],
   "execution_count": 86
  },
  {
   "metadata": {
    "ExecuteTime": {
     "end_time": "2024-07-09T10:11:52.492463Z",
     "start_time": "2024-07-09T10:11:52.487626Z"
    }
   },
   "cell_type": "code",
   "source": [
    "result_file_name = \"batch_german_job_results.jsonl\"\n",
    "\n",
    "with open(result_file_name, 'wb') as file:\n",
    "    file.write(result)"
   ],
   "id": "ed9aff84d6a10152",
   "outputs": [],
   "execution_count": 87
  },
  {
   "metadata": {
    "ExecuteTime": {
     "end_time": "2024-07-09T10:11:55.625989Z",
     "start_time": "2024-07-09T10:11:55.610649Z"
    }
   },
   "cell_type": "code",
   "source": [
    "# Loading data from saved file\n",
    "results = JSONLineReader().read(result_file_name)"
   ],
   "id": "c0fa0c3e354d8719",
   "outputs": [],
   "execution_count": 88
  },
  {
   "metadata": {
    "ExecuteTime": {
     "end_time": "2024-07-09T10:14:38.472967Z",
     "start_time": "2024-07-09T10:14:38.386919Z"
    }
   },
   "cell_type": "code",
   "source": [
    "lines = []\n",
    "for res in results:\n",
    "    task_id = res['custom_id']\n",
    "    # Getting index from task id\n",
    "    index = task_id.split('-')[-1]\n",
    "    entry = dataset[int(index)]\n",
    "    claim = entry['claim']\n",
    "    word = entry['word']\n",
    "    generated_answer = res['response']['body']['choices'][0]['message']['content'].lower()\n",
    "    predicted = parse_model_answer(generated_answer)\n",
    "\n",
    "    lines.append({\n",
    "        'id': entry['id'],\n",
    "        'word': entry['word'],\n",
    "        'claim': claim,\n",
    "        'predicted': predicted,\n",
    "        'label': entry['label']\n",
    "    })\n",
    "    \n",
    "fh.write('output.jsonl', lines)"
   ],
   "id": "e318636baca39631",
   "outputs": [],
   "execution_count": 90
  },
  {
   "metadata": {},
   "cell_type": "code",
   "outputs": [],
   "execution_count": null,
   "source": "",
   "id": "7996c291a2e6d5d6"
  }
 ],
 "metadata": {
  "kernelspec": {
   "display_name": "Python 3",
   "language": "python",
   "name": "python3"
  },
  "language_info": {
   "codemirror_mode": {
    "name": "ipython",
    "version": 2
   },
   "file_extension": ".py",
   "mimetype": "text/x-python",
   "name": "python",
   "nbconvert_exporter": "python",
   "pygments_lexer": "ipython2",
   "version": "2.7.6"
  }
 },
 "nbformat": 4,
 "nbformat_minor": 5
}
